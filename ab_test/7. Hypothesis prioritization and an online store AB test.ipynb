{
 "cells": [
  {
   "cell_type": "markdown",
   "metadata": {},
   "source": [
    "# Приоритезация гипотез и A/B-тест интернет магазина"
   ]
  },
  {
   "cell_type": "markdown",
   "metadata": {},
   "source": [
    "**Описание проекта**\n",
    "\n",
    "**Контекст**\n",
    "\n",
    "Вы — аналитик крупного интернет-магазина. Вместе с отделом маркетинга вы подготовили список гипотез для увеличения выручки.\n",
    "Приоритизируйте гипотезы, запустите A/B-тест и проанализируйте результаты."
   ]
  },
  {
   "cell_type": "markdown",
   "metadata": {
    "toc": true
   },
   "source": [
    "<h1>Содержание<span class=\"tocSkip\"></span></h1>\n",
    "<div class=\"toc\"><ul class=\"toc-item\"><li><span><a href=\"#Приоритезация-гипотез\" data-toc-modified-id=\"Приоритезация-гипотез-1\"><span class=\"toc-item-num\">1&nbsp;&nbsp;</span>Приоритезация гипотез</a></span></li><li><span><a href=\"#Анализ-A/B-теста\" data-toc-modified-id=\"Анализ-A/B-теста-2\"><span class=\"toc-item-num\">2&nbsp;&nbsp;</span>Анализ A/B-теста</a></span><ul class=\"toc-item\"><li><span><a href=\"#График-кумулятивной-выручки-по-группам.\" data-toc-modified-id=\"График-кумулятивной-выручки-по-группам.-2.1\"><span class=\"toc-item-num\">2.1&nbsp;&nbsp;</span>График кумулятивной выручки по группам.</a></span></li><li><span><a href=\"#График-кумулятивного-среднего-чека-по-группам.\" data-toc-modified-id=\"График-кумулятивного-среднего-чека-по-группам.-2.2\"><span class=\"toc-item-num\">2.2&nbsp;&nbsp;</span>График кумулятивного среднего чека по группам.</a></span></li><li><span><a href=\"#График-относительного-изменения-кумулятивного-среднего-чека-группы-B-к-группе-A.\" data-toc-modified-id=\"График-относительного-изменения-кумулятивного-среднего-чека-группы-B-к-группе-A.-2.3\"><span class=\"toc-item-num\">2.3&nbsp;&nbsp;</span>График относительного изменения кумулятивного среднего чека группы B к группе A.</a></span></li><li><span><a href=\"#График-кумулятивной-конверсии-по-группам.\" data-toc-modified-id=\"График-кумулятивной-конверсии-по-группам.-2.4\"><span class=\"toc-item-num\">2.4&nbsp;&nbsp;</span>График кумулятивной конверсии по группам.</a></span></li><li><span><a href=\"#График-относительного-изменения-кумулятивной-конверсии-группы-B-к-группе-A.\" data-toc-modified-id=\"График-относительного-изменения-кумулятивной-конверсии-группы-B-к-группе-A.-2.5\"><span class=\"toc-item-num\">2.5&nbsp;&nbsp;</span>График относительного изменения кумулятивной конверсии группы B к группе A.</a></span></li><li><span><a href=\"#Точечный-график-количества-заказов-по-пользователям.\" data-toc-modified-id=\"Точечный-график-количества-заказов-по-пользователям.-2.6\"><span class=\"toc-item-num\">2.6&nbsp;&nbsp;</span>Точечный график количества заказов по пользователям.</a></span></li><li><span><a href=\"#95-й-и-99-й-перцентили-количества-заказов-на-пользователя.\" data-toc-modified-id=\"95-й-и-99-й-перцентили-количества-заказов-на-пользователя.-2.7\"><span class=\"toc-item-num\">2.7&nbsp;&nbsp;</span>95-й и 99-й перцентили количества заказов на пользователя.</a></span></li><li><span><a href=\"#Точечный-график-стоимостей-заказов.\" data-toc-modified-id=\"Точечный-график-стоимостей-заказов.-2.8\"><span class=\"toc-item-num\">2.8&nbsp;&nbsp;</span>Точечный график стоимостей заказов.</a></span></li><li><span><a href=\"#95-й-и-99-й-перцентили-стоимости-заказов.\" data-toc-modified-id=\"95-й-и-99-й-перцентили-стоимости-заказов.-2.9\"><span class=\"toc-item-num\">2.9&nbsp;&nbsp;</span>95-й и 99-й перцентили стоимости заказов.</a></span></li><li><span><a href=\"#Статистическая-значимость-различий-в-конверсии-между-группами-по-«сырым»-данным.\" data-toc-modified-id=\"Статистическая-значимость-различий-в-конверсии-между-группами-по-«сырым»-данным.-2.10\"><span class=\"toc-item-num\">2.10&nbsp;&nbsp;</span>Статистическая значимость различий в конверсии между группами по «сырым» данным.</a></span></li><li><span><a href=\"#Статистическая-значимость-различий-в-среднем-чеке-заказа-между-группами-по-«сырым»-данным.\" data-toc-modified-id=\"Статистическая-значимость-различий-в-среднем-чеке-заказа-между-группами-по-«сырым»-данным.-2.11\"><span class=\"toc-item-num\">2.11&nbsp;&nbsp;</span>Статистическая значимость различий в среднем чеке заказа между группами по «сырым» данным.</a></span></li><li><span><a href=\"#Статистическая-значимость-различий-в-конверсии-между-группами-по-«очищенным»-данным.\" data-toc-modified-id=\"Статистическая-значимость-различий-в-конверсии-между-группами-по-«очищенным»-данным.-2.12\"><span class=\"toc-item-num\">2.12&nbsp;&nbsp;</span>Статистическая значимость различий в конверсии между группами по «очищенным» данным.</a></span></li><li><span><a href=\"#Cтатистическую-значимость-различий-в-среднем-чеке-заказа-между-группами-по-«очищенным»-данным.\" data-toc-modified-id=\"Cтатистическую-значимость-различий-в-среднем-чеке-заказа-между-группами-по-«очищенным»-данным.-2.13\"><span class=\"toc-item-num\">2.13&nbsp;&nbsp;</span>Cтатистическую значимость различий в среднем чеке заказа между группами по «очищенным» данным.</a></span></li></ul></li><li><span><a href=\"#Выводы-и-решения\" data-toc-modified-id=\"Выводы-и-решения-3\"><span class=\"toc-item-num\">3&nbsp;&nbsp;</span>Выводы и решения</a></span></li></ul></div>"
   ]
  },
  {
   "cell_type": "markdown",
   "metadata": {},
   "source": [
    "## Приоритезация гипотез"
   ]
  },
  {
   "cell_type": "code",
   "execution_count": 1,
   "metadata": {},
   "outputs": [],
   "source": [
    "import pandas as pd\n",
    "import matplotlib.pyplot as plt\n",
    "import seaborn as sns\n",
    "import numpy as np\n",
    "from scipy import stats as st\n",
    "import math"
   ]
  },
  {
   "cell_type": "code",
   "execution_count": 2,
   "metadata": {},
   "outputs": [],
   "source": [
    "pd.set_option('display.max_columns', 1000)\n",
    "pd.set_option('display.max_colwidth', 150)"
   ]
  },
  {
   "cell_type": "code",
   "execution_count": 3,
   "metadata": {},
   "outputs": [
    {
     "data": {
      "text/html": [
       "<div>\n",
       "<style scoped>\n",
       "    .dataframe tbody tr th:only-of-type {\n",
       "        vertical-align: middle;\n",
       "    }\n",
       "\n",
       "    .dataframe tbody tr th {\n",
       "        vertical-align: top;\n",
       "    }\n",
       "\n",
       "    .dataframe thead th {\n",
       "        text-align: right;\n",
       "    }\n",
       "</style>\n",
       "<table border=\"1\" class=\"dataframe\">\n",
       "  <thead>\n",
       "    <tr style=\"text-align: right;\">\n",
       "      <th></th>\n",
       "      <th>Hypothesis</th>\n",
       "      <th>Reach</th>\n",
       "      <th>Impact</th>\n",
       "      <th>Confidence</th>\n",
       "      <th>Efforts</th>\n",
       "    </tr>\n",
       "  </thead>\n",
       "  <tbody>\n",
       "    <tr>\n",
       "      <td>0</td>\n",
       "      <td>Добавить два новых канала привлечения трафика, что позволит привлекать на 30% больше пользователей</td>\n",
       "      <td>3</td>\n",
       "      <td>10</td>\n",
       "      <td>8</td>\n",
       "      <td>6</td>\n",
       "    </tr>\n",
       "    <tr>\n",
       "      <td>1</td>\n",
       "      <td>Запустить собственную службу доставки, что сократит срок доставки заказов</td>\n",
       "      <td>2</td>\n",
       "      <td>5</td>\n",
       "      <td>4</td>\n",
       "      <td>10</td>\n",
       "    </tr>\n",
       "    <tr>\n",
       "      <td>2</td>\n",
       "      <td>Добавить блоки рекомендаций товаров на сайт интернет магазина, чтобы повысить конверсию и средний чек заказа</td>\n",
       "      <td>8</td>\n",
       "      <td>3</td>\n",
       "      <td>7</td>\n",
       "      <td>3</td>\n",
       "    </tr>\n",
       "    <tr>\n",
       "      <td>3</td>\n",
       "      <td>Изменить структура категорий, что увеличит конверсию, т.к. пользователи быстрее найдут нужный товар</td>\n",
       "      <td>8</td>\n",
       "      <td>3</td>\n",
       "      <td>3</td>\n",
       "      <td>8</td>\n",
       "    </tr>\n",
       "    <tr>\n",
       "      <td>4</td>\n",
       "      <td>Изменить цвет фона главной страницы, чтобы увеличить вовлеченность пользователей</td>\n",
       "      <td>3</td>\n",
       "      <td>1</td>\n",
       "      <td>1</td>\n",
       "      <td>1</td>\n",
       "    </tr>\n",
       "    <tr>\n",
       "      <td>5</td>\n",
       "      <td>Добавить страницу отзывов клиентов о магазине, что позволит увеличить количество заказов</td>\n",
       "      <td>3</td>\n",
       "      <td>2</td>\n",
       "      <td>2</td>\n",
       "      <td>3</td>\n",
       "    </tr>\n",
       "    <tr>\n",
       "      <td>6</td>\n",
       "      <td>Показать на главной странице баннеры с актуальными акциями и распродажами, чтобы увеличить конверсию</td>\n",
       "      <td>5</td>\n",
       "      <td>3</td>\n",
       "      <td>8</td>\n",
       "      <td>3</td>\n",
       "    </tr>\n",
       "    <tr>\n",
       "      <td>7</td>\n",
       "      <td>Добавить форму подписки на все основные страницы, чтобы собрать базу клиентов для email-рассылок</td>\n",
       "      <td>10</td>\n",
       "      <td>7</td>\n",
       "      <td>8</td>\n",
       "      <td>5</td>\n",
       "    </tr>\n",
       "    <tr>\n",
       "      <td>8</td>\n",
       "      <td>Запустить акцию, дающую скидку на товар в день рождения</td>\n",
       "      <td>1</td>\n",
       "      <td>9</td>\n",
       "      <td>9</td>\n",
       "      <td>5</td>\n",
       "    </tr>\n",
       "  </tbody>\n",
       "</table>\n",
       "</div>"
      ],
      "text/plain": [
       "                                                                                                     Hypothesis  \\\n",
       "0            Добавить два новых канала привлечения трафика, что позволит привлекать на 30% больше пользователей   \n",
       "1                                     Запустить собственную службу доставки, что сократит срок доставки заказов   \n",
       "2  Добавить блоки рекомендаций товаров на сайт интернет магазина, чтобы повысить конверсию и средний чек заказа   \n",
       "3           Изменить структура категорий, что увеличит конверсию, т.к. пользователи быстрее найдут нужный товар   \n",
       "4                              Изменить цвет фона главной страницы, чтобы увеличить вовлеченность пользователей   \n",
       "5                      Добавить страницу отзывов клиентов о магазине, что позволит увеличить количество заказов   \n",
       "6          Показать на главной странице баннеры с актуальными акциями и распродажами, чтобы увеличить конверсию   \n",
       "7              Добавить форму подписки на все основные страницы, чтобы собрать базу клиентов для email-рассылок   \n",
       "8                                                       Запустить акцию, дающую скидку на товар в день рождения   \n",
       "\n",
       "   Reach  Impact  Confidence  Efforts  \n",
       "0      3      10           8        6  \n",
       "1      2       5           4       10  \n",
       "2      8       3           7        3  \n",
       "3      8       3           3        8  \n",
       "4      3       1           1        1  \n",
       "5      3       2           2        3  \n",
       "6      5       3           8        3  \n",
       "7     10       7           8        5  \n",
       "8      1       9           9        5  "
      ]
     },
     "execution_count": 3,
     "metadata": {},
     "output_type": "execute_result"
    }
   ],
   "source": [
    "hypothesis = pd.read_csv('/datasets/hypothesis.csv')\n",
    "hypothesis"
   ]
  },
  {
   "cell_type": "markdown",
   "metadata": {},
   "source": [
    "**Описание данных**\n",
    "\n",
    "- *Hypothesis* — краткое описание гипотезы;\n",
    "- *Reach* — охват пользователей по 10-балльной шкале;\n",
    "- *Impact* — влияние на пользователей по 10-балльной шкале;\n",
    "- *Confidence* — уверенность в гипотезе по 10-балльной шкале;\n",
    "- *Efforts* — затраты ресурсов на проверку гипотезы по 10-балльной шкале. Чем больше значение Efforts, тем дороже проверка гипотезы."
   ]
  },
  {
   "cell_type": "code",
   "execution_count": 4,
   "metadata": {},
   "outputs": [],
   "source": [
    "#переведем название столбцов в нижний регистр\n",
    "hypothesis.columns= hypothesis.columns.str.lower()"
   ]
  },
  {
   "cell_type": "code",
   "execution_count": 5,
   "metadata": {},
   "outputs": [
    {
     "data": {
      "text/html": [
       "<div>\n",
       "<style scoped>\n",
       "    .dataframe tbody tr th:only-of-type {\n",
       "        vertical-align: middle;\n",
       "    }\n",
       "\n",
       "    .dataframe tbody tr th {\n",
       "        vertical-align: top;\n",
       "    }\n",
       "\n",
       "    .dataframe thead th {\n",
       "        text-align: right;\n",
       "    }\n",
       "</style>\n",
       "<table border=\"1\" class=\"dataframe\">\n",
       "  <thead>\n",
       "    <tr style=\"text-align: right;\">\n",
       "      <th></th>\n",
       "      <th>hypothesis</th>\n",
       "      <th>ice</th>\n",
       "    </tr>\n",
       "  </thead>\n",
       "  <tbody>\n",
       "    <tr>\n",
       "      <td>8</td>\n",
       "      <td>Запустить акцию, дающую скидку на товар в день рождения</td>\n",
       "      <td>16.20</td>\n",
       "    </tr>\n",
       "    <tr>\n",
       "      <td>0</td>\n",
       "      <td>Добавить два новых канала привлечения трафика, что позволит привлекать на 30% больше пользователей</td>\n",
       "      <td>13.33</td>\n",
       "    </tr>\n",
       "    <tr>\n",
       "      <td>7</td>\n",
       "      <td>Добавить форму подписки на все основные страницы, чтобы собрать базу клиентов для email-рассылок</td>\n",
       "      <td>11.20</td>\n",
       "    </tr>\n",
       "    <tr>\n",
       "      <td>6</td>\n",
       "      <td>Показать на главной странице баннеры с актуальными акциями и распродажами, чтобы увеличить конверсию</td>\n",
       "      <td>8.00</td>\n",
       "    </tr>\n",
       "    <tr>\n",
       "      <td>2</td>\n",
       "      <td>Добавить блоки рекомендаций товаров на сайт интернет магазина, чтобы повысить конверсию и средний чек заказа</td>\n",
       "      <td>7.00</td>\n",
       "    </tr>\n",
       "    <tr>\n",
       "      <td>1</td>\n",
       "      <td>Запустить собственную службу доставки, что сократит срок доставки заказов</td>\n",
       "      <td>2.00</td>\n",
       "    </tr>\n",
       "    <tr>\n",
       "      <td>5</td>\n",
       "      <td>Добавить страницу отзывов клиентов о магазине, что позволит увеличить количество заказов</td>\n",
       "      <td>1.33</td>\n",
       "    </tr>\n",
       "    <tr>\n",
       "      <td>3</td>\n",
       "      <td>Изменить структура категорий, что увеличит конверсию, т.к. пользователи быстрее найдут нужный товар</td>\n",
       "      <td>1.12</td>\n",
       "    </tr>\n",
       "    <tr>\n",
       "      <td>4</td>\n",
       "      <td>Изменить цвет фона главной страницы, чтобы увеличить вовлеченность пользователей</td>\n",
       "      <td>1.00</td>\n",
       "    </tr>\n",
       "  </tbody>\n",
       "</table>\n",
       "</div>"
      ],
      "text/plain": [
       "                                                                                                     hypothesis  \\\n",
       "8                                                       Запустить акцию, дающую скидку на товар в день рождения   \n",
       "0            Добавить два новых канала привлечения трафика, что позволит привлекать на 30% больше пользователей   \n",
       "7              Добавить форму подписки на все основные страницы, чтобы собрать базу клиентов для email-рассылок   \n",
       "6          Показать на главной странице баннеры с актуальными акциями и распродажами, чтобы увеличить конверсию   \n",
       "2  Добавить блоки рекомендаций товаров на сайт интернет магазина, чтобы повысить конверсию и средний чек заказа   \n",
       "1                                     Запустить собственную службу доставки, что сократит срок доставки заказов   \n",
       "5                      Добавить страницу отзывов клиентов о магазине, что позволит увеличить количество заказов   \n",
       "3           Изменить структура категорий, что увеличит конверсию, т.к. пользователи быстрее найдут нужный товар   \n",
       "4                              Изменить цвет фона главной страницы, чтобы увеличить вовлеченность пользователей   \n",
       "\n",
       "     ice  \n",
       "8  16.20  \n",
       "0  13.33  \n",
       "7  11.20  \n",
       "6   8.00  \n",
       "2   7.00  \n",
       "1   2.00  \n",
       "5   1.33  \n",
       "3   1.12  \n",
       "4   1.00  "
      ]
     },
     "execution_count": 5,
     "metadata": {},
     "output_type": "execute_result"
    }
   ],
   "source": [
    "#используя фреймворк ICE, посмотрим на самые перспективные гипотезы\n",
    "hypothesis['ice'] = ((hypothesis['impact']*hypothesis['confidence'])/hypothesis['efforts']).round(2)\n",
    "hypothesis[['hypothesis','ice']].sort_values(by='ice', ascending=False)"
   ]
  },
  {
   "cell_type": "code",
   "execution_count": 6,
   "metadata": {
    "scrolled": true
   },
   "outputs": [
    {
     "data": {
      "text/html": [
       "<div>\n",
       "<style scoped>\n",
       "    .dataframe tbody tr th:only-of-type {\n",
       "        vertical-align: middle;\n",
       "    }\n",
       "\n",
       "    .dataframe tbody tr th {\n",
       "        vertical-align: top;\n",
       "    }\n",
       "\n",
       "    .dataframe thead th {\n",
       "        text-align: right;\n",
       "    }\n",
       "</style>\n",
       "<table border=\"1\" class=\"dataframe\">\n",
       "  <thead>\n",
       "    <tr style=\"text-align: right;\">\n",
       "      <th></th>\n",
       "      <th>hypothesis</th>\n",
       "      <th>rice</th>\n",
       "    </tr>\n",
       "  </thead>\n",
       "  <tbody>\n",
       "    <tr>\n",
       "      <td>7</td>\n",
       "      <td>Добавить форму подписки на все основные страницы, чтобы собрать базу клиентов для email-рассылок</td>\n",
       "      <td>112.0</td>\n",
       "    </tr>\n",
       "    <tr>\n",
       "      <td>2</td>\n",
       "      <td>Добавить блоки рекомендаций товаров на сайт интернет магазина, чтобы повысить конверсию и средний чек заказа</td>\n",
       "      <td>56.0</td>\n",
       "    </tr>\n",
       "    <tr>\n",
       "      <td>0</td>\n",
       "      <td>Добавить два новых канала привлечения трафика, что позволит привлекать на 30% больше пользователей</td>\n",
       "      <td>40.0</td>\n",
       "    </tr>\n",
       "    <tr>\n",
       "      <td>6</td>\n",
       "      <td>Показать на главной странице баннеры с актуальными акциями и распродажами, чтобы увеличить конверсию</td>\n",
       "      <td>40.0</td>\n",
       "    </tr>\n",
       "    <tr>\n",
       "      <td>8</td>\n",
       "      <td>Запустить акцию, дающую скидку на товар в день рождения</td>\n",
       "      <td>16.2</td>\n",
       "    </tr>\n",
       "    <tr>\n",
       "      <td>3</td>\n",
       "      <td>Изменить структура категорий, что увеличит конверсию, т.к. пользователи быстрее найдут нужный товар</td>\n",
       "      <td>9.0</td>\n",
       "    </tr>\n",
       "    <tr>\n",
       "      <td>1</td>\n",
       "      <td>Запустить собственную службу доставки, что сократит срок доставки заказов</td>\n",
       "      <td>4.0</td>\n",
       "    </tr>\n",
       "    <tr>\n",
       "      <td>5</td>\n",
       "      <td>Добавить страницу отзывов клиентов о магазине, что позволит увеличить количество заказов</td>\n",
       "      <td>4.0</td>\n",
       "    </tr>\n",
       "    <tr>\n",
       "      <td>4</td>\n",
       "      <td>Изменить цвет фона главной страницы, чтобы увеличить вовлеченность пользователей</td>\n",
       "      <td>3.0</td>\n",
       "    </tr>\n",
       "  </tbody>\n",
       "</table>\n",
       "</div>"
      ],
      "text/plain": [
       "                                                                                                     hypothesis  \\\n",
       "7              Добавить форму подписки на все основные страницы, чтобы собрать базу клиентов для email-рассылок   \n",
       "2  Добавить блоки рекомендаций товаров на сайт интернет магазина, чтобы повысить конверсию и средний чек заказа   \n",
       "0            Добавить два новых канала привлечения трафика, что позволит привлекать на 30% больше пользователей   \n",
       "6          Показать на главной странице баннеры с актуальными акциями и распродажами, чтобы увеличить конверсию   \n",
       "8                                                       Запустить акцию, дающую скидку на товар в день рождения   \n",
       "3           Изменить структура категорий, что увеличит конверсию, т.к. пользователи быстрее найдут нужный товар   \n",
       "1                                     Запустить собственную службу доставки, что сократит срок доставки заказов   \n",
       "5                      Добавить страницу отзывов клиентов о магазине, что позволит увеличить количество заказов   \n",
       "4                              Изменить цвет фона главной страницы, чтобы увеличить вовлеченность пользователей   \n",
       "\n",
       "    rice  \n",
       "7  112.0  \n",
       "2   56.0  \n",
       "0   40.0  \n",
       "6   40.0  \n",
       "8   16.2  \n",
       "3    9.0  \n",
       "1    4.0  \n",
       "5    4.0  \n",
       "4    3.0  "
      ]
     },
     "execution_count": 6,
     "metadata": {},
     "output_type": "execute_result"
    }
   ],
   "source": [
    "#используя фреймворк RICE, посмотрим на самые перспективные гипотезы\n",
    "hypothesis['rice'] = ((hypothesis['reach']*hypothesis['impact']*hypothesis['confidence'])/hypothesis['efforts']).round(2)\n",
    "hypothesis[['hypothesis','rice']].sort_values(by='rice', ascending=False)"
   ]
  },
  {
   "cell_type": "code",
   "execution_count": 7,
   "metadata": {},
   "outputs": [
    {
     "data": {
      "text/html": [
       "<style  type=\"text/css\" >\n",
       "    #T_6f662946_6053_11ec_9359_02420a394bf8row0_col1 {\n",
       "            background-color:  #2ecc71;\n",
       "            color:  #000000;\n",
       "        }    #T_6f662946_6053_11ec_9359_02420a394bf8row0_col2 {\n",
       "            background-color:  #d3f5e1;\n",
       "            color:  #000000;\n",
       "        }    #T_6f662946_6053_11ec_9359_02420a394bf8row1_col1 {\n",
       "            background-color:  #51d589;\n",
       "            color:  #000000;\n",
       "        }    #T_6f662946_6053_11ec_9359_02420a394bf8row1_col2 {\n",
       "            background-color:  #abebc6;\n",
       "            color:  #000000;\n",
       "        }    #T_6f662946_6053_11ec_9359_02420a394bf8row2_col1 {\n",
       "            background-color:  #6cdb9b;\n",
       "            color:  #000000;\n",
       "        }    #T_6f662946_6053_11ec_9359_02420a394bf8row2_col2 {\n",
       "            background-color:  #2ecc71;\n",
       "            color:  #000000;\n",
       "        }    #T_6f662946_6053_11ec_9359_02420a394bf8row3_col1 {\n",
       "            background-color:  #94e5b6;\n",
       "            color:  #000000;\n",
       "        }    #T_6f662946_6053_11ec_9359_02420a394bf8row3_col2 {\n",
       "            background-color:  #abebc6;\n",
       "            color:  #000000;\n",
       "        }    #T_6f662946_6053_11ec_9359_02420a394bf8row4_col1 {\n",
       "            background-color:  #a0e8be;\n",
       "            color:  #000000;\n",
       "        }    #T_6f662946_6053_11ec_9359_02420a394bf8row4_col2 {\n",
       "            background-color:  #8fe4b3;\n",
       "            color:  #000000;\n",
       "        }    #T_6f662946_6053_11ec_9359_02420a394bf8row5_col1 {\n",
       "            background-color:  #def7e9;\n",
       "            color:  #000000;\n",
       "        }    #T_6f662946_6053_11ec_9359_02420a394bf8row5_col2 {\n",
       "            background-color:  #e9faf0;\n",
       "            color:  #000000;\n",
       "        }    #T_6f662946_6053_11ec_9359_02420a394bf8row6_col1 {\n",
       "            background-color:  #e7f9ef;\n",
       "            color:  #000000;\n",
       "        }    #T_6f662946_6053_11ec_9359_02420a394bf8row6_col2 {\n",
       "            background-color:  #e9faf0;\n",
       "            color:  #000000;\n",
       "        }    #T_6f662946_6053_11ec_9359_02420a394bf8row7_col1 {\n",
       "            background-color:  #e9faf0;\n",
       "            color:  #000000;\n",
       "        }    #T_6f662946_6053_11ec_9359_02420a394bf8row7_col2 {\n",
       "            background-color:  #e0f8ea;\n",
       "            color:  #000000;\n",
       "        }    #T_6f662946_6053_11ec_9359_02420a394bf8row8_col1 {\n",
       "            background-color:  #eafaf1;\n",
       "            color:  #000000;\n",
       "        }    #T_6f662946_6053_11ec_9359_02420a394bf8row8_col2 {\n",
       "            background-color:  #eafaf1;\n",
       "            color:  #000000;\n",
       "        }</style><table id=\"T_6f662946_6053_11ec_9359_02420a394bf8\" ><thead>    <tr>        <th class=\"blank level0\" ></th>        <th class=\"col_heading level0 col0\" >hypothesis</th>        <th class=\"col_heading level0 col1\" >ice</th>        <th class=\"col_heading level0 col2\" >rice</th>    </tr></thead><tbody>\n",
       "                <tr>\n",
       "                        <th id=\"T_6f662946_6053_11ec_9359_02420a394bf8level0_row0\" class=\"row_heading level0 row0\" >8</th>\n",
       "                        <td id=\"T_6f662946_6053_11ec_9359_02420a394bf8row0_col0\" class=\"data row0 col0\" >Запустить акцию, дающую скидку на товар в день рождения</td>\n",
       "                        <td id=\"T_6f662946_6053_11ec_9359_02420a394bf8row0_col1\" class=\"data row0 col1\" >16.2</td>\n",
       "                        <td id=\"T_6f662946_6053_11ec_9359_02420a394bf8row0_col2\" class=\"data row0 col2\" >16.2</td>\n",
       "            </tr>\n",
       "            <tr>\n",
       "                        <th id=\"T_6f662946_6053_11ec_9359_02420a394bf8level0_row1\" class=\"row_heading level0 row1\" >0</th>\n",
       "                        <td id=\"T_6f662946_6053_11ec_9359_02420a394bf8row1_col0\" class=\"data row1 col0\" >Добавить два новых канала привлечения трафика, что позволит привлекать на 30% больше пользователей</td>\n",
       "                        <td id=\"T_6f662946_6053_11ec_9359_02420a394bf8row1_col1\" class=\"data row1 col1\" >13.33</td>\n",
       "                        <td id=\"T_6f662946_6053_11ec_9359_02420a394bf8row1_col2\" class=\"data row1 col2\" >40</td>\n",
       "            </tr>\n",
       "            <tr>\n",
       "                        <th id=\"T_6f662946_6053_11ec_9359_02420a394bf8level0_row2\" class=\"row_heading level0 row2\" >7</th>\n",
       "                        <td id=\"T_6f662946_6053_11ec_9359_02420a394bf8row2_col0\" class=\"data row2 col0\" >Добавить форму подписки на все основные страницы, чтобы собрать базу клиентов для email-рассылок</td>\n",
       "                        <td id=\"T_6f662946_6053_11ec_9359_02420a394bf8row2_col1\" class=\"data row2 col1\" >11.2</td>\n",
       "                        <td id=\"T_6f662946_6053_11ec_9359_02420a394bf8row2_col2\" class=\"data row2 col2\" >112</td>\n",
       "            </tr>\n",
       "            <tr>\n",
       "                        <th id=\"T_6f662946_6053_11ec_9359_02420a394bf8level0_row3\" class=\"row_heading level0 row3\" >6</th>\n",
       "                        <td id=\"T_6f662946_6053_11ec_9359_02420a394bf8row3_col0\" class=\"data row3 col0\" >Показать на главной странице баннеры с актуальными акциями и распродажами, чтобы увеличить конверсию</td>\n",
       "                        <td id=\"T_6f662946_6053_11ec_9359_02420a394bf8row3_col1\" class=\"data row3 col1\" >8</td>\n",
       "                        <td id=\"T_6f662946_6053_11ec_9359_02420a394bf8row3_col2\" class=\"data row3 col2\" >40</td>\n",
       "            </tr>\n",
       "            <tr>\n",
       "                        <th id=\"T_6f662946_6053_11ec_9359_02420a394bf8level0_row4\" class=\"row_heading level0 row4\" >2</th>\n",
       "                        <td id=\"T_6f662946_6053_11ec_9359_02420a394bf8row4_col0\" class=\"data row4 col0\" >Добавить блоки рекомендаций товаров на сайт интернет магазина, чтобы повысить конверсию и средний чек заказа</td>\n",
       "                        <td id=\"T_6f662946_6053_11ec_9359_02420a394bf8row4_col1\" class=\"data row4 col1\" >7</td>\n",
       "                        <td id=\"T_6f662946_6053_11ec_9359_02420a394bf8row4_col2\" class=\"data row4 col2\" >56</td>\n",
       "            </tr>\n",
       "            <tr>\n",
       "                        <th id=\"T_6f662946_6053_11ec_9359_02420a394bf8level0_row5\" class=\"row_heading level0 row5\" >1</th>\n",
       "                        <td id=\"T_6f662946_6053_11ec_9359_02420a394bf8row5_col0\" class=\"data row5 col0\" >Запустить собственную службу доставки, что сократит срок доставки заказов</td>\n",
       "                        <td id=\"T_6f662946_6053_11ec_9359_02420a394bf8row5_col1\" class=\"data row5 col1\" >2</td>\n",
       "                        <td id=\"T_6f662946_6053_11ec_9359_02420a394bf8row5_col2\" class=\"data row5 col2\" >4</td>\n",
       "            </tr>\n",
       "            <tr>\n",
       "                        <th id=\"T_6f662946_6053_11ec_9359_02420a394bf8level0_row6\" class=\"row_heading level0 row6\" >5</th>\n",
       "                        <td id=\"T_6f662946_6053_11ec_9359_02420a394bf8row6_col0\" class=\"data row6 col0\" >Добавить страницу отзывов клиентов о магазине, что позволит увеличить количество заказов</td>\n",
       "                        <td id=\"T_6f662946_6053_11ec_9359_02420a394bf8row6_col1\" class=\"data row6 col1\" >1.33</td>\n",
       "                        <td id=\"T_6f662946_6053_11ec_9359_02420a394bf8row6_col2\" class=\"data row6 col2\" >4</td>\n",
       "            </tr>\n",
       "            <tr>\n",
       "                        <th id=\"T_6f662946_6053_11ec_9359_02420a394bf8level0_row7\" class=\"row_heading level0 row7\" >3</th>\n",
       "                        <td id=\"T_6f662946_6053_11ec_9359_02420a394bf8row7_col0\" class=\"data row7 col0\" >Изменить структура категорий, что увеличит конверсию, т.к. пользователи быстрее найдут нужный товар</td>\n",
       "                        <td id=\"T_6f662946_6053_11ec_9359_02420a394bf8row7_col1\" class=\"data row7 col1\" >1.12</td>\n",
       "                        <td id=\"T_6f662946_6053_11ec_9359_02420a394bf8row7_col2\" class=\"data row7 col2\" >9</td>\n",
       "            </tr>\n",
       "            <tr>\n",
       "                        <th id=\"T_6f662946_6053_11ec_9359_02420a394bf8level0_row8\" class=\"row_heading level0 row8\" >4</th>\n",
       "                        <td id=\"T_6f662946_6053_11ec_9359_02420a394bf8row8_col0\" class=\"data row8 col0\" >Изменить цвет фона главной страницы, чтобы увеличить вовлеченность пользователей</td>\n",
       "                        <td id=\"T_6f662946_6053_11ec_9359_02420a394bf8row8_col1\" class=\"data row8 col1\" >1</td>\n",
       "                        <td id=\"T_6f662946_6053_11ec_9359_02420a394bf8row8_col2\" class=\"data row8 col2\" >3</td>\n",
       "            </tr>\n",
       "    </tbody></table>"
      ],
      "text/plain": [
       "<pandas.io.formats.style.Styler at 0x7f510d50fe50>"
      ]
     },
     "execution_count": 7,
     "metadata": {},
     "output_type": "execute_result"
    }
   ],
   "source": [
    "cm = sns.light_palette(\"#2ecc71\", as_cmap=True)\n",
    "\n",
    "hypothesis[['hypothesis', 'ice', 'rice']].sort_values(by = ['ice','rice'], ascending = False).style.background_gradient(cmap=cm)"
   ]
  },
  {
   "cell_type": "markdown",
   "metadata": {},
   "source": [
    "Используя ICE фреймворк выделяются гипотезы:\n",
    "- 8, Запустить акцию, дающую скидку на товар в день рождения;\n",
    "- 0, Добавить два новых канала привлечения трафика, что позволит привлекать на 30% больше пользователей;\n",
    "- 7, Добавить форму подписки на все основные страницы, чтобы собрать базу клиентов для email-рассылок\n",
    "\n",
    "Используя RICE фреймворк выделяются гипотезы:\n",
    "- 7, Добавить форму подписки на все основные страницы, чтобы собрать базу клиентов для email-рассылок;\n",
    "- 2, Добавить блоки рекомендаций товаров на сайт интернет магазина, чтобы повысить конверсию и средний чек заказа;\n",
    "- 6, Показать на главной странице баннеры с актуальными акциями и распродажами, чтобы увеличить конверсию;\n",
    "- 0, Добавить два новых канала привлечения трафика, что позволит привлекать на 30% больше пользователей\n",
    "\n",
    "Очевидно в при влиянии охвата пользователей в RICE наиболее перспективными гипотезами являются 7, 2, 0. Объединяя два метода подсчета лучших гипотез, приоритет ставим 7 и 0 гипотезам. "
   ]
  },
  {
   "cell_type": "markdown",
   "metadata": {},
   "source": [
    "## Анализ A/B-теста"
   ]
  },
  {
   "cell_type": "code",
   "execution_count": 8,
   "metadata": {},
   "outputs": [],
   "source": [
    "#загрузим данные\n",
    "orders = pd.read_csv('/datasets/orders.csv')\n",
    "visitors = pd.read_csv('/datasets/visitors.csv')"
   ]
  },
  {
   "cell_type": "code",
   "execution_count": 9,
   "metadata": {},
   "outputs": [
    {
     "data": {
      "text/html": [
       "<div>\n",
       "<style scoped>\n",
       "    .dataframe tbody tr th:only-of-type {\n",
       "        vertical-align: middle;\n",
       "    }\n",
       "\n",
       "    .dataframe tbody tr th {\n",
       "        vertical-align: top;\n",
       "    }\n",
       "\n",
       "    .dataframe thead th {\n",
       "        text-align: right;\n",
       "    }\n",
       "</style>\n",
       "<table border=\"1\" class=\"dataframe\">\n",
       "  <thead>\n",
       "    <tr style=\"text-align: right;\">\n",
       "      <th></th>\n",
       "      <th>transactionId</th>\n",
       "      <th>visitorId</th>\n",
       "      <th>date</th>\n",
       "      <th>revenue</th>\n",
       "      <th>group</th>\n",
       "    </tr>\n",
       "  </thead>\n",
       "  <tbody>\n",
       "    <tr>\n",
       "      <td>0</td>\n",
       "      <td>3667963787</td>\n",
       "      <td>3312258926</td>\n",
       "      <td>2019-08-15</td>\n",
       "      <td>1650</td>\n",
       "      <td>B</td>\n",
       "    </tr>\n",
       "    <tr>\n",
       "      <td>1</td>\n",
       "      <td>2804400009</td>\n",
       "      <td>3642806036</td>\n",
       "      <td>2019-08-15</td>\n",
       "      <td>730</td>\n",
       "      <td>B</td>\n",
       "    </tr>\n",
       "    <tr>\n",
       "      <td>2</td>\n",
       "      <td>2961555356</td>\n",
       "      <td>4069496402</td>\n",
       "      <td>2019-08-15</td>\n",
       "      <td>400</td>\n",
       "      <td>A</td>\n",
       "    </tr>\n",
       "    <tr>\n",
       "      <td>3</td>\n",
       "      <td>3797467345</td>\n",
       "      <td>1196621759</td>\n",
       "      <td>2019-08-15</td>\n",
       "      <td>9759</td>\n",
       "      <td>B</td>\n",
       "    </tr>\n",
       "    <tr>\n",
       "      <td>4</td>\n",
       "      <td>2282983706</td>\n",
       "      <td>2322279887</td>\n",
       "      <td>2019-08-15</td>\n",
       "      <td>2308</td>\n",
       "      <td>B</td>\n",
       "    </tr>\n",
       "  </tbody>\n",
       "</table>\n",
       "</div>"
      ],
      "text/plain": [
       "   transactionId   visitorId        date  revenue group\n",
       "0     3667963787  3312258926  2019-08-15     1650     B\n",
       "1     2804400009  3642806036  2019-08-15      730     B\n",
       "2     2961555356  4069496402  2019-08-15      400     A\n",
       "3     3797467345  1196621759  2019-08-15     9759     B\n",
       "4     2282983706  2322279887  2019-08-15     2308     B"
      ]
     },
     "execution_count": 9,
     "metadata": {},
     "output_type": "execute_result"
    }
   ],
   "source": [
    "orders.head()"
   ]
  },
  {
   "cell_type": "markdown",
   "metadata": {},
   "source": [
    "**Описание данных для таблицы orders**\n",
    "\n",
    "- *transactionId* — идентификатор заказа;\n",
    "- *visitorId* — идентификатор пользователя, совершившего заказ;\n",
    "- *date* — дата, когда был совершён заказ;\n",
    "- *revenue* — выручка заказа;\n",
    "- *group* — группа A/B-теста, в которую попал заказ"
   ]
  },
  {
   "cell_type": "code",
   "execution_count": 10,
   "metadata": {},
   "outputs": [
    {
     "name": "stdout",
     "output_type": "stream",
     "text": [
      "<class 'pandas.core.frame.DataFrame'>\n",
      "RangeIndex: 1197 entries, 0 to 1196\n",
      "Data columns (total 5 columns):\n",
      "transactionId    1197 non-null int64\n",
      "visitorId        1197 non-null int64\n",
      "date             1197 non-null object\n",
      "revenue          1197 non-null int64\n",
      "group            1197 non-null object\n",
      "dtypes: int64(3), object(2)\n",
      "memory usage: 46.9+ KB\n"
     ]
    }
   ],
   "source": [
    "orders.info()"
   ]
  },
  {
   "cell_type": "code",
   "execution_count": 11,
   "metadata": {},
   "outputs": [
    {
     "data": {
      "text/html": [
       "<div>\n",
       "<style scoped>\n",
       "    .dataframe tbody tr th:only-of-type {\n",
       "        vertical-align: middle;\n",
       "    }\n",
       "\n",
       "    .dataframe tbody tr th {\n",
       "        vertical-align: top;\n",
       "    }\n",
       "\n",
       "    .dataframe thead th {\n",
       "        text-align: right;\n",
       "    }\n",
       "</style>\n",
       "<table border=\"1\" class=\"dataframe\">\n",
       "  <thead>\n",
       "    <tr style=\"text-align: right;\">\n",
       "      <th></th>\n",
       "      <th>date</th>\n",
       "      <th>group</th>\n",
       "      <th>visitors</th>\n",
       "    </tr>\n",
       "  </thead>\n",
       "  <tbody>\n",
       "    <tr>\n",
       "      <td>0</td>\n",
       "      <td>2019-08-01</td>\n",
       "      <td>A</td>\n",
       "      <td>719</td>\n",
       "    </tr>\n",
       "    <tr>\n",
       "      <td>1</td>\n",
       "      <td>2019-08-02</td>\n",
       "      <td>A</td>\n",
       "      <td>619</td>\n",
       "    </tr>\n",
       "    <tr>\n",
       "      <td>2</td>\n",
       "      <td>2019-08-03</td>\n",
       "      <td>A</td>\n",
       "      <td>507</td>\n",
       "    </tr>\n",
       "    <tr>\n",
       "      <td>3</td>\n",
       "      <td>2019-08-04</td>\n",
       "      <td>A</td>\n",
       "      <td>717</td>\n",
       "    </tr>\n",
       "    <tr>\n",
       "      <td>4</td>\n",
       "      <td>2019-08-05</td>\n",
       "      <td>A</td>\n",
       "      <td>756</td>\n",
       "    </tr>\n",
       "  </tbody>\n",
       "</table>\n",
       "</div>"
      ],
      "text/plain": [
       "         date group  visitors\n",
       "0  2019-08-01     A       719\n",
       "1  2019-08-02     A       619\n",
       "2  2019-08-03     A       507\n",
       "3  2019-08-04     A       717\n",
       "4  2019-08-05     A       756"
      ]
     },
     "execution_count": 11,
     "metadata": {},
     "output_type": "execute_result"
    }
   ],
   "source": [
    "visitors.head()"
   ]
  },
  {
   "cell_type": "markdown",
   "metadata": {},
   "source": [
    "**Описание данных для таблицы visitors** \n",
    "\n",
    "- *date* — дата;\n",
    "- *group* — группа A/B-теста;\n",
    "- *visitors* — количество пользователей в указанную дату в указанной группе A/B-теста"
   ]
  },
  {
   "cell_type": "code",
   "execution_count": 12,
   "metadata": {},
   "outputs": [
    {
     "name": "stdout",
     "output_type": "stream",
     "text": [
      "<class 'pandas.core.frame.DataFrame'>\n",
      "RangeIndex: 62 entries, 0 to 61\n",
      "Data columns (total 3 columns):\n",
      "date        62 non-null object\n",
      "group       62 non-null object\n",
      "visitors    62 non-null int64\n",
      "dtypes: int64(1), object(2)\n",
      "memory usage: 1.6+ KB\n"
     ]
    }
   ],
   "source": [
    "visitors.info()"
   ]
  },
  {
   "cell_type": "code",
   "execution_count": 13,
   "metadata": {},
   "outputs": [],
   "source": [
    "#переведем дату в соответствующий ей формат\n",
    "orders['date'] = pd.to_datetime(orders['date'])\n",
    "visitors['date'] = pd.to_datetime(visitors['date'])"
   ]
  },
  {
   "cell_type": "code",
   "execution_count": 14,
   "metadata": {},
   "outputs": [
    {
     "data": {
      "text/plain": [
       "0"
      ]
     },
     "execution_count": 14,
     "metadata": {},
     "output_type": "execute_result"
    }
   ],
   "source": [
    "orders['visitorId'][(orders['group'] == 'A') & (orders['group'] == 'B')].count()"
   ]
  },
  {
   "cell_type": "code",
   "execution_count": 15,
   "metadata": {},
   "outputs": [
    {
     "data": {
      "text/plain": [
       "1031"
      ]
     },
     "execution_count": 15,
     "metadata": {},
     "output_type": "execute_result"
    }
   ],
   "source": [
    "orders['visitorId'].nunique()"
   ]
  },
  {
   "cell_type": "code",
   "execution_count": 16,
   "metadata": {},
   "outputs": [
    {
     "name": "stdout",
     "output_type": "stream",
     "text": [
      "      visitorId  count_group\n",
      "639  2654030115            2\n",
      "932  3891541246            2\n",
      "950  3941795274            2\n",
      "340  1404934699            2\n",
      "84    351125977            2\n",
      "Количество пользователей находящихся в двух группах одновременно 58\n"
     ]
    }
   ],
   "source": [
    "vis = orders.groupby('visitorId').agg({'group':'nunique'}).reset_index()\n",
    "vis.columns = ['visitorId', 'count_group']\n",
    "print(vis.sort_values(by = 'count_group', ascending = False).head())\n",
    "vis = vis.query('count_group == 2')\n",
    "print('Количество пользователей находящихся в двух группах одновременно', vis.shape[0])"
   ]
  },
  {
   "cell_type": "code",
   "execution_count": 17,
   "metadata": {},
   "outputs": [
    {
     "data": {
      "text/plain": [
       "166"
      ]
     },
     "execution_count": 17,
     "metadata": {},
     "output_type": "execute_result"
    }
   ],
   "source": [
    "orders['visitorId'].duplicated().sum()"
   ]
  },
  {
   "cell_type": "markdown",
   "metadata": {},
   "source": [
    "<div class=\"alert alert-dark\" style=\"border-radius: 15px; box-shadow: 4px 4px 4px; border: 1px solid \">\n",
    "    \n",
    " Обнаружено, что 58 из 1031 пользователя находятся в двух группах одновременно, и у 166 пользователей есть дубликаты в таблицы по ID, это около 15% от всех пользователей. Стоит обратиться к разработчикам с данной проблемой. Это задвоенние данных или ошибка с выбором группы. Будем считать, что это ошибка связана с неправильным счетчиком ID на сайте.\n",
    "</div> "
   ]
  },
  {
   "cell_type": "code",
   "execution_count": 18,
   "metadata": {},
   "outputs": [
    {
     "data": {
      "text/plain": [
       "0.009515753859166809"
      ]
     },
     "execution_count": 18,
     "metadata": {},
     "output_type": "execute_result"
    }
   ],
   "source": [
    "1 - (visitors['visitors'][visitors['group'] == 'A'].sum()/visitors['visitors'][visitors['group'] == 'B'].sum())"
   ]
  },
  {
   "cell_type": "markdown",
   "metadata": {},
   "source": [
    "<div class=\"alert alert-dark\" style=\"border-radius: 15px; box-shadow: 4px 4px 4px; border: 1px solid \">\n",
    "    \n",
    "Относительное различие количества пользователей почти равно 1%. \n",
    "</div> "
   ]
  },
  {
   "cell_type": "markdown",
   "metadata": {},
   "source": [
    "### График кумулятивной выручки по группам. "
   ]
  },
  {
   "cell_type": "code",
   "execution_count": 19,
   "metadata": {},
   "outputs": [
    {
     "data": {
      "text/html": [
       "<div>\n",
       "<style scoped>\n",
       "    .dataframe tbody tr th:only-of-type {\n",
       "        vertical-align: middle;\n",
       "    }\n",
       "\n",
       "    .dataframe tbody tr th {\n",
       "        vertical-align: top;\n",
       "    }\n",
       "\n",
       "    .dataframe thead th {\n",
       "        text-align: right;\n",
       "    }\n",
       "</style>\n",
       "<table border=\"1\" class=\"dataframe\">\n",
       "  <thead>\n",
       "    <tr style=\"text-align: right;\">\n",
       "      <th></th>\n",
       "      <th>date</th>\n",
       "      <th>group</th>\n",
       "      <th>orders</th>\n",
       "      <th>buyers</th>\n",
       "      <th>revenue</th>\n",
       "      <th>visitors</th>\n",
       "    </tr>\n",
       "  </thead>\n",
       "  <tbody>\n",
       "    <tr>\n",
       "      <td>0</td>\n",
       "      <td>2019-08-01</td>\n",
       "      <td>A</td>\n",
       "      <td>24</td>\n",
       "      <td>20</td>\n",
       "      <td>148579</td>\n",
       "      <td>719</td>\n",
       "    </tr>\n",
       "    <tr>\n",
       "      <td>1</td>\n",
       "      <td>2019-08-01</td>\n",
       "      <td>B</td>\n",
       "      <td>21</td>\n",
       "      <td>20</td>\n",
       "      <td>101217</td>\n",
       "      <td>713</td>\n",
       "    </tr>\n",
       "    <tr>\n",
       "      <td>2</td>\n",
       "      <td>2019-08-02</td>\n",
       "      <td>A</td>\n",
       "      <td>44</td>\n",
       "      <td>38</td>\n",
       "      <td>242401</td>\n",
       "      <td>1338</td>\n",
       "    </tr>\n",
       "    <tr>\n",
       "      <td>3</td>\n",
       "      <td>2019-08-02</td>\n",
       "      <td>B</td>\n",
       "      <td>45</td>\n",
       "      <td>43</td>\n",
       "      <td>266748</td>\n",
       "      <td>1294</td>\n",
       "    </tr>\n",
       "    <tr>\n",
       "      <td>4</td>\n",
       "      <td>2019-08-03</td>\n",
       "      <td>A</td>\n",
       "      <td>68</td>\n",
       "      <td>62</td>\n",
       "      <td>354874</td>\n",
       "      <td>1845</td>\n",
       "    </tr>\n",
       "  </tbody>\n",
       "</table>\n",
       "</div>"
      ],
      "text/plain": [
       "        date group  orders  buyers  revenue  visitors\n",
       "0 2019-08-01     A      24      20   148579       719\n",
       "1 2019-08-01     B      21      20   101217       713\n",
       "2 2019-08-02     A      44      38   242401      1338\n",
       "3 2019-08-02     B      45      43   266748      1294\n",
       "4 2019-08-03     A      68      62   354874      1845"
      ]
     },
     "execution_count": 19,
     "metadata": {},
     "output_type": "execute_result"
    }
   ],
   "source": [
    "#1. Создаем массив уникальных пар значений дат и групп теста\n",
    "#2. Получаем агрегированные кумулятивные по дням данные о заказах\n",
    "#3. Получаем агрегированные кумулятивные по дням данные о посетителях интернет-магазина\n",
    "#4. Объединяем кумулятивные данные в одной таблице и присваиваем ее столбцам значения даты, группы теста, заказа, количества \n",
    "#покупателей, выручки и количества посетителей\n",
    "\n",
    "datesGroups = orders[['date','group']].drop_duplicates()\n",
    "\n",
    "ordersAggregated = datesGroups.apply(lambda x: orders[np.logical_and(orders['date'] <= x['date'],\n",
    "                                                                     orders['group'] == x['group'])]\\\n",
    "                                     .agg({'date' : 'max', \n",
    "                                           'group' : 'max', \n",
    "                                           'transactionId' : pd.Series.nunique, \n",
    "                                           'visitorId' : pd.Series.nunique, \n",
    "                                           'revenue' : 'sum'}), axis=1).sort_values(by=['date','group'])\n",
    "\n",
    "visitorsAggregated = datesGroups.apply(lambda x: visitors[np.logical_and(visitors['date'] <= x['date'], \n",
    "                                                                         visitors['group'] == x['group'])]\\\n",
    "                                       .agg({'date' : 'max', \n",
    "                                             'group' : 'max', \n",
    "                                             'visitors' : 'sum'}), axis=1).sort_values(by=['date','group'])\n",
    "cumulativeData = ordersAggregated.merge(visitorsAggregated, left_on=['date', 'group'], right_on=['date', 'group'])\n",
    "cumulativeData.columns = ['date', 'group', 'orders', 'buyers', 'revenue', 'visitors']\n",
    "\n",
    "cumulativeData.head()"
   ]
  },
  {
   "cell_type": "code",
   "execution_count": 20,
   "metadata": {},
   "outputs": [
    {
     "data": {
      "image/png": "[encoded data removed]",
      "text/plain": [
       "<Figure size 864x432 with 1 Axes>"
      ]
     },
     "metadata": {
      "needs_background": "light"
     },
     "output_type": "display_data"
    }
   ],
   "source": [
    "from pandas.plotting import register_matplotlib_converters\n",
    "register_matplotlib_converters()\n",
    "\n",
    "# Создаем датафреймы с кумулятивным количеством заказов и кумулятивной выручкой по дням в группах A и B\n",
    "cumulativeRevenueA = cumulativeData[cumulativeData['group']=='A'][['date','revenue', 'orders']]\n",
    "cumulativeRevenueB = cumulativeData[cumulativeData['group']=='B'][['date','revenue', 'orders']]\n",
    "\n",
    "# Строим график кумулятивной выручки по датам\n",
    "plt.figure(figsize=(12,6))\n",
    "plt.plot(cumulativeRevenueA['date'], cumulativeRevenueA['revenue'], label='A')\n",
    "plt.plot(cumulativeRevenueB['date'], cumulativeRevenueB['revenue'], label='B')\n",
    "plt.grid()\n",
    "plt.xlabel('Дата', size = 12)\n",
    "plt.ylabel('Выручка', size = 12)\n",
    "plt.title('График кумулятивной выручки по датам', size = 14)\n",
    "plt.xticks(rotation=45)\n",
    "plt.annotate('скачок', xy=('2019-08-17', 2800000), xytext=('2019-08-10', 3500000),\n",
    "            arrowprops=dict(facecolor='g'))\n",
    "plt.annotate('отрыв', xy=('2019-08-05', 800000), xytext=('2019-08-05', 2000000),\n",
    "            arrowprops=dict(facecolor='g')) \n",
    "plt.legend()\n",
    "plt.show()"
   ]
  },
  {
   "cell_type": "markdown",
   "metadata": {},
   "source": [
    "Выручка в течение всего теста увеличивается. В отличие от группы А, равномерно растущей выручки на всем периоде, у группы B рост намного выше, особенно выделяется в период между 17 и 21 августа. Возможно это связано с большим количеством заказов, либо с дорогими заказами."
   ]
  },
  {
   "cell_type": "markdown",
   "metadata": {},
   "source": [
    "### График кумулятивного среднего чека по группам. "
   ]
  },
  {
   "cell_type": "code",
   "execution_count": 21,
   "metadata": {},
   "outputs": [
    {
     "data": {
      "image/png": "[encoded data removed]",
      "text/plain": [
       "<Figure size 864x432 with 1 Axes>"
      ]
     },
     "metadata": {
      "needs_background": "light"
     },
     "output_type": "display_data"
    }
   ],
   "source": [
    "plt.figure(figsize=(12,6))\n",
    "plt.plot(cumulativeRevenueA['date'], cumulativeRevenueA['revenue']/cumulativeRevenueA['orders'], label='A')\n",
    "plt.plot(cumulativeRevenueB['date'], cumulativeRevenueB['revenue']/cumulativeRevenueB['orders'], label='B')\n",
    "plt.grid()\n",
    "plt.xlabel('Дата', size = 12)\n",
    "plt.ylabel('Средний чек', size = 12)\n",
    "plt.title('График кумулятивного среднего чека по датам', size=14)\n",
    "plt.xticks(rotation=45)\n",
    "plt.legend() \n",
    "plt.show()"
   ]
  },
  {
   "cell_type": "markdown",
   "metadata": {},
   "source": [
    "В период между 17 и 21 августа виден резкий рост среднего чека у группы B. Стоит провести дополнительный анализ по данным датам."
   ]
  },
  {
   "cell_type": "markdown",
   "metadata": {},
   "source": [
    "### График относительного изменения кумулятивного среднего чека группы B к группе A."
   ]
  },
  {
   "cell_type": "code",
   "execution_count": 22,
   "metadata": {},
   "outputs": [
    {
     "data": {
      "image/png": "[encoded data removed]",
      "text/plain": [
       "<Figure size 864x432 with 1 Axes>"
      ]
     },
     "metadata": {
      "needs_background": "light"
     },
     "output_type": "display_data"
    }
   ],
   "source": [
    "# собираем данные из датафреймов с кумулятивным количеством заказов и кумулятивной выручкой по дням в одном \n",
    "mergedCumulativeRevenue = cumulativeRevenueA.merge(cumulativeRevenueB, left_on='date', right_on='date', how='left', \n",
    "                                                   suffixes=['A', 'B'])\n",
    "# cтроим  график\n",
    "plt.figure(figsize=(12,6))\n",
    "\n",
    "plt.plot(mergedCumulativeRevenue['date'], (mergedCumulativeRevenue['revenueB']/mergedCumulativeRevenue['ordersB'])/\n",
    "         (mergedCumulativeRevenue['revenueA']/mergedCumulativeRevenue['ordersA'])-1)\n",
    " \n",
    "plt.title('График относительного изменения кумулятивного среднего чека группы B к группе A', size=14)\n",
    "plt.xlabel('Дата', size = 12)\n",
    "plt.ylabel('Относительное изменение', size = 12)\n",
    "plt.xticks(rotation=45)\n",
    "plt.axhline(y=0, color='red', linestyle='--')\n",
    "plt.show()"
   ]
  },
  {
   "cell_type": "markdown",
   "metadata": {},
   "source": [
    "График сильно скачет в нескольких местах. Возможно в эти дни было много заказов, либо были крупные заказы."
   ]
  },
  {
   "cell_type": "markdown",
   "metadata": {},
   "source": [
    "### График кумулятивной конверсии по группам. "
   ]
  },
  {
   "cell_type": "code",
   "execution_count": 23,
   "metadata": {},
   "outputs": [
    {
     "data": {
      "image/png": "[encoded data removed]",
      "text/plain": [
       "<Figure size 864x432 with 1 Axes>"
      ]
     },
     "metadata": {
      "needs_background": "light"
     },
     "output_type": "display_data"
    }
   ],
   "source": [
    "# считаем кумулятивную конверсию\n",
    "cumulativeData['conversion'] = cumulativeData['orders']/cumulativeData['visitors']\n",
    "\n",
    "# отделяем данные по группе A\n",
    "cumulativeDataA = cumulativeData[cumulativeData['group']=='A']\n",
    "\n",
    "# отделяем данные по группе B\n",
    "cumulativeDataB = cumulativeData[cumulativeData['group']=='B']\n",
    "\n",
    "# строим графики\n",
    "plt.figure(figsize=(12,6))\n",
    "plt.plot(cumulativeDataA['date'], cumulativeDataA['conversion'], label='A')\n",
    "plt.plot(cumulativeDataB['date'], cumulativeDataB['conversion'], label='B')\n",
    "plt.grid()\n",
    "plt.title('График кумулятивной конверсии по группам', size=14)\n",
    "plt.xticks(rotation=45)\n",
    "plt.xlabel('Дата', size = 12)\n",
    "plt.ylabel('Кумулятивная конверсия', size = 12)\n",
    "plt.legend()\n",
    "plt.show()"
   ]
  },
  {
   "cell_type": "markdown",
   "metadata": {},
   "source": [
    "У группы А был небольшой всплеск в самом начале теста, далее конверсия установилась на уровне 0.029-0.031. \n",
    "Конверсия группы В выглядит намного лучше, после некоторых колебаний в начале теста, ее уровень установился на 0.033 - 0.035."
   ]
  },
  {
   "cell_type": "markdown",
   "metadata": {},
   "source": [
    "### График относительного изменения кумулятивной конверсии группы B к группе A."
   ]
  },
  {
   "cell_type": "code",
   "execution_count": 24,
   "metadata": {},
   "outputs": [
    {
     "data": {
      "image/png": "[encoded data removed]",
      "text/plain": [
       "<Figure size 864x432 with 1 Axes>"
      ]
     },
     "metadata": {
      "needs_background": "light"
     },
     "output_type": "display_data"
    }
   ],
   "source": [
    "mergedCumulativeConversions = cumulativeDataA[['date','conversion']].merge(cumulativeDataB[['date','conversion']], left_on='date', right_on='date', how='left', suffixes=['A', 'B'])\n",
    "\n",
    "plt.figure(figsize=(12,6))\n",
    "plt.plot(mergedCumulativeConversions['date'], mergedCumulativeConversions['conversionB']/\n",
    "         mergedCumulativeConversions['conversionA']-1, label=\"Относительный прирост конверсии группы B относительно группы A\")\n",
    "plt.xticks(rotation=45)\n",
    "plt.title('График относительного изменения кумулятивной конверсии группы B к группе A', size=14)\n",
    "plt.xlabel('Дата', size = 12)\n",
    "plt.ylabel('Относительное изменение кумулятивной конверсии', size = 12)\n",
    "\n",
    "plt.axhline(y=0, color='black', linestyle='--')\n",
    "plt.axhline(y=0.15, color='grey', linestyle='--')\n",
    "plt.show()"
   ]
  },
  {
   "cell_type": "markdown",
   "metadata": {},
   "source": [
    "В начале теста конверсия группы А была лучше несколько дней, но позже конверсия группы В стала стабильно лучше."
   ]
  },
  {
   "cell_type": "markdown",
   "metadata": {},
   "source": [
    "### Точечный график количества заказов по пользователям."
   ]
  },
  {
   "cell_type": "code",
   "execution_count": 25,
   "metadata": {},
   "outputs": [
    {
     "data": {
      "image/png": "[encoded data removed]",
      "text/plain": [
       "<Figure size 432x288 with 1 Axes>"
      ]
     },
     "metadata": {
      "needs_background": "light"
     },
     "output_type": "display_data"
    }
   ],
   "source": [
    "orders_per_user = orders.groupby('visitorId', as_index=False).agg({'transactionId':'nunique'})\\\n",
    "                         .rename(columns={'transactionId':'orders'})\n",
    "\n",
    "x_values = pd.Series(range(0,len(orders_per_user['orders'])))\n",
    "\n",
    "plt.scatter(x_values, orders_per_user['orders'])\n",
    "plt.title('Точечный график количества заказов по пользователям')\n",
    "plt.xlabel('Нумерация пользователя')\n",
    "plt.ylabel('Количество заказов, шт.')\n",
    "plt.show()"
   ]
  },
  {
   "cell_type": "markdown",
   "metadata": {},
   "source": [
    "Из графика видно, что пользователей соверших больше двух заказов мало. "
   ]
  },
  {
   "cell_type": "markdown",
   "metadata": {},
   "source": [
    "### 95-й и 99-й перцентили количества заказов на пользователя."
   ]
  },
  {
   "cell_type": "code",
   "execution_count": 26,
   "metadata": {},
   "outputs": [
    {
     "name": "stdout",
     "output_type": "stream",
     "text": [
      "[1. 2. 4.]\n"
     ]
    }
   ],
   "source": [
    "print(np.percentile(orders_per_user['orders'], [90, 95, 99]))"
   ]
  },
  {
   "cell_type": "markdown",
   "metadata": {},
   "source": [
    "- Не более 10% пользователей оформляли больше чем 1 заказ;\n",
    "- Не более 5% пользователей оформляли больше чем 2 заказа;\n",
    "- Не более 1% пользователей оформляли больше чем 4 заказа.\n",
    "\n",
    "Вывод, аномальными значениями будем считать все что за 99 перцентилем."
   ]
  },
  {
   "cell_type": "markdown",
   "metadata": {},
   "source": [
    "###  Точечный график стоимостей заказов. "
   ]
  },
  {
   "cell_type": "code",
   "execution_count": 27,
   "metadata": {},
   "outputs": [
    {
     "data": {
      "image/png": "[encoded data removed]",
      "text/plain": [
       "<Figure size 432x288 with 1 Axes>"
      ]
     },
     "metadata": {
      "needs_background": "light"
     },
     "output_type": "display_data"
    }
   ],
   "source": [
    "x_values = pd.Series(range(0,len(orders['revenue'])))\n",
    "plt.scatter(x_values, orders['revenue'])\n",
    "plt.title('Точечный график стоимостей заказов')\n",
    "plt.xlabel('Нумерация пользователя')\n",
    "plt.ylabel('Стоимость заказа, р.')\n",
    "plt.show()"
   ]
  },
  {
   "cell_type": "markdown",
   "metadata": {},
   "source": [
    "Из графика видно два выброса."
   ]
  },
  {
   "cell_type": "markdown",
   "metadata": {},
   "source": [
    "### 95-й и 99-й перцентили стоимости заказов. "
   ]
  },
  {
   "cell_type": "code",
   "execution_count": 28,
   "metadata": {},
   "outputs": [
    {
     "name": "stdout",
     "output_type": "stream",
     "text": [
      "[18168.  28000.  58233.2]\n"
     ]
    }
   ],
   "source": [
    "print(np.percentile(orders['revenue'], [90, 95, 99])) "
   ]
  },
  {
   "cell_type": "markdown",
   "metadata": {},
   "source": [
    "- Не более 10% заказов совершено на сумму свыше 18168\n",
    "- Не более 5% заказов совершено на сумму свыше 28000\n",
    "- Не более 1% заказов совершено на сумму свыше 58233\n",
    "\n",
    "Принято отсеивать не более 5% наблюдений, так что все что свыше 95 перцентиля будем считать аномальным."
   ]
  },
  {
   "cell_type": "markdown",
   "metadata": {},
   "source": [
    "### Статистическая значимость различий в конверсии между группами по «сырым» данным. "
   ]
  },
  {
   "cell_type": "markdown",
   "metadata": {},
   "source": [
    "H0: Статистически значимых различий в конверсии между группами нет\n",
    "\n",
    "H1: Статистически значимые различий в конверсии между группами есть"
   ]
  },
  {
   "cell_type": "code",
   "execution_count": 29,
   "metadata": {},
   "outputs": [],
   "source": [
    "visitorsADaily = visitors[visitors['group']=='A'][['date', 'visitors']]\n",
    "visitorsADaily.columns = ['date', 'visitorsPerDateA']\n",
    "\n",
    "visitorsACummulative = visitorsADaily.apply(lambda x: visitorsADaily[visitorsADaily['date'] <= x['date']]\\\n",
    "                                            .agg({'date' : 'max', 'visitorsPerDateA' : 'sum'}), axis=1)\n",
    "visitorsACummulative.columns = ['date', 'visitorsCummulativeA']\n",
    "\n",
    "\n",
    "visitorsBDaily = visitors[visitors['group']=='B'][['date', 'visitors']]\n",
    "visitorsBDaily.columns = ['date', 'visitorsPerDateB']\n",
    "\n",
    "visitorsBCummulative = visitorsBDaily.apply(lambda x: visitorsBDaily[visitorsBDaily['date'] <= x['date']]\\\n",
    "                                            .agg({'date' : 'max', 'visitorsPerDateB' : 'sum'}), axis=1)\n",
    "visitorsBCummulative.columns = ['date', 'visitorsCummulativeB']"
   ]
  },
  {
   "cell_type": "code",
   "execution_count": 30,
   "metadata": {},
   "outputs": [],
   "source": [
    "ordersADaily = orders[orders['group']=='A'][['date', 'transactionId', 'visitorId', 'revenue']]\\\n",
    "    .groupby('date', as_index=False)\\\n",
    "    .agg({'transactionId' : pd.Series.nunique, 'revenue' : 'sum'})\n",
    "ordersADaily.columns = ['date', 'ordersPerDateA', 'revenuePerDateA']\n",
    "\n",
    "ordersACummulative = ordersADaily.apply(\n",
    "    lambda x: \\\n",
    "        ordersADaily[ordersADaily['date'] <= x['date']]\\\n",
    "            .agg({\n",
    "                'date' : 'max',\n",
    "                'ordersPerDateA' : 'sum',\n",
    "                'revenuePerDateA' : 'sum'}), axis=1).sort_values(by=['date'])\n",
    "ordersACummulative.columns = ['date', 'ordersCummulativeA', 'revenueCummulativeA']\n",
    "\n",
    "\n",
    "ordersBDaily = orders[orders['group']=='B'][['date', 'transactionId', 'visitorId', 'revenue']]\\\n",
    "    .groupby('date', as_index=False)\\\n",
    "    .agg({'transactionId' : pd.Series.nunique, 'revenue' : 'sum'})\n",
    "ordersBDaily.columns = ['date', 'ordersPerDateB', 'revenuePerDateB']\n",
    "\n",
    "ordersBCummulative = ordersBDaily.apply(\n",
    "    lambda x: \\\n",
    "        ordersBDaily[ordersBDaily['date'] <= x['date']]\\\n",
    "            .agg({\n",
    "                'date' : 'max',\n",
    "                'ordersPerDateB' : 'sum',\n",
    "                'revenuePerDateB' : 'sum'}), axis=1).sort_values(by=['date'])\n",
    "ordersBCummulative.columns = ['date', 'ordersCummulativeB', 'revenueCummulativeB']"
   ]
  },
  {
   "cell_type": "code",
   "execution_count": 31,
   "metadata": {},
   "outputs": [],
   "source": [
    "data = ordersADaily.merge(ordersBDaily, left_on='date', right_on='date', how='left')\\\n",
    "    .merge(ordersACummulative, left_on='date', right_on='date', how='left')\\\n",
    "    .merge(ordersBCummulative, left_on='date', right_on='date', how='left')\\\n",
    "    .merge(visitorsADaily, left_on='date', right_on='date', how='left')\\\n",
    "    .merge(visitorsBDaily, left_on='date', right_on='date', how='left')\\\n",
    "    .merge(visitorsACummulative, left_on='date', right_on='date', how='left')\\\n",
    "    .merge(visitorsBCummulative, left_on='date', right_on='date', how='left')"
   ]
  },
  {
   "cell_type": "code",
   "execution_count": 32,
   "metadata": {},
   "outputs": [],
   "source": [
    "ordersByUsersA = orders[orders['group']=='A'].groupby('visitorId', as_index=False).agg({'transactionId' : pd.Series.nunique})\n",
    "ordersByUsersA.columns = ['visitorId', 'orders']\n",
    "\n",
    "ordersByUsersB = orders[orders['group']=='B'].groupby('visitorId', as_index=False).agg({'transactionId' : pd.Series.nunique})\n",
    "ordersByUsersB.columns = ['visitorId', 'orders']\n",
    "\n",
    "sampleA = pd.concat([ordersByUsersA['orders'],\n",
    "                     pd.Series(0, \n",
    "                               index=np.arange(data['visitorsPerDateA'].sum() - len(ordersByUsersA['orders'])), \n",
    "                               name='orders')],\n",
    "                    axis=0)\n",
    "\n",
    "sampleB = pd.concat([ordersByUsersB['orders'],\n",
    "                     pd.Series(0, \n",
    "                               index=np.arange(data['visitorsPerDateB'].sum() - len(ordersByUsersB['orders'])), \n",
    "                               name='orders')],\n",
    "                    axis=0)"
   ]
  },
  {
   "cell_type": "code",
   "execution_count": 33,
   "metadata": {},
   "outputs": [
    {
     "name": "stdout",
     "output_type": "stream",
     "text": [
      "0.008\n",
      "0.138\n"
     ]
    }
   ],
   "source": [
    "print(\"{0:.3f}\".format(st.mannwhitneyu(sampleA, sampleB)[1]))\n",
    "\n",
    "print(\"{0:.3f}\".format(sampleB.mean()/sampleA.mean()-1))"
   ]
  },
  {
   "cell_type": "markdown",
   "metadata": {},
   "source": [
    "p-value меньше 0.05, значит, нулевую гипотезу отвергаем, статистическое различие конверсий на \"сырых\" данных между конверсиями групп есть. Относительный выигрыш группы B равен 13,8%."
   ]
  },
  {
   "cell_type": "markdown",
   "metadata": {},
   "source": [
    "### Статистическая значимость различий в среднем чеке заказа между группами по «сырым» данным. "
   ]
  },
  {
   "cell_type": "markdown",
   "metadata": {},
   "source": [
    "H0: Статистически значимых различий в средних чеках между группами нет\n",
    "\n",
    "H1: Статистически значимых различий в средних чеках между группами есть"
   ]
  },
  {
   "cell_type": "code",
   "execution_count": 34,
   "metadata": {},
   "outputs": [
    {
     "name": "stdout",
     "output_type": "stream",
     "text": [
      "0.365\n",
      "0.259\n"
     ]
    }
   ],
   "source": [
    "print(\"{0:.3f}\".format(st.mannwhitneyu(orders[orders['group']=='A']['revenue'], orders[orders['group']=='B']['revenue'])[1]))\n",
    "print(\"{0:.3f}\".format(orders[orders['group']=='B']['revenue'].mean()/orders[orders['group']=='A']['revenue'].mean()-1))"
   ]
  },
  {
   "cell_type": "markdown",
   "metadata": {},
   "source": [
    "p-value значительно больше 0.05. Нет причин отвергать нулевую гипотезу. Статстического различия среднего чека заказа между группами по \"сырым\" данным нет. Хотя относительный выигрыш среднего чека группы В на 25.9% больше группы А."
   ]
  },
  {
   "cell_type": "markdown",
   "metadata": {},
   "source": [
    "### Статистическая значимость различий в конверсии между группами по «очищенным» данным."
   ]
  },
  {
   "cell_type": "code",
   "execution_count": 35,
   "metadata": {},
   "outputs": [
    {
     "name": "stdout",
     "output_type": "stream",
     "text": [
      "1099    148427295\n",
      "928     204675465\n",
      "684     358944393\n",
      "648     382846391\n",
      "1189    393266494\n",
      "Name: visitorId, dtype: int64\n",
      "(59,)\n"
     ]
    }
   ],
   "source": [
    "usersWithManyOrders = pd.concat([ordersByUsersA[ordersByUsersA['orders'] > 4]['visitorId'], \n",
    "                                 ordersByUsersB[ordersByUsersB['orders'] > 4]['visitorId']], axis = 0)\n",
    "usersWithExpensiveOrders = orders[orders['revenue'] > 28000]['visitorId']\n",
    "abnormalUsers = pd.concat([usersWithManyOrders, usersWithExpensiveOrders], axis = 0).drop_duplicates().sort_values()\n",
    "\n",
    "print(abnormalUsers.head(5))\n",
    "print(abnormalUsers.shape) "
   ]
  },
  {
   "cell_type": "markdown",
   "metadata": {},
   "source": [
    "59 аномальных пользователей"
   ]
  },
  {
   "cell_type": "code",
   "execution_count": 36,
   "metadata": {},
   "outputs": [],
   "source": [
    "sampleAFiltered = pd.concat([ordersByUsersA[np.logical_not(ordersByUsersA['visitorId']\n",
    "                                                           .isin(abnormalUsers))]['orders'],\n",
    "                             pd.Series(0, \n",
    "                                       index=np.arange(data['visitorsPerDateA'].sum() - len(ordersByUsersA['orders'])),\n",
    "                                       name='orders')],\n",
    "                            axis=0)\n",
    "\n",
    "sampleBFiltered = pd.concat([ordersByUsersB[np.logical_not(ordersByUsersB['visitorId']\n",
    "                                                           .isin(abnormalUsers))]['orders'],\n",
    "                             pd.Series(0, index=np.arange(data['visitorsPerDateB'].sum() - len(ordersByUsersB['orders'])),\n",
    "                                       name='orders')],\n",
    "                            axis=0)"
   ]
  },
  {
   "cell_type": "markdown",
   "metadata": {},
   "source": [
    "H0: Статистически значимых различий в конверсии между группами нет\n",
    "\n",
    "H1: Статистически значимые различий в конверсии между группами есть"
   ]
  },
  {
   "cell_type": "code",
   "execution_count": 37,
   "metadata": {},
   "outputs": [
    {
     "name": "stdout",
     "output_type": "stream",
     "text": [
      "0.009\n",
      "0.145\n"
     ]
    }
   ],
   "source": [
    "print(\"{0:.3f}\".format(st.mannwhitneyu(sampleAFiltered, sampleBFiltered)[1]))\n",
    "print(\"{0:.3f}\".format(sampleBFiltered.mean()/sampleAFiltered.mean()-1))"
   ]
  },
  {
   "cell_type": "markdown",
   "metadata": {},
   "source": [
    "Значения мало отличаются от тех, которые были по \"сырым\" данным. Вывод такой же."
   ]
  },
  {
   "cell_type": "markdown",
   "metadata": {},
   "source": [
    "### Cтатистическую значимость различий в среднем чеке заказа между группами по «очищенным» данным. "
   ]
  },
  {
   "cell_type": "markdown",
   "metadata": {},
   "source": [
    "H0: Статистически значимых различий в средних чеках между группами нет\n",
    "\n",
    "H1: Статистически значимых различий в средних чеках между группами есть"
   ]
  },
  {
   "cell_type": "code",
   "execution_count": 38,
   "metadata": {},
   "outputs": [
    {
     "name": "stdout",
     "output_type": "stream",
     "text": [
      "0.481\n",
      "-0.014\n"
     ]
    }
   ],
   "source": [
    "print(\"{0:.3f}\".format(st.mannwhitneyu(\n",
    "    orders[np.logical_and(\n",
    "        orders['group']=='A',\n",
    "        np.logical_not(orders['visitorId'].isin(abnormalUsers)))]['revenue'],\n",
    "    orders[np.logical_and(\n",
    "        orders['group']=='B',\n",
    "        np.logical_not(orders['visitorId'].isin(abnormalUsers)))]['revenue'])[1]))\n",
    "\n",
    "print(\"{0:.3f}\".format(\n",
    "    orders[np.logical_and(orders['group']=='B',np.logical_not(orders['visitorId'].isin(abnormalUsers)))]['revenue'].mean()/\n",
    "    orders[np.logical_and(\n",
    "        orders['group']=='A',\n",
    "        np.logical_not(orders['visitorId'].isin(abnormalUsers)))]['revenue'].mean() - 1))"
   ]
  },
  {
   "cell_type": "markdown",
   "metadata": {},
   "source": [
    "P-value по очищенным данным также сильно больше 0.05, хотя средний чек прилично изменился."
   ]
  },
  {
   "cell_type": "markdown",
   "metadata": {},
   "source": [
    "## Выводы и решения"
   ]
  },
  {
   "cell_type": "markdown",
   "metadata": {},
   "source": [
    "1. На основе анализа с помощью фреймворков ICE и RICE, в качестве перспективных гипотез стоит выбрать гипотезы:\n",
    "\n",
    "- Добавить форму подписки на все основные страницы, чтобы собрать базу клиентов для email-рассылок;\n",
    "- Добавить два новых канала привлечения трафика, что позволит привлекать на 30% больше пользователей.\n",
    "\n",
    "2. - Была проведена предобработка данных. Столбцы приведены к нужному формату. Относительное различие количества пользователей почти равно 1%. Пользователей попавших в обе группы нет.\n",
    "\n",
    " - Кумулятивные метрики по выручке, среднему чеку и конверсии почти все время лидировали в группе B;\n",
    " \n",
    "- По \"сырым\" данным разница показателей конверсий статистической значимости составляет 0.8%, относительный выигрыш группы B равен 13.8%, что доказывает, что есть различия в конверсии;\n",
    "\n",
    "-  По \"сырым\" данным разница показателей среднего чека статистической значимости составляет 36.5%, относительный выигрыш группы B равен 25.9%. Средние чеки по \"сырым\" данным схожи, несмотря относительный выигрыш группы B;\n",
    "\n",
    "- По \"очищенным\" данным разница показателей конверсий статистической значимости несильно изменилась, по сравнению с \"сырыми\"\n",
    "\n",
    "- По \"очищенным\" данным разница показателей среднего чека статистической значимости изменилась и составляет 48.1%, и группа B уже незначительно проигрывает группе А. После фильтрации данных, средний чек группы В очень сильно изменился.\n",
    "\n",
    "**Cтоит прекратить А/В тест и присвоить победу группе В. При этом учитывать, что средний чек у двух групп примерно одинаковый, но конверсия у группы В лучше.**"
   ]
  }
 ],
 "metadata": {
  "ExecuteTimeLog": [
   {
    "duration": 260,
    "start_time": "2021-12-14T13:46:03.064Z"
   },
   {
    "duration": 1086,
    "start_time": "2021-12-14T13:46:21.665Z"
   },
   {
    "duration": 29,
    "start_time": "2021-12-14T13:46:22.753Z"
   },
   {
    "duration": 3,
    "start_time": "2021-12-14T13:48:28.056Z"
   },
   {
    "duration": 22,
    "start_time": "2021-12-14T13:48:28.802Z"
   },
   {
    "duration": 4,
    "start_time": "2021-12-14T13:48:37.016Z"
   },
   {
    "duration": 22,
    "start_time": "2021-12-14T13:48:37.726Z"
   },
   {
    "duration": 277,
    "start_time": "2021-12-14T13:58:03.137Z"
   },
   {
    "duration": 2,
    "start_time": "2021-12-14T13:58:16.936Z"
   },
   {
    "duration": 21,
    "start_time": "2021-12-14T13:58:19.257Z"
   },
   {
    "duration": 3,
    "start_time": "2021-12-14T13:58:31.418Z"
   },
   {
    "duration": 21,
    "start_time": "2021-12-14T13:58:32.058Z"
   },
   {
    "duration": 3,
    "start_time": "2021-12-14T13:59:44.639Z"
   },
   {
    "duration": 14,
    "start_time": "2021-12-14T14:00:57.455Z"
   },
   {
    "duration": 9,
    "start_time": "2021-12-14T14:01:21.148Z"
   },
   {
    "duration": 11,
    "start_time": "2021-12-14T14:02:40.946Z"
   },
   {
    "duration": 48,
    "start_time": "2021-12-14T14:07:39.320Z"
   },
   {
    "duration": 7,
    "start_time": "2021-12-14T14:08:17.255Z"
   },
   {
    "duration": 6,
    "start_time": "2021-12-14T14:10:02.140Z"
   },
   {
    "duration": 20,
    "start_time": "2021-12-14T14:10:15.222Z"
   },
   {
    "duration": 5,
    "start_time": "2021-12-14T14:11:17.435Z"
   },
   {
    "duration": 7,
    "start_time": "2021-12-14T14:11:30.276Z"
   },
   {
    "duration": 5,
    "start_time": "2021-12-14T14:12:47.175Z"
   },
   {
    "duration": 6,
    "start_time": "2021-12-14T15:30:59.930Z"
   },
   {
    "duration": 1117,
    "start_time": "2021-12-16T18:47:39.518Z"
   },
   {
    "duration": 3,
    "start_time": "2021-12-16T18:47:40.637Z"
   },
   {
    "duration": 27,
    "start_time": "2021-12-16T18:47:40.642Z"
   },
   {
    "duration": 3,
    "start_time": "2021-12-16T18:47:40.672Z"
   },
   {
    "duration": 24,
    "start_time": "2021-12-16T18:47:40.677Z"
   },
   {
    "duration": 13,
    "start_time": "2021-12-16T18:47:40.703Z"
   },
   {
    "duration": 88,
    "start_time": "2021-12-16T18:47:40.718Z"
   },
   {
    "duration": 9,
    "start_time": "2021-12-16T18:47:40.808Z"
   },
   {
    "duration": 7,
    "start_time": "2021-12-16T18:47:40.820Z"
   },
   {
    "duration": 7,
    "start_time": "2021-12-16T18:47:40.829Z"
   },
   {
    "duration": 8,
    "start_time": "2021-12-16T18:47:40.837Z"
   },
   {
    "duration": 7,
    "start_time": "2021-12-16T18:47:40.846Z"
   },
   {
    "duration": 343,
    "start_time": "2021-12-16T18:57:04.728Z"
   },
   {
    "duration": 269,
    "start_time": "2021-12-16T19:00:34.662Z"
   },
   {
    "duration": 192,
    "start_time": "2021-12-16T19:01:16.503Z"
   },
   {
    "duration": 231,
    "start_time": "2021-12-16T19:01:24.734Z"
   },
   {
    "duration": 224,
    "start_time": "2021-12-16T19:03:30.898Z"
   },
   {
    "duration": 289,
    "start_time": "2021-12-16T19:04:07.202Z"
   },
   {
    "duration": 211,
    "start_time": "2021-12-16T19:12:43.248Z"
   },
   {
    "duration": 289,
    "start_time": "2021-12-16T19:13:10.542Z"
   },
   {
    "duration": 282,
    "start_time": "2021-12-16T19:15:06.509Z"
   },
   {
    "duration": 4307,
    "start_time": "2021-12-16T19:35:52.755Z"
   },
   {
    "duration": 354,
    "start_time": "2021-12-16T19:37:58.550Z"
   },
   {
    "duration": 265,
    "start_time": "2021-12-16T19:38:02.594Z"
   },
   {
    "duration": 252,
    "start_time": "2021-12-16T19:38:13.690Z"
   },
   {
    "duration": 259,
    "start_time": "2021-12-16T19:39:04.298Z"
   },
   {
    "duration": 293,
    "start_time": "2021-12-16T19:47:00.956Z"
   },
   {
    "duration": 391,
    "start_time": "2021-12-16T19:48:01.644Z"
   },
   {
    "duration": 415,
    "start_time": "2021-12-16T19:48:39.658Z"
   },
   {
    "duration": 392,
    "start_time": "2021-12-16T19:48:45.678Z"
   },
   {
    "duration": 387,
    "start_time": "2021-12-16T19:48:55.792Z"
   },
   {
    "duration": 284,
    "start_time": "2021-12-16T19:49:00.443Z"
   },
   {
    "duration": 333,
    "start_time": "2021-12-16T19:49:34.522Z"
   },
   {
    "duration": 421,
    "start_time": "2021-12-16T19:49:44.053Z"
   },
   {
    "duration": 335,
    "start_time": "2021-12-16T19:52:45.348Z"
   },
   {
    "duration": 352,
    "start_time": "2021-12-16T19:53:06.517Z"
   },
   {
    "duration": 391,
    "start_time": "2021-12-16T19:53:36.874Z"
   },
   {
    "duration": 283,
    "start_time": "2021-12-16T19:53:42.578Z"
   },
   {
    "duration": 225,
    "start_time": "2021-12-16T20:02:01.396Z"
   },
   {
    "duration": 273,
    "start_time": "2021-12-16T20:03:42.813Z"
   },
   {
    "duration": 314,
    "start_time": "2021-12-16T20:12:49.930Z"
   },
   {
    "duration": 398,
    "start_time": "2021-12-16T20:13:15.602Z"
   },
   {
    "duration": 447,
    "start_time": "2021-12-16T20:14:58.338Z"
   },
   {
    "duration": 433,
    "start_time": "2021-12-16T20:15:21.163Z"
   },
   {
    "duration": 1502,
    "start_time": "2021-12-17T14:41:31.630Z"
   },
   {
    "duration": 7,
    "start_time": "2021-12-17T14:41:33.135Z"
   },
   {
    "duration": 66,
    "start_time": "2021-12-17T14:41:33.145Z"
   },
   {
    "duration": 4,
    "start_time": "2021-12-17T14:41:33.214Z"
   },
   {
    "duration": 55,
    "start_time": "2021-12-17T14:41:33.220Z"
   },
   {
    "duration": 15,
    "start_time": "2021-12-17T14:41:33.277Z"
   },
   {
    "duration": 118,
    "start_time": "2021-12-17T14:41:33.294Z"
   },
   {
    "duration": 17,
    "start_time": "2021-12-17T14:41:33.416Z"
   },
   {
    "duration": 27,
    "start_time": "2021-12-17T14:41:33.436Z"
   },
   {
    "duration": 13,
    "start_time": "2021-12-17T14:41:33.465Z"
   },
   {
    "duration": 9,
    "start_time": "2021-12-17T14:41:33.480Z"
   },
   {
    "duration": 13,
    "start_time": "2021-12-17T14:41:33.491Z"
   },
   {
    "duration": 633,
    "start_time": "2021-12-17T14:41:33.507Z"
   },
   {
    "duration": 483,
    "start_time": "2021-12-17T14:41:34.142Z"
   },
   {
    "duration": 443,
    "start_time": "2021-12-17T14:41:34.628Z"
   },
   {
    "duration": 579,
    "start_time": "2021-12-17T14:41:35.074Z"
   },
   {
    "duration": 454,
    "start_time": "2021-12-17T14:41:35.656Z"
   },
   {
    "duration": 554,
    "start_time": "2021-12-17T14:41:36.112Z"
   },
   {
    "duration": 559,
    "start_time": "2021-12-17T14:41:43.857Z"
   },
   {
    "duration": 357,
    "start_time": "2021-12-17T14:42:00.971Z"
   },
   {
    "duration": 439,
    "start_time": "2021-12-17T14:42:08.754Z"
   },
   {
    "duration": 434,
    "start_time": "2021-12-17T14:43:32.001Z"
   },
   {
    "duration": 431,
    "start_time": "2021-12-17T14:45:51.312Z"
   },
   {
    "duration": 400,
    "start_time": "2021-12-17T14:46:28.302Z"
   },
   {
    "duration": 6,
    "start_time": "2021-12-17T14:48:24.369Z"
   },
   {
    "duration": 6,
    "start_time": "2021-12-17T14:49:05.392Z"
   },
   {
    "duration": 416,
    "start_time": "2021-12-17T14:55:16.896Z"
   },
   {
    "duration": 6,
    "start_time": "2021-12-17T14:55:57.049Z"
   },
   {
    "duration": 191,
    "start_time": "2021-12-17T15:16:51.668Z"
   },
   {
    "duration": 245,
    "start_time": "2021-12-17T15:18:02.501Z"
   },
   {
    "duration": 38,
    "start_time": "2021-12-17T15:18:12.330Z"
   },
   {
    "duration": 224,
    "start_time": "2021-12-17T15:18:39.782Z"
   },
   {
    "duration": 10,
    "start_time": "2021-12-17T15:18:50.436Z"
   },
   {
    "duration": 12,
    "start_time": "2021-12-17T15:20:15.843Z"
   },
   {
    "duration": 11,
    "start_time": "2021-12-17T16:04:42.299Z"
   },
   {
    "duration": 14,
    "start_time": "2021-12-17T16:05:10.694Z"
   },
   {
    "duration": 385,
    "start_time": "2021-12-17T16:06:20.976Z"
   },
   {
    "duration": 12,
    "start_time": "2021-12-17T16:07:06.646Z"
   },
   {
    "duration": 9,
    "start_time": "2021-12-17T16:07:07.239Z"
   },
   {
    "duration": 20,
    "start_time": "2021-12-17T16:08:27.767Z"
   },
   {
    "duration": 1169,
    "start_time": "2021-12-17T20:27:16.359Z"
   },
   {
    "duration": 2,
    "start_time": "2021-12-17T20:27:17.530Z"
   },
   {
    "duration": 30,
    "start_time": "2021-12-17T20:27:17.534Z"
   },
   {
    "duration": 3,
    "start_time": "2021-12-17T20:27:17.566Z"
   },
   {
    "duration": 13,
    "start_time": "2021-12-17T20:27:17.571Z"
   },
   {
    "duration": 10,
    "start_time": "2021-12-17T20:27:17.586Z"
   },
   {
    "duration": 55,
    "start_time": "2021-12-17T20:27:17.598Z"
   },
   {
    "duration": 8,
    "start_time": "2021-12-17T20:27:17.656Z"
   },
   {
    "duration": 8,
    "start_time": "2021-12-17T20:27:17.666Z"
   },
   {
    "duration": 8,
    "start_time": "2021-12-17T20:27:17.676Z"
   },
   {
    "duration": 16,
    "start_time": "2021-12-17T20:27:17.685Z"
   },
   {
    "duration": 9,
    "start_time": "2021-12-17T20:27:17.702Z"
   },
   {
    "duration": 354,
    "start_time": "2021-12-17T20:27:17.712Z"
   },
   {
    "duration": 297,
    "start_time": "2021-12-17T20:27:18.068Z"
   },
   {
    "duration": 271,
    "start_time": "2021-12-17T20:27:18.366Z"
   },
   {
    "duration": 379,
    "start_time": "2021-12-17T20:27:18.639Z"
   },
   {
    "duration": 299,
    "start_time": "2021-12-17T20:27:19.020Z"
   },
   {
    "duration": 434,
    "start_time": "2021-12-17T20:27:19.321Z"
   },
   {
    "duration": 294,
    "start_time": "2021-12-17T20:27:19.757Z"
   },
   {
    "duration": 13,
    "start_time": "2021-12-17T20:27:20.053Z"
   },
   {
    "duration": 408,
    "start_time": "2021-12-17T20:27:20.067Z"
   },
   {
    "duration": 5,
    "start_time": "2021-12-17T20:27:20.478Z"
   },
   {
    "duration": 129,
    "start_time": "2021-12-17T20:27:20.487Z"
   },
   {
    "duration": 146,
    "start_time": "2021-12-17T20:27:20.618Z"
   },
   {
    "duration": 22,
    "start_time": "2021-12-17T20:27:20.766Z"
   },
   {
    "duration": 132,
    "start_time": "2021-12-17T20:27:20.790Z"
   },
   {
    "duration": 7,
    "start_time": "2021-12-17T20:27:20.924Z"
   },
   {
    "duration": 34,
    "start_time": "2021-12-17T20:27:20.933Z"
   },
   {
    "duration": 10,
    "start_time": "2021-12-17T20:27:20.968Z"
   },
   {
    "duration": 10,
    "start_time": "2021-12-17T20:27:20.979Z"
   },
   {
    "duration": 11,
    "start_time": "2021-12-17T20:27:20.991Z"
   },
   {
    "duration": 13,
    "start_time": "2021-12-17T20:27:21.003Z"
   },
   {
    "duration": 95,
    "start_time": "2021-12-17T20:45:17.305Z"
   },
   {
    "duration": 1525,
    "start_time": "2021-12-18T08:19:24.748Z"
   },
   {
    "duration": 3,
    "start_time": "2021-12-18T08:19:26.275Z"
   },
   {
    "duration": 34,
    "start_time": "2021-12-18T08:19:26.281Z"
   },
   {
    "duration": 4,
    "start_time": "2021-12-18T08:19:26.317Z"
   },
   {
    "duration": 18,
    "start_time": "2021-12-18T08:19:26.323Z"
   },
   {
    "duration": 29,
    "start_time": "2021-12-18T08:19:26.343Z"
   },
   {
    "duration": 55,
    "start_time": "2021-12-18T08:19:26.374Z"
   },
   {
    "duration": 9,
    "start_time": "2021-12-18T08:19:26.431Z"
   },
   {
    "duration": 9,
    "start_time": "2021-12-18T08:19:26.443Z"
   },
   {
    "duration": 14,
    "start_time": "2021-12-18T08:19:26.454Z"
   },
   {
    "duration": 9,
    "start_time": "2021-12-18T08:19:26.471Z"
   },
   {
    "duration": 20,
    "start_time": "2021-12-18T08:19:26.482Z"
   },
   {
    "duration": 561,
    "start_time": "2021-12-18T08:19:26.504Z"
   },
   {
    "duration": 430,
    "start_time": "2021-12-18T08:19:27.067Z"
   },
   {
    "duration": 406,
    "start_time": "2021-12-18T08:19:27.499Z"
   },
   {
    "duration": 531,
    "start_time": "2021-12-18T08:19:27.907Z"
   },
   {
    "duration": 294,
    "start_time": "2021-12-18T08:19:28.440Z"
   },
   {
    "duration": 440,
    "start_time": "2021-12-18T08:19:28.737Z"
   },
   {
    "duration": 266,
    "start_time": "2021-12-18T08:19:29.179Z"
   },
   {
    "duration": 16,
    "start_time": "2021-12-18T08:19:29.448Z"
   },
   {
    "duration": 475,
    "start_time": "2021-12-18T08:19:29.466Z"
   },
   {
    "duration": 6,
    "start_time": "2021-12-18T08:19:29.943Z"
   },
   {
    "duration": 145,
    "start_time": "2021-12-18T08:19:29.953Z"
   },
   {
    "duration": 154,
    "start_time": "2021-12-18T08:19:30.100Z"
   },
   {
    "duration": 27,
    "start_time": "2021-12-18T08:19:30.256Z"
   },
   {
    "duration": 129,
    "start_time": "2021-12-18T08:19:30.285Z"
   },
   {
    "duration": 367,
    "start_time": "2021-12-18T08:19:30.416Z"
   },
   {
    "duration": -500,
    "start_time": "2021-12-18T08:19:31.285Z"
   },
   {
    "duration": -501,
    "start_time": "2021-12-18T08:19:31.287Z"
   },
   {
    "duration": -506,
    "start_time": "2021-12-18T08:19:31.292Z"
   },
   {
    "duration": -507,
    "start_time": "2021-12-18T08:19:31.294Z"
   },
   {
    "duration": -509,
    "start_time": "2021-12-18T08:19:31.297Z"
   },
   {
    "duration": 7,
    "start_time": "2021-12-18T08:19:57.625Z"
   },
   {
    "duration": 10,
    "start_time": "2021-12-18T08:20:07.909Z"
   },
   {
    "duration": 10,
    "start_time": "2021-12-18T08:20:17.366Z"
   },
   {
    "duration": 9,
    "start_time": "2021-12-18T08:20:27.731Z"
   },
   {
    "duration": 8,
    "start_time": "2021-12-18T08:20:39.128Z"
   },
   {
    "duration": 277,
    "start_time": "2021-12-18T08:20:47.402Z"
   },
   {
    "duration": 14,
    "start_time": "2021-12-18T08:21:04.892Z"
   },
   {
    "duration": 390,
    "start_time": "2021-12-18T08:21:58.051Z"
   },
   {
    "duration": 262,
    "start_time": "2021-12-18T08:22:52.415Z"
   },
   {
    "duration": 372,
    "start_time": "2021-12-18T08:58:48.771Z"
   },
   {
    "duration": 8,
    "start_time": "2021-12-18T09:00:53.300Z"
   },
   {
    "duration": 13,
    "start_time": "2021-12-18T09:06:06.883Z"
   },
   {
    "duration": 13,
    "start_time": "2021-12-18T09:06:34.812Z"
   },
   {
    "duration": 12,
    "start_time": "2021-12-18T09:06:47.379Z"
   },
   {
    "duration": 6653,
    "start_time": "2021-12-18T09:10:07.671Z"
   },
   {
    "duration": 12,
    "start_time": "2021-12-18T09:10:23.992Z"
   },
   {
    "duration": 627,
    "start_time": "2021-12-18T09:14:56.954Z"
   },
   {
    "duration": 273,
    "start_time": "2021-12-18T09:15:40.172Z"
   },
   {
    "duration": 22,
    "start_time": "2021-12-18T09:15:46.276Z"
   },
   {
    "duration": 339,
    "start_time": "2021-12-18T09:16:25.675Z"
   },
   {
    "duration": 21,
    "start_time": "2021-12-18T09:16:33.945Z"
   },
   {
    "duration": 28,
    "start_time": "2021-12-18T09:19:25.291Z"
   },
   {
    "duration": 19,
    "start_time": "2021-12-18T09:19:48.045Z"
   },
   {
    "duration": 410,
    "start_time": "2021-12-18T09:27:41.436Z"
   },
   {
    "duration": 322,
    "start_time": "2021-12-18T09:28:48.933Z"
   },
   {
    "duration": 9,
    "start_time": "2021-12-18T09:30:26.274Z"
   },
   {
    "duration": 304,
    "start_time": "2021-12-18T09:31:38.881Z"
   },
   {
    "duration": 346,
    "start_time": "2021-12-18T09:31:56.612Z"
   },
   {
    "duration": 297,
    "start_time": "2021-12-18T09:45:12.422Z"
   },
   {
    "duration": 7,
    "start_time": "2021-12-18T09:45:34.255Z"
   },
   {
    "duration": 8,
    "start_time": "2021-12-18T09:46:52.166Z"
   },
   {
    "duration": 5,
    "start_time": "2021-12-18T09:48:00.274Z"
   },
   {
    "duration": 5,
    "start_time": "2021-12-18T09:48:20.921Z"
   },
   {
    "duration": 7,
    "start_time": "2021-12-18T09:48:59.922Z"
   },
   {
    "duration": 6,
    "start_time": "2021-12-18T09:56:28.023Z"
   },
   {
    "duration": 1227,
    "start_time": "2021-12-18T10:38:53.401Z"
   },
   {
    "duration": 4,
    "start_time": "2021-12-18T10:38:54.630Z"
   },
   {
    "duration": 29,
    "start_time": "2021-12-18T10:38:54.636Z"
   },
   {
    "duration": 3,
    "start_time": "2021-12-18T10:38:54.668Z"
   },
   {
    "duration": 18,
    "start_time": "2021-12-18T10:38:54.673Z"
   },
   {
    "duration": 16,
    "start_time": "2021-12-18T10:38:54.693Z"
   },
   {
    "duration": 618,
    "start_time": "2021-12-18T10:38:54.711Z"
   },
   {
    "duration": 55,
    "start_time": "2021-12-18T10:38:55.332Z"
   },
   {
    "duration": 9,
    "start_time": "2021-12-18T10:38:55.390Z"
   },
   {
    "duration": 10,
    "start_time": "2021-12-18T10:38:55.400Z"
   },
   {
    "duration": 10,
    "start_time": "2021-12-18T10:38:55.411Z"
   },
   {
    "duration": 7,
    "start_time": "2021-12-18T10:38:55.423Z"
   },
   {
    "duration": 9,
    "start_time": "2021-12-18T10:38:55.432Z"
   },
   {
    "duration": 23,
    "start_time": "2021-12-18T10:38:55.442Z"
   },
   {
    "duration": 9,
    "start_time": "2021-12-18T10:38:55.467Z"
   },
   {
    "duration": 418,
    "start_time": "2021-12-18T10:38:55.478Z"
   },
   {
    "duration": 359,
    "start_time": "2021-12-18T10:38:55.898Z"
   },
   {
    "duration": 265,
    "start_time": "2021-12-18T10:38:56.263Z"
   },
   {
    "duration": 472,
    "start_time": "2021-12-18T10:38:56.530Z"
   },
   {
    "duration": 333,
    "start_time": "2021-12-18T10:38:57.004Z"
   },
   {
    "duration": 531,
    "start_time": "2021-12-18T10:38:57.338Z"
   },
   {
    "duration": 363,
    "start_time": "2021-12-18T10:38:57.872Z"
   },
   {
    "duration": 5,
    "start_time": "2021-12-18T10:38:58.239Z"
   },
   {
    "duration": 407,
    "start_time": "2021-12-18T10:38:58.247Z"
   },
   {
    "duration": 10,
    "start_time": "2021-12-18T10:38:58.656Z"
   },
   {
    "duration": 151,
    "start_time": "2021-12-18T10:38:58.668Z"
   },
   {
    "duration": 151,
    "start_time": "2021-12-18T10:38:58.821Z"
   },
   {
    "duration": 33,
    "start_time": "2021-12-18T10:38:58.975Z"
   },
   {
    "duration": 199,
    "start_time": "2021-12-18T10:38:59.010Z"
   },
   {
    "duration": 10,
    "start_time": "2021-12-18T10:38:59.212Z"
   },
   {
    "duration": 10,
    "start_time": "2021-12-18T10:38:59.224Z"
   },
   {
    "duration": 33,
    "start_time": "2021-12-18T10:38:59.236Z"
   },
   {
    "duration": 11,
    "start_time": "2021-12-18T10:38:59.272Z"
   },
   {
    "duration": 9,
    "start_time": "2021-12-18T10:38:59.287Z"
   },
   {
    "duration": 15,
    "start_time": "2021-12-18T10:38:59.298Z"
   },
   {
    "duration": 1046,
    "start_time": "2021-12-18T18:59:55.912Z"
   },
   {
    "duration": 2,
    "start_time": "2021-12-18T18:59:56.960Z"
   },
   {
    "duration": 26,
    "start_time": "2021-12-18T18:59:56.964Z"
   },
   {
    "duration": 3,
    "start_time": "2021-12-18T18:59:56.991Z"
   },
   {
    "duration": 15,
    "start_time": "2021-12-18T18:59:56.996Z"
   },
   {
    "duration": 10,
    "start_time": "2021-12-18T18:59:57.013Z"
   },
   {
    "duration": 59412,
    "start_time": "2021-12-18T18:59:57.025Z"
   },
   {
    "duration": 76,
    "start_time": "2021-12-18T19:00:56.440Z"
   },
   {
    "duration": 7,
    "start_time": "2021-12-18T19:00:56.518Z"
   },
   {
    "duration": 8,
    "start_time": "2021-12-18T19:00:56.527Z"
   },
   {
    "duration": 11,
    "start_time": "2021-12-18T19:00:56.536Z"
   },
   {
    "duration": 7,
    "start_time": "2021-12-18T19:00:56.548Z"
   },
   {
    "duration": 7,
    "start_time": "2021-12-18T19:00:56.556Z"
   },
   {
    "duration": 11,
    "start_time": "2021-12-18T19:00:56.565Z"
   },
   {
    "duration": 10,
    "start_time": "2021-12-18T19:00:56.577Z"
   },
   {
    "duration": 376,
    "start_time": "2021-12-18T19:00:56.589Z"
   },
   {
    "duration": 474,
    "start_time": "2021-12-18T19:00:56.967Z"
   },
   {
    "duration": 335,
    "start_time": "2021-12-18T19:00:57.443Z"
   },
   {
    "duration": 490,
    "start_time": "2021-12-18T19:00:57.787Z"
   },
   {
    "duration": 399,
    "start_time": "2021-12-18T19:00:58.279Z"
   },
   {
    "duration": 526,
    "start_time": "2021-12-18T19:00:58.687Z"
   },
   {
    "duration": 333,
    "start_time": "2021-12-18T19:00:59.216Z"
   },
   {
    "duration": 5,
    "start_time": "2021-12-18T19:00:59.553Z"
   },
   {
    "duration": 418,
    "start_time": "2021-12-18T19:00:59.560Z"
   },
   {
    "duration": 8,
    "start_time": "2021-12-18T19:00:59.981Z"
   },
   {
    "duration": 158,
    "start_time": "2021-12-18T19:00:59.991Z"
   },
   {
    "duration": 185,
    "start_time": "2021-12-18T19:01:00.151Z"
   },
   {
    "duration": 29,
    "start_time": "2021-12-18T19:01:00.338Z"
   },
   {
    "duration": 196,
    "start_time": "2021-12-18T19:01:00.369Z"
   },
   {
    "duration": 10,
    "start_time": "2021-12-18T19:01:00.567Z"
   },
   {
    "duration": 9,
    "start_time": "2021-12-18T19:01:00.587Z"
   },
   {
    "duration": 15,
    "start_time": "2021-12-18T19:01:00.598Z"
   },
   {
    "duration": 13,
    "start_time": "2021-12-18T19:01:00.615Z"
   },
   {
    "duration": 9,
    "start_time": "2021-12-18T19:01:00.630Z"
   },
   {
    "duration": 14,
    "start_time": "2021-12-18T19:01:00.641Z"
   },
   {
    "duration": 1082,
    "start_time": "2021-12-18T20:16:02.448Z"
   },
   {
    "duration": 2,
    "start_time": "2021-12-18T20:16:03.532Z"
   },
   {
    "duration": 25,
    "start_time": "2021-12-18T20:16:03.536Z"
   },
   {
    "duration": 2,
    "start_time": "2021-12-18T20:16:03.563Z"
   },
   {
    "duration": 12,
    "start_time": "2021-12-18T20:16:03.567Z"
   },
   {
    "duration": 13,
    "start_time": "2021-12-18T20:16:03.581Z"
   },
   {
    "duration": 530,
    "start_time": "2021-12-18T20:16:03.596Z"
   },
   {
    "duration": 49,
    "start_time": "2021-12-18T20:16:04.129Z"
   },
   {
    "duration": 9,
    "start_time": "2021-12-18T20:16:04.180Z"
   },
   {
    "duration": 8,
    "start_time": "2021-12-18T20:16:04.191Z"
   },
   {
    "duration": 6,
    "start_time": "2021-12-18T20:16:04.201Z"
   },
   {
    "duration": 7,
    "start_time": "2021-12-18T20:16:04.209Z"
   },
   {
    "duration": 7,
    "start_time": "2021-12-18T20:16:04.218Z"
   },
   {
    "duration": 6,
    "start_time": "2021-12-18T20:16:04.227Z"
   },
   {
    "duration": 5,
    "start_time": "2021-12-18T20:16:04.235Z"
   },
   {
    "duration": 387,
    "start_time": "2021-12-18T20:16:04.242Z"
   },
   {
    "duration": 339,
    "start_time": "2021-12-18T20:16:04.630Z"
   },
   {
    "duration": 251,
    "start_time": "2021-12-18T20:16:04.970Z"
   },
   {
    "duration": 420,
    "start_time": "2021-12-18T20:16:05.223Z"
   },
   {
    "duration": 277,
    "start_time": "2021-12-18T20:16:05.644Z"
   },
   {
    "duration": 424,
    "start_time": "2021-12-18T20:16:05.922Z"
   },
   {
    "duration": 276,
    "start_time": "2021-12-18T20:16:06.348Z"
   },
   {
    "duration": 5,
    "start_time": "2021-12-18T20:16:19.684Z"
   },
   {
    "duration": 10,
    "start_time": "2021-12-18T20:16:59.836Z"
   },
   {
    "duration": 11,
    "start_time": "2021-12-18T20:19:23.251Z"
   },
   {
    "duration": 337,
    "start_time": "2021-12-18T20:19:52.944Z"
   },
   {
    "duration": 4,
    "start_time": "2021-12-18T20:20:04.637Z"
   },
   {
    "duration": 11,
    "start_time": "2021-12-18T20:20:14.475Z"
   },
   {
    "duration": 4,
    "start_time": "2021-12-18T20:20:48.601Z"
   },
   {
    "duration": 11,
    "start_time": "2021-12-18T20:26:03.662Z"
   },
   {
    "duration": 908,
    "start_time": "2021-12-18T20:26:48.060Z"
   },
   {
    "duration": 13,
    "start_time": "2021-12-18T20:27:06.524Z"
   },
   {
    "duration": 10,
    "start_time": "2021-12-18T20:28:36.433Z"
   },
   {
    "duration": 3,
    "start_time": "2021-12-18T21:46:49.806Z"
   },
   {
    "duration": 3,
    "start_time": "2021-12-18T21:46:49.813Z"
   },
   {
    "duration": 24,
    "start_time": "2021-12-18T21:46:49.818Z"
   },
   {
    "duration": 5,
    "start_time": "2021-12-18T21:46:49.844Z"
   },
   {
    "duration": 14,
    "start_time": "2021-12-18T21:46:49.850Z"
   },
   {
    "duration": 15,
    "start_time": "2021-12-18T21:46:49.866Z"
   },
   {
    "duration": 27,
    "start_time": "2021-12-18T21:46:49.882Z"
   },
   {
    "duration": 47,
    "start_time": "2021-12-18T21:46:49.911Z"
   },
   {
    "duration": 7,
    "start_time": "2021-12-18T21:46:49.960Z"
   },
   {
    "duration": 10,
    "start_time": "2021-12-18T21:46:49.968Z"
   },
   {
    "duration": 9,
    "start_time": "2021-12-18T21:46:49.979Z"
   },
   {
    "duration": 9,
    "start_time": "2021-12-18T21:46:49.991Z"
   },
   {
    "duration": 7,
    "start_time": "2021-12-18T21:46:50.003Z"
   },
   {
    "duration": 11,
    "start_time": "2021-12-18T21:46:50.012Z"
   },
   {
    "duration": 9,
    "start_time": "2021-12-18T21:46:50.024Z"
   },
   {
    "duration": 249,
    "start_time": "2021-12-18T21:47:53.616Z"
   },
   {
    "duration": 265,
    "start_time": "2021-12-18T21:48:09.685Z"
   },
   {
    "duration": 5,
    "start_time": "2021-12-18T21:48:45.900Z"
   },
   {
    "duration": 5,
    "start_time": "2021-12-18T21:49:08.353Z"
   },
   {
    "duration": 4,
    "start_time": "2021-12-18T21:49:22.977Z"
   },
   {
    "duration": 227,
    "start_time": "2021-12-18T21:51:22.405Z"
   },
   {
    "duration": 279,
    "start_time": "2021-12-18T21:51:29.121Z"
   },
   {
    "duration": 246,
    "start_time": "2021-12-18T21:51:57.364Z"
   },
   {
    "duration": 5,
    "start_time": "2021-12-18T21:52:07.801Z"
   },
   {
    "duration": 4,
    "start_time": "2021-12-18T21:52:31.779Z"
   },
   {
    "duration": 4,
    "start_time": "2021-12-18T21:52:39.972Z"
   },
   {
    "duration": 6,
    "start_time": "2021-12-18T21:54:04.219Z"
   },
   {
    "duration": 787,
    "start_time": "2021-12-18T21:54:33.253Z"
   },
   {
    "duration": 6,
    "start_time": "2021-12-18T21:54:46.834Z"
   },
   {
    "duration": 4,
    "start_time": "2021-12-18T21:55:33.314Z"
   },
   {
    "duration": 3,
    "start_time": "2021-12-18T21:55:47.056Z"
   },
   {
    "duration": 3,
    "start_time": "2021-12-18T21:56:02.502Z"
   },
   {
    "duration": 10,
    "start_time": "2021-12-18T21:56:42.517Z"
   },
   {
    "duration": 11,
    "start_time": "2021-12-18T21:57:52.737Z"
   },
   {
    "duration": 11,
    "start_time": "2021-12-18T21:58:10.577Z"
   },
   {
    "duration": 11,
    "start_time": "2021-12-18T21:58:42.680Z"
   },
   {
    "duration": 12,
    "start_time": "2021-12-18T21:58:55.081Z"
   },
   {
    "duration": 14,
    "start_time": "2021-12-18T21:59:34.943Z"
   },
   {
    "duration": 10,
    "start_time": "2021-12-18T22:00:00.157Z"
   },
   {
    "duration": 9,
    "start_time": "2021-12-18T22:00:15.840Z"
   },
   {
    "duration": 10,
    "start_time": "2021-12-18T22:00:23.681Z"
   },
   {
    "duration": 10,
    "start_time": "2021-12-18T22:01:13.943Z"
   },
   {
    "duration": 11,
    "start_time": "2021-12-18T22:01:56.795Z"
   },
   {
    "duration": 11,
    "start_time": "2021-12-18T22:04:00.973Z"
   },
   {
    "duration": 4,
    "start_time": "2021-12-18T22:07:25.262Z"
   },
   {
    "duration": 247,
    "start_time": "2021-12-18T22:09:27.299Z"
   },
   {
    "duration": 7,
    "start_time": "2021-12-18T22:09:33.773Z"
   },
   {
    "duration": 5,
    "start_time": "2021-12-18T22:15:44.420Z"
   },
   {
    "duration": 1014,
    "start_time": "2021-12-18T22:28:50.422Z"
   },
   {
    "duration": 2,
    "start_time": "2021-12-18T22:28:51.438Z"
   },
   {
    "duration": 26,
    "start_time": "2021-12-18T22:28:51.442Z"
   },
   {
    "duration": 3,
    "start_time": "2021-12-18T22:28:51.470Z"
   },
   {
    "duration": 14,
    "start_time": "2021-12-18T22:28:51.475Z"
   },
   {
    "duration": 9,
    "start_time": "2021-12-18T22:28:51.491Z"
   },
   {
    "duration": 460,
    "start_time": "2021-12-18T22:28:51.501Z"
   },
   {
    "duration": 47,
    "start_time": "2021-12-18T22:28:51.964Z"
   },
   {
    "duration": 8,
    "start_time": "2021-12-18T22:28:52.013Z"
   },
   {
    "duration": 7,
    "start_time": "2021-12-18T22:28:52.023Z"
   },
   {
    "duration": 8,
    "start_time": "2021-12-18T22:28:52.032Z"
   },
   {
    "duration": 6,
    "start_time": "2021-12-18T22:28:52.042Z"
   },
   {
    "duration": 8,
    "start_time": "2021-12-18T22:28:52.050Z"
   },
   {
    "duration": 7,
    "start_time": "2021-12-18T22:28:52.060Z"
   },
   {
    "duration": 5,
    "start_time": "2021-12-18T22:28:52.068Z"
   },
   {
    "duration": 24,
    "start_time": "2021-12-18T22:28:52.074Z"
   },
   {
    "duration": 5,
    "start_time": "2021-12-18T22:28:52.100Z"
   },
   {
    "duration": 8,
    "start_time": "2021-12-18T22:28:52.106Z"
   },
   {
    "duration": 358,
    "start_time": "2021-12-18T22:28:52.117Z"
   },
   {
    "duration": 325,
    "start_time": "2021-12-18T22:28:52.477Z"
   },
   {
    "duration": 261,
    "start_time": "2021-12-18T22:28:52.804Z"
   },
   {
    "duration": 425,
    "start_time": "2021-12-18T22:28:53.067Z"
   },
   {
    "duration": 266,
    "start_time": "2021-12-18T22:28:53.495Z"
   },
   {
    "duration": 419,
    "start_time": "2021-12-18T22:28:53.763Z"
   },
   {
    "duration": 284,
    "start_time": "2021-12-18T22:28:54.187Z"
   },
   {
    "duration": 18,
    "start_time": "2021-12-18T22:28:54.473Z"
   },
   {
    "duration": 5,
    "start_time": "2021-12-18T22:28:54.493Z"
   },
   {
    "duration": 309,
    "start_time": "2021-12-18T22:28:54.500Z"
   },
   {
    "duration": 4,
    "start_time": "2021-12-18T22:28:54.811Z"
   },
   {
    "duration": 118,
    "start_time": "2021-12-18T22:28:54.816Z"
   },
   {
    "duration": 136,
    "start_time": "2021-12-18T22:28:54.936Z"
   },
   {
    "duration": 25,
    "start_time": "2021-12-18T22:28:55.074Z"
   },
   {
    "duration": 155,
    "start_time": "2021-12-18T22:28:55.101Z"
   },
   {
    "duration": 7,
    "start_time": "2021-12-18T22:28:55.257Z"
   },
   {
    "duration": 26,
    "start_time": "2021-12-18T22:28:55.265Z"
   },
   {
    "duration": 9,
    "start_time": "2021-12-18T22:28:55.293Z"
   },
   {
    "duration": 7,
    "start_time": "2021-12-18T22:28:55.304Z"
   },
   {
    "duration": 10,
    "start_time": "2021-12-18T22:28:55.312Z"
   },
   {
    "duration": 13,
    "start_time": "2021-12-18T22:28:55.324Z"
   },
   {
    "duration": 1072,
    "start_time": "2021-12-18T22:29:26.062Z"
   },
   {
    "duration": 2,
    "start_time": "2021-12-18T22:29:27.136Z"
   },
   {
    "duration": 26,
    "start_time": "2021-12-18T22:29:27.140Z"
   },
   {
    "duration": 3,
    "start_time": "2021-12-18T22:29:27.168Z"
   },
   {
    "duration": 16,
    "start_time": "2021-12-18T22:29:27.172Z"
   },
   {
    "duration": 9,
    "start_time": "2021-12-18T22:29:27.190Z"
   },
   {
    "duration": 459,
    "start_time": "2021-12-18T22:29:27.201Z"
   },
   {
    "duration": 48,
    "start_time": "2021-12-18T22:29:27.663Z"
   },
   {
    "duration": 8,
    "start_time": "2021-12-18T22:29:27.713Z"
   },
   {
    "duration": 8,
    "start_time": "2021-12-18T22:29:27.722Z"
   },
   {
    "duration": 7,
    "start_time": "2021-12-18T22:29:27.731Z"
   },
   {
    "duration": 6,
    "start_time": "2021-12-18T22:29:27.740Z"
   },
   {
    "duration": 7,
    "start_time": "2021-12-18T22:29:27.748Z"
   },
   {
    "duration": 8,
    "start_time": "2021-12-18T22:29:27.757Z"
   },
   {
    "duration": 5,
    "start_time": "2021-12-18T22:29:27.766Z"
   },
   {
    "duration": 24,
    "start_time": "2021-12-18T22:29:27.772Z"
   },
   {
    "duration": 4,
    "start_time": "2021-12-18T22:29:27.798Z"
   },
   {
    "duration": 8,
    "start_time": "2021-12-18T22:29:27.803Z"
   },
   {
    "duration": 352,
    "start_time": "2021-12-18T22:29:27.812Z"
   },
   {
    "duration": 324,
    "start_time": "2021-12-18T22:29:28.166Z"
   },
   {
    "duration": 260,
    "start_time": "2021-12-18T22:29:28.492Z"
   },
   {
    "duration": 437,
    "start_time": "2021-12-18T22:29:28.754Z"
   },
   {
    "duration": 274,
    "start_time": "2021-12-18T22:29:29.194Z"
   },
   {
    "duration": 429,
    "start_time": "2021-12-18T22:29:29.470Z"
   },
   {
    "duration": 276,
    "start_time": "2021-12-18T22:29:29.900Z"
   },
   {
    "duration": 10,
    "start_time": "2021-12-18T22:29:30.178Z"
   },
   {
    "duration": 292,
    "start_time": "2021-12-18T22:29:30.189Z"
   },
   {
    "duration": 3,
    "start_time": "2021-12-18T22:29:30.488Z"
   },
   {
    "duration": 114,
    "start_time": "2021-12-18T22:29:30.493Z"
   },
   {
    "duration": 138,
    "start_time": "2021-12-18T22:29:30.609Z"
   },
   {
    "duration": 23,
    "start_time": "2021-12-18T22:29:30.748Z"
   },
   {
    "duration": 125,
    "start_time": "2021-12-18T22:29:30.772Z"
   },
   {
    "duration": 6,
    "start_time": "2021-12-18T22:29:30.899Z"
   },
   {
    "duration": 9,
    "start_time": "2021-12-18T22:29:30.907Z"
   },
   {
    "duration": 18,
    "start_time": "2021-12-18T22:29:30.917Z"
   },
   {
    "duration": 14,
    "start_time": "2021-12-18T22:29:30.937Z"
   },
   {
    "duration": 16,
    "start_time": "2021-12-18T22:29:30.953Z"
   },
   {
    "duration": 20,
    "start_time": "2021-12-18T22:29:30.971Z"
   },
   {
    "duration": 330,
    "start_time": "2021-12-18T22:33:47.189Z"
   },
   {
    "duration": 7,
    "start_time": "2021-12-18T22:33:55.639Z"
   },
   {
    "duration": 6,
    "start_time": "2021-12-18T22:34:45.473Z"
   },
   {
    "duration": 8,
    "start_time": "2021-12-18T22:35:05.808Z"
   },
   {
    "duration": 6,
    "start_time": "2021-12-18T22:35:24.607Z"
   },
   {
    "duration": 1089,
    "start_time": "2021-12-18T22:36:04.621Z"
   },
   {
    "duration": 3,
    "start_time": "2021-12-18T22:36:05.711Z"
   },
   {
    "duration": 24,
    "start_time": "2021-12-18T22:36:05.716Z"
   },
   {
    "duration": 2,
    "start_time": "2021-12-18T22:36:05.742Z"
   },
   {
    "duration": 11,
    "start_time": "2021-12-18T22:36:05.746Z"
   },
   {
    "duration": 9,
    "start_time": "2021-12-18T22:36:05.758Z"
   },
   {
    "duration": 466,
    "start_time": "2021-12-18T22:36:05.768Z"
   },
   {
    "duration": 47,
    "start_time": "2021-12-18T22:36:06.237Z"
   },
   {
    "duration": 8,
    "start_time": "2021-12-18T22:36:06.286Z"
   },
   {
    "duration": 8,
    "start_time": "2021-12-18T22:36:06.295Z"
   },
   {
    "duration": 8,
    "start_time": "2021-12-18T22:36:06.305Z"
   },
   {
    "duration": 7,
    "start_time": "2021-12-18T22:36:06.315Z"
   },
   {
    "duration": 9,
    "start_time": "2021-12-18T22:36:06.324Z"
   },
   {
    "duration": 7,
    "start_time": "2021-12-18T22:36:06.334Z"
   },
   {
    "duration": 4,
    "start_time": "2021-12-18T22:36:06.343Z"
   },
   {
    "duration": 11,
    "start_time": "2021-12-18T22:36:06.348Z"
   },
   {
    "duration": 32,
    "start_time": "2021-12-18T22:36:06.360Z"
   },
   {
    "duration": 7,
    "start_time": "2021-12-18T22:36:06.394Z"
   },
   {
    "duration": 350,
    "start_time": "2021-12-18T22:36:06.403Z"
   },
   {
    "duration": 316,
    "start_time": "2021-12-18T22:36:06.755Z"
   },
   {
    "duration": 252,
    "start_time": "2021-12-18T22:36:07.073Z"
   },
   {
    "duration": 367,
    "start_time": "2021-12-18T22:36:07.327Z"
   },
   {
    "duration": 261,
    "start_time": "2021-12-18T22:36:07.697Z"
   },
   {
    "duration": 406,
    "start_time": "2021-12-18T22:36:07.960Z"
   },
   {
    "duration": 297,
    "start_time": "2021-12-18T22:36:08.367Z"
   },
   {
    "duration": 4,
    "start_time": "2021-12-18T22:36:08.666Z"
   },
   {
    "duration": 302,
    "start_time": "2021-12-18T22:36:08.671Z"
   },
   {
    "duration": 14,
    "start_time": "2021-12-18T22:36:08.974Z"
   },
   {
    "duration": 118,
    "start_time": "2021-12-18T22:36:08.990Z"
   },
   {
    "duration": 143,
    "start_time": "2021-12-18T22:36:09.110Z"
   },
   {
    "duration": 19,
    "start_time": "2021-12-18T22:36:09.255Z"
   },
   {
    "duration": 103,
    "start_time": "2021-12-18T22:36:09.276Z"
   },
   {
    "duration": 10,
    "start_time": "2021-12-18T22:36:09.381Z"
   },
   {
    "duration": 11,
    "start_time": "2021-12-18T22:36:09.393Z"
   },
   {
    "duration": 12,
    "start_time": "2021-12-18T22:36:09.405Z"
   },
   {
    "duration": 8,
    "start_time": "2021-12-18T22:36:09.419Z"
   },
   {
    "duration": 26,
    "start_time": "2021-12-18T22:36:09.429Z"
   },
   {
    "duration": 19,
    "start_time": "2021-12-18T22:36:09.456Z"
   },
   {
    "duration": 6509,
    "start_time": "2021-12-18T22:37:16.001Z"
   },
   {
    "duration": 242,
    "start_time": "2021-12-18T22:37:25.926Z"
   },
   {
    "duration": 4,
    "start_time": "2021-12-18T22:37:34.378Z"
   },
   {
    "duration": 254,
    "start_time": "2021-12-18T22:39:06.742Z"
   },
   {
    "duration": 243,
    "start_time": "2021-12-18T22:39:38.158Z"
   },
   {
    "duration": 1092,
    "start_time": "2021-12-18T22:39:59.236Z"
   },
   {
    "duration": 2,
    "start_time": "2021-12-18T22:40:00.330Z"
   },
   {
    "duration": 45,
    "start_time": "2021-12-18T22:40:00.334Z"
   },
   {
    "duration": 19,
    "start_time": "2021-12-18T22:40:00.381Z"
   },
   {
    "duration": 22,
    "start_time": "2021-12-18T22:40:00.402Z"
   },
   {
    "duration": 29,
    "start_time": "2021-12-18T22:40:00.426Z"
   },
   {
    "duration": 464,
    "start_time": "2021-12-18T22:40:00.457Z"
   },
   {
    "duration": 48,
    "start_time": "2021-12-18T22:40:00.924Z"
   },
   {
    "duration": 8,
    "start_time": "2021-12-18T22:40:00.974Z"
   },
   {
    "duration": 24,
    "start_time": "2021-12-18T22:40:00.983Z"
   },
   {
    "duration": 10,
    "start_time": "2021-12-18T22:40:01.009Z"
   },
   {
    "duration": 16,
    "start_time": "2021-12-18T22:40:01.021Z"
   },
   {
    "duration": 11,
    "start_time": "2021-12-18T22:40:01.039Z"
   },
   {
    "duration": 22,
    "start_time": "2021-12-18T22:40:01.051Z"
   },
   {
    "duration": 24,
    "start_time": "2021-12-18T22:40:01.074Z"
   },
   {
    "duration": 19,
    "start_time": "2021-12-18T22:40:01.100Z"
   },
   {
    "duration": 21,
    "start_time": "2021-12-18T22:40:01.121Z"
   },
   {
    "duration": 22,
    "start_time": "2021-12-18T22:40:01.144Z"
   },
   {
    "duration": 344,
    "start_time": "2021-12-18T22:40:01.167Z"
   },
   {
    "duration": 329,
    "start_time": "2021-12-18T22:40:01.513Z"
   },
   {
    "duration": 246,
    "start_time": "2021-12-18T22:40:01.844Z"
   },
   {
    "duration": 456,
    "start_time": "2021-12-18T22:40:02.092Z"
   },
   {
    "duration": 265,
    "start_time": "2021-12-18T22:40:02.551Z"
   },
   {
    "duration": 419,
    "start_time": "2021-12-18T22:40:02.818Z"
   },
   {
    "duration": 250,
    "start_time": "2021-12-18T22:40:03.239Z"
   },
   {
    "duration": 4,
    "start_time": "2021-12-18T22:40:03.491Z"
   },
   {
    "duration": 283,
    "start_time": "2021-12-18T22:40:03.497Z"
   },
   {
    "duration": 8,
    "start_time": "2021-12-18T22:40:03.781Z"
   },
   {
    "duration": 114,
    "start_time": "2021-12-18T22:40:03.791Z"
   },
   {
    "duration": 135,
    "start_time": "2021-12-18T22:40:03.907Z"
   },
   {
    "duration": 22,
    "start_time": "2021-12-18T22:40:04.044Z"
   },
   {
    "duration": 106,
    "start_time": "2021-12-18T22:40:04.067Z"
   },
   {
    "duration": 14,
    "start_time": "2021-12-18T22:40:04.174Z"
   },
   {
    "duration": 8,
    "start_time": "2021-12-18T22:40:04.190Z"
   },
   {
    "duration": 8,
    "start_time": "2021-12-18T22:40:04.200Z"
   },
   {
    "duration": 8,
    "start_time": "2021-12-18T22:40:04.209Z"
   },
   {
    "duration": 8,
    "start_time": "2021-12-18T22:40:04.218Z"
   },
   {
    "duration": 13,
    "start_time": "2021-12-18T22:40:04.227Z"
   }
  ],
  "kernelspec": {
   "display_name": "Python 3 (ipykernel)",
   "language": "python",
   "name": "python3"
  },
  "language_info": {
   "codemirror_mode": {
    "name": "ipython",
    "version": 3
   },
   "file_extension": ".py",
   "mimetype": "text/x-python",
   "name": "python",
   "nbconvert_exporter": "python",
   "pygments_lexer": "ipython3",
   "version": "3.9.7"
  },
  "toc": {
   "base_numbering": 1,
   "nav_menu": {},
   "number_sections": true,
   "sideBar": true,
   "skip_h1_title": true,
   "title_cell": "Содержание",
   "title_sidebar": "Contents",
   "toc_cell": true,
   "toc_position": {},
   "toc_section_display": true,
   "toc_window_display": false
  },
  "varInspector": {
   "cols": {
    "lenName": 16,
    "lenType": 16,
    "lenVar": 40
   },
   "kernels_config": {
    "python": {
     "delete_cmd_postfix": "",
     "delete_cmd_prefix": "del ",
     "library": "var_list.py",
     "varRefreshCmd": "print(var_dic_list())"
    },
    "r": {
     "delete_cmd_postfix": ") ",
     "delete_cmd_prefix": "rm(",
     "library": "var_list.r",
     "varRefreshCmd": "cat(var_dic_list()) "
    }
   },
   "types_to_exclude": [
    "module",
    "function",
    "builtin_function_or_method",
    "instance",
    "_Feature"
   ],
   "window_display": false
  }
 },
 "nbformat": 4,
 "nbformat_minor": 2
}
