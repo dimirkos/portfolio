{
 "cells": [
  {
   "cell_type": "markdown",
   "metadata": {},
   "source": [
    "<font size=\"6\"><b>Успешность компьютерных игр.</b></font>\n",
    "\n",
    "Вы работаете в интернет-магазине «Стримчик», который продаёт по всему миру компьютерные игры. Из открытых источников доступны исторические данные о продажах игр, оценки пользователей и экспертов, жанры и платформы (например, Xbox или PlayStation). Вам нужно выявить определяющие успешность игры закономерности. Это позволит сделать ставку на потенциально популярный продукт и спланировать рекламные кампании.\n",
    "\n",
    "Перед вами данные до 2016 года. Представим, что сейчас декабрь 2016 г., и вы планируете кампанию на 2017-й. Нужно отработать принцип работы с данными. Неважно, прогнозируете ли вы продажи на 2017 год по данным 2016-го или же 2027-й — по данным 2026 года.\n",
    "\n",
    "В наборе данных попадается аббревиатура ESRB (Entertainment Software Rating Board) — это ассоциация, определяющая возрастной рейтинг компьютерных игр. ESRB оценивает игровой контент и присваивает ему подходящую возрастную категорию, например, «Для взрослых», «Для детей младшего возраста» или «Для подростков»."
   ]
  },
  {
   "cell_type": "markdown",
   "metadata": {
    "toc": true
   },
   "source": [
    "<h1>Содержание<span class=\"tocSkip\"></span></h1>\n",
    "<div class=\"toc\"><ul class=\"toc-item\"><li><span><a href=\"#Общая-информация-о-данных\" data-toc-modified-id=\"Общая-информация-о-данных-1\"><span class=\"toc-item-num\">1&nbsp;&nbsp;</span>Общая информация о данных</a></span></li><li><span><a href=\"#Предобработка-данных\" data-toc-modified-id=\"Предобработка-данных-2\"><span class=\"toc-item-num\">2&nbsp;&nbsp;</span>Предобработка данных</a></span></li><li><span><a href=\"#Исследовательский-анализ-данных\" data-toc-modified-id=\"Исследовательский-анализ-данных-3\"><span class=\"toc-item-num\">3&nbsp;&nbsp;</span>Исследовательский анализ данных</a></span><ul class=\"toc-item\"><li><span><a href=\"#Игры-выпущенные-в-разные-годы\" data-toc-modified-id=\"Игры-выпущенные-в-разные-годы-3.1\"><span class=\"toc-item-num\">3.1&nbsp;&nbsp;</span>Игры выпущенные в разные годы</a></span></li><li><span><a href=\"#Самые-популярные-платформы\" data-toc-modified-id=\"Самые-популярные-платформы-3.2\"><span class=\"toc-item-num\">3.2&nbsp;&nbsp;</span>Самые популярные платформы</a></span></li><li><span><a href=\"#Исследование-платформ-лидирующих-по-продажам\" data-toc-modified-id=\"Исследование-платформ-лидирующих-по-продажам-3.3\"><span class=\"toc-item-num\">3.3&nbsp;&nbsp;</span>Исследование платформ лидирующих по продажам</a></span></li><li><span><a href=\"#Оценки-влияющие-на-продажи-внутри-платформ\" data-toc-modified-id=\"Оценки-влияющие-на-продажи-внутри-платформ-3.4\"><span class=\"toc-item-num\">3.4&nbsp;&nbsp;</span>Оценки влияющие на продажи внутри платформ</a></span></li><li><span><a href=\"#Общее-распределение-игр-по-жанрам\" data-toc-modified-id=\"Общее-распределение-игр-по-жанрам-3.5\"><span class=\"toc-item-num\">3.5&nbsp;&nbsp;</span>Общее распределение игр по жанрам</a></span></li></ul></li><li><span><a href=\"#Портрет-пользователя-каждого-региона\" data-toc-modified-id=\"Портрет-пользователя-каждого-региона-4\"><span class=\"toc-item-num\">4&nbsp;&nbsp;</span>Портрет пользователя каждого региона</a></span><ul class=\"toc-item\"><li><span><a href=\"#Самые-популярные-платформы\" data-toc-modified-id=\"Самые-популярные-платформы-4.1\"><span class=\"toc-item-num\">4.1&nbsp;&nbsp;</span>Самые популярные платформы</a></span></li><li><span><a href=\"#Самые-популярные-жанры\" data-toc-modified-id=\"Самые-популярные-жанры-4.2\"><span class=\"toc-item-num\">4.2&nbsp;&nbsp;</span>Самые популярные жанры</a></span></li><li><span><a href=\"#Влияние-рейтинга-ESRB-на-продажи-в-отдельном-регионе\" data-toc-modified-id=\"Влияние-рейтинга-ESRB-на-продажи-в-отдельном-регионе-4.3\"><span class=\"toc-item-num\">4.3&nbsp;&nbsp;</span>Влияние рейтинга ESRB на продажи в отдельном регионе</a></span></li></ul></li><li><span><a href=\"#Проверка-гипотез\" data-toc-modified-id=\"Проверка-гипотез-5\"><span class=\"toc-item-num\">5&nbsp;&nbsp;</span>Проверка гипотез</a></span></li><li><span><a href=\"#Общий-вывод\" data-toc-modified-id=\"Общий-вывод-6\"><span class=\"toc-item-num\">6&nbsp;&nbsp;</span>Общий вывод</a></span></li></ul></div>"
   ]
  },
  {
   "cell_type": "markdown",
   "metadata": {},
   "source": [
    "## Общая информация о данных"
   ]
  },
  {
   "cell_type": "code",
   "execution_count": 1,
   "metadata": {},
   "outputs": [],
   "source": [
    "import pandas as pd\n",
    "import numpy as np\n",
    "import matplotlib.pyplot as plt\n",
    "import pylab\n",
    "import seaborn as sns\n",
    "\n",
    "from datetime import datetime\n",
    "from scipy import stats as st"
   ]
  },
  {
   "cell_type": "code",
   "execution_count": 2,
   "metadata": {},
   "outputs": [
    {
     "data": {
      "text/html": [
       "<div>\n",
       "<style scoped>\n",
       "    .dataframe tbody tr th:only-of-type {\n",
       "        vertical-align: middle;\n",
       "    }\n",
       "\n",
       "    .dataframe tbody tr th {\n",
       "        vertical-align: top;\n",
       "    }\n",
       "\n",
       "    .dataframe thead th {\n",
       "        text-align: right;\n",
       "    }\n",
       "</style>\n",
       "<table border=\"1\" class=\"dataframe\">\n",
       "  <thead>\n",
       "    <tr style=\"text-align: right;\">\n",
       "      <th></th>\n",
       "      <th>Name</th>\n",
       "      <th>Platform</th>\n",
       "      <th>Year_of_Release</th>\n",
       "      <th>Genre</th>\n",
       "      <th>NA_sales</th>\n",
       "      <th>EU_sales</th>\n",
       "      <th>JP_sales</th>\n",
       "      <th>Other_sales</th>\n",
       "      <th>Critic_Score</th>\n",
       "      <th>User_Score</th>\n",
       "      <th>Rating</th>\n",
       "    </tr>\n",
       "  </thead>\n",
       "  <tbody>\n",
       "    <tr>\n",
       "      <th>15585</th>\n",
       "      <td>Zettai Meikyuu Grimm: Nanatsu no Kagi to Rakue...</td>\n",
       "      <td>PSP</td>\n",
       "      <td>2010.0</td>\n",
       "      <td>Misc</td>\n",
       "      <td>0.00</td>\n",
       "      <td>0.00</td>\n",
       "      <td>0.02</td>\n",
       "      <td>0.00</td>\n",
       "      <td>NaN</td>\n",
       "      <td>NaN</td>\n",
       "      <td>NaN</td>\n",
       "    </tr>\n",
       "    <tr>\n",
       "      <th>15683</th>\n",
       "      <td>Densha de Go! Tokubetsu-hen: Fukkatsu Shouwa n...</td>\n",
       "      <td>DS</td>\n",
       "      <td>2010.0</td>\n",
       "      <td>Simulation</td>\n",
       "      <td>0.00</td>\n",
       "      <td>0.00</td>\n",
       "      <td>0.02</td>\n",
       "      <td>0.00</td>\n",
       "      <td>NaN</td>\n",
       "      <td>NaN</td>\n",
       "      <td>NaN</td>\n",
       "    </tr>\n",
       "    <tr>\n",
       "      <th>9303</th>\n",
       "      <td>Legends of Wrestling</td>\n",
       "      <td>XB</td>\n",
       "      <td>2002.0</td>\n",
       "      <td>Fighting</td>\n",
       "      <td>0.10</td>\n",
       "      <td>0.03</td>\n",
       "      <td>0.00</td>\n",
       "      <td>0.00</td>\n",
       "      <td>65.0</td>\n",
       "      <td>5.8</td>\n",
       "      <td>T</td>\n",
       "    </tr>\n",
       "    <tr>\n",
       "      <th>14408</th>\n",
       "      <td>Hakuoki Zuisouroku Omokage Hana</td>\n",
       "      <td>PSV</td>\n",
       "      <td>2015.0</td>\n",
       "      <td>Action</td>\n",
       "      <td>0.00</td>\n",
       "      <td>0.00</td>\n",
       "      <td>0.03</td>\n",
       "      <td>0.00</td>\n",
       "      <td>NaN</td>\n",
       "      <td>NaN</td>\n",
       "      <td>NaN</td>\n",
       "    </tr>\n",
       "    <tr>\n",
       "      <th>5936</th>\n",
       "      <td>Harry Potter and the Order of the Phoenix</td>\n",
       "      <td>X360</td>\n",
       "      <td>2007.0</td>\n",
       "      <td>Action</td>\n",
       "      <td>0.24</td>\n",
       "      <td>0.03</td>\n",
       "      <td>0.00</td>\n",
       "      <td>0.02</td>\n",
       "      <td>68.0</td>\n",
       "      <td>6.8</td>\n",
       "      <td>E10+</td>\n",
       "    </tr>\n",
       "  </tbody>\n",
       "</table>\n",
       "</div>"
      ],
      "text/plain": [
       "                                                    Name Platform  \\\n",
       "15585  Zettai Meikyuu Grimm: Nanatsu no Kagi to Rakue...      PSP   \n",
       "15683  Densha de Go! Tokubetsu-hen: Fukkatsu Shouwa n...       DS   \n",
       "9303                                Legends of Wrestling       XB   \n",
       "14408                    Hakuoki Zuisouroku Omokage Hana      PSV   \n",
       "5936           Harry Potter and the Order of the Phoenix     X360   \n",
       "\n",
       "       Year_of_Release       Genre  NA_sales  EU_sales  JP_sales  Other_sales  \\\n",
       "15585           2010.0        Misc      0.00      0.00      0.02         0.00   \n",
       "15683           2010.0  Simulation      0.00      0.00      0.02         0.00   \n",
       "9303            2002.0    Fighting      0.10      0.03      0.00         0.00   \n",
       "14408           2015.0      Action      0.00      0.00      0.03         0.00   \n",
       "5936            2007.0      Action      0.24      0.03      0.00         0.02   \n",
       "\n",
       "       Critic_Score User_Score Rating  \n",
       "15585           NaN        NaN    NaN  \n",
       "15683           NaN        NaN    NaN  \n",
       "9303           65.0        5.8      T  \n",
       "14408           NaN        NaN    NaN  \n",
       "5936           68.0        6.8   E10+  "
      ]
     },
     "execution_count": 2,
     "metadata": {},
     "output_type": "execute_result"
    }
   ],
   "source": [
    "df = pd.read_csv('/datasets/games.csv')\n",
    "df.sample(5)"
   ]
  },
  {
   "cell_type": "markdown",
   "metadata": {},
   "source": [
    "<font size=\"4\"><b>Описание данных</b></font>\n",
    "\n",
    "- **Name** — название игры\n",
    "- **Platform** — платформа\n",
    "- **Year_of_Release** — год выпуска\n",
    "- **Genre** — жанр игры\n",
    "- **NA_sales** — продажи в Северной Америке (миллионы проданных копий)\n",
    "- **EU_sales** — продажи в Европе (миллионы проданных копий)\n",
    "- **JP_sales** — продажи в Японии (миллионы проданных копий)\n",
    "- **Other_sales** — продажи в других странах (миллионы проданных копий)\n",
    "- **Critic_Score** — оценка критиков (максимум 100)\n",
    "- **User_Score** — оценка пользователей (максимум 10)\n",
    "- **Rating** — рейтинг от организации ESRB (англ. Entertainment Software Rating Board). Эта ассоциация определяет рейтинг компьютерных игр и присваивает им подходящую возрастную категорию."
   ]
  },
  {
   "cell_type": "code",
   "execution_count": 3,
   "metadata": {},
   "outputs": [
    {
     "name": "stdout",
     "output_type": "stream",
     "text": [
      "<class 'pandas.core.frame.DataFrame'>\n",
      "RangeIndex: 16715 entries, 0 to 16714\n",
      "Data columns (total 11 columns):\n",
      " #   Column           Non-Null Count  Dtype  \n",
      "---  ------           --------------  -----  \n",
      " 0   Name             16713 non-null  object \n",
      " 1   Platform         16715 non-null  object \n",
      " 2   Year_of_Release  16446 non-null  float64\n",
      " 3   Genre            16713 non-null  object \n",
      " 4   NA_sales         16715 non-null  float64\n",
      " 5   EU_sales         16715 non-null  float64\n",
      " 6   JP_sales         16715 non-null  float64\n",
      " 7   Other_sales      16715 non-null  float64\n",
      " 8   Critic_Score     8137 non-null   float64\n",
      " 9   User_Score       10014 non-null  object \n",
      " 10  Rating           9949 non-null   object \n",
      "dtypes: float64(6), object(5)\n",
      "memory usage: 1.4+ MB\n"
     ]
    }
   ],
   "source": [
    "df.info()"
   ]
  },
  {
   "cell_type": "code",
   "execution_count": 4,
   "metadata": {},
   "outputs": [
    {
     "data": {
      "text/plain": [
       "Name                  2\n",
       "Platform              0\n",
       "Year_of_Release     269\n",
       "Genre                 2\n",
       "NA_sales              0\n",
       "EU_sales              0\n",
       "JP_sales              0\n",
       "Other_sales           0\n",
       "Critic_Score       8578\n",
       "User_Score         6701\n",
       "Rating             6766\n",
       "dtype: int64"
      ]
     },
     "execution_count": 4,
     "metadata": {},
     "output_type": "execute_result"
    }
   ],
   "source": [
    "df.isna().sum()"
   ]
  },
  {
   "cell_type": "code",
   "execution_count": 5,
   "metadata": {},
   "outputs": [
    {
     "data": {
      "text/html": [
       "<div>\n",
       "<style scoped>\n",
       "    .dataframe tbody tr th:only-of-type {\n",
       "        vertical-align: middle;\n",
       "    }\n",
       "\n",
       "    .dataframe tbody tr th {\n",
       "        vertical-align: top;\n",
       "    }\n",
       "\n",
       "    .dataframe thead th {\n",
       "        text-align: right;\n",
       "    }\n",
       "</style>\n",
       "<table border=\"1\" class=\"dataframe\">\n",
       "  <thead>\n",
       "    <tr style=\"text-align: right;\">\n",
       "      <th></th>\n",
       "      <th>Year_of_Release</th>\n",
       "      <th>NA_sales</th>\n",
       "      <th>EU_sales</th>\n",
       "      <th>JP_sales</th>\n",
       "      <th>Other_sales</th>\n",
       "      <th>Critic_Score</th>\n",
       "    </tr>\n",
       "  </thead>\n",
       "  <tbody>\n",
       "    <tr>\n",
       "      <th>count</th>\n",
       "      <td>16446.000000</td>\n",
       "      <td>16715.000000</td>\n",
       "      <td>16715.000000</td>\n",
       "      <td>16715.000000</td>\n",
       "      <td>16715.000000</td>\n",
       "      <td>8137.000000</td>\n",
       "    </tr>\n",
       "    <tr>\n",
       "      <th>mean</th>\n",
       "      <td>2006.484616</td>\n",
       "      <td>0.263377</td>\n",
       "      <td>0.145060</td>\n",
       "      <td>0.077617</td>\n",
       "      <td>0.047342</td>\n",
       "      <td>68.967679</td>\n",
       "    </tr>\n",
       "    <tr>\n",
       "      <th>std</th>\n",
       "      <td>5.877050</td>\n",
       "      <td>0.813604</td>\n",
       "      <td>0.503339</td>\n",
       "      <td>0.308853</td>\n",
       "      <td>0.186731</td>\n",
       "      <td>13.938165</td>\n",
       "    </tr>\n",
       "    <tr>\n",
       "      <th>min</th>\n",
       "      <td>1980.000000</td>\n",
       "      <td>0.000000</td>\n",
       "      <td>0.000000</td>\n",
       "      <td>0.000000</td>\n",
       "      <td>0.000000</td>\n",
       "      <td>13.000000</td>\n",
       "    </tr>\n",
       "    <tr>\n",
       "      <th>25%</th>\n",
       "      <td>2003.000000</td>\n",
       "      <td>0.000000</td>\n",
       "      <td>0.000000</td>\n",
       "      <td>0.000000</td>\n",
       "      <td>0.000000</td>\n",
       "      <td>60.000000</td>\n",
       "    </tr>\n",
       "    <tr>\n",
       "      <th>50%</th>\n",
       "      <td>2007.000000</td>\n",
       "      <td>0.080000</td>\n",
       "      <td>0.020000</td>\n",
       "      <td>0.000000</td>\n",
       "      <td>0.010000</td>\n",
       "      <td>71.000000</td>\n",
       "    </tr>\n",
       "    <tr>\n",
       "      <th>75%</th>\n",
       "      <td>2010.000000</td>\n",
       "      <td>0.240000</td>\n",
       "      <td>0.110000</td>\n",
       "      <td>0.040000</td>\n",
       "      <td>0.030000</td>\n",
       "      <td>79.000000</td>\n",
       "    </tr>\n",
       "    <tr>\n",
       "      <th>max</th>\n",
       "      <td>2016.000000</td>\n",
       "      <td>41.360000</td>\n",
       "      <td>28.960000</td>\n",
       "      <td>10.220000</td>\n",
       "      <td>10.570000</td>\n",
       "      <td>98.000000</td>\n",
       "    </tr>\n",
       "  </tbody>\n",
       "</table>\n",
       "</div>"
      ],
      "text/plain": [
       "       Year_of_Release      NA_sales      EU_sales      JP_sales  \\\n",
       "count     16446.000000  16715.000000  16715.000000  16715.000000   \n",
       "mean       2006.484616      0.263377      0.145060      0.077617   \n",
       "std           5.877050      0.813604      0.503339      0.308853   \n",
       "min        1980.000000      0.000000      0.000000      0.000000   \n",
       "25%        2003.000000      0.000000      0.000000      0.000000   \n",
       "50%        2007.000000      0.080000      0.020000      0.000000   \n",
       "75%        2010.000000      0.240000      0.110000      0.040000   \n",
       "max        2016.000000     41.360000     28.960000     10.220000   \n",
       "\n",
       "        Other_sales  Critic_Score  \n",
       "count  16715.000000   8137.000000  \n",
       "mean       0.047342     68.967679  \n",
       "std        0.186731     13.938165  \n",
       "min        0.000000     13.000000  \n",
       "25%        0.000000     60.000000  \n",
       "50%        0.010000     71.000000  \n",
       "75%        0.030000     79.000000  \n",
       "max       10.570000     98.000000  "
      ]
     },
     "execution_count": 5,
     "metadata": {},
     "output_type": "execute_result"
    }
   ],
   "source": [
    "df.describe()"
   ]
  },
  {
   "cell_type": "code",
   "execution_count": 6,
   "metadata": {},
   "outputs": [
    {
     "data": {
      "text/plain": [
       "0"
      ]
     },
     "execution_count": 6,
     "metadata": {},
     "output_type": "execute_result"
    }
   ],
   "source": [
    "df.duplicated().sum()"
   ]
  },
  {
   "cell_type": "markdown",
   "metadata": {},
   "source": [
    "1. В данных стоит привести название столбцов к нижнему регистру. \n",
    "2. Необходимо изменить тип данных в некоторых стоблцах.\n",
    "3. Подумать, что делать с пропусками в таблице."
   ]
  },
  {
   "cell_type": "markdown",
   "metadata": {},
   "source": [
    "## Предобработка данных"
   ]
  },
  {
   "cell_type": "code",
   "execution_count": 7,
   "metadata": {},
   "outputs": [],
   "source": [
    "#переведем название колонок к нижнему регистру\n",
    "df.columns = df.columns.str.lower()"
   ]
  },
  {
   "cell_type": "markdown",
   "metadata": {},
   "source": [
    "Удалим игры без имени, жанра и неизвестным годом релиза. Суммарно это примерно 1.5% от всех данных. Не так уж и много, зато будет меньше неопределенности."
   ]
  },
  {
   "cell_type": "code",
   "execution_count": 8,
   "metadata": {},
   "outputs": [],
   "source": [
    "df.dropna(subset = ['name', 'genre', 'year_of_release'], inplace = True)"
   ]
  },
  {
   "cell_type": "code",
   "execution_count": 9,
   "metadata": {},
   "outputs": [
    {
     "data": {
      "text/plain": [
       "array(['8', nan, '8.3', '8.5', '6.6', '8.4', '8.6', '7.7', '6.3', '7.4',\n",
       "       '8.2', '9', '7.9', '8.1', '8.7', '7.1', '3.4', '5.3', '4.8', '3.2',\n",
       "       '8.9', '6.4', '7.8', '7.5', '2.6', '7.2', '9.2', '7', '7.3', '4.3',\n",
       "       '7.6', '5.7', '5', '9.1', '6.5', 'tbd', '8.8', '6.9', '9.4', '6.8',\n",
       "       '6.1', '6.7', '5.4', '4', '4.9', '4.5', '9.3', '6.2', '4.2', '6',\n",
       "       '3.7', '4.1', '5.8', '5.6', '5.5', '4.4', '4.6', '5.9', '3.9',\n",
       "       '3.1', '2.9', '5.2', '3.3', '4.7', '5.1', '3.5', '2.5', '1.9', '3',\n",
       "       '2.7', '2.2', '2', '9.5', '2.1', '3.6', '2.8', '1.8', '3.8', '0',\n",
       "       '1.6', '9.6', '2.4', '1.7', '1.1', '0.3', '1.5', '0.7', '1.2',\n",
       "       '2.3', '0.5', '1.3', '0.2', '0.6', '1.4', '0.9', '1', '9.7'],\n",
       "      dtype=object)"
      ]
     },
     "execution_count": 9,
     "metadata": {},
     "output_type": "execute_result"
    }
   ],
   "source": [
    "#есть значение tbd - to be determined\n",
    "df['user_score'].unique()"
   ]
  },
  {
   "cell_type": "markdown",
   "metadata": {},
   "source": [
    "Для пропущенных значений, а также для значений tbd(to be determined - будет определено) есть вероятность, что есть какой-то минимальный порог количества оценок, чтобы иметь пользовательский рейтинг. Также возможно, что данные предоставлены с разных сайтов, то на каких-то сайтах  это значение указано tbd, а где-то оно просто не указано."
   ]
  },
  {
   "cell_type": "code",
   "execution_count": 10,
   "metadata": {},
   "outputs": [],
   "source": [
    "df.loc[df['user_score'] == 'tbd','user_score'] = np.nan\n",
    "\n",
    "df['year_of_release'] = df['year_of_release'].astype('int')\n",
    "df['user_score'] = df['user_score'].astype('float')"
   ]
  },
  {
   "cell_type": "markdown",
   "metadata": {},
   "source": [
    "Пропуски с возрастным рейтингом и оценками удалить мы не можем, поскольку это исказит исследование, также заменить их на адекватную величину тоже вряд ли получиться.\n",
    "\n",
    "Пропуски с возрастным рейтингом могут быть связаны либо со старыми играми, где еще не было рекомендаций для возраста, либо на сайтах забыли указать его. \n",
    "Пропуски с рейтингом - пользователи просто не оценивали игры, также на некоторых сайтах не было возможность поставить оценку игре."
   ]
  },
  {
   "cell_type": "code",
   "execution_count": 11,
   "metadata": {},
   "outputs": [],
   "source": [
    "#добавим новый столбец с суммарной продажей во всех регионах\n",
    "df['all_sales'] = df['na_sales'] + df['eu_sales'] + df['jp_sales'] + df['other_sales']"
   ]
  },
  {
   "cell_type": "markdown",
   "metadata": {},
   "source": [
    "## Исследовательский анализ данных"
   ]
  },
  {
   "cell_type": "markdown",
   "metadata": {},
   "source": [
    "### Игры выпущенные в разные годы"
   ]
  },
  {
   "cell_type": "code",
   "execution_count": 12,
   "metadata": {},
   "outputs": [
    {
     "data": {
      "image/png": "[encoded data removed]",
      "text/plain": [
       "<Figure size 864x432 with 1 Axes>"
      ]
     },
     "metadata": {
      "needs_background": "light"
     },
     "output_type": "display_data"
    }
   ],
   "source": [
    "df['year_of_release'].plot(kind='hist', bins = 36, grid = True, figsize=(12,6), title = 'Гистограмма релизов игр по годам',\n",
    "                          )\n",
    "plt.xlabel('Год') \n",
    "plt.ylabel('Количество игр')\n",
    "plt.show()"
   ]
  },
  {
   "cell_type": "markdown",
   "metadata": {},
   "source": [
    "<div class=\"alert alert-dark\" style=\"border-radius: 15px; box-shadow: 4px 4px 4px; border: 1px solid \">\n",
    "\n",
    "Всплеск продаж приходился на 2007 - 2011 года. Стабилизация рынка произошла после 2012 года.\n",
    "</div>"
   ]
  },
  {
   "cell_type": "markdown",
   "metadata": {},
   "source": [
    "В 80-е программистам платили хорошие деньги за разработку новых ПО для военных целей и прикладных задач в первую очередь, вдобавок комьютер был не у всех.\n",
    "\n",
    "С годами шло увеличение количества программистов, появление новых языков и новых версий языков программирования, закон Мура также никто не отменял - мощность компьютера улучшалась, геймдев начал врываться на рынок. \n",
    "\n",
    "Пик количества релизов приходится на 2007-2010 год. По моему мнению, далее пошла работа на качество, а не на количество. Сперва пользователи получили то, что хотели - это выбор, теперь они хотят, что их выбор был улучшен.\n",
    "Кодзима хоть и гений, но количество идей тоже ограничено, а плагиатом заниматься не хочется."
   ]
  },
  {
   "cell_type": "markdown",
   "metadata": {},
   "source": [
    "### Самые популярные платформы"
   ]
  },
  {
   "cell_type": "markdown",
   "metadata": {},
   "source": [
    "Выделим топ-10 самых крутых игровых приставок и платформ."
   ]
  },
  {
   "cell_type": "code",
   "execution_count": 13,
   "metadata": {},
   "outputs": [
    {
     "data": {
      "image/png": "[encoded data removed]",
      "text/plain": [
       "<Figure size 864x432 with 1 Axes>"
      ]
     },
     "metadata": {
      "needs_background": "light"
     },
     "output_type": "display_data"
    }
   ],
   "source": [
    "platforms = df.groupby('platform')['all_sales'].agg('sum')\n",
    "top10_sum  = platforms.sort_values(ascending = False).head(10)\n",
    "\n",
    "top10_sum.plot(kind = 'bar', figsize = (12, 6), title = 'Самые популярные платформы')\n",
    "plt.xlabel('Популярные платформы')\n",
    "plt.ylabel('Количество продаж')\n",
    "plt.show()"
   ]
  },
  {
   "cell_type": "markdown",
   "metadata": {},
   "source": [
    "Судя по нашим данным самым коммерчески успешной платформой является PS2.\n",
    "Странно что здесь нет винды или macOS."
   ]
  },
  {
   "cell_type": "code",
   "execution_count": 14,
   "metadata": {},
   "outputs": [],
   "source": [
    "platform_list_top10 = top10_sum.index.tolist()\n",
    "\n",
    "top10_platf = df.query('platform in @platform_list_top10')"
   ]
  },
  {
   "cell_type": "code",
   "execution_count": 15,
   "metadata": {},
   "outputs": [
    {
     "data": {
      "image/png": "[encoded data removed]",
      "text/plain": [
       "<Figure size 1800x1440 with 10 Axes>"
      ]
     },
     "metadata": {
      "needs_background": "light"
     },
     "output_type": "display_data"
    }
   ],
   "source": [
    "fig, ax = plt.subplots(2, 5, sharex=True, sharey=True, figsize=(25,20))\n",
    "\n",
    "for i, platf in zip(range(1,11), platform_list_top10):\n",
    "    z = df[df['platform'] == platf].pivot_table(index='year_of_release', values='all_sales', aggfunc='sum')\n",
    "    x = np.array(z.index)\n",
    "    y = np.array(z.values) \n",
    "    plt.subplot(2, 5, i)\n",
    "    plt.plot(x,y)\n",
    "    plt.title(platf)\n",
    "    plt.xlabel('Год')\n",
    "    plt.ylabel('Количество выпущенных игр')\n",
    "plt.show()\n",
    "        \n",
    "# for platf in platform_list_top10:\n",
    "#     df[df['platform'] == platf].pivot_table(index='year_of_release', values='all_sales', aggfunc='sum').plot(figsize=(4,4))\n",
    "#     pylab.show()        "
   ]
  },
  {
   "cell_type": "markdown",
   "metadata": {},
   "source": [
    "В среднем срок жизни у игровых платформ 8-10 лет. По некоторым платформам разработка и выпуск игр уже не ведется. Активнее всего на 2016 год выпускаются игры на ps4. Так как на нужен прогноз на 2017 год для кампании, то актуальный период возьмем с 2009 года."
   ]
  },
  {
   "cell_type": "markdown",
   "metadata": {},
   "source": [
    "<div class=\"alert alert-dark\" style=\"border-radius: 15px; box-shadow: 4px 4px 4px; border: 1px solid \">\n",
    "\n",
    "По данным графикам можно судить, что платформы, которые еще существуют на рынке, это PS3, PS4, X360, 3DS и Wii. У трех последних продажи количество копий игр стремятся к нулю. Актуальный период стоит взять с 2014 года, таким образом устранятся мертвые платформы, оценки будут свежие, а также будут видны актуальные жанры игр.\n",
    "</div>"
   ]
  },
  {
   "cell_type": "markdown",
   "metadata": {},
   "source": [
    "### Исследование платформ лидирующих по продажам"
   ]
  },
  {
   "cell_type": "code",
   "execution_count": 16,
   "metadata": {},
   "outputs": [],
   "source": [
    "df = df.query('year_of_release > 2013')"
   ]
  },
  {
   "cell_type": "code",
   "execution_count": 17,
   "metadata": {},
   "outputs": [
    {
     "data": {
      "image/png": "[encoded data removed]",
      "text/plain": [
       "<Figure size 782.5x720 with 1 Axes>"
      ]
     },
     "metadata": {
      "needs_background": "light"
     },
     "output_type": "display_data"
    }
   ],
   "source": [
    "# for platf in df['platform'].unique():\n",
    "#     df.query('platform == @platf').groupby('year_of_release').agg({'all_sales':'sum'}).plot(kind = 'bar',\n",
    "#                                                                                                      title = platf)\n",
    "#     plt.show()\n",
    "\n",
    "\n",
    "#ci - доверительный интервал, который указан черной чертой на столбчатых диаграммах\n",
    "sns.catplot(y=\"all_sales\", x=\"year_of_release\", hue= \"platform\", data=df, kind = \"bar\",  height=10, ci = 30)   \n",
    "plt.xlabel(\"Год\")\n",
    "plt.ylabel(\"Суммарные продажи\")\n",
    "plt.title(\"Столбчатые диаграммы для каждой платформ по продажам\")\n",
    "plt.show()"
   ]
  },
  {
   "cell_type": "code",
   "execution_count": 18,
   "metadata": {},
   "outputs": [
    {
     "data": {
      "text/plain": [
       "PS4     376\n",
       "PSV     295\n",
       "XOne    228\n",
       "PS3     219\n",
       "3DS     212\n",
       "PC      151\n",
       "X360    111\n",
       "WiiU     73\n",
       "PSP      13\n",
       "Wii      11\n",
       "Name: platform, dtype: int64"
      ]
     },
     "execution_count": 18,
     "metadata": {},
     "output_type": "execute_result"
    }
   ],
   "source": [
    "df['platform'].value_counts()"
   ]
  },
  {
   "cell_type": "markdown",
   "metadata": {},
   "source": [
    "<div class=\"alert alert-dark\" style=\"border-radius: 15px; box-shadow: 4px 4px 4px; border: 1px solid \">\n",
    "\n",
    "Судя по столбчатым диаграммам на 2016 год лидирует по продажам PS4, далее идет XOne более 20млн. копий, 3DS держится на примерном уровне в 10-15 млн. копий, остальные платформы доживают свое десятилетие. Однако для PSV и PS3 выпускается достаточно большое количество игр.\n",
    "</div>"
   ]
  },
  {
   "cell_type": "code",
   "execution_count": 19,
   "metadata": {},
   "outputs": [
    {
     "data": {
      "text/html": [
       "<div>\n",
       "<style scoped>\n",
       "    .dataframe tbody tr th:only-of-type {\n",
       "        vertical-align: middle;\n",
       "    }\n",
       "\n",
       "    .dataframe tbody tr th {\n",
       "        vertical-align: top;\n",
       "    }\n",
       "\n",
       "    .dataframe thead th {\n",
       "        text-align: right;\n",
       "    }\n",
       "</style>\n",
       "<table border=\"1\" class=\"dataframe\">\n",
       "  <thead>\n",
       "    <tr style=\"text-align: right;\">\n",
       "      <th>platform</th>\n",
       "      <th>3DS</th>\n",
       "      <th>PC</th>\n",
       "      <th>PS3</th>\n",
       "      <th>PS4</th>\n",
       "      <th>PSP</th>\n",
       "      <th>PSV</th>\n",
       "      <th>Wii</th>\n",
       "      <th>WiiU</th>\n",
       "      <th>X360</th>\n",
       "      <th>XOne</th>\n",
       "    </tr>\n",
       "    <tr>\n",
       "      <th>year_of_release</th>\n",
       "      <th></th>\n",
       "      <th></th>\n",
       "      <th></th>\n",
       "      <th></th>\n",
       "      <th></th>\n",
       "      <th></th>\n",
       "      <th></th>\n",
       "      <th></th>\n",
       "      <th></th>\n",
       "      <th></th>\n",
       "    </tr>\n",
       "  </thead>\n",
       "  <tbody>\n",
       "    <tr>\n",
       "      <th>2015</th>\n",
       "      <td>27.78</td>\n",
       "      <td>8.52</td>\n",
       "      <td>16.82</td>\n",
       "      <td>118.90</td>\n",
       "      <td>0.12</td>\n",
       "      <td>6.25</td>\n",
       "      <td>1.14</td>\n",
       "      <td>16.35</td>\n",
       "      <td>11.96</td>\n",
       "      <td>60.14</td>\n",
       "    </tr>\n",
       "    <tr>\n",
       "      <th>2016</th>\n",
       "      <td>15.14</td>\n",
       "      <td>5.25</td>\n",
       "      <td>3.60</td>\n",
       "      <td>69.25</td>\n",
       "      <td>NaN</td>\n",
       "      <td>4.25</td>\n",
       "      <td>0.18</td>\n",
       "      <td>4.60</td>\n",
       "      <td>1.52</td>\n",
       "      <td>26.15</td>\n",
       "    </tr>\n",
       "  </tbody>\n",
       "</table>\n",
       "</div>"
      ],
      "text/plain": [
       "platform           3DS    PC    PS3     PS4   PSP   PSV   Wii   WiiU   X360  \\\n",
       "year_of_release                                                               \n",
       "2015             27.78  8.52  16.82  118.90  0.12  6.25  1.14  16.35  11.96   \n",
       "2016             15.14  5.25   3.60   69.25   NaN  4.25  0.18   4.60   1.52   \n",
       "\n",
       "platform          XOne  \n",
       "year_of_release         \n",
       "2015             60.14  \n",
       "2016             26.15  "
      ]
     },
     "execution_count": 19,
     "metadata": {},
     "output_type": "execute_result"
    }
   ],
   "source": [
    "# КОД РЕВЬЮЕРА\n",
    "\n",
    "df.pivot_table(index='year_of_release', columns='platform', values='all_sales', aggfunc='sum').loc[[2015, 2016]]"
   ]
  },
  {
   "cell_type": "code",
   "execution_count": 20,
   "metadata": {},
   "outputs": [
    {
     "data": {
      "image/png": "[encoded data removed]",
      "text/plain": [
       "<Figure size 1080x576 with 1 Axes>"
      ]
     },
     "metadata": {},
     "output_type": "display_data"
    }
   ],
   "source": [
    "# profitable_platforms = top10_platf.pivot_table(index = 'platform',                    \n",
    "#                          values='all_sales',\n",
    "#                          aggfunc = ['sum'])\n",
    "# profitable_platforms.columns = ['sum_sales']\n",
    "# profitable_platforms.sort_values(by='sum_sales', ascending=False, inplace=True)\n",
    "\n",
    "# plt.title('График «ящик с усами» по глобальным продажам игр в разбивке по платформам') \n",
    "# profitable_platforms.boxplot()\n",
    "# print('Среднее значение по всем продажам:',profitable_platforms.mean().round(2))\n",
    "# profitable_platforms\n",
    "\n",
    "#df.boxplot(column='all_sales', by = 'platform', vert = False, figsize=(10,5))\n",
    "sns.set(rc={'figure.figsize':(15,8)})\n",
    "sns.boxplot(x = 'all_sales', y = 'platform', data=df)\n",
    "plt.xlim(0,4)\n",
    "plt.ylabel(\"Платформа\")\n",
    "plt.xlabel(\"Суммарные продажи\")\n",
    "plt.title('Разброс суммы глобальных продаж по платформам')\n",
    "plt.show()"
   ]
  },
  {
   "cell_type": "markdown",
   "metadata": {},
   "source": [
    "<div class=\"alert alert-dark\" style=\"border-radius: 15px; box-shadow: 4px 4px 4px; border: 1px solid \">\n",
    "\n",
    "Медиана по лучшим платформам находится в промежутке между 0.2 до 0.3 млн. прибыли за игру. У PS4, XOne выбросы начинаются свыше 1.5 млн. 3DS считается прибыльной платформой(при медиане около 0.1), но видимо некоторые игры сильно выстреливают и повышают прибыльность данной платформы, считаю в этой платформе относительно самые сильные выбросы. Думаю все выбросы связаны с самыми топовыми играми для своего региона.\n",
    "</div>"
   ]
  },
  {
   "cell_type": "markdown",
   "metadata": {},
   "source": [
    "###  Оценки влияющие на продажи внутри платформ"
   ]
  },
  {
   "cell_type": "markdown",
   "metadata": {},
   "source": [
    "За выбранный актуальный период самая распространенная платформа это PS4."
   ]
  },
  {
   "cell_type": "code",
   "execution_count": 21,
   "metadata": {},
   "outputs": [
    {
     "data": {
      "image/png": "[encoded data removed]",
      "text/plain": [
       "<Figure size 576x576 with 2 Axes>"
      ]
     },
     "metadata": {},
     "output_type": "display_data"
    }
   ],
   "source": [
    "ps4 = df.query('platform == \"PS4\"')\n",
    "\n",
    "plt.figure(figsize=(8,8))\n",
    "sns.heatmap(ps4.corr(), annot = True, vmin=-1, vmax=1, center= 0, cmap= 'coolwarm')\n",
    "plt.show()"
   ]
  },
  {
   "cell_type": "markdown",
   "metadata": {},
   "source": [
    "Корреляция продаж от оценок критиков составляет 0.4, а корреляция продаж от оценок пользователей -0.04. Относительно слабая корреляция по оценкам критиков, и почти отсутствует зависимость от оценок пользователей. Также видно, что PS4 более популярна во всем мире, но в Японии не такая хорошая зависимость."
   ]
  },
  {
   "cell_type": "code",
   "execution_count": 22,
   "metadata": {},
   "outputs": [
    {
     "data": {
      "image/png": "[encoded data removed]",
      "text/plain": [
       "<Figure size 540x540 with 12 Axes>"
      ]
     },
     "metadata": {},
     "output_type": "display_data"
    }
   ],
   "source": [
    "el = df.query('platform != \"PS4\"')\n",
    "sns.pairplot(el[['all_sales', 'critic_score', 'user_score']])\n",
    "plt.show()"
   ]
  },
  {
   "cell_type": "code",
   "execution_count": 23,
   "metadata": {},
   "outputs": [
    {
     "data": {
      "image/png": "[encoded data removed]",
      "text/plain": [
       "<Figure size 576x576 with 2 Axes>"
      ]
     },
     "metadata": {},
     "output_type": "display_data"
    }
   ],
   "source": [
    "plt.figure(figsize=(8,8))\n",
    "sns.heatmap(el.corr(), annot = True, vmin=-1, vmax=1, center= 0, cmap= 'coolwarm')\n",
    "plt.show()"
   ]
  },
  {
   "cell_type": "markdown",
   "metadata": {},
   "source": [
    "<div class=\"alert alert-dark\" style=\"border-radius: 15px; box-shadow: 4px 4px 4px; border: 1px solid \">\n",
    "\n",
    "Если взять другие платформы, то в целом показатели корреляции у них несильно отличаются от PS4. Критики немного меньше влияют на продажи, а пользователи также, почти не имеют никакой зависимости с количеством продаж игр.\n",
    "</div>"
   ]
  },
  {
   "cell_type": "markdown",
   "metadata": {},
   "source": [
    "### Общее распределение игр по жанрам"
   ]
  },
  {
   "cell_type": "code",
   "execution_count": 24,
   "metadata": {},
   "outputs": [
    {
     "data": {
      "image/png": "[encoded data removed]",
      "text/plain": [
       "<Figure size 576x576 with 1 Axes>"
      ]
     },
     "metadata": {},
     "output_type": "display_data"
    }
   ],
   "source": [
    "count_genre_games = df.groupby(\"genre\")['genre'].count()\n",
    "genres = count_genre_games.index\n",
    "plt.figure(figsize=(8,8))\n",
    "plt.pie(x=count_genre_games, labels=genres, autopct=\"%.2f\")\n",
    "plt.show()"
   ]
  },
  {
   "cell_type": "code",
   "execution_count": 25,
   "metadata": {},
   "outputs": [
    {
     "data": {
      "text/html": [
       "<div>\n",
       "<style scoped>\n",
       "    .dataframe tbody tr th:only-of-type {\n",
       "        vertical-align: middle;\n",
       "    }\n",
       "\n",
       "    .dataframe tbody tr th {\n",
       "        vertical-align: top;\n",
       "    }\n",
       "\n",
       "    .dataframe thead th {\n",
       "        text-align: right;\n",
       "    }\n",
       "</style>\n",
       "<table border=\"1\" class=\"dataframe\">\n",
       "  <thead>\n",
       "    <tr style=\"text-align: right;\">\n",
       "      <th></th>\n",
       "      <th>count</th>\n",
       "      <th>median</th>\n",
       "      <th>sum</th>\n",
       "    </tr>\n",
       "    <tr>\n",
       "      <th>genre</th>\n",
       "      <th></th>\n",
       "      <th></th>\n",
       "      <th></th>\n",
       "    </tr>\n",
       "  </thead>\n",
       "  <tbody>\n",
       "    <tr>\n",
       "      <th>Action</th>\n",
       "      <td>619</td>\n",
       "      <td>0.090</td>\n",
       "      <td>27.33%</td>\n",
       "    </tr>\n",
       "    <tr>\n",
       "      <th>Role-Playing</th>\n",
       "      <td>221</td>\n",
       "      <td>0.110</td>\n",
       "      <td>13.91%</td>\n",
       "    </tr>\n",
       "    <tr>\n",
       "      <th>Adventure</th>\n",
       "      <td>185</td>\n",
       "      <td>0.030</td>\n",
       "      <td>2.41%</td>\n",
       "    </tr>\n",
       "    <tr>\n",
       "      <th>Sports</th>\n",
       "      <td>161</td>\n",
       "      <td>0.180</td>\n",
       "      <td>15.01%</td>\n",
       "    </tr>\n",
       "    <tr>\n",
       "      <th>Shooter</th>\n",
       "      <td>128</td>\n",
       "      <td>0.515</td>\n",
       "      <td>23.43%</td>\n",
       "    </tr>\n",
       "    <tr>\n",
       "      <th>Misc</th>\n",
       "      <td>113</td>\n",
       "      <td>0.090</td>\n",
       "      <td>5.15%</td>\n",
       "    </tr>\n",
       "    <tr>\n",
       "      <th>Racing</th>\n",
       "      <td>69</td>\n",
       "      <td>0.090</td>\n",
       "      <td>3.77%</td>\n",
       "    </tr>\n",
       "    <tr>\n",
       "      <th>Fighting</th>\n",
       "      <td>60</td>\n",
       "      <td>0.125</td>\n",
       "      <td>3.87%</td>\n",
       "    </tr>\n",
       "    <tr>\n",
       "      <th>Simulation</th>\n",
       "      <td>44</td>\n",
       "      <td>0.100</td>\n",
       "      <td>1.8%</td>\n",
       "    </tr>\n",
       "    <tr>\n",
       "      <th>Platform</th>\n",
       "      <td>38</td>\n",
       "      <td>0.140</td>\n",
       "      <td>2.48%</td>\n",
       "    </tr>\n",
       "    <tr>\n",
       "      <th>Strategy</th>\n",
       "      <td>37</td>\n",
       "      <td>0.060</td>\n",
       "      <td>0.54%</td>\n",
       "    </tr>\n",
       "    <tr>\n",
       "      <th>Puzzle</th>\n",
       "      <td>14</td>\n",
       "      <td>0.045</td>\n",
       "      <td>0.3%</td>\n",
       "    </tr>\n",
       "  </tbody>\n",
       "</table>\n",
       "</div>"
      ],
      "text/plain": [
       "              count  median     sum\n",
       "genre                              \n",
       "Action          619   0.090  27.33%\n",
       "Role-Playing    221   0.110  13.91%\n",
       "Adventure       185   0.030   2.41%\n",
       "Sports          161   0.180  15.01%\n",
       "Shooter         128   0.515  23.43%\n",
       "Misc            113   0.090   5.15%\n",
       "Racing           69   0.090   3.77%\n",
       "Fighting         60   0.125   3.87%\n",
       "Simulation       44   0.100    1.8%\n",
       "Platform         38   0.140   2.48%\n",
       "Strategy         37   0.060   0.54%\n",
       "Puzzle           14   0.045    0.3%"
      ]
     },
     "execution_count": 25,
     "metadata": {},
     "output_type": "execute_result"
    }
   ],
   "source": [
    "genre_sales = df.groupby('genre')[['all_sales']].agg([\"count\",\"median\", \"sum\"])\n",
    "\n",
    "genre_sales.columns = ['count','median','sum']\n",
    "\n",
    "genre_sales['sum'] = ((genre_sales['sum']/genre_sales['sum'].sum())*100).round(2)\n",
    "genre_sales['sum'] = genre_sales['sum'].astype(str) + '%'\n",
    "genre_sales.sort_values(by = 'count', ascending = False)"
   ]
  },
  {
   "cell_type": "markdown",
   "metadata": {},
   "source": [
    "<div class=\"alert alert-dark\" style=\"border-radius: 15px; box-shadow: 4px 4px 4px; border: 1px solid \">\n",
    "\n",
    "- По количеству проданных копий лидируют жанры: Action, Role-Playing, Adventure.\n",
    "    \n",
    "- По сумме продаж лидируют жанры: Action, Shooter, Sports.\n",
    "\n",
    "- По медианному значению стоимости игры жанра в расчете на единицу: Shooter, Sports, Platform     \n",
    "</div>"
   ]
  },
  {
   "cell_type": "markdown",
   "metadata": {},
   "source": [
    "## Портрет пользователя каждого региона"
   ]
  },
  {
   "cell_type": "markdown",
   "metadata": {},
   "source": [
    "### Самые популярные платформы"
   ]
  },
  {
   "cell_type": "code",
   "execution_count": 26,
   "metadata": {},
   "outputs": [],
   "source": [
    "def platf_func(row, region_sales, ax):\n",
    "    pivot = df.pivot_table(index = row, values=region_sales, aggfunc = 'sum')\n",
    "    pivot.columns = ['sum']\n",
    "    pivot.sort_values(by='sum', ascending = False, inplace = True)\n",
    "    pivot.head().plot(kind = 'bar', title = region_sales, ax=axes[ax])    "
   ]
  },
  {
   "cell_type": "code",
   "execution_count": 27,
   "metadata": {},
   "outputs": [
    {
     "name": "stdout",
     "output_type": "stream",
     "text": [
      "Самые популярные платформы\n"
     ]
    },
    {
     "data": {
      "image/png": "[encoded data removed]",
      "text/plain": [
       "<Figure size 1440x504 with 3 Axes>"
      ]
     },
     "metadata": {},
     "output_type": "display_data"
    }
   ],
   "source": [
    "fig, axes = plt.subplots(1, 3, figsize=(20,7))\n",
    "\n",
    "platf_func('platform','na_sales', 0)\n",
    "platf_func('platform','eu_sales', 1)\n",
    "platf_func('platform','jp_sales', 2)\n",
    "print('Самые популярные платформы')"
   ]
  },
  {
   "cell_type": "markdown",
   "metadata": {},
   "source": [
    "<div class=\"alert alert-dark\" style=\"border-radius: 15px; box-shadow: 4px 4px 4px; border: 1px solid \">\n",
    "\n",
    "Рассматривая период с 2014 года в Европе и Северной Америке самые прибыльные приставки это PS4 и XOne. В Японии стараются поддерживать своего производителя и рубятся в Nintendo. \n",
    "    \n",
    "<div>    "
   ]
  },
  {
   "cell_type": "markdown",
   "metadata": {},
   "source": [
    "### Самые популярные жанры "
   ]
  },
  {
   "cell_type": "code",
   "execution_count": 28,
   "metadata": {},
   "outputs": [
    {
     "name": "stdout",
     "output_type": "stream",
     "text": [
      "Самые популярные жанры\n"
     ]
    },
    {
     "data": {
      "image/png": "[encoded data removed]",
      "text/plain": [
       "<Figure size 1440x504 with 3 Axes>"
      ]
     },
     "metadata": {},
     "output_type": "display_data"
    }
   ],
   "source": [
    "fig, axes = plt.subplots(1, 3, figsize=(20,7))\n",
    "\n",
    "platf_func('genre','na_sales', 0)\n",
    "platf_func('genre','eu_sales', 1)\n",
    "platf_func('genre','jp_sales', 2)\n",
    "print('Самые популярные жанры')"
   ]
  },
  {
   "cell_type": "markdown",
   "metadata": {},
   "source": [
    "<div class=\"alert alert-dark\" style=\"border-radius: 15px; box-shadow: 4px 4px 4px; border: 1px solid \">\n",
    "\n",
    "И снова американцы и европейцы слабо отличаются друг от друга, одинаковые вкусы в плане жанров. Азиаты скупают РПГ и игры жанра Action.\n",
    "    \n",
    "<div>    "
   ]
  },
  {
   "cell_type": "markdown",
   "metadata": {},
   "source": [
    "### Влияние рейтинга ESRB на продажи в отдельном регионе"
   ]
  },
  {
   "cell_type": "markdown",
   "metadata": {},
   "source": [
    "**ESRB - Entertainment Software Rating Board** - негосударственная организация, основное направление деятельности — принятие и определение рейтингов для компьютерных видеоигр и другого развлекательного программного обеспечения в США и Канаде.\n",
    "- «EC» («Early childhood») — «Для детей младшего возраста»\n",
    "- «E» («Everyone») — «Для всех»\n",
    "- «E10+» («Everyone 10 and older») — «Для всех от 10 лет и старше»\n",
    "- «T» («Teen») — «Подросткам»: Игра подходит для лиц от 13 лет\n",
    "- «M» («Mature») — «Для взрослых»: Материалы игры не подходят для подростков младше 17 лет\n",
    "- Нет рейтинга"
   ]
  },
  {
   "cell_type": "code",
   "execution_count": 29,
   "metadata": {},
   "outputs": [],
   "source": [
    "# ESRB = {'E' : '> 6 лет', 'M' : '> 17 лет', 'T' : '> 13 лет', 'E10+' : '> 10 лет', 'EC': '> 3 лет'}\n",
    "# df['ESRB'] = top10_platf[top10_platf['rating'].notnull()]['rating'].map(ESRB)\n",
    "df['rating'] = df['rating'].fillna('Нет рейтинга')"
   ]
  },
  {
   "cell_type": "code",
   "execution_count": 30,
   "metadata": {},
   "outputs": [
    {
     "name": "stdout",
     "output_type": "stream",
     "text": [
      "Самые популярные платформы\n"
     ]
    },
    {
     "data": {
      "image/png": "[encoded data removed]",
      "text/plain": [
       "<Figure size 1440x504 with 3 Axes>"
      ]
     },
     "metadata": {},
     "output_type": "display_data"
    }
   ],
   "source": [
    "fig, axes = plt.subplots(1, 3, figsize=(20,7))\n",
    "\n",
    "platf_func('rating','na_sales', 0)\n",
    "platf_func('rating','eu_sales', 1)\n",
    "platf_func('rating','jp_sales', 2)\n",
    "print('Самые популярные платформы')"
   ]
  },
  {
   "cell_type": "markdown",
   "metadata": {},
   "source": [
    "<div class=\"alert alert-dark\" style=\"border-radius: 15px; box-shadow: 4px 4px 4px; border: 1px solid \">\n",
    "\n",
    "В Европе и Америке в основном взрослые игры самые дорогие, и такие игры больше всего покупают. В Японии выделяется значение \"Нет рейтинга\" и сложно оценивать этот рынок, так как пропусков слишком много, заполнив их можно сильно изменить картину. Учитывая, что в Японии играют в РПГ и Экшн, то можно предположить, что возрастной рейтинг 18+ там тоже будет выделяться. \n",
    "    \n",
    "<div>    "
   ]
  },
  {
   "cell_type": "markdown",
   "metadata": {},
   "source": [
    "## Проверка гипотез"
   ]
  },
  {
   "cell_type": "markdown",
   "metadata": {},
   "source": [
    "Сформулируем первую нулевую гипотезу:\n",
    "\n",
    "- H0: Средние пользовательские рейтинги платформ Xbox One и PС одинаковые\n",
    "- H1: Средние пользовательские рейтинги платформ Xbox One и PС отличаются"
   ]
  },
  {
   "cell_type": "code",
   "execution_count": 31,
   "metadata": {},
   "outputs": [
    {
     "name": "stdout",
     "output_type": "stream",
     "text": [
      "p-значение: 0.10450507919348415\n",
      "Не получилось отвергнуть нулевую гипотезу\n"
     ]
    }
   ],
   "source": [
    "xbox = df[(df['platform'] == 'XOne') & (df['user_score'].notnull())]['user_score']\n",
    "pc = df[(df['platform'] == 'PC') & (df['user_score'].notnull())]['user_score']\n",
    "\n",
    "alpha = 0.05\n",
    "results = st.ttest_ind(xbox, pc)\n",
    "\n",
    "print('p-значение:', results.pvalue)\n",
    "\n",
    "if (results.pvalue < alpha):\n",
    "    print(\"Отвергаем нулевую гипотезу\")\n",
    "else:\n",
    "    print(\"Не получилось отвергнуть нулевую гипотезу\")"
   ]
  },
  {
   "cell_type": "markdown",
   "metadata": {},
   "source": [
    "Сформулируем вторую нулевую гипотезу:\n",
    "\n",
    "- H0: Средние пользовательские рейтинги жанров Action и Sports одинаковые\n",
    "- H1: Средние пользовательские рейтинги жанров Action и Sports разные"
   ]
  },
  {
   "cell_type": "code",
   "execution_count": 32,
   "metadata": {},
   "outputs": [
    {
     "name": "stdout",
     "output_type": "stream",
     "text": [
      "p-значение: 2.8711147985105864e-19\n",
      "Отвергаем нулевую гипотезу\n"
     ]
    }
   ],
   "source": [
    "action = df[(df['genre'] == 'Action') & (df['user_score'].notnull())]['user_score']\n",
    "sports =df[(df['genre'] == 'Sports') & (df['user_score'].notnull())]['user_score']\n",
    "\n",
    "alpha = 0.05\n",
    "results = st.ttest_ind(action, sports)\n",
    "\n",
    "print('p-значение:', results.pvalue)\n",
    "\n",
    "if (results.pvalue < alpha):\n",
    "    print(\"Отвергаем нулевую гипотезу\")\n",
    "else:\n",
    "    print(\"Не получилось отвергнуть нулевую гипотезу\")"
   ]
  },
  {
   "cell_type": "markdown",
   "metadata": {},
   "source": [
    "## Общий вывод"
   ]
  },
  {
   "cell_type": "markdown",
   "metadata": {},
   "source": [
    "<div class=\"alert alert-dark\" style=\"border-radius: 15px; box-shadow: 4px 4px 4px; border: 1px solid \">\n",
    "\n",
    "В ходе выполнения проекта была произведена предобработка данных, были изменены некоторые типы данных, замечено значене tbd - to be determined и приведено к Nan. \n",
    "\n",
    "Активное развитие гейм индустрии началось с 2000х годов и достигло пиков в промежутке между 2007-2010 годами. В связи с развитием новых мобильных девайсов происходит падение количества релизов. А также разработчикам требуется гораздо больше времени для новых игр.\n",
    "\n",
    "Самой популярной платформой за весь промежуток времени, указанный в данных, является PS2. В среднем время жизни игровой приставки варьируется от 7 до 11 лет. На количество продаваемых копий влияют больше всего оценки критиков. Самые популярные игры жанров Action, Misc, Sports.\n",
    "\n",
    "Было произведено исследование самых популярных платформ, жанров и рейтинга ESRB по Северной Америке, Европе и Японии. Начиная с 2014 года, координалных отличий между Америкой и Европой нет, самые прибыльные платформы там это PS4 и Xbox One, жанры Action и Shooter, а рейтинг ESRB - M. В Японии же любят Nintendo, играют в ролевые, о возрастном рейтинг сложно сделать вывод, но есть вероятность, что он такой же как и в других регионах.\n",
    "\n",
    "Были проверены гипотезы и сделаны следующие выводы:\n",
    "- Средние пользовательские рейтинги платформ Xbox One и PС одинаковые\n",
    "- Средние пользовательские рейтинги жанров Action и Sports разные\n",
    "\n",
    "На основе данного анализа можно вынести следующий вывод - чтобы игра была коммерчески успешна, нужно разрабатывать ее для Xbox One и PS4 для Северной Америки и Европы, жанр Action будет востребован в любом регионе(если ориентироваться на японский рынок, то лучше подойдет РПГ), с рейтингом ESRB M, при этом стоит обратить внимание на оценки критиков похожих игр. Но в целом рынок игровой индустрии выглядит блекло, а вложений нужно много, так что это дело будет рискованным.\n",
    "    \n",
    "Стоит обратить внимание на выход новых платформ от Sony и Nintendo, так как данные платформы имеют хорошую прибыль на дистанции.    \n",
    "    \n",
    "<div>    "
   ]
  }
 ],
 "metadata": {
  "ExecuteTimeLog": [
   {
    "duration": 1351,
    "start_time": "2021-10-13T08:41:11.190Z"
   },
   {
    "duration": 70,
    "start_time": "2021-10-13T08:51:05.045Z"
   },
   {
    "duration": 1392,
    "start_time": "2021-10-13T08:52:23.388Z"
   },
   {
    "duration": 21,
    "start_time": "2021-10-13T08:52:32.318Z"
   },
   {
    "duration": 4,
    "start_time": "2021-10-13T08:52:55.200Z"
   },
   {
    "duration": 14,
    "start_time": "2021-10-13T10:03:17.233Z"
   },
   {
    "duration": 264,
    "start_time": "2021-10-13T13:37:21.274Z"
   },
   {
    "duration": 1030,
    "start_time": "2021-10-13T13:37:26.497Z"
   },
   {
    "duration": 48,
    "start_time": "2021-10-13T13:37:27.529Z"
   },
   {
    "duration": 10,
    "start_time": "2021-10-13T13:37:27.579Z"
   },
   {
    "duration": 296,
    "start_time": "2021-10-13T13:37:27.590Z"
   },
   {
    "duration": -99,
    "start_time": "2021-10-13T13:37:27.987Z"
   },
   {
    "duration": 8,
    "start_time": "2021-10-13T13:38:23.233Z"
   },
   {
    "duration": 31,
    "start_time": "2021-10-13T13:38:41.444Z"
   },
   {
    "duration": 17,
    "start_time": "2021-10-13T13:44:31.871Z"
   },
   {
    "duration": 3,
    "start_time": "2021-10-13T13:46:19.480Z"
   },
   {
    "duration": 2,
    "start_time": "2021-10-13T13:51:44.689Z"
   },
   {
    "duration": 47,
    "start_time": "2021-10-13T13:51:44.695Z"
   },
   {
    "duration": 11,
    "start_time": "2021-10-13T13:51:44.745Z"
   },
   {
    "duration": 10,
    "start_time": "2021-10-13T13:51:44.758Z"
   },
   {
    "duration": 28,
    "start_time": "2021-10-13T13:51:44.770Z"
   },
   {
    "duration": 45,
    "start_time": "2021-10-13T13:51:44.800Z"
   },
   {
    "duration": 3,
    "start_time": "2021-10-13T13:51:44.916Z"
   },
   {
    "duration": 1097,
    "start_time": "2021-10-13T13:51:44.921Z"
   },
   {
    "duration": -381,
    "start_time": "2021-10-13T13:51:46.401Z"
   },
   {
    "duration": 10,
    "start_time": "2021-10-13T13:52:16.225Z"
   },
   {
    "duration": 226,
    "start_time": "2021-10-13T13:52:21.024Z"
   },
   {
    "duration": 225,
    "start_time": "2021-10-13T13:52:50.781Z"
   },
   {
    "duration": 15,
    "start_time": "2021-10-13T13:53:14.194Z"
   },
   {
    "duration": 236,
    "start_time": "2021-10-13T13:53:27.919Z"
   },
   {
    "duration": 5,
    "start_time": "2021-10-13T14:23:05.769Z"
   },
   {
    "duration": 333,
    "start_time": "2021-10-13T14:30:00.558Z"
   },
   {
    "duration": 463,
    "start_time": "2021-10-13T14:30:10.068Z"
   },
   {
    "duration": 10,
    "start_time": "2021-10-13T14:30:21.703Z"
   },
   {
    "duration": 4,
    "start_time": "2021-10-13T14:34:44.058Z"
   },
   {
    "duration": 8,
    "start_time": "2021-10-13T14:36:17.822Z"
   },
   {
    "duration": 2,
    "start_time": "2021-10-13T14:36:49.036Z"
   },
   {
    "duration": 47,
    "start_time": "2021-10-13T14:36:49.042Z"
   },
   {
    "duration": 9,
    "start_time": "2021-10-13T14:36:49.090Z"
   },
   {
    "duration": 9,
    "start_time": "2021-10-13T14:36:49.101Z"
   },
   {
    "duration": 37,
    "start_time": "2021-10-13T14:36:49.112Z"
   },
   {
    "duration": 15,
    "start_time": "2021-10-13T14:36:49.150Z"
   },
   {
    "duration": 3,
    "start_time": "2021-10-13T14:36:49.167Z"
   },
   {
    "duration": 6,
    "start_time": "2021-10-13T14:36:52.775Z"
   },
   {
    "duration": 8,
    "start_time": "2021-10-13T14:37:23.670Z"
   },
   {
    "duration": 5,
    "start_time": "2021-10-13T14:37:25.541Z"
   },
   {
    "duration": 9,
    "start_time": "2021-10-13T14:38:06.843Z"
   },
   {
    "duration": 6,
    "start_time": "2021-10-13T14:39:26.489Z"
   },
   {
    "duration": 12,
    "start_time": "2021-10-13T14:40:16.531Z"
   },
   {
    "duration": 8,
    "start_time": "2021-10-13T14:42:05.958Z"
   },
   {
    "duration": 10,
    "start_time": "2021-10-13T14:47:55.348Z"
   },
   {
    "duration": 14,
    "start_time": "2021-10-13T14:48:09.598Z"
   },
   {
    "duration": 182,
    "start_time": "2021-10-13T14:52:10.059Z"
   },
   {
    "duration": 221,
    "start_time": "2021-10-13T14:52:26.190Z"
   },
   {
    "duration": 214,
    "start_time": "2021-10-13T14:52:38.712Z"
   },
   {
    "duration": 269,
    "start_time": "2021-10-13T14:53:16.205Z"
   },
   {
    "duration": 517,
    "start_time": "2021-10-13T14:54:30.351Z"
   },
   {
    "duration": 271,
    "start_time": "2021-10-13T14:55:39.657Z"
   },
   {
    "duration": 279,
    "start_time": "2021-10-13T14:56:38.543Z"
   },
   {
    "duration": 282,
    "start_time": "2021-10-13T15:11:24.303Z"
   },
   {
    "duration": 232,
    "start_time": "2021-10-13T15:22:00.134Z"
   },
   {
    "duration": 5,
    "start_time": "2021-10-13T15:22:13.847Z"
   },
   {
    "duration": 7,
    "start_time": "2021-10-13T15:22:29.885Z"
   },
   {
    "duration": 225,
    "start_time": "2021-10-13T15:23:11.244Z"
   },
   {
    "duration": 8,
    "start_time": "2021-10-13T15:23:22.024Z"
   },
   {
    "duration": 261,
    "start_time": "2021-10-13T15:23:52.496Z"
   },
   {
    "duration": 380,
    "start_time": "2021-10-13T15:24:16.617Z"
   },
   {
    "duration": 315,
    "start_time": "2021-10-13T15:25:39.764Z"
   },
   {
    "duration": 212,
    "start_time": "2021-10-13T15:25:56.865Z"
   },
   {
    "duration": 230,
    "start_time": "2021-10-13T15:26:21.445Z"
   },
   {
    "duration": 203,
    "start_time": "2021-10-13T15:26:35.582Z"
   },
   {
    "duration": 3,
    "start_time": "2021-10-13T15:34:45.173Z"
   },
   {
    "duration": 519,
    "start_time": "2021-10-13T15:35:03.599Z"
   },
   {
    "duration": 204,
    "start_time": "2021-10-13T15:35:53.648Z"
   },
   {
    "duration": 264,
    "start_time": "2021-10-13T15:36:04.658Z"
   },
   {
    "duration": 269,
    "start_time": "2021-10-13T15:36:22.656Z"
   },
   {
    "duration": 226,
    "start_time": "2021-10-13T15:41:11.823Z"
   },
   {
    "duration": 4,
    "start_time": "2021-10-13T15:42:39.116Z"
   },
   {
    "duration": 4,
    "start_time": "2021-10-13T15:42:56.131Z"
   },
   {
    "duration": 2,
    "start_time": "2021-10-13T15:43:21.799Z"
   },
   {
    "duration": 243,
    "start_time": "2021-10-13T15:43:49.457Z"
   },
   {
    "duration": 73,
    "start_time": "2021-10-13T15:44:24.800Z"
   },
   {
    "duration": 221,
    "start_time": "2021-10-13T15:44:49.640Z"
   },
   {
    "duration": 3,
    "start_time": "2021-10-13T15:45:03.815Z"
   },
   {
    "duration": 615,
    "start_time": "2021-10-13T15:45:06.099Z"
   },
   {
    "duration": 4,
    "start_time": "2021-10-13T15:45:26.493Z"
   },
   {
    "duration": 233,
    "start_time": "2021-10-13T15:46:07.065Z"
   },
   {
    "duration": 21,
    "start_time": "2021-10-13T15:48:38.960Z"
   },
   {
    "duration": 1088,
    "start_time": "2021-10-13T17:10:32.438Z"
   },
   {
    "duration": 49,
    "start_time": "2021-10-13T17:10:33.528Z"
   },
   {
    "duration": 10,
    "start_time": "2021-10-13T17:10:33.579Z"
   },
   {
    "duration": 15,
    "start_time": "2021-10-13T17:10:33.591Z"
   },
   {
    "duration": 37,
    "start_time": "2021-10-13T17:10:33.608Z"
   },
   {
    "duration": 15,
    "start_time": "2021-10-13T17:10:33.647Z"
   },
   {
    "duration": 3,
    "start_time": "2021-10-13T17:10:33.663Z"
   },
   {
    "duration": 28,
    "start_time": "2021-10-13T17:10:33.667Z"
   },
   {
    "duration": 19,
    "start_time": "2021-10-13T17:10:33.697Z"
   },
   {
    "duration": 30,
    "start_time": "2021-10-13T17:10:33.718Z"
   },
   {
    "duration": 25,
    "start_time": "2021-10-13T17:10:33.750Z"
   },
   {
    "duration": 293,
    "start_time": "2021-10-13T17:10:33.777Z"
   },
   {
    "duration": 298,
    "start_time": "2021-10-13T17:10:34.071Z"
   },
   {
    "duration": 215,
    "start_time": "2021-10-13T17:10:34.156Z"
   },
   {
    "duration": 205,
    "start_time": "2021-10-13T17:10:52.256Z"
   },
   {
    "duration": 8,
    "start_time": "2021-10-13T17:33:17.884Z"
   },
   {
    "duration": 497,
    "start_time": "2021-10-13T17:36:04.224Z"
   },
   {
    "duration": 240,
    "start_time": "2021-10-13T17:37:02.715Z"
   },
   {
    "duration": 440,
    "start_time": "2021-10-13T17:37:17.222Z"
   },
   {
    "duration": 4,
    "start_time": "2021-10-13T17:41:36.594Z"
   },
   {
    "duration": 4,
    "start_time": "2021-10-13T17:41:50.506Z"
   },
   {
    "duration": 5,
    "start_time": "2021-10-13T17:42:18.642Z"
   },
   {
    "duration": 7,
    "start_time": "2021-10-13T17:42:41.627Z"
   },
   {
    "duration": 332,
    "start_time": "2021-10-13T17:54:26.661Z"
   },
   {
    "duration": 3,
    "start_time": "2021-10-13T17:54:33.745Z"
   },
   {
    "duration": 229,
    "start_time": "2021-10-13T17:54:34.614Z"
   },
   {
    "duration": 465,
    "start_time": "2021-10-13T17:54:44.205Z"
   },
   {
    "duration": 2210,
    "start_time": "2021-10-13T17:54:53.367Z"
   },
   {
    "duration": 2252,
    "start_time": "2021-10-13T17:56:23.083Z"
   },
   {
    "duration": 8,
    "start_time": "2021-10-13T17:58:43.865Z"
   },
   {
    "duration": 2069,
    "start_time": "2021-10-13T18:02:12.361Z"
   },
   {
    "duration": 2116,
    "start_time": "2021-10-13T18:02:54.181Z"
   },
   {
    "duration": 2096,
    "start_time": "2021-10-13T18:03:13.127Z"
   },
   {
    "duration": 1495,
    "start_time": "2021-10-13T18:03:23.854Z"
   },
   {
    "duration": 1527,
    "start_time": "2021-10-13T18:03:39.700Z"
   },
   {
    "duration": 254,
    "start_time": "2021-10-13T18:04:52.792Z"
   },
   {
    "duration": 234,
    "start_time": "2021-10-13T18:06:10.660Z"
   },
   {
    "duration": 343,
    "start_time": "2021-10-13T18:06:16.095Z"
   },
   {
    "duration": 1723,
    "start_time": "2021-10-13T18:06:33.516Z"
   },
   {
    "duration": 266,
    "start_time": "2021-10-13T18:43:33.258Z"
   },
   {
    "duration": 1101,
    "start_time": "2021-10-14T08:08:38.017Z"
   },
   {
    "duration": 48,
    "start_time": "2021-10-14T08:08:39.120Z"
   },
   {
    "duration": 9,
    "start_time": "2021-10-14T08:08:39.170Z"
   },
   {
    "duration": 12,
    "start_time": "2021-10-14T08:08:39.181Z"
   },
   {
    "duration": 29,
    "start_time": "2021-10-14T08:08:39.194Z"
   },
   {
    "duration": 15,
    "start_time": "2021-10-14T08:08:39.225Z"
   },
   {
    "duration": 3,
    "start_time": "2021-10-14T08:08:39.242Z"
   },
   {
    "duration": 34,
    "start_time": "2021-10-14T08:08:39.246Z"
   },
   {
    "duration": 5,
    "start_time": "2021-10-14T08:08:39.282Z"
   },
   {
    "duration": 9,
    "start_time": "2021-10-14T08:08:39.289Z"
   },
   {
    "duration": 5,
    "start_time": "2021-10-14T08:08:39.300Z"
   },
   {
    "duration": 294,
    "start_time": "2021-10-14T08:08:39.307Z"
   },
   {
    "duration": 210,
    "start_time": "2021-10-14T08:08:39.603Z"
   },
   {
    "duration": 2,
    "start_time": "2021-10-14T08:08:39.815Z"
   },
   {
    "duration": 1610,
    "start_time": "2021-10-14T08:08:39.819Z"
   },
   {
    "duration": 11,
    "start_time": "2021-10-14T08:08:41.431Z"
   },
   {
    "duration": 1719,
    "start_time": "2021-10-14T08:12:22.382Z"
   },
   {
    "duration": 1377,
    "start_time": "2021-10-14T08:12:39.857Z"
   },
   {
    "duration": 2702,
    "start_time": "2021-10-14T08:27:25.035Z"
   },
   {
    "duration": 1405,
    "start_time": "2021-10-14T08:30:13.185Z"
   },
   {
    "duration": 2989,
    "start_time": "2021-10-14T08:30:33.866Z"
   },
   {
    "duration": 1617,
    "start_time": "2021-10-14T08:40:11.402Z"
   },
   {
    "duration": 389,
    "start_time": "2021-10-14T08:41:22.810Z"
   },
   {
    "duration": 6,
    "start_time": "2021-10-14T08:41:46.409Z"
   },
   {
    "duration": 1633,
    "start_time": "2021-10-14T08:42:56.097Z"
   },
   {
    "duration": 3,
    "start_time": "2021-10-14T08:43:12.075Z"
   },
   {
    "duration": 1785,
    "start_time": "2021-10-14T08:43:21.363Z"
   },
   {
    "duration": 218,
    "start_time": "2021-10-14T09:49:53.084Z"
   },
   {
    "duration": 10,
    "start_time": "2021-10-14T09:50:12.758Z"
   },
   {
    "duration": 2,
    "start_time": "2021-10-14T09:50:18.251Z"
   },
   {
    "duration": 206,
    "start_time": "2021-10-14T09:50:56.836Z"
   },
   {
    "duration": 10,
    "start_time": "2021-10-14T09:53:27.721Z"
   },
   {
    "duration": 10,
    "start_time": "2021-10-14T09:53:38.827Z"
   },
   {
    "duration": 9,
    "start_time": "2021-10-14T09:53:46.956Z"
   },
   {
    "duration": 9,
    "start_time": "2021-10-14T09:53:58.554Z"
   },
   {
    "duration": 10,
    "start_time": "2021-10-14T09:54:07.212Z"
   },
   {
    "duration": 153,
    "start_time": "2021-10-14T10:00:00.126Z"
   },
   {
    "duration": 6,
    "start_time": "2021-10-14T10:00:25.534Z"
   },
   {
    "duration": 3,
    "start_time": "2021-10-14T10:00:30.676Z"
   },
   {
    "duration": 50,
    "start_time": "2021-10-14T10:00:30.689Z"
   },
   {
    "duration": 10,
    "start_time": "2021-10-14T10:00:30.741Z"
   },
   {
    "duration": 10,
    "start_time": "2021-10-14T10:00:30.753Z"
   },
   {
    "duration": 34,
    "start_time": "2021-10-14T10:00:30.765Z"
   },
   {
    "duration": 15,
    "start_time": "2021-10-14T10:00:30.800Z"
   },
   {
    "duration": 3,
    "start_time": "2021-10-14T10:00:30.817Z"
   },
   {
    "duration": 13,
    "start_time": "2021-10-14T10:00:30.821Z"
   },
   {
    "duration": 9,
    "start_time": "2021-10-14T10:00:30.836Z"
   },
   {
    "duration": 34,
    "start_time": "2021-10-14T10:00:30.847Z"
   },
   {
    "duration": 7,
    "start_time": "2021-10-14T10:00:30.882Z"
   },
   {
    "duration": 286,
    "start_time": "2021-10-14T10:00:30.890Z"
   },
   {
    "duration": 220,
    "start_time": "2021-10-14T10:00:31.178Z"
   },
   {
    "duration": 7,
    "start_time": "2021-10-14T10:00:31.400Z"
   },
   {
    "duration": 4,
    "start_time": "2021-10-14T10:00:31.409Z"
   },
   {
    "duration": 11,
    "start_time": "2021-10-14T10:00:31.415Z"
   },
   {
    "duration": 6,
    "start_time": "2021-10-14T10:00:40.181Z"
   },
   {
    "duration": 156,
    "start_time": "2021-10-14T10:00:41.340Z"
   },
   {
    "duration": 4,
    "start_time": "2021-10-14T10:01:01.126Z"
   },
   {
    "duration": 66,
    "start_time": "2021-10-14T10:01:01.137Z"
   },
   {
    "duration": 12,
    "start_time": "2021-10-14T10:01:01.205Z"
   },
   {
    "duration": 10,
    "start_time": "2021-10-14T10:01:01.220Z"
   },
   {
    "duration": 53,
    "start_time": "2021-10-14T10:01:01.232Z"
   },
   {
    "duration": 17,
    "start_time": "2021-10-14T10:01:01.287Z"
   },
   {
    "duration": 3,
    "start_time": "2021-10-14T10:01:01.306Z"
   },
   {
    "duration": 14,
    "start_time": "2021-10-14T10:01:01.311Z"
   },
   {
    "duration": 5,
    "start_time": "2021-10-14T10:01:01.328Z"
   },
   {
    "duration": 43,
    "start_time": "2021-10-14T10:01:01.336Z"
   },
   {
    "duration": 47,
    "start_time": "2021-10-14T10:01:01.381Z"
   },
   {
    "duration": 310,
    "start_time": "2021-10-14T10:01:01.430Z"
   },
   {
    "duration": 223,
    "start_time": "2021-10-14T10:01:01.742Z"
   },
   {
    "duration": 15,
    "start_time": "2021-10-14T10:01:01.967Z"
   },
   {
    "duration": 13,
    "start_time": "2021-10-14T10:01:01.983Z"
   },
   {
    "duration": 6,
    "start_time": "2021-10-14T10:01:07.032Z"
   },
   {
    "duration": 147,
    "start_time": "2021-10-14T10:01:09.312Z"
   },
   {
    "duration": 157,
    "start_time": "2021-10-14T10:01:36.545Z"
   },
   {
    "duration": 156,
    "start_time": "2021-10-14T10:01:49.769Z"
   },
   {
    "duration": 186,
    "start_time": "2021-10-14T12:52:09.062Z"
   },
   {
    "duration": 188,
    "start_time": "2021-10-14T12:52:47.756Z"
   },
   {
    "duration": 100,
    "start_time": "2021-10-14T12:53:02.286Z"
   },
   {
    "duration": 387,
    "start_time": "2021-10-14T12:53:23.250Z"
   },
   {
    "duration": 470,
    "start_time": "2021-10-14T12:53:42.281Z"
   },
   {
    "duration": 177,
    "start_time": "2021-10-14T12:55:07.476Z"
   },
   {
    "duration": 10,
    "start_time": "2021-10-14T12:58:13.676Z"
   },
   {
    "duration": 330,
    "start_time": "2021-10-14T12:59:21.164Z"
   },
   {
    "duration": 8,
    "start_time": "2021-10-14T12:59:35.805Z"
   },
   {
    "duration": 12,
    "start_time": "2021-10-14T12:59:45.193Z"
   },
   {
    "duration": 347,
    "start_time": "2021-10-14T13:01:59.223Z"
   },
   {
    "duration": 567,
    "start_time": "2021-10-14T13:02:44.117Z"
   },
   {
    "duration": 11,
    "start_time": "2021-10-14T13:02:52.412Z"
   },
   {
    "duration": 12,
    "start_time": "2021-10-14T13:06:34.227Z"
   },
   {
    "duration": 13,
    "start_time": "2021-10-14T13:07:15.673Z"
   },
   {
    "duration": 14,
    "start_time": "2021-10-14T13:07:37.969Z"
   },
   {
    "duration": 352,
    "start_time": "2021-10-14T13:07:45.957Z"
   },
   {
    "duration": 10,
    "start_time": "2021-10-14T13:07:53.720Z"
   },
   {
    "duration": 13,
    "start_time": "2021-10-14T13:09:30.018Z"
   },
   {
    "duration": 13,
    "start_time": "2021-10-14T13:10:10.825Z"
   },
   {
    "duration": 12,
    "start_time": "2021-10-14T13:10:56.114Z"
   },
   {
    "duration": 13,
    "start_time": "2021-10-14T13:11:08.785Z"
   },
   {
    "duration": 14,
    "start_time": "2021-10-14T13:11:21.663Z"
   },
   {
    "duration": 1140,
    "start_time": "2021-10-15T12:55:58.017Z"
   },
   {
    "duration": 54,
    "start_time": "2021-10-15T12:55:59.159Z"
   },
   {
    "duration": 11,
    "start_time": "2021-10-15T12:55:59.216Z"
   },
   {
    "duration": 16,
    "start_time": "2021-10-15T12:55:59.229Z"
   },
   {
    "duration": 40,
    "start_time": "2021-10-15T12:55:59.247Z"
   },
   {
    "duration": 17,
    "start_time": "2021-10-15T12:55:59.289Z"
   },
   {
    "duration": 3,
    "start_time": "2021-10-15T12:55:59.308Z"
   },
   {
    "duration": 21,
    "start_time": "2021-10-15T12:55:59.313Z"
   },
   {
    "duration": 8,
    "start_time": "2021-10-15T12:55:59.336Z"
   },
   {
    "duration": 18,
    "start_time": "2021-10-15T12:55:59.346Z"
   },
   {
    "duration": 16,
    "start_time": "2021-10-15T12:55:59.365Z"
   },
   {
    "duration": 324,
    "start_time": "2021-10-15T12:55:59.383Z"
   },
   {
    "duration": 230,
    "start_time": "2021-10-15T12:55:59.709Z"
   },
   {
    "duration": 10,
    "start_time": "2021-10-15T13:01:54.402Z"
   },
   {
    "duration": 1012,
    "start_time": "2021-10-15T13:03:45.654Z"
   },
   {
    "duration": 234,
    "start_time": "2021-10-15T13:04:06.093Z"
   },
   {
    "duration": 389,
    "start_time": "2021-10-15T13:07:51.226Z"
   },
   {
    "duration": 601,
    "start_time": "2021-10-15T13:09:11.297Z"
   },
   {
    "duration": 571,
    "start_time": "2021-10-15T13:09:29.868Z"
   },
   {
    "duration": 1074,
    "start_time": "2021-10-15T13:10:27.045Z"
   },
   {
    "duration": 9490,
    "start_time": "2021-10-15T13:14:07.093Z"
   },
   {
    "duration": 1118,
    "start_time": "2021-10-15T13:18:36.413Z"
   },
   {
    "duration": 51,
    "start_time": "2021-10-15T13:18:37.533Z"
   },
   {
    "duration": 11,
    "start_time": "2021-10-15T13:18:37.586Z"
   },
   {
    "duration": 9,
    "start_time": "2021-10-15T13:18:37.599Z"
   },
   {
    "duration": 30,
    "start_time": "2021-10-15T13:18:37.609Z"
   },
   {
    "duration": 38,
    "start_time": "2021-10-15T13:18:37.640Z"
   },
   {
    "duration": 3,
    "start_time": "2021-10-15T13:18:37.680Z"
   },
   {
    "duration": 12,
    "start_time": "2021-10-15T13:18:37.684Z"
   },
   {
    "duration": 5,
    "start_time": "2021-10-15T13:18:37.698Z"
   },
   {
    "duration": 11,
    "start_time": "2021-10-15T13:18:37.705Z"
   },
   {
    "duration": 6,
    "start_time": "2021-10-15T13:18:37.718Z"
   },
   {
    "duration": 323,
    "start_time": "2021-10-15T13:18:37.726Z"
   },
   {
    "duration": 223,
    "start_time": "2021-10-15T13:18:38.051Z"
   },
   {
    "duration": 8,
    "start_time": "2021-10-15T13:19:09.275Z"
   },
   {
    "duration": 383,
    "start_time": "2021-10-15T13:19:13.609Z"
   },
   {
    "duration": 1945,
    "start_time": "2021-10-15T13:19:30.836Z"
   },
   {
    "duration": 1825,
    "start_time": "2021-10-15T13:20:58.618Z"
   },
   {
    "duration": 1867,
    "start_time": "2021-10-15T13:21:24.653Z"
   },
   {
    "duration": 1313,
    "start_time": "2021-10-15T13:23:47.679Z"
   },
   {
    "duration": 1943,
    "start_time": "2021-10-15T13:24:53.241Z"
   },
   {
    "duration": 97,
    "start_time": "2021-10-15T13:25:43.890Z"
   },
   {
    "duration": 82,
    "start_time": "2021-10-15T13:25:56.157Z"
   },
   {
    "duration": 88,
    "start_time": "2021-10-15T13:26:01.838Z"
   },
   {
    "duration": 282,
    "start_time": "2021-10-15T13:26:46.717Z"
   },
   {
    "duration": 1619,
    "start_time": "2021-10-15T13:26:57.332Z"
   },
   {
    "duration": 815,
    "start_time": "2021-10-15T13:31:28.395Z"
   },
   {
    "duration": 1270,
    "start_time": "2021-10-15T13:31:51.105Z"
   },
   {
    "duration": 1339,
    "start_time": "2021-10-15T13:32:03.749Z"
   },
   {
    "duration": 1094,
    "start_time": "2021-10-15T13:33:01.444Z"
   },
   {
    "duration": 1118,
    "start_time": "2021-10-15T13:33:27.616Z"
   },
   {
    "duration": 1491,
    "start_time": "2021-10-15T13:33:59.624Z"
   },
   {
    "duration": 1393,
    "start_time": "2021-10-15T13:34:10.397Z"
   },
   {
    "duration": 1367,
    "start_time": "2021-10-15T13:34:26.349Z"
   },
   {
    "duration": 87,
    "start_time": "2021-10-15T13:35:31.001Z"
   },
   {
    "duration": 1851,
    "start_time": "2021-10-15T13:37:03.163Z"
   },
   {
    "duration": 1651,
    "start_time": "2021-10-15T13:38:57.171Z"
   },
   {
    "duration": 3782,
    "start_time": "2021-10-15T13:39:40.583Z"
   },
   {
    "duration": 1815,
    "start_time": "2021-10-15T13:47:33.058Z"
   },
   {
    "duration": 1621,
    "start_time": "2021-10-15T13:47:52.515Z"
   },
   {
    "duration": 1623,
    "start_time": "2021-10-15T13:48:09.581Z"
   },
   {
    "duration": 1859,
    "start_time": "2021-10-15T13:48:24.484Z"
   },
   {
    "duration": 1773,
    "start_time": "2021-10-15T13:48:47.027Z"
   },
   {
    "duration": 1652,
    "start_time": "2021-10-15T13:49:09.539Z"
   },
   {
    "duration": 1847,
    "start_time": "2021-10-15T13:51:08.775Z"
   },
   {
    "duration": 14078,
    "start_time": "2021-10-15T13:53:31.321Z"
   },
   {
    "duration": 81,
    "start_time": "2021-10-15T13:55:03.345Z"
   },
   {
    "duration": 13967,
    "start_time": "2021-10-15T13:55:32.485Z"
   },
   {
    "duration": 13881,
    "start_time": "2021-10-15T13:55:57.349Z"
   },
   {
    "duration": 13531,
    "start_time": "2021-10-15T13:57:00.633Z"
   },
   {
    "duration": 89,
    "start_time": "2021-10-15T13:57:46.284Z"
   },
   {
    "duration": 14038,
    "start_time": "2021-10-15T13:58:11.839Z"
   },
   {
    "duration": 83,
    "start_time": "2021-10-15T13:59:27.830Z"
   },
   {
    "duration": 2765,
    "start_time": "2021-10-15T14:00:05.282Z"
   },
   {
    "duration": 101,
    "start_time": "2021-10-15T14:01:07.756Z"
   },
   {
    "duration": 1722,
    "start_time": "2021-10-15T14:01:24.741Z"
   },
   {
    "duration": 2780,
    "start_time": "2021-10-15T14:01:40.959Z"
   },
   {
    "duration": 3879,
    "start_time": "2021-10-15T14:02:23.442Z"
   },
   {
    "duration": 2437,
    "start_time": "2021-10-15T14:02:55.218Z"
   },
   {
    "duration": 1817,
    "start_time": "2021-10-15T14:05:38.375Z"
   },
   {
    "duration": 2445,
    "start_time": "2021-10-15T14:06:09.739Z"
   },
   {
    "duration": 13860,
    "start_time": "2021-10-15T14:07:37.614Z"
   },
   {
    "duration": 13440,
    "start_time": "2021-10-15T14:08:44.726Z"
   },
   {
    "duration": 2789,
    "start_time": "2021-10-15T14:09:15.476Z"
   },
   {
    "duration": 1607,
    "start_time": "2021-10-15T14:09:48.145Z"
   },
   {
    "duration": 1662,
    "start_time": "2021-10-15T14:11:27.577Z"
   },
   {
    "duration": 2702,
    "start_time": "2021-10-15T14:11:39.186Z"
   },
   {
    "duration": 1715,
    "start_time": "2021-10-15T14:12:48.741Z"
   },
   {
    "duration": 2611,
    "start_time": "2021-10-15T14:13:05.576Z"
   },
   {
    "duration": 688,
    "start_time": "2021-10-15T14:18:44.826Z"
   },
   {
    "duration": 637,
    "start_time": "2021-10-15T14:19:28.828Z"
   },
   {
    "duration": 86,
    "start_time": "2021-10-15T14:20:25.377Z"
   },
   {
    "duration": 1683,
    "start_time": "2021-10-15T14:20:50.870Z"
   },
   {
    "duration": 2608,
    "start_time": "2021-10-15T14:21:41.370Z"
   },
   {
    "duration": 1613,
    "start_time": "2021-10-15T14:24:56.918Z"
   },
   {
    "duration": 2569,
    "start_time": "2021-10-15T14:25:10.146Z"
   },
   {
    "duration": 2450,
    "start_time": "2021-10-15T14:50:52.193Z"
   },
   {
    "duration": 1772,
    "start_time": "2021-10-15T14:53:34.521Z"
   },
   {
    "duration": 1507,
    "start_time": "2021-10-15T14:54:17.976Z"
   },
   {
    "duration": 1655,
    "start_time": "2021-10-15T14:55:45.858Z"
   },
   {
    "duration": 1847,
    "start_time": "2021-10-15T15:00:04.282Z"
   },
   {
    "duration": 1677,
    "start_time": "2021-10-15T15:00:16.511Z"
   },
   {
    "duration": 1536,
    "start_time": "2021-10-15T15:01:50.801Z"
   },
   {
    "duration": 1826,
    "start_time": "2021-10-15T15:02:29.904Z"
   },
   {
    "duration": 1632,
    "start_time": "2021-10-15T15:03:00.294Z"
   },
   {
    "duration": 2024,
    "start_time": "2021-10-15T15:04:31.151Z"
   },
   {
    "duration": 1830,
    "start_time": "2021-10-15T15:04:57.956Z"
   },
   {
    "duration": 2049,
    "start_time": "2021-10-15T15:05:41.430Z"
   },
   {
    "duration": 2281,
    "start_time": "2021-10-15T15:06:14.774Z"
   },
   {
    "duration": 2093,
    "start_time": "2021-10-15T15:06:35.087Z"
   },
   {
    "duration": 130,
    "start_time": "2021-10-15T15:07:41.171Z"
   },
   {
    "duration": 1937,
    "start_time": "2021-10-15T15:07:45.370Z"
   },
   {
    "duration": 3,
    "start_time": "2021-10-15T15:08:32.878Z"
   },
   {
    "duration": 2042,
    "start_time": "2021-10-15T15:09:34.307Z"
   },
   {
    "duration": 1977,
    "start_time": "2021-10-15T15:09:47.931Z"
   },
   {
    "duration": 82,
    "start_time": "2021-10-15T15:11:49.911Z"
   },
   {
    "duration": 2192,
    "start_time": "2021-10-15T15:12:03.866Z"
   },
   {
    "duration": 280,
    "start_time": "2021-10-15T15:12:25.665Z"
   },
   {
    "duration": 1950,
    "start_time": "2021-10-15T15:12:37.329Z"
   },
   {
    "duration": 1496,
    "start_time": "2021-10-16T06:30:37.980Z"
   },
   {
    "duration": 65,
    "start_time": "2021-10-16T06:30:39.479Z"
   },
   {
    "duration": 18,
    "start_time": "2021-10-16T06:30:39.547Z"
   },
   {
    "duration": 11,
    "start_time": "2021-10-16T06:30:39.568Z"
   },
   {
    "duration": 42,
    "start_time": "2021-10-16T06:30:39.582Z"
   },
   {
    "duration": 56,
    "start_time": "2021-10-16T06:30:39.627Z"
   },
   {
    "duration": 4,
    "start_time": "2021-10-16T06:30:39.685Z"
   },
   {
    "duration": 14,
    "start_time": "2021-10-16T06:30:39.691Z"
   },
   {
    "duration": 6,
    "start_time": "2021-10-16T06:30:39.709Z"
   },
   {
    "duration": 48,
    "start_time": "2021-10-16T06:30:39.718Z"
   },
   {
    "duration": 10,
    "start_time": "2021-10-16T06:30:39.769Z"
   },
   {
    "duration": 507,
    "start_time": "2021-10-16T06:30:39.781Z"
   },
   {
    "duration": 387,
    "start_time": "2021-10-16T06:30:40.292Z"
   },
   {
    "duration": 11,
    "start_time": "2021-10-16T06:30:40.682Z"
   },
   {
    "duration": 3520,
    "start_time": "2021-10-16T06:30:40.696Z"
   },
   {
    "duration": 10,
    "start_time": "2021-10-16T06:30:44.219Z"
   },
   {
    "duration": 9,
    "start_time": "2021-10-16T06:30:47.377Z"
   },
   {
    "duration": 601,
    "start_time": "2021-10-16T06:30:50.677Z"
   },
   {
    "duration": 519,
    "start_time": "2021-10-16T06:30:59.473Z"
   },
   {
    "duration": 666,
    "start_time": "2021-10-16T06:31:26.782Z"
   },
   {
    "duration": 24,
    "start_time": "2021-10-16T06:32:05.664Z"
   },
   {
    "duration": 385,
    "start_time": "2021-10-16T06:32:28.488Z"
   },
   {
    "duration": 21,
    "start_time": "2021-10-16T06:32:53.499Z"
   },
   {
    "duration": 550,
    "start_time": "2021-10-16T06:33:16.453Z"
   },
   {
    "duration": 574,
    "start_time": "2021-10-16T06:33:42.647Z"
   },
   {
    "duration": 269,
    "start_time": "2021-10-16T06:33:54.231Z"
   },
   {
    "duration": 284,
    "start_time": "2021-10-16T06:36:11.753Z"
   },
   {
    "duration": 284,
    "start_time": "2021-10-16T06:37:06.182Z"
   },
   {
    "duration": 11,
    "start_time": "2021-10-16T06:45:37.021Z"
   },
   {
    "duration": 262,
    "start_time": "2021-10-16T06:45:37.689Z"
   },
   {
    "duration": 1366,
    "start_time": "2021-10-16T06:58:08.698Z"
   },
   {
    "duration": 931,
    "start_time": "2021-10-16T06:58:38.565Z"
   },
   {
    "duration": 929,
    "start_time": "2021-10-16T06:59:02.013Z"
   },
   {
    "duration": 1001,
    "start_time": "2021-10-16T07:04:57.185Z"
   },
   {
    "duration": 964,
    "start_time": "2021-10-16T07:06:16.428Z"
   },
   {
    "duration": 900,
    "start_time": "2021-10-16T07:07:32.098Z"
   },
   {
    "duration": 334,
    "start_time": "2021-10-16T07:10:53.302Z"
   },
   {
    "duration": 4148,
    "start_time": "2021-10-16T07:11:04.570Z"
   },
   {
    "duration": 4146,
    "start_time": "2021-10-16T07:16:03.317Z"
   },
   {
    "duration": 660,
    "start_time": "2021-10-16T07:17:09.133Z"
   },
   {
    "duration": 309,
    "start_time": "2021-10-16T07:18:24.049Z"
   },
   {
    "duration": 311,
    "start_time": "2021-10-16T07:18:32.411Z"
   },
   {
    "duration": 20,
    "start_time": "2021-10-16T07:18:45.040Z"
   },
   {
    "duration": 334,
    "start_time": "2021-10-16T07:19:13.137Z"
   },
   {
    "duration": 20,
    "start_time": "2021-10-16T07:19:21.804Z"
   },
   {
    "duration": 876,
    "start_time": "2021-10-16T07:20:19.305Z"
   },
   {
    "duration": 1018,
    "start_time": "2021-10-16T07:20:32.507Z"
   },
   {
    "duration": 305,
    "start_time": "2021-10-16T07:22:48.200Z"
   },
   {
    "duration": 311,
    "start_time": "2021-10-16T07:23:21.166Z"
   },
   {
    "duration": 20,
    "start_time": "2021-10-16T07:23:29.497Z"
   },
   {
    "duration": 251,
    "start_time": "2021-10-16T07:31:34.234Z"
   },
   {
    "duration": 304,
    "start_time": "2021-10-16T07:31:39.318Z"
   },
   {
    "duration": 410,
    "start_time": "2021-10-16T07:31:49.724Z"
   },
   {
    "duration": 272,
    "start_time": "2021-10-16T07:31:58.105Z"
   },
   {
    "duration": 329,
    "start_time": "2021-10-16T07:32:04.862Z"
   },
   {
    "duration": 323,
    "start_time": "2021-10-16T07:32:25.627Z"
   },
   {
    "duration": 286,
    "start_time": "2021-10-16T07:32:38.749Z"
   },
   {
    "duration": 21,
    "start_time": "2021-10-16T07:32:47.739Z"
   },
   {
    "duration": 4,
    "start_time": "2021-10-16T07:42:42.379Z"
   },
   {
    "duration": 5,
    "start_time": "2021-10-16T07:43:05.737Z"
   },
   {
    "duration": 656,
    "start_time": "2021-10-16T07:43:44.787Z"
   },
   {
    "duration": 23,
    "start_time": "2021-10-16T07:44:38.203Z"
   },
   {
    "duration": 721,
    "start_time": "2021-10-16T07:44:56.165Z"
   },
   {
    "duration": 5,
    "start_time": "2021-10-16T07:45:29.681Z"
   },
   {
    "duration": 541,
    "start_time": "2021-10-16T07:45:31.135Z"
   },
   {
    "duration": 5,
    "start_time": "2021-10-16T07:45:45.521Z"
   },
   {
    "duration": 629,
    "start_time": "2021-10-16T07:45:46.087Z"
   },
   {
    "duration": 15,
    "start_time": "2021-10-16T07:50:23.974Z"
   },
   {
    "duration": 4,
    "start_time": "2021-10-16T07:50:30.145Z"
   },
   {
    "duration": 14,
    "start_time": "2021-10-16T07:50:30.920Z"
   },
   {
    "duration": 5,
    "start_time": "2021-10-16T07:50:41.527Z"
   },
   {
    "duration": 281,
    "start_time": "2021-10-16T07:50:41.991Z"
   },
   {
    "duration": 5,
    "start_time": "2021-10-16T07:52:25.251Z"
   },
   {
    "duration": 284,
    "start_time": "2021-10-16T07:52:25.786Z"
   },
   {
    "duration": 5,
    "start_time": "2021-10-16T07:52:55.672Z"
   },
   {
    "duration": 295,
    "start_time": "2021-10-16T07:52:57.820Z"
   },
   {
    "duration": 5,
    "start_time": "2021-10-16T07:53:09.725Z"
   },
   {
    "duration": 410,
    "start_time": "2021-10-16T07:53:10.083Z"
   },
   {
    "duration": 5,
    "start_time": "2021-10-16T07:53:22.272Z"
   },
   {
    "duration": 261,
    "start_time": "2021-10-16T07:53:23.644Z"
   },
   {
    "duration": 5,
    "start_time": "2021-10-16T07:53:45.836Z"
   },
   {
    "duration": 328,
    "start_time": "2021-10-16T07:53:46.750Z"
   },
   {
    "duration": 1536,
    "start_time": "2021-10-16T07:54:48.826Z"
   },
   {
    "duration": 1056,
    "start_time": "2021-10-16T07:55:25.298Z"
   },
   {
    "duration": 1956,
    "start_time": "2021-10-16T07:55:38.524Z"
   },
   {
    "duration": 5,
    "start_time": "2021-10-16T07:56:52.951Z"
   },
   {
    "duration": 974,
    "start_time": "2021-10-16T07:56:53.729Z"
   },
   {
    "duration": 922,
    "start_time": "2021-10-16T07:57:07.933Z"
   },
   {
    "duration": 822,
    "start_time": "2021-10-16T07:57:18.152Z"
   },
   {
    "duration": 6,
    "start_time": "2021-10-16T07:58:39.652Z"
   },
   {
    "duration": 1433,
    "start_time": "2021-10-16T07:58:40.186Z"
   },
   {
    "duration": 5,
    "start_time": "2021-10-16T07:58:52.481Z"
   },
   {
    "duration": 1488,
    "start_time": "2021-10-16T07:58:53.100Z"
   },
   {
    "duration": 5,
    "start_time": "2021-10-16T07:59:11.249Z"
   },
   {
    "duration": 821,
    "start_time": "2021-10-16T07:59:11.819Z"
   },
   {
    "duration": 5,
    "start_time": "2021-10-16T07:59:44.022Z"
   },
   {
    "duration": 942,
    "start_time": "2021-10-16T07:59:44.428Z"
   },
   {
    "duration": 830,
    "start_time": "2021-10-16T08:15:03.118Z"
   },
   {
    "duration": 5,
    "start_time": "2021-10-16T08:15:56.909Z"
   },
   {
    "duration": 847,
    "start_time": "2021-10-16T08:15:57.340Z"
   },
   {
    "duration": 5,
    "start_time": "2021-10-16T08:16:21.142Z"
   },
   {
    "duration": 1445,
    "start_time": "2021-10-16T08:16:23.466Z"
   },
   {
    "duration": 6,
    "start_time": "2021-10-16T08:16:40.478Z"
   },
   {
    "duration": 860,
    "start_time": "2021-10-16T08:16:42.204Z"
   },
   {
    "duration": 6,
    "start_time": "2021-10-16T08:17:07.358Z"
   },
   {
    "duration": 844,
    "start_time": "2021-10-16T08:17:07.684Z"
   },
   {
    "duration": 5,
    "start_time": "2021-10-16T08:17:18.400Z"
   },
   {
    "duration": 958,
    "start_time": "2021-10-16T08:17:18.690Z"
   },
   {
    "duration": 898,
    "start_time": "2021-10-16T08:18:03.425Z"
   },
   {
    "duration": 843,
    "start_time": "2021-10-16T08:19:24.035Z"
   },
   {
    "duration": 11,
    "start_time": "2021-10-16T08:30:59.150Z"
   },
   {
    "duration": 943,
    "start_time": "2021-10-16T08:31:15.513Z"
   },
   {
    "duration": 1518,
    "start_time": "2021-10-16T08:32:29.423Z"
   },
   {
    "duration": 68,
    "start_time": "2021-10-16T08:32:30.944Z"
   },
   {
    "duration": 14,
    "start_time": "2021-10-16T08:32:31.015Z"
   },
   {
    "duration": 37,
    "start_time": "2021-10-16T08:32:31.032Z"
   },
   {
    "duration": 55,
    "start_time": "2021-10-16T08:32:31.072Z"
   },
   {
    "duration": 37,
    "start_time": "2021-10-16T08:32:31.130Z"
   },
   {
    "duration": 4,
    "start_time": "2021-10-16T08:32:31.170Z"
   },
   {
    "duration": 22,
    "start_time": "2021-10-16T08:32:31.179Z"
   },
   {
    "duration": 9,
    "start_time": "2021-10-16T08:32:31.206Z"
   },
   {
    "duration": 49,
    "start_time": "2021-10-16T08:32:31.219Z"
   },
   {
    "duration": 8,
    "start_time": "2021-10-16T08:32:31.271Z"
   },
   {
    "duration": 508,
    "start_time": "2021-10-16T08:32:31.281Z"
   },
   {
    "duration": 380,
    "start_time": "2021-10-16T08:32:31.792Z"
   },
   {
    "duration": 10,
    "start_time": "2021-10-16T08:32:32.175Z"
   },
   {
    "duration": 4054,
    "start_time": "2021-10-16T08:32:32.188Z"
   },
   {
    "duration": 23,
    "start_time": "2021-10-16T08:32:36.245Z"
   },
   {
    "duration": 284,
    "start_time": "2021-10-16T08:32:36.271Z"
   },
   {
    "duration": 829,
    "start_time": "2021-10-16T08:32:36.561Z"
   },
   {
    "duration": 3798,
    "start_time": "2021-10-16T08:32:37.392Z"
   },
   {
    "duration": 262,
    "start_time": "2021-10-16T08:32:41.193Z"
   },
   {
    "duration": 18,
    "start_time": "2021-10-16T08:32:41.458Z"
   },
   {
    "duration": 5,
    "start_time": "2021-10-16T08:32:41.479Z"
   },
   {
    "duration": 885,
    "start_time": "2021-10-16T08:32:41.488Z"
   },
   {
    "duration": 891,
    "start_time": "2021-10-16T08:32:42.376Z"
   },
   {
    "duration": 9,
    "start_time": "2021-10-16T08:32:43.270Z"
   },
   {
    "duration": 10,
    "start_time": "2021-10-16T08:32:47.988Z"
   },
   {
    "duration": 834,
    "start_time": "2021-10-16T08:32:48.711Z"
   },
   {
    "duration": 829,
    "start_time": "2021-10-16T08:38:48.776Z"
   },
   {
    "duration": 1224,
    "start_time": "2021-10-16T09:06:48.192Z"
   },
   {
    "duration": 13,
    "start_time": "2021-10-16T09:07:53.874Z"
   },
   {
    "duration": 1270,
    "start_time": "2021-10-16T09:10:15.630Z"
   },
   {
    "duration": 15,
    "start_time": "2021-10-16T09:10:34.182Z"
   },
   {
    "duration": 16,
    "start_time": "2021-10-16T09:50:40.442Z"
   },
   {
    "duration": 7,
    "start_time": "2021-10-16T09:53:55.772Z"
   },
   {
    "duration": 8,
    "start_time": "2021-10-16T09:54:04.265Z"
   },
   {
    "duration": 7,
    "start_time": "2021-10-16T09:54:11.832Z"
   },
   {
    "duration": 7,
    "start_time": "2021-10-16T09:54:39.852Z"
   },
   {
    "duration": 15,
    "start_time": "2021-10-16T09:54:54.393Z"
   },
   {
    "duration": 15,
    "start_time": "2021-10-16T10:34:11.060Z"
   },
   {
    "duration": 14,
    "start_time": "2021-10-16T10:34:30.388Z"
   },
   {
    "duration": 4,
    "start_time": "2021-10-16T10:46:03.473Z"
   },
   {
    "duration": 64,
    "start_time": "2021-10-16T10:46:03.480Z"
   },
   {
    "duration": 25,
    "start_time": "2021-10-16T10:46:03.547Z"
   },
   {
    "duration": 11,
    "start_time": "2021-10-16T10:46:03.575Z"
   },
   {
    "duration": 40,
    "start_time": "2021-10-16T10:46:03.589Z"
   },
   {
    "duration": 51,
    "start_time": "2021-10-16T10:46:03.632Z"
   },
   {
    "duration": 4,
    "start_time": "2021-10-16T10:46:03.685Z"
   },
   {
    "duration": 16,
    "start_time": "2021-10-16T10:46:03.691Z"
   },
   {
    "duration": 7,
    "start_time": "2021-10-16T10:46:03.711Z"
   },
   {
    "duration": 47,
    "start_time": "2021-10-16T10:46:03.721Z"
   },
   {
    "duration": 6,
    "start_time": "2021-10-16T10:46:03.770Z"
   },
   {
    "duration": 491,
    "start_time": "2021-10-16T10:46:03.778Z"
   },
   {
    "duration": 504,
    "start_time": "2021-10-16T10:46:04.271Z"
   },
   {
    "duration": 10,
    "start_time": "2021-10-16T10:46:04.777Z"
   },
   {
    "duration": 3535,
    "start_time": "2021-10-16T10:46:04.790Z"
   },
   {
    "duration": 9,
    "start_time": "2021-10-16T10:46:08.327Z"
   },
   {
    "duration": 276,
    "start_time": "2021-10-16T10:46:08.338Z"
   },
   {
    "duration": 945,
    "start_time": "2021-10-16T10:46:08.616Z"
   },
   {
    "duration": 3865,
    "start_time": "2021-10-16T10:46:09.564Z"
   },
   {
    "duration": 260,
    "start_time": "2021-10-16T10:46:13.431Z"
   },
   {
    "duration": 19,
    "start_time": "2021-10-16T10:46:13.693Z"
   },
   {
    "duration": 4,
    "start_time": "2021-10-16T10:46:13.715Z"
   },
   {
    "duration": 874,
    "start_time": "2021-10-16T10:46:13.722Z"
   },
   {
    "duration": 986,
    "start_time": "2021-10-16T10:46:14.599Z"
   },
   {
    "duration": 10,
    "start_time": "2021-10-16T10:46:15.587Z"
   },
   {
    "duration": 875,
    "start_time": "2021-10-16T10:46:15.600Z"
   },
   {
    "duration": 15,
    "start_time": "2021-10-16T10:46:16.480Z"
   },
   {
    "duration": 15,
    "start_time": "2021-10-16T10:46:16.497Z"
   },
   {
    "duration": 1424,
    "start_time": "2021-10-16T10:47:07.387Z"
   },
   {
    "duration": 65,
    "start_time": "2021-10-16T10:47:08.813Z"
   },
   {
    "duration": 14,
    "start_time": "2021-10-16T10:47:08.881Z"
   },
   {
    "duration": 14,
    "start_time": "2021-10-16T10:47:08.898Z"
   },
   {
    "duration": 68,
    "start_time": "2021-10-16T10:47:08.914Z"
   },
   {
    "duration": 22,
    "start_time": "2021-10-16T10:47:08.984Z"
   },
   {
    "duration": 3,
    "start_time": "2021-10-16T10:47:09.008Z"
   },
   {
    "duration": 12,
    "start_time": "2021-10-16T10:47:09.014Z"
   },
   {
    "duration": 34,
    "start_time": "2021-10-16T10:47:09.030Z"
   },
   {
    "duration": 16,
    "start_time": "2021-10-16T10:47:09.067Z"
   },
   {
    "duration": 6,
    "start_time": "2021-10-16T10:47:09.085Z"
   },
   {
    "duration": 568,
    "start_time": "2021-10-16T10:47:09.094Z"
   },
   {
    "duration": 428,
    "start_time": "2021-10-16T10:47:09.666Z"
   },
   {
    "duration": 10,
    "start_time": "2021-10-16T10:47:10.096Z"
   },
   {
    "duration": 3510,
    "start_time": "2021-10-16T10:47:10.108Z"
   },
   {
    "duration": 10,
    "start_time": "2021-10-16T10:47:13.621Z"
   },
   {
    "duration": 303,
    "start_time": "2021-10-16T10:47:13.634Z"
   },
   {
    "duration": 872,
    "start_time": "2021-10-16T10:47:13.939Z"
   },
   {
    "duration": 3712,
    "start_time": "2021-10-16T10:47:14.814Z"
   },
   {
    "duration": 249,
    "start_time": "2021-10-16T10:47:21.860Z"
   },
   {
    "duration": 20,
    "start_time": "2021-10-16T10:47:26.730Z"
   },
   {
    "duration": 18,
    "start_time": "2021-10-16T10:47:42.468Z"
   },
   {
    "duration": 5,
    "start_time": "2021-10-16T10:47:55.367Z"
   },
   {
    "duration": 87,
    "start_time": "2021-10-16T10:47:55.375Z"
   },
   {
    "duration": 16,
    "start_time": "2021-10-16T10:47:55.465Z"
   },
   {
    "duration": 12,
    "start_time": "2021-10-16T10:47:55.484Z"
   },
   {
    "duration": 84,
    "start_time": "2021-10-16T10:47:55.499Z"
   },
   {
    "duration": 26,
    "start_time": "2021-10-16T10:47:55.586Z"
   },
   {
    "duration": 4,
    "start_time": "2021-10-16T10:47:55.615Z"
   },
   {
    "duration": 46,
    "start_time": "2021-10-16T10:47:55.623Z"
   },
   {
    "duration": 6,
    "start_time": "2021-10-16T10:47:55.674Z"
   },
   {
    "duration": 17,
    "start_time": "2021-10-16T10:47:55.683Z"
   },
   {
    "duration": 8,
    "start_time": "2021-10-16T10:47:55.702Z"
   },
   {
    "duration": 538,
    "start_time": "2021-10-16T10:47:55.712Z"
   },
   {
    "duration": 405,
    "start_time": "2021-10-16T10:47:56.253Z"
   },
   {
    "duration": 14,
    "start_time": "2021-10-16T10:47:56.662Z"
   },
   {
    "duration": 3623,
    "start_time": "2021-10-16T10:47:56.679Z"
   },
   {
    "duration": 9,
    "start_time": "2021-10-16T10:48:00.304Z"
   },
   {
    "duration": 437,
    "start_time": "2021-10-16T10:48:00.316Z"
   },
   {
    "duration": 878,
    "start_time": "2021-10-16T10:48:00.762Z"
   },
   {
    "duration": 3734,
    "start_time": "2021-10-16T10:48:01.643Z"
   },
   {
    "duration": 246,
    "start_time": "2021-10-16T10:48:05.379Z"
   },
   {
    "duration": 19,
    "start_time": "2021-10-16T10:48:05.628Z"
   },
   {
    "duration": 4,
    "start_time": "2021-10-16T10:48:05.663Z"
   },
   {
    "duration": 982,
    "start_time": "2021-10-16T10:48:05.673Z"
   },
   {
    "duration": 889,
    "start_time": "2021-10-16T10:48:06.663Z"
   },
   {
    "duration": 10,
    "start_time": "2021-10-16T10:48:07.562Z"
   },
   {
    "duration": 933,
    "start_time": "2021-10-16T10:48:07.574Z"
   },
   {
    "duration": 15,
    "start_time": "2021-10-16T10:48:08.510Z"
   },
   {
    "duration": 13,
    "start_time": "2021-10-16T10:48:08.528Z"
   },
   {
    "duration": 20,
    "start_time": "2021-10-16T10:54:45.077Z"
   },
   {
    "duration": 1562,
    "start_time": "2021-10-16T11:09:46.665Z"
   },
   {
    "duration": 66,
    "start_time": "2021-10-16T11:09:48.230Z"
   },
   {
    "duration": 14,
    "start_time": "2021-10-16T11:09:48.299Z"
   },
   {
    "duration": 15,
    "start_time": "2021-10-16T11:09:48.316Z"
   },
   {
    "duration": 69,
    "start_time": "2021-10-16T11:09:48.333Z"
   },
   {
    "duration": 23,
    "start_time": "2021-10-16T11:09:48.405Z"
   },
   {
    "duration": 4,
    "start_time": "2021-10-16T11:09:48.430Z"
   },
   {
    "duration": 35,
    "start_time": "2021-10-16T11:09:48.438Z"
   },
   {
    "duration": 15,
    "start_time": "2021-10-16T11:09:48.476Z"
   },
   {
    "duration": 15,
    "start_time": "2021-10-16T11:09:48.494Z"
   },
   {
    "duration": 7,
    "start_time": "2021-10-16T11:09:48.512Z"
   },
   {
    "duration": 519,
    "start_time": "2021-10-16T11:09:48.521Z"
   },
   {
    "duration": 368,
    "start_time": "2021-10-16T11:09:49.042Z"
   },
   {
    "duration": 10,
    "start_time": "2021-10-16T11:09:49.412Z"
   },
   {
    "duration": 3335,
    "start_time": "2021-10-16T11:09:49.425Z"
   },
   {
    "duration": 8,
    "start_time": "2021-10-16T11:09:52.763Z"
   },
   {
    "duration": 298,
    "start_time": "2021-10-16T11:09:52.774Z"
   },
   {
    "duration": 861,
    "start_time": "2021-10-16T11:09:53.074Z"
   },
   {
    "duration": 3953,
    "start_time": "2021-10-16T11:09:53.938Z"
   },
   {
    "duration": 267,
    "start_time": "2021-10-16T11:09:57.894Z"
   },
   {
    "duration": 18,
    "start_time": "2021-10-16T11:09:58.164Z"
   },
   {
    "duration": 6,
    "start_time": "2021-10-16T11:09:58.184Z"
   },
   {
    "duration": 871,
    "start_time": "2021-10-16T11:09:58.195Z"
   },
   {
    "duration": 858,
    "start_time": "2021-10-16T11:09:59.069Z"
   },
   {
    "duration": 9,
    "start_time": "2021-10-16T11:09:59.929Z"
   },
   {
    "duration": 881,
    "start_time": "2021-10-16T11:09:59.941Z"
   },
   {
    "duration": 14,
    "start_time": "2021-10-16T11:10:00.824Z"
   },
   {
    "duration": 28,
    "start_time": "2021-10-16T11:10:00.840Z"
   },
   {
    "duration": 1128,
    "start_time": "2021-10-16T20:42:47.295Z"
   },
   {
    "duration": 48,
    "start_time": "2021-10-16T20:42:48.425Z"
   },
   {
    "duration": 9,
    "start_time": "2021-10-16T20:42:48.475Z"
   },
   {
    "duration": 8,
    "start_time": "2021-10-16T20:42:48.486Z"
   },
   {
    "duration": 26,
    "start_time": "2021-10-16T20:42:48.495Z"
   },
   {
    "duration": 15,
    "start_time": "2021-10-16T20:42:48.522Z"
   },
   {
    "duration": 2,
    "start_time": "2021-10-16T20:42:48.539Z"
   },
   {
    "duration": 32,
    "start_time": "2021-10-16T20:42:48.544Z"
   },
   {
    "duration": 5,
    "start_time": "2021-10-16T20:42:48.578Z"
   },
   {
    "duration": 10,
    "start_time": "2021-10-16T20:42:48.585Z"
   },
   {
    "duration": 5,
    "start_time": "2021-10-16T20:42:48.596Z"
   },
   {
    "duration": 292,
    "start_time": "2021-10-16T20:42:48.603Z"
   },
   {
    "duration": 225,
    "start_time": "2021-10-16T20:42:48.897Z"
   },
   {
    "duration": 6,
    "start_time": "2021-10-16T20:42:49.124Z"
   },
   {
    "duration": 1874,
    "start_time": "2021-10-16T20:42:49.132Z"
   },
   {
    "duration": 6,
    "start_time": "2021-10-16T20:42:51.008Z"
   },
   {
    "duration": 268,
    "start_time": "2021-10-16T20:42:51.015Z"
   },
   {
    "duration": 543,
    "start_time": "2021-10-16T20:42:51.285Z"
   },
   {
    "duration": 2441,
    "start_time": "2021-10-16T20:42:51.830Z"
   },
   {
    "duration": 146,
    "start_time": "2021-10-16T20:42:54.276Z"
   },
   {
    "duration": 11,
    "start_time": "2021-10-16T20:42:54.424Z"
   },
   {
    "duration": 3,
    "start_time": "2021-10-16T20:42:54.437Z"
   },
   {
    "duration": 489,
    "start_time": "2021-10-16T20:42:54.443Z"
   },
   {
    "duration": 486,
    "start_time": "2021-10-16T20:42:54.934Z"
   },
   {
    "duration": 6,
    "start_time": "2021-10-16T20:42:55.422Z"
   },
   {
    "duration": 477,
    "start_time": "2021-10-16T20:42:55.430Z"
   },
   {
    "duration": 9,
    "start_time": "2021-10-16T20:42:55.909Z"
   },
   {
    "duration": 8,
    "start_time": "2021-10-16T20:42:55.920Z"
   },
   {
    "duration": 22,
    "start_time": "2021-10-16T20:48:11.212Z"
   },
   {
    "duration": 4,
    "start_time": "2021-10-16T20:55:33.828Z"
   },
   {
    "duration": 1392,
    "start_time": "2021-10-18T08:55:48.242Z"
   },
   {
    "duration": 66,
    "start_time": "2021-10-18T08:55:49.637Z"
   },
   {
    "duration": 16,
    "start_time": "2021-10-18T08:55:49.706Z"
   },
   {
    "duration": 14,
    "start_time": "2021-10-18T08:55:49.725Z"
   },
   {
    "duration": 80,
    "start_time": "2021-10-18T08:55:49.741Z"
   },
   {
    "duration": 22,
    "start_time": "2021-10-18T08:55:49.823Z"
   },
   {
    "duration": 4,
    "start_time": "2021-10-18T08:55:49.847Z"
   },
   {
    "duration": 36,
    "start_time": "2021-10-18T08:55:49.855Z"
   },
   {
    "duration": 9,
    "start_time": "2021-10-18T08:55:49.895Z"
   },
   {
    "duration": 18,
    "start_time": "2021-10-18T08:55:49.907Z"
   },
   {
    "duration": 10,
    "start_time": "2021-10-18T08:55:49.927Z"
   },
   {
    "duration": 503,
    "start_time": "2021-10-18T08:55:49.940Z"
   },
   {
    "duration": 366,
    "start_time": "2021-10-18T08:55:50.446Z"
   },
   {
    "duration": 10,
    "start_time": "2021-10-18T08:55:50.815Z"
   },
   {
    "duration": 3395,
    "start_time": "2021-10-18T08:55:50.828Z"
   },
   {
    "duration": 9,
    "start_time": "2021-10-18T08:55:54.226Z"
   },
   {
    "duration": 9,
    "start_time": "2021-10-18T08:56:22.048Z"
   },
   {
    "duration": 378,
    "start_time": "2021-10-18T08:57:43.840Z"
   },
   {
    "duration": 276,
    "start_time": "2021-10-18T08:58:03.713Z"
   },
   {
    "duration": 267,
    "start_time": "2021-10-18T08:58:28.388Z"
   },
   {
    "duration": 549,
    "start_time": "2021-10-18T08:58:36.754Z"
   },
   {
    "duration": 8114,
    "start_time": "2021-10-18T08:58:50.573Z"
   },
   {
    "duration": 6571,
    "start_time": "2021-10-18T08:59:10.660Z"
   },
   {
    "duration": 6,
    "start_time": "2021-10-18T08:59:45.752Z"
   },
   {
    "duration": 285,
    "start_time": "2021-10-18T08:59:58.061Z"
   },
   {
    "duration": 33,
    "start_time": "2021-10-18T09:00:05.600Z"
   },
   {
    "duration": 285,
    "start_time": "2021-10-18T09:15:28.060Z"
   },
   {
    "duration": 4,
    "start_time": "2021-10-18T09:15:44.069Z"
   },
   {
    "duration": 58,
    "start_time": "2021-10-18T09:15:44.079Z"
   },
   {
    "duration": 14,
    "start_time": "2021-10-18T09:15:44.139Z"
   },
   {
    "duration": 34,
    "start_time": "2021-10-18T09:15:44.156Z"
   },
   {
    "duration": 42,
    "start_time": "2021-10-18T09:15:44.193Z"
   },
   {
    "duration": 51,
    "start_time": "2021-10-18T09:15:44.238Z"
   },
   {
    "duration": 4,
    "start_time": "2021-10-18T09:15:44.292Z"
   },
   {
    "duration": 27,
    "start_time": "2021-10-18T09:15:44.298Z"
   },
   {
    "duration": 7,
    "start_time": "2021-10-18T09:15:44.329Z"
   },
   {
    "duration": 15,
    "start_time": "2021-10-18T09:15:44.338Z"
   },
   {
    "duration": 6,
    "start_time": "2021-10-18T09:15:44.355Z"
   },
   {
    "duration": 480,
    "start_time": "2021-10-18T09:15:44.363Z"
   },
   {
    "duration": 364,
    "start_time": "2021-10-18T09:15:44.846Z"
   },
   {
    "duration": 10,
    "start_time": "2021-10-18T09:15:45.212Z"
   },
   {
    "duration": 3234,
    "start_time": "2021-10-18T09:15:45.224Z"
   },
   {
    "duration": 22,
    "start_time": "2021-10-18T09:15:48.460Z"
   },
   {
    "duration": 8,
    "start_time": "2021-10-18T09:15:52.064Z"
   },
   {
    "duration": 276,
    "start_time": "2021-10-18T09:15:52.839Z"
   },
   {
    "duration": 8,
    "start_time": "2021-10-18T09:16:27.694Z"
   },
   {
    "duration": 40648,
    "start_time": "2021-10-18T09:17:14.002Z"
   },
   {
    "duration": 372,
    "start_time": "2021-10-18T09:18:23.042Z"
   },
   {
    "duration": 16963,
    "start_time": "2021-10-18T09:18:33.052Z"
   },
   {
    "duration": 6289,
    "start_time": "2021-10-18T09:19:00.554Z"
   },
   {
    "duration": 248,
    "start_time": "2021-10-18T09:19:27.490Z"
   },
   {
    "duration": 6154,
    "start_time": "2021-10-18T09:20:49.460Z"
   },
   {
    "duration": 8,
    "start_time": "2021-10-18T09:28:01.928Z"
   },
   {
    "duration": 5230,
    "start_time": "2021-10-18T09:28:56.122Z"
   },
   {
    "duration": 109,
    "start_time": "2021-10-18T09:31:48.010Z"
   },
   {
    "duration": 12,
    "start_time": "2021-10-18T09:32:14.648Z"
   },
   {
    "duration": 5844,
    "start_time": "2021-10-18T09:35:23.781Z"
   },
   {
    "duration": 6449,
    "start_time": "2021-10-18T09:35:35.541Z"
   },
   {
    "duration": 229,
    "start_time": "2021-10-18T09:37:01.958Z"
   },
   {
    "duration": 225,
    "start_time": "2021-10-18T09:39:15.910Z"
   },
   {
    "duration": -184,
    "start_time": "2021-10-18T09:42:13.900Z"
   },
   {
    "duration": 5,
    "start_time": "2021-10-18T09:42:20.015Z"
   },
   {
    "duration": 73,
    "start_time": "2021-10-18T09:42:20.023Z"
   },
   {
    "duration": 14,
    "start_time": "2021-10-18T09:42:20.099Z"
   },
   {
    "duration": 23,
    "start_time": "2021-10-18T09:42:20.116Z"
   },
   {
    "duration": 65,
    "start_time": "2021-10-18T09:42:20.142Z"
   },
   {
    "duration": 22,
    "start_time": "2021-10-18T09:42:20.210Z"
   },
   {
    "duration": 11,
    "start_time": "2021-10-18T09:42:20.235Z"
   },
   {
    "duration": 34,
    "start_time": "2021-10-18T09:42:20.248Z"
   },
   {
    "duration": 24,
    "start_time": "2021-10-18T09:42:20.285Z"
   },
   {
    "duration": 32,
    "start_time": "2021-10-18T09:42:20.312Z"
   },
   {
    "duration": 23,
    "start_time": "2021-10-18T09:42:20.346Z"
   },
   {
    "duration": 481,
    "start_time": "2021-10-18T09:42:20.371Z"
   },
   {
    "duration": 371,
    "start_time": "2021-10-18T09:42:20.855Z"
   },
   {
    "duration": 11,
    "start_time": "2021-10-18T09:42:21.230Z"
   },
   {
    "duration": 4028,
    "start_time": "2021-10-18T09:42:21.244Z"
   },
   {
    "duration": 14,
    "start_time": "2021-10-18T09:42:25.274Z"
   },
   {
    "duration": 8,
    "start_time": "2021-10-18T09:42:30.689Z"
   },
   {
    "duration": 295,
    "start_time": "2021-10-18T09:42:31.449Z"
   },
   {
    "duration": 237,
    "start_time": "2021-10-18T09:43:01.798Z"
   },
   {
    "duration": 1448,
    "start_time": "2021-10-18T09:43:44.984Z"
   },
   {
    "duration": 1351,
    "start_time": "2021-10-18T09:44:16.500Z"
   },
   {
    "duration": 2863,
    "start_time": "2021-10-18T09:46:13.522Z"
   },
   {
    "duration": 2193,
    "start_time": "2021-10-18T09:46:34.514Z"
   },
   {
    "duration": 1374,
    "start_time": "2021-10-18T09:48:38.980Z"
   },
   {
    "duration": 2054,
    "start_time": "2021-10-18T09:51:58.323Z"
   },
   {
    "duration": 2124,
    "start_time": "2021-10-18T09:52:16.070Z"
   },
   {
    "duration": 1828,
    "start_time": "2021-10-18T09:52:28.006Z"
   },
   {
    "duration": 1331,
    "start_time": "2021-10-18T09:52:42.816Z"
   },
   {
    "duration": 1442,
    "start_time": "2021-10-18T09:53:01.970Z"
   },
   {
    "duration": 1199,
    "start_time": "2021-10-18T09:53:13.494Z"
   },
   {
    "duration": 1235,
    "start_time": "2021-10-18T09:53:27.501Z"
   },
   {
    "duration": 1418,
    "start_time": "2021-10-18T09:53:36.540Z"
   },
   {
    "duration": 1240,
    "start_time": "2021-10-18T09:54:00.050Z"
   },
   {
    "duration": 305,
    "start_time": "2021-10-18T09:55:00.866Z"
   },
   {
    "duration": 2162,
    "start_time": "2021-10-18T09:55:13.113Z"
   },
   {
    "duration": 2254,
    "start_time": "2021-10-18T09:57:21.160Z"
   },
   {
    "duration": 120,
    "start_time": "2021-10-18T09:57:45.633Z"
   },
   {
    "duration": 2261,
    "start_time": "2021-10-18T09:58:02.888Z"
   },
   {
    "duration": 1375,
    "start_time": "2021-10-18T09:58:29.598Z"
   },
   {
    "duration": 761,
    "start_time": "2021-10-18T09:58:51.517Z"
   },
   {
    "duration": 1401,
    "start_time": "2021-10-18T09:59:03.944Z"
   },
   {
    "duration": 258,
    "start_time": "2021-10-18T10:02:16.028Z"
   },
   {
    "duration": 3132,
    "start_time": "2021-10-18T12:00:49.046Z"
   },
   {
    "duration": 3224,
    "start_time": "2021-10-18T12:01:01.767Z"
   },
   {
    "duration": 4,
    "start_time": "2021-10-18T12:01:45.478Z"
   },
   {
    "duration": 64,
    "start_time": "2021-10-18T12:01:45.491Z"
   },
   {
    "duration": 13,
    "start_time": "2021-10-18T12:01:45.558Z"
   },
   {
    "duration": 12,
    "start_time": "2021-10-18T12:01:45.583Z"
   },
   {
    "duration": 52,
    "start_time": "2021-10-18T12:01:45.598Z"
   },
   {
    "duration": 42,
    "start_time": "2021-10-18T12:01:45.653Z"
   },
   {
    "duration": 4,
    "start_time": "2021-10-18T12:01:45.698Z"
   },
   {
    "duration": 23,
    "start_time": "2021-10-18T12:01:45.704Z"
   },
   {
    "duration": 6,
    "start_time": "2021-10-18T12:01:45.731Z"
   },
   {
    "duration": 15,
    "start_time": "2021-10-18T12:01:45.740Z"
   },
   {
    "duration": 6,
    "start_time": "2021-10-18T12:01:45.783Z"
   },
   {
    "duration": 471,
    "start_time": "2021-10-18T12:01:45.791Z"
   },
   {
    "duration": 361,
    "start_time": "2021-10-18T12:01:46.264Z"
   },
   {
    "duration": 10,
    "start_time": "2021-10-18T12:01:46.628Z"
   },
   {
    "duration": 3149,
    "start_time": "2021-10-18T12:01:46.641Z"
   },
   {
    "duration": 8,
    "start_time": "2021-10-18T12:01:49.793Z"
   },
   {
    "duration": 1390,
    "start_time": "2021-10-18T12:01:49.804Z"
   },
   {
    "duration": 377,
    "start_time": "2021-10-18T12:04:05.488Z"
   },
   {
    "duration": 604,
    "start_time": "2021-10-18T12:04:27.463Z"
   },
   {
    "duration": 587,
    "start_time": "2021-10-18T12:05:13.071Z"
   },
   {
    "duration": 829,
    "start_time": "2021-10-18T12:05:28.322Z"
   },
   {
    "duration": 1353,
    "start_time": "2021-10-18T12:05:40.216Z"
   },
   {
    "duration": 559,
    "start_time": "2021-10-18T12:06:14.141Z"
   },
   {
    "duration": 407,
    "start_time": "2021-10-18T12:06:29.494Z"
   },
   {
    "duration": 571,
    "start_time": "2021-10-18T12:07:43.113Z"
   },
   {
    "duration": 410,
    "start_time": "2021-10-18T12:08:11.876Z"
   },
   {
    "duration": 1582,
    "start_time": "2021-10-18T12:10:04.786Z"
   },
   {
    "duration": 421,
    "start_time": "2021-10-18T12:10:32.744Z"
   },
   {
    "duration": 4,
    "start_time": "2021-10-18T13:39:14.599Z"
   },
   {
    "duration": 55,
    "start_time": "2021-10-18T13:39:14.614Z"
   },
   {
    "duration": 16,
    "start_time": "2021-10-18T13:39:14.672Z"
   },
   {
    "duration": 14,
    "start_time": "2021-10-18T13:39:14.692Z"
   },
   {
    "duration": 74,
    "start_time": "2021-10-18T13:39:14.710Z"
   },
   {
    "duration": 26,
    "start_time": "2021-10-18T13:39:14.787Z"
   },
   {
    "duration": 4,
    "start_time": "2021-10-18T13:39:14.815Z"
   },
   {
    "duration": 17,
    "start_time": "2021-10-18T13:39:14.821Z"
   },
   {
    "duration": 8,
    "start_time": "2021-10-18T13:39:14.842Z"
   },
   {
    "duration": 13,
    "start_time": "2021-10-18T13:39:14.883Z"
   },
   {
    "duration": 6,
    "start_time": "2021-10-18T13:39:14.899Z"
   },
   {
    "duration": 488,
    "start_time": "2021-10-18T13:39:14.907Z"
   },
   {
    "duration": 366,
    "start_time": "2021-10-18T13:39:15.397Z"
   },
   {
    "duration": 18,
    "start_time": "2021-10-18T13:39:15.766Z"
   },
   {
    "duration": 3902,
    "start_time": "2021-10-18T13:39:15.787Z"
   },
   {
    "duration": 9,
    "start_time": "2021-10-18T13:39:34.206Z"
   },
   {
    "duration": 2274,
    "start_time": "2021-10-18T13:39:35.441Z"
   },
   {
    "duration": 8,
    "start_time": "2021-10-18T13:41:05.598Z"
   },
   {
    "duration": 537,
    "start_time": "2021-10-18T13:45:44.362Z"
   },
   {
    "duration": 269,
    "start_time": "2021-10-18T13:51:12.370Z"
   },
   {
    "duration": 9,
    "start_time": "2021-10-18T13:51:22.703Z"
   },
   {
    "duration": 536,
    "start_time": "2021-10-18T13:51:26.007Z"
   },
   {
    "duration": 335,
    "start_time": "2021-10-18T13:51:41.434Z"
   },
   {
    "duration": 810,
    "start_time": "2021-10-18T13:51:56.772Z"
   },
   {
    "duration": 3872,
    "start_time": "2021-10-18T13:54:11.984Z"
   },
   {
    "duration": 832,
    "start_time": "2021-10-18T13:54:44.974Z"
   },
   {
    "duration": 1470,
    "start_time": "2021-10-19T12:50:22.249Z"
   },
   {
    "duration": 70,
    "start_time": "2021-10-19T12:50:23.722Z"
   },
   {
    "duration": 16,
    "start_time": "2021-10-19T12:50:23.795Z"
   },
   {
    "duration": 33,
    "start_time": "2021-10-19T12:50:23.814Z"
   },
   {
    "duration": 67,
    "start_time": "2021-10-19T12:50:23.850Z"
   },
   {
    "duration": 26,
    "start_time": "2021-10-19T12:50:23.920Z"
   },
   {
    "duration": 9,
    "start_time": "2021-10-19T12:50:23.949Z"
   },
   {
    "duration": 24,
    "start_time": "2021-10-19T12:50:23.962Z"
   },
   {
    "duration": 20,
    "start_time": "2021-10-19T12:50:23.988Z"
   },
   {
    "duration": 38,
    "start_time": "2021-10-19T12:50:24.010Z"
   },
   {
    "duration": 14,
    "start_time": "2021-10-19T12:50:24.051Z"
   },
   {
    "duration": 505,
    "start_time": "2021-10-19T12:50:24.068Z"
   },
   {
    "duration": 371,
    "start_time": "2021-10-19T12:50:24.576Z"
   },
   {
    "duration": 14,
    "start_time": "2021-10-19T12:50:24.949Z"
   },
   {
    "duration": 9,
    "start_time": "2021-10-19T12:50:27.289Z"
   },
   {
    "duration": 3339,
    "start_time": "2021-10-19T12:50:28.613Z"
   },
   {
    "duration": 3174,
    "start_time": "2021-10-19T12:51:01.475Z"
   },
   {
    "duration": 3346,
    "start_time": "2021-10-19T12:51:18.484Z"
   },
   {
    "duration": 3353,
    "start_time": "2021-10-19T12:52:14.810Z"
   },
   {
    "duration": 3477,
    "start_time": "2021-10-19T12:52:33.098Z"
   },
   {
    "duration": 3152,
    "start_time": "2021-10-19T12:52:42.593Z"
   },
   {
    "duration": 389,
    "start_time": "2021-10-19T12:53:35.710Z"
   },
   {
    "duration": 3234,
    "start_time": "2021-10-19T12:53:47.845Z"
   },
   {
    "duration": 3401,
    "start_time": "2021-10-19T12:53:59.939Z"
   },
   {
    "duration": 3201,
    "start_time": "2021-10-19T12:54:10.358Z"
   },
   {
    "duration": 3525,
    "start_time": "2021-10-19T12:54:39.888Z"
   },
   {
    "duration": 8,
    "start_time": "2021-10-19T12:56:42.926Z"
   },
   {
    "duration": 2468,
    "start_time": "2021-10-19T12:56:43.749Z"
   },
   {
    "duration": 2293,
    "start_time": "2021-10-19T12:57:54.767Z"
   },
   {
    "duration": 635,
    "start_time": "2021-10-19T12:59:01.550Z"
   },
   {
    "duration": 388,
    "start_time": "2021-10-19T12:59:19.497Z"
   },
   {
    "duration": 382,
    "start_time": "2021-10-19T13:00:30.337Z"
   },
   {
    "duration": 411,
    "start_time": "2021-10-19T13:00:36.875Z"
   },
   {
    "duration": 2282,
    "start_time": "2021-10-19T13:01:09.419Z"
   },
   {
    "duration": 5,
    "start_time": "2021-10-19T13:02:10.979Z"
   },
   {
    "duration": 174,
    "start_time": "2021-10-19T13:04:37.662Z"
   },
   {
    "duration": 5162,
    "start_time": "2021-10-19T13:04:53.551Z"
   },
   {
    "duration": 5166,
    "start_time": "2021-10-19T13:08:38.678Z"
   },
   {
    "duration": 6977,
    "start_time": "2021-10-19T13:09:37.503Z"
   },
   {
    "duration": 5508,
    "start_time": "2021-10-19T13:10:08.503Z"
   },
   {
    "duration": 3548,
    "start_time": "2021-10-19T13:19:43.982Z"
   },
   {
    "duration": 3524,
    "start_time": "2021-10-19T13:22:43.465Z"
   },
   {
    "duration": 5126,
    "start_time": "2021-10-19T13:23:11.284Z"
   },
   {
    "duration": 2333,
    "start_time": "2021-10-19T13:23:22.596Z"
   },
   {
    "duration": 378,
    "start_time": "2021-10-19T13:31:15.769Z"
   },
   {
    "duration": 755,
    "start_time": "2021-10-19T13:32:00.793Z"
   },
   {
    "duration": 232,
    "start_time": "2021-10-19T13:32:27.683Z"
   },
   {
    "duration": 528,
    "start_time": "2021-10-19T13:32:53.383Z"
   },
   {
    "duration": 404,
    "start_time": "2021-10-19T13:33:34.752Z"
   },
   {
    "duration": 761,
    "start_time": "2021-10-19T13:33:50.534Z"
   },
   {
    "duration": 801,
    "start_time": "2021-10-19T13:34:44.525Z"
   },
   {
    "duration": 211,
    "start_time": "2021-10-19T13:35:00.310Z"
   },
   {
    "duration": 621,
    "start_time": "2021-10-19T13:35:06.367Z"
   },
   {
    "duration": 1430,
    "start_time": "2021-10-19T13:35:29.149Z"
   },
   {
    "duration": 1381,
    "start_time": "2021-10-19T13:36:05.323Z"
   },
   {
    "duration": 1396,
    "start_time": "2021-10-19T13:38:20.445Z"
   },
   {
    "duration": 976,
    "start_time": "2021-10-19T13:40:48.646Z"
   },
   {
    "duration": 1363,
    "start_time": "2021-10-19T13:40:59.064Z"
   },
   {
    "duration": 1606,
    "start_time": "2021-10-19T13:41:27.821Z"
   },
   {
    "duration": 1396,
    "start_time": "2021-10-19T13:41:37.451Z"
   },
   {
    "duration": 1383,
    "start_time": "2021-10-19T13:44:12.817Z"
   },
   {
    "duration": 1337,
    "start_time": "2021-10-19T13:44:22.435Z"
   },
   {
    "duration": 442,
    "start_time": "2021-10-19T13:44:31.157Z"
   },
   {
    "duration": 420,
    "start_time": "2021-10-19T13:44:36.594Z"
   },
   {
    "duration": 1362,
    "start_time": "2021-10-19T13:44:43.566Z"
   },
   {
    "duration": 1519,
    "start_time": "2021-10-19T13:44:57.193Z"
   },
   {
    "duration": 586,
    "start_time": "2021-10-19T13:45:32.704Z"
   },
   {
    "duration": 733,
    "start_time": "2021-10-19T13:45:51.151Z"
   },
   {
    "duration": 502,
    "start_time": "2021-10-19T13:46:01.937Z"
   },
   {
    "duration": 510,
    "start_time": "2021-10-19T13:46:10.290Z"
   },
   {
    "duration": 1374,
    "start_time": "2021-10-19T13:46:18.877Z"
   },
   {
    "duration": 1556,
    "start_time": "2021-10-19T13:46:41.259Z"
   },
   {
    "duration": 1558,
    "start_time": "2021-10-19T13:46:54.462Z"
   },
   {
    "duration": 1680,
    "start_time": "2021-10-19T13:47:04.079Z"
   },
   {
    "duration": 1380,
    "start_time": "2021-10-19T13:47:15.859Z"
   },
   {
    "duration": 1751,
    "start_time": "2021-10-19T13:48:31.978Z"
   },
   {
    "duration": 1631,
    "start_time": "2021-10-19T13:49:15.329Z"
   },
   {
    "duration": 4297,
    "start_time": "2021-10-19T13:49:25.474Z"
   },
   {
    "duration": 1780,
    "start_time": "2021-10-19T13:49:42.074Z"
   },
   {
    "duration": 1927,
    "start_time": "2021-10-19T13:50:00.332Z"
   },
   {
    "duration": 1853,
    "start_time": "2021-10-19T13:50:49.112Z"
   },
   {
    "duration": 2474,
    "start_time": "2021-10-19T13:52:10.843Z"
   },
   {
    "duration": 1954,
    "start_time": "2021-10-19T13:52:39.995Z"
   },
   {
    "duration": 120,
    "start_time": "2021-10-19T13:54:15.148Z"
   },
   {
    "duration": 3168,
    "start_time": "2021-10-19T13:54:22.598Z"
   },
   {
    "duration": 2022,
    "start_time": "2021-10-19T13:55:03.344Z"
   },
   {
    "duration": 3343,
    "start_time": "2021-10-19T13:55:17.775Z"
   },
   {
    "duration": 1892,
    "start_time": "2021-10-19T13:55:33.278Z"
   },
   {
    "duration": 2471,
    "start_time": "2021-10-19T13:56:18.212Z"
   },
   {
    "duration": 1965,
    "start_time": "2021-10-19T13:56:42.551Z"
   },
   {
    "duration": 1887,
    "start_time": "2021-10-19T13:58:43.692Z"
   },
   {
    "duration": 918,
    "start_time": "2021-10-19T14:00:40.060Z"
   },
   {
    "duration": 2764,
    "start_time": "2021-10-19T14:23:55.493Z"
   },
   {
    "duration": 1849,
    "start_time": "2021-10-19T14:24:16.152Z"
   },
   {
    "duration": 2087,
    "start_time": "2021-10-19T14:24:36.842Z"
   },
   {
    "duration": 20,
    "start_time": "2021-10-19T14:26:25.691Z"
   },
   {
    "duration": 21,
    "start_time": "2021-10-19T14:26:52.779Z"
   },
   {
    "duration": 1959,
    "start_time": "2021-10-19T14:30:54.919Z"
   },
   {
    "duration": 1905,
    "start_time": "2021-10-19T14:32:13.280Z"
   },
   {
    "duration": 1068,
    "start_time": "2021-10-19T14:33:07.486Z"
   },
   {
    "duration": 1857,
    "start_time": "2021-10-19T14:33:21.612Z"
   },
   {
    "duration": 588,
    "start_time": "2021-10-19T14:35:12.143Z"
   },
   {
    "duration": 413,
    "start_time": "2021-10-19T14:36:10.516Z"
   },
   {
    "duration": 564,
    "start_time": "2021-10-19T14:37:04.973Z"
   },
   {
    "duration": 468,
    "start_time": "2021-10-19T14:37:56.577Z"
   },
   {
    "duration": 476,
    "start_time": "2021-10-19T14:38:23.167Z"
   },
   {
    "duration": 608,
    "start_time": "2021-10-19T14:39:00.768Z"
   },
   {
    "duration": 487,
    "start_time": "2021-10-19T14:39:09.408Z"
   },
   {
    "duration": 611,
    "start_time": "2021-10-19T14:39:23.213Z"
   },
   {
    "duration": 477,
    "start_time": "2021-10-19T14:39:49.250Z"
   },
   {
    "duration": 384,
    "start_time": "2021-10-19T14:42:03.939Z"
   },
   {
    "duration": 470,
    "start_time": "2021-10-19T14:42:11.275Z"
   },
   {
    "duration": 469,
    "start_time": "2021-10-19T14:43:52.694Z"
   },
   {
    "duration": 606,
    "start_time": "2021-10-19T14:44:08.322Z"
   },
   {
    "duration": 632,
    "start_time": "2021-10-19T14:44:26.563Z"
   },
   {
    "duration": 466,
    "start_time": "2021-10-19T14:45:50.834Z"
   },
   {
    "duration": 457,
    "start_time": "2021-10-19T14:45:59.022Z"
   },
   {
    "duration": 468,
    "start_time": "2021-10-19T14:46:07.140Z"
   },
   {
    "duration": 466,
    "start_time": "2021-10-19T14:46:14.878Z"
   },
   {
    "duration": 594,
    "start_time": "2021-10-19T14:47:29.823Z"
   },
   {
    "duration": 462,
    "start_time": "2021-10-19T14:47:37.099Z"
   },
   {
    "duration": 477,
    "start_time": "2021-10-19T14:48:13.958Z"
   },
   {
    "duration": 489,
    "start_time": "2021-10-19T14:48:20.460Z"
   },
   {
    "duration": 772,
    "start_time": "2021-10-19T14:49:22.010Z"
   },
   {
    "duration": 866,
    "start_time": "2021-10-19T14:49:43.833Z"
   },
   {
    "duration": 814,
    "start_time": "2021-10-19T14:50:59.624Z"
   },
   {
    "duration": 2031,
    "start_time": "2021-10-19T14:54:59.543Z"
   },
   {
    "duration": 1953,
    "start_time": "2021-10-19T14:56:20.880Z"
   },
   {
    "duration": 821,
    "start_time": "2021-10-19T14:56:54.317Z"
   },
   {
    "duration": 779,
    "start_time": "2021-10-19T14:59:44.481Z"
   },
   {
    "duration": 10,
    "start_time": "2021-10-19T15:02:23.961Z"
   },
   {
    "duration": 984,
    "start_time": "2021-10-19T15:08:45.856Z"
   },
   {
    "duration": 4803,
    "start_time": "2021-10-19T15:09:46.180Z"
   },
   {
    "duration": 891,
    "start_time": "2021-10-19T15:10:24.992Z"
   },
   {
    "duration": 250,
    "start_time": "2021-10-19T15:13:27.773Z"
   },
   {
    "duration": 19,
    "start_time": "2021-10-19T15:13:41.939Z"
   },
   {
    "duration": 405,
    "start_time": "2021-10-19T15:15:11.290Z"
   },
   {
    "duration": 23,
    "start_time": "2021-10-19T15:15:30.175Z"
   },
   {
    "duration": 10892,
    "start_time": "2021-10-19T15:16:38.450Z"
   },
   {
    "duration": 10113,
    "start_time": "2021-10-19T15:16:56.452Z"
   },
   {
    "duration": 22,
    "start_time": "2021-10-19T15:17:28.007Z"
   },
   {
    "duration": 694,
    "start_time": "2021-10-19T15:18:03.610Z"
   },
   {
    "duration": 21,
    "start_time": "2021-10-19T15:18:51.162Z"
   },
   {
    "duration": 22,
    "start_time": "2021-10-19T15:19:06.346Z"
   },
   {
    "duration": 23,
    "start_time": "2021-10-19T15:19:23.903Z"
   },
   {
    "duration": 27,
    "start_time": "2021-10-19T15:20:40.415Z"
   },
   {
    "duration": 432,
    "start_time": "2021-10-19T15:24:37.179Z"
   },
   {
    "duration": 266,
    "start_time": "2021-10-19T15:24:48.932Z"
   },
   {
    "duration": 2401,
    "start_time": "2021-10-19T15:26:16.711Z"
   },
   {
    "duration": 2109,
    "start_time": "2021-10-19T15:26:32.980Z"
   },
   {
    "duration": 2063,
    "start_time": "2021-10-19T15:26:49.659Z"
   },
   {
    "duration": 260,
    "start_time": "2021-10-19T15:27:00.311Z"
   },
   {
    "duration": 10224,
    "start_time": "2021-10-19T15:36:42.218Z"
   },
   {
    "duration": 31,
    "start_time": "2021-10-19T15:38:03.171Z"
   },
   {
    "duration": 32,
    "start_time": "2021-10-19T15:38:39.980Z"
   },
   {
    "duration": 10081,
    "start_time": "2021-10-19T15:39:17.806Z"
   },
   {
    "duration": 26,
    "start_time": "2021-10-19T15:39:37.277Z"
   },
   {
    "duration": 26,
    "start_time": "2021-10-19T15:49:14.598Z"
   },
   {
    "duration": 25,
    "start_time": "2021-10-19T15:49:52.151Z"
   },
   {
    "duration": 5,
    "start_time": "2021-10-19T15:55:27.681Z"
   },
   {
    "duration": 1041,
    "start_time": "2021-10-19T15:55:29.674Z"
   },
   {
    "duration": 990,
    "start_time": "2021-10-19T15:55:59.177Z"
   },
   {
    "duration": 13,
    "start_time": "2021-10-19T15:57:27.904Z"
   },
   {
    "duration": 1113,
    "start_time": "2021-10-19T15:57:31.708Z"
   },
   {
    "duration": 11,
    "start_time": "2021-10-19T15:58:01.563Z"
   },
   {
    "duration": 1014,
    "start_time": "2021-10-19T15:58:04.806Z"
   },
   {
    "duration": 1141,
    "start_time": "2021-10-19T18:11:53.678Z"
   },
   {
    "duration": 50,
    "start_time": "2021-10-19T18:11:54.820Z"
   },
   {
    "duration": 9,
    "start_time": "2021-10-19T18:11:54.872Z"
   },
   {
    "duration": 8,
    "start_time": "2021-10-19T18:11:54.883Z"
   },
   {
    "duration": 27,
    "start_time": "2021-10-19T18:11:54.892Z"
   },
   {
    "duration": 15,
    "start_time": "2021-10-19T18:11:54.920Z"
   },
   {
    "duration": 3,
    "start_time": "2021-10-19T18:11:54.936Z"
   },
   {
    "duration": 36,
    "start_time": "2021-10-19T18:11:54.940Z"
   },
   {
    "duration": 5,
    "start_time": "2021-10-19T18:11:54.979Z"
   },
   {
    "duration": 13,
    "start_time": "2021-10-19T18:11:54.985Z"
   },
   {
    "duration": 5,
    "start_time": "2021-10-19T18:11:55.000Z"
   },
   {
    "duration": 288,
    "start_time": "2021-10-19T18:11:55.007Z"
   },
   {
    "duration": 214,
    "start_time": "2021-10-19T18:11:55.297Z"
   },
   {
    "duration": 6,
    "start_time": "2021-10-19T18:11:55.513Z"
   },
   {
    "duration": 1902,
    "start_time": "2021-10-19T18:11:55.520Z"
   },
   {
    "duration": 7,
    "start_time": "2021-10-19T18:11:57.424Z"
   },
   {
    "duration": 1195,
    "start_time": "2021-10-19T18:11:57.433Z"
   },
   {
    "duration": 8,
    "start_time": "2021-10-19T18:11:58.630Z"
   },
   {
    "duration": 492,
    "start_time": "2021-10-19T18:11:58.640Z"
   },
   {
    "duration": 605,
    "start_time": "2021-10-19T18:11:59.133Z"
   },
   {
    "duration": 3020,
    "start_time": "2021-10-19T18:11:59.739Z"
   },
   {
    "duration": 578,
    "start_time": "2021-10-19T18:12:02.761Z"
   },
   {
    "duration": 158,
    "start_time": "2021-10-19T18:12:03.340Z"
   },
   {
    "duration": 16,
    "start_time": "2021-10-19T18:12:03.499Z"
   },
   {
    "duration": 4,
    "start_time": "2021-10-19T18:16:55.304Z"
   },
   {
    "duration": 623,
    "start_time": "2021-10-19T18:16:57.046Z"
   },
   {
    "duration": 4,
    "start_time": "2021-10-19T18:17:27.756Z"
   },
   {
    "duration": 679,
    "start_time": "2021-10-19T18:17:29.016Z"
   },
   {
    "duration": 3,
    "start_time": "2021-10-19T18:57:33.508Z"
   },
   {
    "duration": 690,
    "start_time": "2021-10-19T18:57:34.687Z"
   },
   {
    "duration": 3,
    "start_time": "2021-10-19T18:57:49.277Z"
   },
   {
    "duration": 517,
    "start_time": "2021-10-19T18:57:53.628Z"
   },
   {
    "duration": 4,
    "start_time": "2021-10-19T19:00:49.456Z"
   },
   {
    "duration": 527,
    "start_time": "2021-10-19T19:00:51.857Z"
   },
   {
    "duration": 4,
    "start_time": "2021-10-19T19:04:48.705Z"
   },
   {
    "duration": 545,
    "start_time": "2021-10-19T19:04:50.620Z"
   },
   {
    "duration": 5,
    "start_time": "2021-10-19T19:06:54.892Z"
   },
   {
    "duration": 557,
    "start_time": "2021-10-19T19:06:55.865Z"
   },
   {
    "duration": 4,
    "start_time": "2021-10-19T19:07:36.471Z"
   },
   {
    "duration": 547,
    "start_time": "2021-10-19T19:07:38.020Z"
   },
   {
    "duration": 4,
    "start_time": "2021-10-19T19:10:39.145Z"
   },
   {
    "duration": 738,
    "start_time": "2021-10-19T19:10:40.791Z"
   },
   {
    "duration": 560,
    "start_time": "2021-10-19T19:11:42.662Z"
   },
   {
    "duration": 19,
    "start_time": "2021-10-19T19:18:47.074Z"
   },
   {
    "duration": 11,
    "start_time": "2021-10-19T19:19:06.379Z"
   },
   {
    "duration": 577,
    "start_time": "2021-10-19T19:19:06.392Z"
   },
   {
    "duration": 27,
    "start_time": "2021-10-19T19:19:06.971Z"
   },
   {
    "duration": 20,
    "start_time": "2021-10-19T19:20:08.913Z"
   },
   {
    "duration": 5,
    "start_time": "2021-10-19T19:30:14.049Z"
   },
   {
    "duration": 9,
    "start_time": "2021-10-19T19:32:54.130Z"
   },
   {
    "duration": 592,
    "start_time": "2021-10-19T19:32:54.768Z"
   },
   {
    "duration": 24,
    "start_time": "2021-10-19T19:32:55.470Z"
   },
   {
    "duration": 4,
    "start_time": "2021-10-19T19:34:16.338Z"
   },
   {
    "duration": 555,
    "start_time": "2021-10-19T19:34:16.835Z"
   },
   {
    "duration": 12,
    "start_time": "2021-10-19T19:36:05.685Z"
   },
   {
    "duration": 663,
    "start_time": "2021-10-19T19:36:06.254Z"
   },
   {
    "duration": 585,
    "start_time": "2021-10-19T19:36:15.436Z"
   },
   {
    "duration": 21,
    "start_time": "2021-10-19T19:36:16.023Z"
   },
   {
    "duration": 26,
    "start_time": "2021-10-19T19:36:25.568Z"
   },
   {
    "duration": 554,
    "start_time": "2021-10-19T19:37:34.720Z"
   },
   {
    "duration": 21,
    "start_time": "2021-10-19T19:37:37.906Z"
   },
   {
    "duration": 11,
    "start_time": "2021-10-19T19:38:29.745Z"
   },
   {
    "duration": 11,
    "start_time": "2021-10-19T19:38:43.538Z"
   },
   {
    "duration": 10,
    "start_time": "2021-10-19T19:38:51.738Z"
   },
   {
    "duration": 3,
    "start_time": "2021-10-19T19:44:01.174Z"
   },
   {
    "duration": 54,
    "start_time": "2021-10-19T19:44:01.187Z"
   },
   {
    "duration": 9,
    "start_time": "2021-10-19T19:44:01.243Z"
   },
   {
    "duration": 16,
    "start_time": "2021-10-19T19:44:01.254Z"
   },
   {
    "duration": 32,
    "start_time": "2021-10-19T19:44:01.277Z"
   },
   {
    "duration": 15,
    "start_time": "2021-10-19T19:44:01.311Z"
   },
   {
    "duration": 3,
    "start_time": "2021-10-19T19:44:01.327Z"
   },
   {
    "duration": 10,
    "start_time": "2021-10-19T19:44:01.332Z"
   },
   {
    "duration": 5,
    "start_time": "2021-10-19T19:44:01.344Z"
   },
   {
    "duration": 12,
    "start_time": "2021-10-19T19:44:01.379Z"
   },
   {
    "duration": 12,
    "start_time": "2021-10-19T19:44:01.393Z"
   },
   {
    "duration": 377,
    "start_time": "2021-10-19T19:44:01.406Z"
   },
   {
    "duration": 261,
    "start_time": "2021-10-19T19:44:01.785Z"
   },
   {
    "duration": 7,
    "start_time": "2021-10-19T19:44:02.047Z"
   },
   {
    "duration": 2960,
    "start_time": "2021-10-19T19:44:02.056Z"
   },
   {
    "duration": 6,
    "start_time": "2021-10-19T19:44:05.018Z"
   },
   {
    "duration": 1202,
    "start_time": "2021-10-19T19:44:05.025Z"
   },
   {
    "duration": 6,
    "start_time": "2021-10-19T19:44:06.228Z"
   },
   {
    "duration": 482,
    "start_time": "2021-10-19T19:44:06.235Z"
   },
   {
    "duration": 604,
    "start_time": "2021-10-19T19:44:06.719Z"
   },
   {
    "duration": 3337,
    "start_time": "2021-10-19T19:44:07.324Z"
   },
   {
    "duration": 612,
    "start_time": "2021-10-19T19:44:10.662Z"
   },
   {
    "duration": 164,
    "start_time": "2021-10-19T19:44:11.276Z"
   },
   {
    "duration": 17,
    "start_time": "2021-10-19T19:44:11.442Z"
   },
   {
    "duration": 17,
    "start_time": "2021-10-19T19:44:11.460Z"
   },
   {
    "duration": 665,
    "start_time": "2021-10-19T19:44:11.479Z"
   },
   {
    "duration": 607,
    "start_time": "2021-10-19T19:44:12.146Z"
   },
   {
    "duration": 3,
    "start_time": "2021-10-19T19:44:12.756Z"
   },
   {
    "duration": 597,
    "start_time": "2021-10-19T19:44:12.761Z"
   },
   {
    "duration": 10,
    "start_time": "2021-10-19T19:44:30.764Z"
   },
   {
    "duration": 10,
    "start_time": "2021-10-19T19:45:16.294Z"
   },
   {
    "duration": 9,
    "start_time": "2021-10-19T19:46:53.068Z"
   },
   {
    "duration": 1539,
    "start_time": "2021-10-20T14:46:00.296Z"
   },
   {
    "duration": 70,
    "start_time": "2021-10-20T14:46:01.838Z"
   },
   {
    "duration": 14,
    "start_time": "2021-10-20T14:46:01.911Z"
   },
   {
    "duration": 35,
    "start_time": "2021-10-20T14:46:01.928Z"
   },
   {
    "duration": 61,
    "start_time": "2021-10-20T14:46:01.965Z"
   },
   {
    "duration": 31,
    "start_time": "2021-10-20T14:46:02.028Z"
   },
   {
    "duration": 13,
    "start_time": "2021-10-20T14:46:02.062Z"
   },
   {
    "duration": 29,
    "start_time": "2021-10-20T14:46:02.078Z"
   },
   {
    "duration": 22,
    "start_time": "2021-10-20T14:46:02.112Z"
   },
   {
    "duration": 26,
    "start_time": "2021-10-20T14:46:02.137Z"
   },
   {
    "duration": 37,
    "start_time": "2021-10-20T14:46:02.165Z"
   },
   {
    "duration": 511,
    "start_time": "2021-10-20T14:46:02.205Z"
   },
   {
    "duration": 375,
    "start_time": "2021-10-20T14:46:02.719Z"
   },
   {
    "duration": 10,
    "start_time": "2021-10-20T14:46:03.096Z"
   },
   {
    "duration": 3378,
    "start_time": "2021-10-20T14:46:03.108Z"
   },
   {
    "duration": 8,
    "start_time": "2021-10-20T14:46:06.488Z"
   },
   {
    "duration": 1880,
    "start_time": "2021-10-20T14:46:06.499Z"
   },
   {
    "duration": 8,
    "start_time": "2021-10-20T14:46:08.381Z"
   },
   {
    "duration": 530,
    "start_time": "2021-10-20T14:46:18.572Z"
   },
   {
    "duration": 377,
    "start_time": "2021-10-20T14:46:26.508Z"
   },
   {
    "duration": 50,
    "start_time": "2021-10-20T14:46:31.486Z"
   },
   {
    "duration": 1337,
    "start_time": "2024-03-19T08:19:11.786Z"
   },
   {
    "duration": 109,
    "start_time": "2024-03-19T08:19:13.125Z"
   },
   {
    "duration": 15,
    "start_time": "2024-03-19T08:19:13.236Z"
   },
   {
    "duration": 9,
    "start_time": "2024-03-19T08:19:13.254Z"
   },
   {
    "duration": 27,
    "start_time": "2024-03-19T08:19:13.265Z"
   },
   {
    "duration": 36,
    "start_time": "2024-03-19T08:19:13.294Z"
   },
   {
    "duration": 4,
    "start_time": "2024-03-19T08:19:13.332Z"
   },
   {
    "duration": 11,
    "start_time": "2024-03-19T08:19:13.337Z"
   },
   {
    "duration": 7,
    "start_time": "2024-03-19T08:19:13.349Z"
   },
   {
    "duration": 9,
    "start_time": "2024-03-19T08:19:13.359Z"
   },
   {
    "duration": 6,
    "start_time": "2024-03-19T08:19:13.370Z"
   },
   {
    "duration": 235,
    "start_time": "2024-03-19T08:19:13.377Z"
   },
   {
    "duration": 171,
    "start_time": "2024-03-19T08:19:13.614Z"
   },
   {
    "duration": 7,
    "start_time": "2024-03-19T08:19:13.786Z"
   },
   {
    "duration": 1469,
    "start_time": "2024-03-19T08:19:13.794Z"
   },
   {
    "duration": 5,
    "start_time": "2024-03-19T08:19:15.265Z"
   },
   {
    "duration": 1094,
    "start_time": "2024-03-19T08:19:15.272Z"
   },
   {
    "duration": 6,
    "start_time": "2024-03-19T08:19:16.367Z"
   },
   {
    "duration": 33,
    "start_time": "2024-03-19T08:19:16.374Z"
   },
   {
    "duration": 289,
    "start_time": "2024-03-19T08:19:16.408Z"
   },
   {
    "duration": 689,
    "start_time": "2024-03-19T08:19:16.699Z"
   },
   {
    "duration": 1946,
    "start_time": "2024-03-19T08:19:17.389Z"
   },
   {
    "duration": 685,
    "start_time": "2024-03-19T08:19:19.337Z"
   },
   {
    "duration": 175,
    "start_time": "2024-03-19T08:19:20.024Z"
   },
   {
    "duration": 20,
    "start_time": "2024-03-19T08:19:20.201Z"
   },
   {
    "duration": 10,
    "start_time": "2024-03-19T08:19:20.223Z"
   },
   {
    "duration": 418,
    "start_time": "2024-03-19T08:19:20.235Z"
   },
   {
    "duration": 523,
    "start_time": "2024-03-19T08:19:20.656Z"
   },
   {
    "duration": 4,
    "start_time": "2024-03-19T08:19:21.181Z"
   },
   {
    "duration": 394,
    "start_time": "2024-03-19T08:19:21.186Z"
   },
   {
    "duration": 8,
    "start_time": "2024-03-19T08:19:21.581Z"
   },
   {
    "duration": 12,
    "start_time": "2024-03-19T08:19:21.591Z"
   }
  ],
  "kernelspec": {
   "display_name": "Python 3 (ipykernel)",
   "language": "python",
   "name": "python3"
  },
  "language_info": {
   "codemirror_mode": {
    "name": "ipython",
    "version": 3
   },
   "file_extension": ".py",
   "mimetype": "text/x-python",
   "name": "python",
   "nbconvert_exporter": "python",
   "pygments_lexer": "ipython3",
   "version": "3.9.7"
  },
  "toc": {
   "base_numbering": 1,
   "nav_menu": {},
   "number_sections": true,
   "sideBar": true,
   "skip_h1_title": true,
   "title_cell": "Содержание",
   "title_sidebar": "Contents",
   "toc_cell": true,
   "toc_position": {},
   "toc_section_display": true,
   "toc_window_display": false
  },
  "varInspector": {
   "cols": {
    "lenName": 16,
    "lenType": 16,
    "lenVar": 40
   },
   "kernels_config": {
    "python": {
     "delete_cmd_postfix": "",
     "delete_cmd_prefix": "del ",
     "library": "var_list.py",
     "varRefreshCmd": "print(var_dic_list())"
    },
    "r": {
     "delete_cmd_postfix": ") ",
     "delete_cmd_prefix": "rm(",
     "library": "var_list.r",
     "varRefreshCmd": "cat(var_dic_list()) "
    }
   },
   "types_to_exclude": [
    "module",
    "function",
    "builtin_function_or_method",
    "instance",
    "_Feature"
   ],
   "window_display": false
  }
 },
 "nbformat": 4,
 "nbformat_minor": 2
}
