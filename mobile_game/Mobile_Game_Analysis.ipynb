{
 "cells": [
  {
   "cell_type": "markdown",
   "metadata": {},
   "source": [
    "# Анализ мобильной игры"
   ]
  },
  {
   "cell_type": "markdown",
   "metadata": {},
   "source": [
    "## Задачи проекта\n",
    "\n",
    "Представьте, что вы работаете в компании, которая разрабатывает мобильные игры. К вам пришел менеджер с рядом задач по исследованию нескольких аспектов мобильного приложения:\n",
    "\n",
    "1. В первую очередь, его интересует показатель Retention. Напишите функцию для его подсчета.\n",
    "2. Помимо этого, в компании провели A/B тестирование наборов акционных предложений. На основе имеющихся данных определите, какой набор можно считать лучшим и на основе каких метрик стоит принять правильное решение.\n",
    "3. Предложите метрики для оценки результатов последнего прошедшего тематического события в игре."
   ]
  },
  {
   "cell_type": "markdown",
   "metadata": {},
   "source": [
    "## Описание данных\n",
    "\n",
    "Таблица ***reg_data*** - данные о времени регистрации:\n",
    "- `reg_ts` - время регистрации;  \n",
    "- `uid` - уникальный номер пользователя игры.\n",
    "\n",
    "Таблица ***auth_data*** - данные о времени захода пользователей в игру:\n",
    "- `auth_ts` - время, когда пользователь авторизовался в игре;\n",
    "- `uid` - уникальный номер пользователя игры.\n",
    "\n",
    "Таблица ***ab_test_result*** - результаты A/B теста, в котором двум группам пользователей предлагались различные наборы акционных предложений. Известно, что ARPU в тестовой группе выше на 5%, чем в контрольной. При этом в контрольной группе 1928 игроков из 202103 оказались платящими, а в тестовой – 1805 из 202667:\n",
    "- `user_id` - ID пользователя;\n",
    "- `revenue` - выручка, полученная от пользователя;\n",
    "- `testgroup` - группа, к которой принадлежит пользователь (А или B)."
   ]
  },
  {
   "cell_type": "markdown",
   "metadata": {},
   "source": [
    "## Загрузка данных"
   ]
  },
  {
   "cell_type": "code",
   "execution_count": 1,
   "metadata": {},
   "outputs": [],
   "source": [
    "import pandas as pd\n",
    "import requests\n",
    "from urllib.parse import urlencode\n",
    "import numpy as np\n",
    "import matplotlib.pyplot as plt\n",
    "import seaborn as sns\n",
    "import matplotlib.colors as mcolors\n",
    "from scipy.stats import chi2_contingency\n",
    "from scipy.stats import ttest_ind"
   ]
  },
  {
   "cell_type": "code",
   "execution_count": 2,
   "metadata": {},
   "outputs": [],
   "source": [
    "reg_data = pd.read_csv(\n",
    "    '/mnt/HC_Volume_18315164/home-jupyter/jupyter-vladimir-kosenkov--906f3/shared/problem1-reg_data.csv',\n",
    "                      sep=';')\n",
    "auth_data = pd.read_csv(\n",
    "    '/mnt/HC_Volume_18315164/home-jupyter/jupyter-vladimir-kosenkov--906f3/shared/problem1-auth_data.csv',\n",
    "                        sep=';')\n",
    "\n",
    "# Загружаем датасеты по ссылке на яндекс диске\n",
    "base_url = 'https://cloud-api.yandex.net/v1/disk/public/resources/download?'\n",
    "\n",
    "# Ссылки на наши датасеты на яндекс диске\n",
    "public_key1 = 'https://disk.yandex.ru/d/SOkIsD5A8xlI7Q'\n",
    "\n",
    "# Получаем загрузочные ссылки\n",
    "final_url1 = base_url + urlencode(dict(public_key = public_key1))\n",
    "\n",
    "response1 = requests.get(final_url1)\n",
    "\n",
    "download_url1 = response1.json()['href']\n",
    "\n",
    "# Загружаем файлы в df \n",
    "download_response1 = requests.get(download_url1) \n",
    "\n",
    "ab_test_result = pd.read_csv(download_url1, sep=\";\")"
   ]
  },
  {
   "cell_type": "code",
   "execution_count": 3,
   "metadata": {},
   "outputs": [
    {
     "data": {
      "text/html": [
       "<div>\n",
       "<style scoped>\n",
       "    .dataframe tbody tr th:only-of-type {\n",
       "        vertical-align: middle;\n",
       "    }\n",
       "\n",
       "    .dataframe tbody tr th {\n",
       "        vertical-align: top;\n",
       "    }\n",
       "\n",
       "    .dataframe thead th {\n",
       "        text-align: right;\n",
       "    }\n",
       "</style>\n",
       "<table border=\"1\" class=\"dataframe\">\n",
       "  <thead>\n",
       "    <tr style=\"text-align: right;\">\n",
       "      <th></th>\n",
       "      <th>reg_ts</th>\n",
       "      <th>uid</th>\n",
       "    </tr>\n",
       "  </thead>\n",
       "  <tbody>\n",
       "    <tr>\n",
       "      <th>0</th>\n",
       "      <td>911382223</td>\n",
       "      <td>1</td>\n",
       "    </tr>\n",
       "    <tr>\n",
       "      <th>1</th>\n",
       "      <td>932683089</td>\n",
       "      <td>2</td>\n",
       "    </tr>\n",
       "    <tr>\n",
       "      <th>2</th>\n",
       "      <td>947802447</td>\n",
       "      <td>3</td>\n",
       "    </tr>\n",
       "    <tr>\n",
       "      <th>3</th>\n",
       "      <td>959523541</td>\n",
       "      <td>4</td>\n",
       "    </tr>\n",
       "    <tr>\n",
       "      <th>4</th>\n",
       "      <td>969103313</td>\n",
       "      <td>5</td>\n",
       "    </tr>\n",
       "  </tbody>\n",
       "</table>\n",
       "</div>"
      ],
      "text/plain": [
       "      reg_ts  uid\n",
       "0  911382223    1\n",
       "1  932683089    2\n",
       "2  947802447    3\n",
       "3  959523541    4\n",
       "4  969103313    5"
      ]
     },
     "execution_count": 3,
     "metadata": {},
     "output_type": "execute_result"
    }
   ],
   "source": [
    "reg_data.head()"
   ]
  },
  {
   "cell_type": "code",
   "execution_count": 4,
   "metadata": {},
   "outputs": [
    {
     "name": "stdout",
     "output_type": "stream",
     "text": [
      "<class 'pandas.core.frame.DataFrame'>\n",
      "RangeIndex: 1000000 entries, 0 to 999999\n",
      "Data columns (total 2 columns):\n",
      " #   Column  Non-Null Count    Dtype\n",
      "---  ------  --------------    -----\n",
      " 0   reg_ts  1000000 non-null  int64\n",
      " 1   uid     1000000 non-null  int64\n",
      "dtypes: int64(2)\n",
      "memory usage: 15.3 MB\n"
     ]
    }
   ],
   "source": [
    "reg_data.info()"
   ]
  },
  {
   "cell_type": "code",
   "execution_count": 5,
   "metadata": {},
   "outputs": [
    {
     "data": {
      "text/html": [
       "<div>\n",
       "<style scoped>\n",
       "    .dataframe tbody tr th:only-of-type {\n",
       "        vertical-align: middle;\n",
       "    }\n",
       "\n",
       "    .dataframe tbody tr th {\n",
       "        vertical-align: top;\n",
       "    }\n",
       "\n",
       "    .dataframe thead th {\n",
       "        text-align: right;\n",
       "    }\n",
       "</style>\n",
       "<table border=\"1\" class=\"dataframe\">\n",
       "  <thead>\n",
       "    <tr style=\"text-align: right;\">\n",
       "      <th></th>\n",
       "      <th>reg_ts</th>\n",
       "      <th>uid</th>\n",
       "    </tr>\n",
       "  </thead>\n",
       "  <tbody>\n",
       "    <tr>\n",
       "      <th>count</th>\n",
       "      <td>1.000000e+06</td>\n",
       "      <td>1.000000e+06</td>\n",
       "    </tr>\n",
       "    <tr>\n",
       "      <th>mean</th>\n",
       "      <td>1.548332e+09</td>\n",
       "      <td>5.552354e+05</td>\n",
       "    </tr>\n",
       "    <tr>\n",
       "      <th>std</th>\n",
       "      <td>5.253653e+07</td>\n",
       "      <td>3.206011e+05</td>\n",
       "    </tr>\n",
       "    <tr>\n",
       "      <th>min</th>\n",
       "      <td>9.113822e+08</td>\n",
       "      <td>1.000000e+00</td>\n",
       "    </tr>\n",
       "    <tr>\n",
       "      <th>25%</th>\n",
       "      <td>1.528034e+09</td>\n",
       "      <td>2.776438e+05</td>\n",
       "    </tr>\n",
       "    <tr>\n",
       "      <th>50%</th>\n",
       "      <td>1.564454e+09</td>\n",
       "      <td>5.550455e+05</td>\n",
       "    </tr>\n",
       "    <tr>\n",
       "      <th>75%</th>\n",
       "      <td>1.585759e+09</td>\n",
       "      <td>8.329712e+05</td>\n",
       "    </tr>\n",
       "    <tr>\n",
       "      <th>max</th>\n",
       "      <td>1.600874e+09</td>\n",
       "      <td>1.110622e+06</td>\n",
       "    </tr>\n",
       "  </tbody>\n",
       "</table>\n",
       "</div>"
      ],
      "text/plain": [
       "             reg_ts           uid\n",
       "count  1.000000e+06  1.000000e+06\n",
       "mean   1.548332e+09  5.552354e+05\n",
       "std    5.253653e+07  3.206011e+05\n",
       "min    9.113822e+08  1.000000e+00\n",
       "25%    1.528034e+09  2.776438e+05\n",
       "50%    1.564454e+09  5.550455e+05\n",
       "75%    1.585759e+09  8.329712e+05\n",
       "max    1.600874e+09  1.110622e+06"
      ]
     },
     "execution_count": 5,
     "metadata": {},
     "output_type": "execute_result"
    }
   ],
   "source": [
    "reg_data.describe()"
   ]
  },
  {
   "cell_type": "code",
   "execution_count": 6,
   "metadata": {},
   "outputs": [
    {
     "data": {
      "text/plain": [
       "1000000"
      ]
     },
     "execution_count": 6,
     "metadata": {},
     "output_type": "execute_result"
    }
   ],
   "source": [
    "reg_data.uid.nunique()"
   ]
  },
  {
   "cell_type": "markdown",
   "metadata": {},
   "source": [
    "В таблице reg_data все пользователи уникальные, нет задвоения. Время регистрации указано в секундах, стоит создать новое поле с соответсвующим форматом."
   ]
  },
  {
   "cell_type": "code",
   "execution_count": 7,
   "metadata": {},
   "outputs": [
    {
     "data": {
      "text/html": [
       "<div>\n",
       "<style scoped>\n",
       "    .dataframe tbody tr th:only-of-type {\n",
       "        vertical-align: middle;\n",
       "    }\n",
       "\n",
       "    .dataframe tbody tr th {\n",
       "        vertical-align: top;\n",
       "    }\n",
       "\n",
       "    .dataframe thead th {\n",
       "        text-align: right;\n",
       "    }\n",
       "</style>\n",
       "<table border=\"1\" class=\"dataframe\">\n",
       "  <thead>\n",
       "    <tr style=\"text-align: right;\">\n",
       "      <th></th>\n",
       "      <th>reg_ts</th>\n",
       "      <th>uid</th>\n",
       "      <th>registration_date</th>\n",
       "    </tr>\n",
       "  </thead>\n",
       "  <tbody>\n",
       "    <tr>\n",
       "      <th>999995</th>\n",
       "      <td>1600874034</td>\n",
       "      <td>1110618</td>\n",
       "      <td>2020-09-23 15:13:54</td>\n",
       "    </tr>\n",
       "    <tr>\n",
       "      <th>999996</th>\n",
       "      <td>1600874086</td>\n",
       "      <td>1110619</td>\n",
       "      <td>2020-09-23 15:14:46</td>\n",
       "    </tr>\n",
       "    <tr>\n",
       "      <th>999997</th>\n",
       "      <td>1600874139</td>\n",
       "      <td>1110620</td>\n",
       "      <td>2020-09-23 15:15:39</td>\n",
       "    </tr>\n",
       "    <tr>\n",
       "      <th>999998</th>\n",
       "      <td>1600874191</td>\n",
       "      <td>1110621</td>\n",
       "      <td>2020-09-23 15:16:31</td>\n",
       "    </tr>\n",
       "    <tr>\n",
       "      <th>999999</th>\n",
       "      <td>1600874244</td>\n",
       "      <td>1110622</td>\n",
       "      <td>2020-09-23 15:17:24</td>\n",
       "    </tr>\n",
       "  </tbody>\n",
       "</table>\n",
       "</div>"
      ],
      "text/plain": [
       "            reg_ts      uid   registration_date\n",
       "999995  1600874034  1110618 2020-09-23 15:13:54\n",
       "999996  1600874086  1110619 2020-09-23 15:14:46\n",
       "999997  1600874139  1110620 2020-09-23 15:15:39\n",
       "999998  1600874191  1110621 2020-09-23 15:16:31\n",
       "999999  1600874244  1110622 2020-09-23 15:17:24"
      ]
     },
     "execution_count": 7,
     "metadata": {},
     "output_type": "execute_result"
    }
   ],
   "source": [
    "reg_data['registration_date'] = pd.to_datetime(reg_data.reg_ts, unit='s')\n",
    "reg_data.tail()"
   ]
  },
  {
   "cell_type": "code",
   "execution_count": 8,
   "metadata": {},
   "outputs": [
    {
     "data": {
      "text/plain": [
       "count                          1000000\n",
       "mean     2019-01-24 12:12:34.523666688\n",
       "min                1998-11-18 09:43:43\n",
       "25%         2018-06-03 13:55:11.500000\n",
       "50%                2019-07-30 02:35:25\n",
       "75%         2020-04-01 16:28:40.500000\n",
       "max                2020-09-23 15:17:24\n",
       "Name: registration_date, dtype: object"
      ]
     },
     "execution_count": 8,
     "metadata": {},
     "output_type": "execute_result"
    }
   ],
   "source": [
    "reg_data.registration_date.describe(datetime_is_numeric=True)"
   ]
  },
  {
   "cell_type": "markdown",
   "metadata": {},
   "source": [
    "Видим, что первая дата регистрации была в 1998 году, а последняя 23 сентября 2020 года."
   ]
  },
  {
   "cell_type": "code",
   "execution_count": 9,
   "metadata": {},
   "outputs": [
    {
     "data": {
      "text/html": [
       "<div>\n",
       "<style scoped>\n",
       "    .dataframe tbody tr th:only-of-type {\n",
       "        vertical-align: middle;\n",
       "    }\n",
       "\n",
       "    .dataframe tbody tr th {\n",
       "        vertical-align: top;\n",
       "    }\n",
       "\n",
       "    .dataframe thead th {\n",
       "        text-align: right;\n",
       "    }\n",
       "</style>\n",
       "<table border=\"1\" class=\"dataframe\">\n",
       "  <thead>\n",
       "    <tr style=\"text-align: right;\">\n",
       "      <th></th>\n",
       "      <th>auth_ts</th>\n",
       "      <th>uid</th>\n",
       "    </tr>\n",
       "  </thead>\n",
       "  <tbody>\n",
       "    <tr>\n",
       "      <th>0</th>\n",
       "      <td>911382223</td>\n",
       "      <td>1</td>\n",
       "    </tr>\n",
       "    <tr>\n",
       "      <th>1</th>\n",
       "      <td>932683089</td>\n",
       "      <td>2</td>\n",
       "    </tr>\n",
       "    <tr>\n",
       "      <th>2</th>\n",
       "      <td>932921206</td>\n",
       "      <td>2</td>\n",
       "    </tr>\n",
       "    <tr>\n",
       "      <th>3</th>\n",
       "      <td>933393015</td>\n",
       "      <td>2</td>\n",
       "    </tr>\n",
       "    <tr>\n",
       "      <th>4</th>\n",
       "      <td>933875379</td>\n",
       "      <td>2</td>\n",
       "    </tr>\n",
       "  </tbody>\n",
       "</table>\n",
       "</div>"
      ],
      "text/plain": [
       "     auth_ts  uid\n",
       "0  911382223    1\n",
       "1  932683089    2\n",
       "2  932921206    2\n",
       "3  933393015    2\n",
       "4  933875379    2"
      ]
     },
     "execution_count": 9,
     "metadata": {},
     "output_type": "execute_result"
    }
   ],
   "source": [
    "auth_data.head()"
   ]
  },
  {
   "cell_type": "code",
   "execution_count": 10,
   "metadata": {},
   "outputs": [
    {
     "name": "stdout",
     "output_type": "stream",
     "text": [
      "<class 'pandas.core.frame.DataFrame'>\n",
      "RangeIndex: 9601013 entries, 0 to 9601012\n",
      "Data columns (total 2 columns):\n",
      " #   Column   Dtype\n",
      "---  ------   -----\n",
      " 0   auth_ts  int64\n",
      " 1   uid      int64\n",
      "dtypes: int64(2)\n",
      "memory usage: 146.5 MB\n"
     ]
    }
   ],
   "source": [
    "auth_data.info()"
   ]
  },
  {
   "cell_type": "code",
   "execution_count": 11,
   "metadata": {},
   "outputs": [
    {
     "data": {
      "text/html": [
       "<div>\n",
       "<style scoped>\n",
       "    .dataframe tbody tr th:only-of-type {\n",
       "        vertical-align: middle;\n",
       "    }\n",
       "\n",
       "    .dataframe tbody tr th {\n",
       "        vertical-align: top;\n",
       "    }\n",
       "\n",
       "    .dataframe thead th {\n",
       "        text-align: right;\n",
       "    }\n",
       "</style>\n",
       "<table border=\"1\" class=\"dataframe\">\n",
       "  <thead>\n",
       "    <tr style=\"text-align: right;\">\n",
       "      <th></th>\n",
       "      <th>auth_ts</th>\n",
       "      <th>uid</th>\n",
       "    </tr>\n",
       "  </thead>\n",
       "  <tbody>\n",
       "    <tr>\n",
       "      <th>count</th>\n",
       "      <td>9.601013e+06</td>\n",
       "      <td>9.601013e+06</td>\n",
       "    </tr>\n",
       "    <tr>\n",
       "      <th>mean</th>\n",
       "      <td>1.548778e+09</td>\n",
       "      <td>3.347198e+05</td>\n",
       "    </tr>\n",
       "    <tr>\n",
       "      <th>std</th>\n",
       "      <td>5.160527e+07</td>\n",
       "      <td>2.832669e+05</td>\n",
       "    </tr>\n",
       "    <tr>\n",
       "      <th>min</th>\n",
       "      <td>9.113822e+08</td>\n",
       "      <td>1.000000e+00</td>\n",
       "    </tr>\n",
       "    <tr>\n",
       "      <th>25%</th>\n",
       "      <td>1.528375e+09</td>\n",
       "      <td>9.599700e+04</td>\n",
       "    </tr>\n",
       "    <tr>\n",
       "      <th>50%</th>\n",
       "      <td>1.564577e+09</td>\n",
       "      <td>2.579210e+05</td>\n",
       "    </tr>\n",
       "    <tr>\n",
       "      <th>75%</th>\n",
       "      <td>1.585823e+09</td>\n",
       "      <td>5.190250e+05</td>\n",
       "    </tr>\n",
       "    <tr>\n",
       "      <th>max</th>\n",
       "      <td>1.600874e+09</td>\n",
       "      <td>1.110622e+06</td>\n",
       "    </tr>\n",
       "  </tbody>\n",
       "</table>\n",
       "</div>"
      ],
      "text/plain": [
       "            auth_ts           uid\n",
       "count  9.601013e+06  9.601013e+06\n",
       "mean   1.548778e+09  3.347198e+05\n",
       "std    5.160527e+07  2.832669e+05\n",
       "min    9.113822e+08  1.000000e+00\n",
       "25%    1.528375e+09  9.599700e+04\n",
       "50%    1.564577e+09  2.579210e+05\n",
       "75%    1.585823e+09  5.190250e+05\n",
       "max    1.600874e+09  1.110622e+06"
      ]
     },
     "execution_count": 11,
     "metadata": {},
     "output_type": "execute_result"
    }
   ],
   "source": [
    "auth_data.describe()"
   ]
  },
  {
   "cell_type": "code",
   "execution_count": 12,
   "metadata": {},
   "outputs": [
    {
     "data": {
      "text/plain": [
       "0"
      ]
     },
     "execution_count": 12,
     "metadata": {},
     "output_type": "execute_result"
    }
   ],
   "source": [
    "auth_data.duplicated().sum()"
   ]
  },
  {
   "cell_type": "markdown",
   "metadata": {},
   "source": [
    "В таблице auth_data нет дубликатов, все авторизации уникальные. Время авторизации указано в секундах, стоит создать новое поле с соответсвующим форматом."
   ]
  },
  {
   "cell_type": "code",
   "execution_count": 13,
   "metadata": {},
   "outputs": [
    {
     "data": {
      "text/html": [
       "<div>\n",
       "<style scoped>\n",
       "    .dataframe tbody tr th:only-of-type {\n",
       "        vertical-align: middle;\n",
       "    }\n",
       "\n",
       "    .dataframe tbody tr th {\n",
       "        vertical-align: top;\n",
       "    }\n",
       "\n",
       "    .dataframe thead th {\n",
       "        text-align: right;\n",
       "    }\n",
       "</style>\n",
       "<table border=\"1\" class=\"dataframe\">\n",
       "  <thead>\n",
       "    <tr style=\"text-align: right;\">\n",
       "      <th></th>\n",
       "      <th>auth_ts</th>\n",
       "      <th>uid</th>\n",
       "      <th>authorization_date</th>\n",
       "    </tr>\n",
       "  </thead>\n",
       "  <tbody>\n",
       "    <tr>\n",
       "      <th>9601008</th>\n",
       "      <td>1600874034</td>\n",
       "      <td>1110618</td>\n",
       "      <td>2020-09-23 15:13:54</td>\n",
       "    </tr>\n",
       "    <tr>\n",
       "      <th>9601009</th>\n",
       "      <td>1600874086</td>\n",
       "      <td>1110619</td>\n",
       "      <td>2020-09-23 15:14:46</td>\n",
       "    </tr>\n",
       "    <tr>\n",
       "      <th>9601010</th>\n",
       "      <td>1600874139</td>\n",
       "      <td>1110620</td>\n",
       "      <td>2020-09-23 15:15:39</td>\n",
       "    </tr>\n",
       "    <tr>\n",
       "      <th>9601011</th>\n",
       "      <td>1600874191</td>\n",
       "      <td>1110621</td>\n",
       "      <td>2020-09-23 15:16:31</td>\n",
       "    </tr>\n",
       "    <tr>\n",
       "      <th>9601012</th>\n",
       "      <td>1600874244</td>\n",
       "      <td>1110622</td>\n",
       "      <td>2020-09-23 15:17:24</td>\n",
       "    </tr>\n",
       "  </tbody>\n",
       "</table>\n",
       "</div>"
      ],
      "text/plain": [
       "            auth_ts      uid  authorization_date\n",
       "9601008  1600874034  1110618 2020-09-23 15:13:54\n",
       "9601009  1600874086  1110619 2020-09-23 15:14:46\n",
       "9601010  1600874139  1110620 2020-09-23 15:15:39\n",
       "9601011  1600874191  1110621 2020-09-23 15:16:31\n",
       "9601012  1600874244  1110622 2020-09-23 15:17:24"
      ]
     },
     "execution_count": 13,
     "metadata": {},
     "output_type": "execute_result"
    }
   ],
   "source": [
    "auth_data['authorization_date'] = pd.to_datetime(auth_data.auth_ts, unit='s')\n",
    "auth_data.tail()"
   ]
  },
  {
   "cell_type": "code",
   "execution_count": 14,
   "metadata": {},
   "outputs": [
    {
     "data": {
      "text/plain": [
       "count                          9601013\n",
       "mean     2019-01-29 16:12:06.254851584\n",
       "min                1998-11-18 09:43:43\n",
       "25%                2018-06-07 12:40:47\n",
       "50%                2019-07-31 12:43:16\n",
       "75%                2020-04-02 10:25:21\n",
       "max                2020-09-23 15:17:24\n",
       "Name: authorization_date, dtype: object"
      ]
     },
     "execution_count": 14,
     "metadata": {},
     "output_type": "execute_result"
    }
   ],
   "source": [
    "auth_data.authorization_date.describe(datetime_is_numeric=True)"
   ]
  },
  {
   "cell_type": "markdown",
   "metadata": {},
   "source": [
    "Также первая авторизация произошла в 1998 году, и последняя 23 сентября 2020 года."
   ]
  },
  {
   "cell_type": "code",
   "execution_count": 15,
   "metadata": {},
   "outputs": [
    {
     "data": {
      "text/html": [
       "<div>\n",
       "<style scoped>\n",
       "    .dataframe tbody tr th:only-of-type {\n",
       "        vertical-align: middle;\n",
       "    }\n",
       "\n",
       "    .dataframe tbody tr th {\n",
       "        vertical-align: top;\n",
       "    }\n",
       "\n",
       "    .dataframe thead th {\n",
       "        text-align: right;\n",
       "    }\n",
       "</style>\n",
       "<table border=\"1\" class=\"dataframe\">\n",
       "  <thead>\n",
       "    <tr style=\"text-align: right;\">\n",
       "      <th></th>\n",
       "      <th>user_id</th>\n",
       "      <th>revenue</th>\n",
       "      <th>testgroup</th>\n",
       "    </tr>\n",
       "  </thead>\n",
       "  <tbody>\n",
       "    <tr>\n",
       "      <th>0</th>\n",
       "      <td>1</td>\n",
       "      <td>0</td>\n",
       "      <td>b</td>\n",
       "    </tr>\n",
       "    <tr>\n",
       "      <th>1</th>\n",
       "      <td>2</td>\n",
       "      <td>0</td>\n",
       "      <td>a</td>\n",
       "    </tr>\n",
       "    <tr>\n",
       "      <th>2</th>\n",
       "      <td>3</td>\n",
       "      <td>0</td>\n",
       "      <td>a</td>\n",
       "    </tr>\n",
       "    <tr>\n",
       "      <th>3</th>\n",
       "      <td>4</td>\n",
       "      <td>0</td>\n",
       "      <td>b</td>\n",
       "    </tr>\n",
       "    <tr>\n",
       "      <th>4</th>\n",
       "      <td>5</td>\n",
       "      <td>0</td>\n",
       "      <td>b</td>\n",
       "    </tr>\n",
       "  </tbody>\n",
       "</table>\n",
       "</div>"
      ],
      "text/plain": [
       "   user_id  revenue testgroup\n",
       "0        1        0         b\n",
       "1        2        0         a\n",
       "2        3        0         a\n",
       "3        4        0         b\n",
       "4        5        0         b"
      ]
     },
     "execution_count": 15,
     "metadata": {},
     "output_type": "execute_result"
    }
   ],
   "source": [
    "ab_test_result.head()"
   ]
  },
  {
   "cell_type": "code",
   "execution_count": 16,
   "metadata": {},
   "outputs": [
    {
     "name": "stdout",
     "output_type": "stream",
     "text": [
      "<class 'pandas.core.frame.DataFrame'>\n",
      "RangeIndex: 404770 entries, 0 to 404769\n",
      "Data columns (total 3 columns):\n",
      " #   Column     Non-Null Count   Dtype \n",
      "---  ------     --------------   ----- \n",
      " 0   user_id    404770 non-null  int64 \n",
      " 1   revenue    404770 non-null  int64 \n",
      " 2   testgroup  404770 non-null  object\n",
      "dtypes: int64(2), object(1)\n",
      "memory usage: 9.3+ MB\n"
     ]
    }
   ],
   "source": [
    "ab_test_result.info()"
   ]
  },
  {
   "cell_type": "code",
   "execution_count": 17,
   "metadata": {},
   "outputs": [
    {
     "data": {
      "text/html": [
       "<div>\n",
       "<style scoped>\n",
       "    .dataframe tbody tr th:only-of-type {\n",
       "        vertical-align: middle;\n",
       "    }\n",
       "\n",
       "    .dataframe tbody tr th {\n",
       "        vertical-align: top;\n",
       "    }\n",
       "\n",
       "    .dataframe thead th {\n",
       "        text-align: right;\n",
       "    }\n",
       "</style>\n",
       "<table border=\"1\" class=\"dataframe\">\n",
       "  <thead>\n",
       "    <tr style=\"text-align: right;\">\n",
       "      <th></th>\n",
       "      <th>user_id</th>\n",
       "      <th>revenue</th>\n",
       "    </tr>\n",
       "  </thead>\n",
       "  <tbody>\n",
       "    <tr>\n",
       "      <th>count</th>\n",
       "      <td>404770.000000</td>\n",
       "      <td>404770.000000</td>\n",
       "    </tr>\n",
       "    <tr>\n",
       "      <th>mean</th>\n",
       "      <td>202385.500000</td>\n",
       "      <td>26.083435</td>\n",
       "    </tr>\n",
       "    <tr>\n",
       "      <th>std</th>\n",
       "      <td>116847.178567</td>\n",
       "      <td>681.652928</td>\n",
       "    </tr>\n",
       "    <tr>\n",
       "      <th>min</th>\n",
       "      <td>1.000000</td>\n",
       "      <td>0.000000</td>\n",
       "    </tr>\n",
       "    <tr>\n",
       "      <th>25%</th>\n",
       "      <td>101193.250000</td>\n",
       "      <td>0.000000</td>\n",
       "    </tr>\n",
       "    <tr>\n",
       "      <th>50%</th>\n",
       "      <td>202385.500000</td>\n",
       "      <td>0.000000</td>\n",
       "    </tr>\n",
       "    <tr>\n",
       "      <th>75%</th>\n",
       "      <td>303577.750000</td>\n",
       "      <td>0.000000</td>\n",
       "    </tr>\n",
       "    <tr>\n",
       "      <th>max</th>\n",
       "      <td>404770.000000</td>\n",
       "      <td>37433.000000</td>\n",
       "    </tr>\n",
       "  </tbody>\n",
       "</table>\n",
       "</div>"
      ],
      "text/plain": [
       "             user_id        revenue\n",
       "count  404770.000000  404770.000000\n",
       "mean   202385.500000      26.083435\n",
       "std    116847.178567     681.652928\n",
       "min         1.000000       0.000000\n",
       "25%    101193.250000       0.000000\n",
       "50%    202385.500000       0.000000\n",
       "75%    303577.750000       0.000000\n",
       "max    404770.000000   37433.000000"
      ]
     },
     "execution_count": 17,
     "metadata": {},
     "output_type": "execute_result"
    }
   ],
   "source": [
    "ab_test_result.describe()"
   ]
  },
  {
   "cell_type": "code",
   "execution_count": 18,
   "metadata": {},
   "outputs": [
    {
     "data": {
      "text/plain": [
       "0"
      ]
     },
     "execution_count": 18,
     "metadata": {},
     "output_type": "execute_result"
    }
   ],
   "source": [
    "ab_test_result.duplicated().sum()"
   ]
  },
  {
   "cell_type": "markdown",
   "metadata": {},
   "source": [
    "Дубликаты в таблице ab_test_result отсутствуют. В целом данные выглядят подготовленными и готовыми к анализу."
   ]
  },
  {
   "cell_type": "markdown",
   "metadata": {},
   "source": [
    "### 1. Retention пользователей"
   ]
  },
  {
   "cell_type": "markdown",
   "metadata": {},
   "source": [
    "Функция, которая будет считать retention игроков (по дням от даты регистрации игрока)."
   ]
  },
  {
   "cell_type": "code",
   "execution_count": 19,
   "metadata": {},
   "outputs": [],
   "source": [
    "def visualization_daily_retention(reg_data, auth_data, start_date, days):\n",
    "    \n",
    "    \"\"\"    Функция считает retention по дням от даты регистрации, на вход подаются два    \n",
    "    датафрейма с регистрацией и авторизацией, дата, с которой нужно считать retention, и     \n",
    "    количество дней. На выходе строится тепловая карта retention по дням.\n",
    "    \"\"\"\n",
    "    \n",
    "    start_date = pd.to_datetime(start_date)\n",
    "    end_date = start_date + pd.Timedelta(days=days)\n",
    "    \n",
    "    reg_data['registration_date'] = pd.to_datetime(reg_data.reg_ts, unit='s').dt.floor('D')\n",
    "    auth_data['authorization_date'] = pd.to_datetime(auth_data.auth_ts, unit='s').dt.floor('D')\n",
    "    \n",
    "    # фильтруем заранее перед мерджем для лучшей оптимизации запроса\n",
    "    reg_data = reg_data.query('registration_date >= @start_date')\n",
    "    auth_data = auth_data.query('authorization_date <= @end_date')\n",
    "    reg_auth_data = reg_data.merge(auth_data, on='uid')\n",
    "    \n",
    "        \n",
    "    df_cohort = reg_auth_data.groupby(['registration_date', 'authorization_date'], as_index=False) \\\n",
    "                             .agg(users=('uid', 'nunique'))\n",
    "    \n",
    "    df_cohort['day_delta'] = (df_cohort['authorization_date'] - df_cohort['registration_date']).dt.days\n",
    "    \n",
    "    cohort_pivot = df_cohort.pivot_table(index='registration_date', columns='day_delta', values='users')\n",
    "    cohort_size = cohort_pivot.iloc[:, 0]\n",
    "    retention_matrix = cohort_pivot.divide(cohort_size, axis=0)\n",
    "    \n",
    "    # Уберем нулевой день для лучшей визуализации\n",
    "    retention_matrix = retention_matrix.drop(columns=[0], errors='ignore')\n",
    "    \n",
    "    with sns.axes_style('white'):\n",
    "        fig, ax = plt.subplots(1, 2, figsize=(20, 12), sharey=True, gridspec_kw={'width_ratios': [1, 30]})\n",
    "\n",
    "        # тепловая карта для коэффициентов удержания\n",
    "        sns.heatmap(\n",
    "            retention_matrix,\n",
    "            mask=retention_matrix.isnull(),\n",
    "            annot=True,\n",
    "            fmt=\".2%\",\n",
    "            cmap=\"viridis\",\n",
    "            vmin=0.0,\n",
    "            vmax=retention_matrix.max().max(),\n",
    "            ax=ax[1]\n",
    "        )\n",
    "        ax[1].set_title('Daily Retention', fontsize=16)\n",
    "        ax[1].set(xlabel='№ периода', ylabel='Когорта')\n",
    "        \n",
    "        \n",
    "\n",
    "        # тепловая карта для размеров когорт\n",
    "        cohort_size_df = pd.DataFrame(cohort_size).rename(columns={0: 'Размер когорты'})\n",
    "        white_cmap = mcolors.ListedColormap(['white'])\n",
    "        sns.heatmap(cohort_size_df,\n",
    "                   annot = True, \n",
    "                   cbar=False,\n",
    "                   fmt = 'g',\n",
    "                   cmap=white_cmap,\n",
    "                   ax=ax[0])\n",
    "        ax[0].set_ylabel(\"Дата регистрации\", fontsize=12)\n",
    "        ax[0].set_yticklabels(retention_matrix.index.strftime('%Y-%m-%d'), fontsize=10)\n",
    "\n",
    "        fig.tight_layout()\n",
    "        plt.show()"
   ]
  },
  {
   "cell_type": "code",
   "execution_count": 20,
   "metadata": {},
   "outputs": [
    {
     "data": {
      "image/png": "[encoded data removed]",
      "text/plain": [
       "<Figure size 1440x864 with 3 Axes>"
      ]
     },
     "metadata": {},
     "output_type": "display_data"
    }
   ],
   "source": [
    "# проверка работы функции\n",
    "date = '2019-03-01'\n",
    "number_of_days = 15\n",
    "visualization_daily_retention(reg_data, auth_data, date, number_of_days)"
   ]
  },
  {
   "cell_type": "markdown",
   "metadata": {},
   "source": [
    "## 2. Анализ A/B теста."
   ]
  },
  {
   "cell_type": "markdown",
   "metadata": {},
   "source": [
    "Имеются результаты A/B теста, в котором двум группам пользователей предлагались различные наборы акционных предложений. Известно, что ARPU в тестовой группе выше на 5%, чем в контрольной. При этом в контрольной группе 1928 игроков из 202103 оказались платящими, а в тестовой – 1805 из 202667.\n",
    "\n",
    "Какой набор предложений можно считать лучшим? Какие метрики стоит проанализировать для принятия правильного решения и как?\n",
    "\n",
    "Контрольная группа А, тестовая В. "
   ]
  },
  {
   "cell_type": "code",
   "execution_count": 21,
   "metadata": {},
   "outputs": [
    {
     "data": {
      "text/html": [
       "<style  type=\"text/css\" >\n",
       "</style><table id=\"T_083ac482_0bc4_11f0_bdbb_96000040dfb6\" ><thead>    <tr>        <th class=\"blank level0\" ></th>        <th class=\"col_heading level0 col0\" >testgroup</th>        <th class=\"col_heading level0 col1\" >paying_users</th>        <th class=\"col_heading level0 col2\" >count_users</th>        <th class=\"col_heading level0 col3\" >conv_paying_users</th>    </tr></thead><tbody>\n",
       "                <tr>\n",
       "                        <th id=\"T_083ac482_0bc4_11f0_bdbb_96000040dfb6level0_row0\" class=\"row_heading level0 row0\" >0</th>\n",
       "                        <td id=\"T_083ac482_0bc4_11f0_bdbb_96000040dfb6row0_col0\" class=\"data row0 col0\" >a</td>\n",
       "                        <td id=\"T_083ac482_0bc4_11f0_bdbb_96000040dfb6row0_col1\" class=\"data row0 col1\" >1928</td>\n",
       "                        <td id=\"T_083ac482_0bc4_11f0_bdbb_96000040dfb6row0_col2\" class=\"data row0 col2\" >202103</td>\n",
       "                        <td id=\"T_083ac482_0bc4_11f0_bdbb_96000040dfb6row0_col3\" class=\"data row0 col3\" >0.95%</td>\n",
       "            </tr>\n",
       "            <tr>\n",
       "                        <th id=\"T_083ac482_0bc4_11f0_bdbb_96000040dfb6level0_row1\" class=\"row_heading level0 row1\" >1</th>\n",
       "                        <td id=\"T_083ac482_0bc4_11f0_bdbb_96000040dfb6row1_col0\" class=\"data row1 col0\" >b</td>\n",
       "                        <td id=\"T_083ac482_0bc4_11f0_bdbb_96000040dfb6row1_col1\" class=\"data row1 col1\" >1805</td>\n",
       "                        <td id=\"T_083ac482_0bc4_11f0_bdbb_96000040dfb6row1_col2\" class=\"data row1 col2\" >202667</td>\n",
       "                        <td id=\"T_083ac482_0bc4_11f0_bdbb_96000040dfb6row1_col3\" class=\"data row1 col3\" >0.89%</td>\n",
       "            </tr>\n",
       "    </tbody></table>"
      ],
      "text/plain": [
       "<pandas.io.formats.style.Styler at 0x7f3579b19748>"
      ]
     },
     "execution_count": 21,
     "metadata": {},
     "output_type": "execute_result"
    }
   ],
   "source": [
    "# проверим условие, соответствует ли количество платящих пользователей по группам\n",
    "# а также посмотрим на конверсию в платящего пользователя по группам\n",
    "df_group = (\n",
    "    ab_test_result.query('revenue > 0')\n",
    "    .groupby('testgroup', as_index=False)\n",
    "    .agg(paying_users=('user_id', 'count'))\n",
    "    .merge(\n",
    "        ab_test_result.groupby('testgroup', as_index=False).agg(count_users=('user_id', 'count')),\n",
    "        on='testgroup'\n",
    "    )\n",
    "    .assign(conv_paying_users=lambda x: x.paying_users / x.count_users)\n",
    ")\n",
    "df_group.style.format({\n",
    "    'conv_paying_users': '{:,.2%}'.format\n",
    "})"
   ]
  },
  {
   "cell_type": "markdown",
   "metadata": {},
   "source": [
    "***Конверсия в платящего пользователя(Conversion Rate)*** составляет чуть менее 1% в обоих группах. Разница в конверсиях 0.06%. Проверим стат. значимость с использованием **Хи квадрат теста**.\n",
    "\n",
    "H0: Конверсии в платящих пользователей стат. значимо не отличаются.\n",
    "\n",
    "H1: Конверсии в платящих пользователей различаются между группами."
   ]
  },
  {
   "cell_type": "code",
   "execution_count": 22,
   "metadata": {},
   "outputs": [
    {
     "name": "stdout",
     "output_type": "stream",
     "text": [
      "P-value: 0.0365\n",
      "Отклоняем нулевую гипотезу: конверсии в платящих пользователей стат.значимо различаются между группами.\n"
     ]
    }
   ],
   "source": [
    "chi_table = np.array(\n",
    "    [\n",
    "        [df_group.paying_users[0], df_group.count_users[0] - df_group.paying_users[0]],  # A: оплатили, не оплатили\n",
    "        [df_group.paying_users[1], df_group.count_users[1] - df_group.paying_users[1]]   # B: оплатили, не оплатили\n",
    "    ]\n",
    ")\n",
    "# χ²-тест\n",
    "chi2, p_value, dof, expected = chi2_contingency(chi_table)\n",
    "\n",
    "alpha = 0.05\n",
    "\n",
    "print(f\"P-value: {p_value:.4f}\")\n",
    "\n",
    "if p_value < alpha:\n",
    "    print(\"Отклоняем нулевую гипотезу: конверсии в платящих пользователей стат.значимо различаются между группами.\")\n",
    "else:\n",
    "    print(\"Не можем отклонить нулевую гипотезу: конверсии в платящих пользователей стат. значимо не отличаются.\")"
   ]
  },
  {
   "cell_type": "code",
   "execution_count": 23,
   "metadata": {},
   "outputs": [],
   "source": [
    "# сделаем два датафрейма, где будут лежать юзеры по своим группам\n",
    "a_group = ab_test_result.query('testgroup == \"a\"')\n",
    "b_group = ab_test_result.query('testgroup == \"b\"')"
   ]
  },
  {
   "cell_type": "code",
   "execution_count": 24,
   "metadata": {},
   "outputs": [
    {
     "data": {
      "image/png": "[encoded data removed]",
      "text/plain": [
       "<Figure size 864x576 with 2 Axes>"
      ]
     },
     "metadata": {
      "needs_background": "light"
     },
     "output_type": "display_data"
    }
   ],
   "source": [
    "# посмотрим на распределение выручки в обоих группах\n",
    "fig, ax = plt.subplots(2, 1, figsize=(12, 8))\n",
    "sns.violinplot(data=a_group.query('revenue > 0'), x='revenue', ax=ax[0])\n",
    "ax[0].set_xlabel('Выручка')\n",
    "ax[0].set_title('Контрольная группа')\n",
    "\n",
    "sns.violinplot(data=b_group.query('revenue>0'), x='revenue', ax=ax[1], color = 'orange')\n",
    "ax[1].set_xlabel('Выручка')\n",
    "ax[1].set_title('Тестовая группа')\n",
    "fig.tight_layout()\n",
    "plt.show()"
   ]
  },
  {
   "cell_type": "markdown",
   "metadata": {},
   "source": [
    "Посмотрим детальнее на контрольную группу, где разброс выручки больше."
   ]
  },
  {
   "cell_type": "code",
   "execution_count": 36,
   "metadata": {},
   "outputs": [
    {
     "data": {
      "image/png": "[encoded data removed]",
      "text/plain": [
       "<Figure size 1080x432 with 2 Axes>"
      ]
     },
     "metadata": {
      "needs_background": "light"
     },
     "output_type": "display_data"
    }
   ],
   "source": [
    "fig, ax = plt.subplots(1, 2, figsize=(15, 6), sharey=True)\n",
    "\n",
    "sns.kdeplot(data=a_group.query('revenue<1000 & revenue>0'), x=\"revenue\", ax=ax[0])\n",
    "ax[0].set_xlabel('Выручка')\n",
    "ax[0].set_ylabel('Плотность распределения')\n",
    "sns.kdeplot(data=a_group.query('revenue>1000'), x=\"revenue\", ax=ax[1])\n",
    "ax[1].set_xlabel('Выручка')\n",
    "plt.show()"
   ]
  },
  {
   "cell_type": "code",
   "execution_count": 26,
   "metadata": {},
   "outputs": [
    {
     "name": "stdout",
     "output_type": "stream",
     "text": [
      "Количество пользователей, выручка которых более 37000 у.е.: 123 человека\n",
      "Процент крупных платежей в контрольной группе: 0.064\n"
     ]
    }
   ],
   "source": [
    "count_paying_users = a_group.query('revenue>1000').revenue.count()\n",
    "perc_big_pay = (\n",
    "    a_group.query('revenue > 1000').revenue.count() / a_group.query('revenue > 0').revenue.count()\n",
    ") \n",
    "print(f'Количество пользователей, выручка которых более 37000 у.е.: {count_paying_users} человека')\n",
    "print(f'Процент крупных платежей в контрольной группе: {round(perc_big_pay, 3)}')"
   ]
  },
  {
   "cell_type": "code",
   "execution_count": 27,
   "metadata": {},
   "outputs": [
    {
     "name": "stdout",
     "output_type": "stream",
     "text": [
      "Стандартное отклонение в группе А: 9046.69\n",
      "Стандартное отклонение в группе B: 572.46\n"
     ]
    }
   ],
   "source": [
    "# стандартное отклонение в двух группах \n",
    "print(f\"Стандартное отклонение в группе А: {round(np.std(a_group.query('revenue>0').revenue),2)}\")\n",
    "print(f\"Стандартное отклонение в группе B: {round(np.std(b_group.query('revenue>0').revenue), 2)}\")"
   ]
  },
  {
   "cell_type": "markdown",
   "metadata": {},
   "source": [
    "**ARPU/ARPPU**"
   ]
  },
  {
   "cell_type": "code",
   "execution_count": 28,
   "metadata": {},
   "outputs": [
    {
     "name": "stdout",
     "output_type": "stream",
     "text": [
      "Средний чек в контрольной группе составляет: 25.41\n"
     ]
    }
   ],
   "source": [
    "print(f'Средний чек в контрольной группе составляет: {round(a_group.revenue.mean(), 2)}')"
   ]
  },
  {
   "cell_type": "code",
   "execution_count": 29,
   "metadata": {},
   "outputs": [
    {
     "name": "stdout",
     "output_type": "stream",
     "text": [
      "Средний чек в тестовой группе составляет: 26.75\n"
     ]
    }
   ],
   "source": [
    "print(f'Средний чек в тестовой группе составляет: {round(b_group.revenue.mean(), 2)}')"
   ]
  },
  {
   "cell_type": "code",
   "execution_count": 30,
   "metadata": {},
   "outputs": [
    {
     "data": {
      "text/plain": [
       "count     1928.000000\n",
       "mean      2663.998444\n",
       "std       9049.039763\n",
       "min        200.000000\n",
       "25%        257.000000\n",
       "50%        311.000000\n",
       "75%        361.000000\n",
       "max      37433.000000\n",
       "Name: revenue, dtype: float64"
      ]
     },
     "execution_count": 30,
     "metadata": {},
     "output_type": "execute_result"
    }
   ],
   "source": [
    "a_group.query('revenue>0').revenue.describe()"
   ]
  },
  {
   "cell_type": "code",
   "execution_count": 31,
   "metadata": {},
   "outputs": [
    {
     "data": {
      "text/plain": [
       "count    1805.000000\n",
       "mean     3003.658172\n",
       "std       572.619709\n",
       "min      2000.000000\n",
       "25%      2513.000000\n",
       "50%      3022.000000\n",
       "75%      3478.000000\n",
       "max      4000.000000\n",
       "Name: revenue, dtype: float64"
      ]
     },
     "execution_count": 31,
     "metadata": {},
     "output_type": "execute_result"
    }
   ],
   "source": [
    "b_group.query('revenue>0').revenue.describe()"
   ]
  },
  {
   "cell_type": "markdown",
   "metadata": {},
   "source": [
    "Проведем **t-тест с критерием Уэлча** для определения есть ли стат. значимая разница между ***ARPU*** в группах, так как данные распределены в группе А с выбросом.\n",
    "\n",
    "H0: Средний чек между группами стат. значимо не отличается.\n",
    "\n",
    "H1: Средний чек имеет стат. значимое отличие между группами."
   ]
  },
  {
   "cell_type": "code",
   "execution_count": 32,
   "metadata": {},
   "outputs": [
    {
     "name": "stdout",
     "output_type": "stream",
     "text": [
      "T-статистика: -0.6234876562792212\n",
      "P-value: 0.5330\n",
      "Не можем отклонить нулевую гипотезу: средний чек стат. значимо не отличается.\n"
     ]
    }
   ],
   "source": [
    "# Выполнение t-теста с критерием Уэлча\n",
    "t_stat, p_value = ttest_ind(a_group.revenue, b_group.revenue, equal_var=False)\n",
    "\n",
    "print(f\"T-статистика: {t_stat}\")\n",
    "\n",
    "alpha = 0.05\n",
    "\n",
    "print(f\"P-value: {p_value:.4f}\")\n",
    "\n",
    "if p_value < alpha:\n",
    "    print(\"Отклоняем нулевую гипотезу: средний чек различается между группами.\")\n",
    "else:\n",
    "    print(\"Не можем отклонить нулевую гипотезу: средний чек стат. значимо не отличается.\")"
   ]
  },
  {
   "cell_type": "markdown",
   "metadata": {},
   "source": [
    "t-тест с критерием Уэлча показал, что нет стат. значимой разницы между ARPU в группах."
   ]
  },
  {
   "cell_type": "markdown",
   "metadata": {},
   "source": [
    "Для определения стат. значимой разницы между ***ARPPU*** в группах будем использвать **bootstrap**, так как количество полей существенно меньше, а данный способ требует больше вычислительных ресурсов, а также данный метод не зависим от распределения выборок.  \n",
    "\n",
    "H0: Средний чек платящих пользователей стат. значимо не отличается.\n",
    "\n",
    "H1: Средний чек платящих пользователей различается между группами."
   ]
  },
  {
   "cell_type": "code",
   "execution_count": 33,
   "metadata": {},
   "outputs": [
    {
     "name": "stdout",
     "output_type": "stream",
     "text": [
      "P-value: 0.4988\n",
      "Не можем отклонить нулевую гипотезу: средний чек платящего пользователя стат. значимо не отличается.\n"
     ]
    }
   ],
   "source": [
    "# Функция для bootstrap\n",
    "def bootstrap_median_diff(data1, data2, n_bootstraps=10000):\n",
    "    median_diffs = []\n",
    "    for i in range(n_bootstraps):\n",
    "        sample1 = np.random.choice(data1, size=len(data1), replace=True)\n",
    "        sample2 = np.random.choice(data2, size=len(data2), replace=True)\n",
    "        median_diffs.append(np.median(sample2) - np.median(sample1))\n",
    "    return median_diffs\n",
    "\n",
    "\n",
    "# Ресемплирование\n",
    "median_diffs = bootstrap_median_diff(a_group.query('revenue>0').revenue, b_group.query('revenue>0').revenue)\n",
    "\n",
    "real_diff = np.median(b_group.query('revenue>0').revenue) - np.median(a_group.query('revenue>0').revenue)\n",
    "p_value = (np.abs(median_diffs) >= np.abs(real_diff)).mean()\n",
    "\n",
    "alpha = 0.05\n",
    "\n",
    "print(f\"P-value: {p_value:.4f}\")\n",
    "\n",
    "if p_value < alpha:\n",
    "    print(\"Отклоняем нулевую гипотезу: средний чек платящего пользователя различается между группами.\")\n",
    "else:\n",
    "    print(\"Не можем отклонить нулевую гипотезу: средний чек платящего пользователя стат. значимо не отличается.\")"
   ]
  },
  {
   "cell_type": "markdown",
   "metadata": {},
   "source": [
    "Bootstrap показал, что нет стат. значимой разницы между ARPPU в группах."
   ]
  },
  {
   "cell_type": "markdown",
   "metadata": {},
   "source": [
    "**Gross Revenue**"
   ]
  },
  {
   "cell_type": "code",
   "execution_count": 34,
   "metadata": {},
   "outputs": [
    {
     "name": "stdout",
     "output_type": "stream",
     "text": [
      "Общая выручка в контрольной группе равна: 5136189\n",
      "Общая выручка в тестовой группе равна: 5421603\n",
      "Разница между выручками в двух группах: 285414\n"
     ]
    }
   ],
   "source": [
    "print(f'Общая выручка в контрольной группе равна: {a_group.revenue.sum()}')\n",
    "print(f'Общая выручка в тестовой группе равна: {b_group.revenue.sum()}')\n",
    "print(f'Разница между выручками в двух группах: {(b_group.revenue.sum() - a_group.revenue.sum())}')"
   ]
  },
  {
   "cell_type": "markdown",
   "metadata": {},
   "source": [
    "### Выводы\n",
    "\n",
    "В контрольной группе:\n",
    "\n",
    "- **Общая выручка** - 5136189;\n",
    "- ***Минимальный чек*** - 200;\n",
    "- ***ARPU*** - 25.41;\n",
    "- ***ARPPU*** - 2664;\n",
    "- ***Максимальный чек*** - 37433;\n",
    "- **Конверсия в платящего пользователя** - 0.95%.\n",
    "\n",
    "В тестовой группе:\n",
    "\n",
    "- **Общая выручка** - 5421603;\n",
    "- ***Минимальный чек*** - 2000;\n",
    "- ***ARPU*** - 26.75;\n",
    "- ***ARPPU*** - 3003;\n",
    "- ***Максимальный чек*** - 4000;\n",
    "- **Конверсия в платящего пользователя** - 0.89%.\n",
    "\n",
    "Используя χ²-тест определено, что конверсии в платящих пользователей стат.значимо различаются между группами. \n",
    "\n",
    "С помощью t-теста с критерием Уэлча разница между ARPU в группах стат. значимо не отличается.\n",
    "\n",
    "Bootstrap показал, что нет стат. значимой разницы между ARPPU в группах.\n",
    "\n",
    "Таким образом акционное предложение в **контрольной группе можно считать лучше** тестовой, так как конверсия в платящего пользователя выше, а также сохраняется потенциал для крупных платежей(6.4% пользователей делали крупные покупки).\n",
    "\n",
    "Стоит сказать, что в А/B тест проведен неверно с учетом того, что в обеих группах неправильно произведено сплитование пользователей. В контрольной группе ARPU и ARPPU получает свои значения за счет 6.4% пользователей, которые совершили крупные покупки. Если пользователей разбить на 3 группы: с низким чеком, средним чеком и высоким, то в контрольную попали пользователи с низким и высоким, а в тестовую со средним.\n",
    "\n",
    "А/В тест стоит перезапустить с надежным способом сплитования(случайное или стратифицированное), где будет указываться сегмент пользователей с низким, средним и высоким чеком."
   ]
  },
  {
   "cell_type": "markdown",
   "metadata": {},
   "source": [
    "## 3. Анализ игровых событий\n",
    "\n",
    "1. В игре Plants & Gardens каждый месяц проводятся тематические события, ограниченные по времени. В них игроки могут получить уникальные предметы для сада и персонажей, дополнительные монеты или бонусы. Для получения награды требуется пройти ряд уровней за определенное время. С помощью каких метрик можно оценить результаты последнего прошедшего события?\n",
    "\n",
    "\n",
    "2. Предположим, в другом событии мы усложнили механику событий так, что при каждой неудачной попытке выполнения уровня игрок будет откатываться на несколько уровней назад. Изменится ли набор метрик оценки результата? Если да, то как?\n"
   ]
  },
  {
   "cell_type": "markdown",
   "metadata": {},
   "source": [
    "### 3.1 Упрощенная механика\n",
    "\n",
    "Рассмотрим метрики для структуры игры первого варианта.\n",
    "\n",
    "**Метрики вовлеченности и удержания:**\n",
    "\n",
    "1. DAU/MAU - так как событие проводятся каждый месяц, то стоит отслеживать активных пользователей по дням и по месяцам, повышение DAU будет говорить об успешности данной акции;\n",
    "2. Retention - процент вернувшихся игроков означает насколько заинтересовало игроков данное событие;\n",
    "3. Среднее количество пройденных уровней - покажет вовлеченность пользователей в получении награды, а также можно будет понимать какая оптимальная сложность игры. Стоит ли повысить сложность или понизить;\n",
    "4. Средняя длительность сессии игры - если длительность увеличивается, то вовлеченность также увеличивается;\n",
    "5. Качество уникальных предметов и персонажей, монет и бонусов может говорить о том, какие фичи больше нравятся игрокам и какие стоит чаще выдавать или стоит предлагать выбрать самим.\n",
    "6. Churn rate - на каком уровне происходит наибольший отток пользователей.\n",
    "\n",
    "**Метрики продукта:**\n",
    "\n",
    "1. ARPU - показывает средний чек среди всех игроков;\n",
    "2. ARPPU - показывает, средний чек среди всех платящих пользователей;\n",
    "3. Сonversion Rate - конверсия в платящего пользователя, при ее повышении будет понимание, что механизмы монетизации игры идут в правильную сторону;\n",
    "4. LTV - общая прибыль, которую принесет пользователь за все время использования продукта"
   ]
  },
  {
   "cell_type": "markdown",
   "metadata": {},
   "source": [
    "### 3.2 Усложненная механика\n",
    "\n",
    "Рассмотрим метрики для структуры игры второго варианта. Метрики для первого варианта будут актуальны для второго с небольшими поправками. Так как механика игры усложнится, то продуктовые метрики могут как повыситься, так и понизиться в зависимости от того насколько заинтересует пользователей сложность игры. Для того, чтобы следить за удовлетворенностью пользователей, стоит также проводить опросы, создать окно для жалоб, смотреть за позитивными и негативными отзывами в Store. \n",
    "\n",
    "**Метрики вовлеченности и удержания:**\n",
    "\n",
    "1. Количество повторных попыток прохождений уровня - как часто игроки пытаются пройти уровень заново.\n",
    "2. Churn rate - усложняющая механика может увеличить отток пользователей.\n",
    "3. Самый сложный уровень(или наибольшая доля игроков, которые ушли на определенном уровне) - на каком уровне чаще всего игроки перестают играть.\n",
    "4. Среднее количество попыток на прохождение уровня.\n",
    "\n",
    "**Метрики продукта:**\n",
    "\n",
    "1. Процент игроков, которые делают покупки, чтобы завершить уровень.\n",
    "2. Доля игроков, которые смотрят рекламу или делают покупки для получение дополнительных монет.\n"
   ]
  }
 ],
 "metadata": {
  "kernelspec": {
   "display_name": "Python 3 (ipykernel)",
   "language": "python",
   "name": "python3"
  },
  "language_info": {
   "codemirror_mode": {
    "name": "ipython",
    "version": 3
   },
   "file_extension": ".py",
   "mimetype": "text/x-python",
   "name": "python",
   "nbconvert_exporter": "python",
   "pygments_lexer": "ipython3",
   "version": "3.9.21"
  },
  "toc": {
   "base_numbering": 1,
   "nav_menu": {},
   "number_sections": true,
   "sideBar": true,
   "skip_h1_title": false,
   "title_cell": "Table of Contents",
   "title_sidebar": "Contents",
   "toc_cell": false,
   "toc_position": {},
   "toc_section_display": true,
   "toc_window_display": false
  },
  "varInspector": {
   "cols": {
    "lenName": 16,
    "lenType": 16,
    "lenVar": 40
   },
   "kernels_config": {
    "python": {
     "delete_cmd_postfix": "",
     "delete_cmd_prefix": "del ",
     "library": "var_list.py",
     "varRefreshCmd": "print(var_dic_list())"
    },
    "r": {
     "delete_cmd_postfix": ") ",
     "delete_cmd_prefix": "rm(",
     "library": "var_list.r",
     "varRefreshCmd": "cat(var_dic_list()) "
    }
   },
   "types_to_exclude": [
    "module",
    "function",
    "builtin_function_or_method",
    "instance",
    "_Feature"
   ],
   "window_display": false
  }
 },
 "nbformat": 4,
 "nbformat_minor": 4
}
