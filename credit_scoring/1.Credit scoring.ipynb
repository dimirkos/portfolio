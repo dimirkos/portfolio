{
 "cells": [
  {
   "cell_type": "markdown",
   "metadata": {},
   "source": [
    "# Исследование надёжности заёмщиков\n",
    "\n",
    "Заказчик — кредитный отдел банка. Нужно разобраться, влияет ли семейное положение и количество детей клиента на факт погашения кредита в срок. Входные данные от банка — статистика о платёжеспособности клиентов.\n",
    "\n",
    "Результаты исследования будут учтены при построении модели **кредитного скоринга** — специальной системы, которая оценивает способность потенциального заёмщика вернуть кредит банку."
   ]
  },
  {
   "cell_type": "markdown",
   "metadata": {},
   "source": [
    "## Общая информация данных"
   ]
  },
  {
   "cell_type": "code",
   "execution_count": 1,
   "metadata": {},
   "outputs": [],
   "source": [
    "import pandas as pd\n",
    "from pymystem3 import Mystem\n",
    "from collections import Counter"
   ]
  },
  {
   "cell_type": "code",
   "execution_count": 2,
   "metadata": {},
   "outputs": [],
   "source": [
    "df = pd.read_csv('/datasets/data.csv')"
   ]
  },
  {
   "cell_type": "code",
   "execution_count": 3,
   "metadata": {},
   "outputs": [
    {
     "data": {
      "text/html": [
       "<div>\n",
       "<style scoped>\n",
       "    .dataframe tbody tr th:only-of-type {\n",
       "        vertical-align: middle;\n",
       "    }\n",
       "\n",
       "    .dataframe tbody tr th {\n",
       "        vertical-align: top;\n",
       "    }\n",
       "\n",
       "    .dataframe thead th {\n",
       "        text-align: right;\n",
       "    }\n",
       "</style>\n",
       "<table border=\"1\" class=\"dataframe\">\n",
       "  <thead>\n",
       "    <tr style=\"text-align: right;\">\n",
       "      <th></th>\n",
       "      <th>children</th>\n",
       "      <th>days_employed</th>\n",
       "      <th>dob_years</th>\n",
       "      <th>education</th>\n",
       "      <th>education_id</th>\n",
       "      <th>family_status</th>\n",
       "      <th>family_status_id</th>\n",
       "      <th>gender</th>\n",
       "      <th>income_type</th>\n",
       "      <th>debt</th>\n",
       "      <th>total_income</th>\n",
       "      <th>purpose</th>\n",
       "    </tr>\n",
       "  </thead>\n",
       "  <tbody>\n",
       "    <tr>\n",
       "      <td>0</td>\n",
       "      <td>1</td>\n",
       "      <td>-8437.673028</td>\n",
       "      <td>42</td>\n",
       "      <td>высшее</td>\n",
       "      <td>0</td>\n",
       "      <td>женат / замужем</td>\n",
       "      <td>0</td>\n",
       "      <td>F</td>\n",
       "      <td>сотрудник</td>\n",
       "      <td>0</td>\n",
       "      <td>253875.639453</td>\n",
       "      <td>покупка жилья</td>\n",
       "    </tr>\n",
       "    <tr>\n",
       "      <td>1</td>\n",
       "      <td>1</td>\n",
       "      <td>-4024.803754</td>\n",
       "      <td>36</td>\n",
       "      <td>среднее</td>\n",
       "      <td>1</td>\n",
       "      <td>женат / замужем</td>\n",
       "      <td>0</td>\n",
       "      <td>F</td>\n",
       "      <td>сотрудник</td>\n",
       "      <td>0</td>\n",
       "      <td>112080.014102</td>\n",
       "      <td>приобретение автомобиля</td>\n",
       "    </tr>\n",
       "    <tr>\n",
       "      <td>2</td>\n",
       "      <td>0</td>\n",
       "      <td>-5623.422610</td>\n",
       "      <td>33</td>\n",
       "      <td>Среднее</td>\n",
       "      <td>1</td>\n",
       "      <td>женат / замужем</td>\n",
       "      <td>0</td>\n",
       "      <td>M</td>\n",
       "      <td>сотрудник</td>\n",
       "      <td>0</td>\n",
       "      <td>145885.952297</td>\n",
       "      <td>покупка жилья</td>\n",
       "    </tr>\n",
       "    <tr>\n",
       "      <td>3</td>\n",
       "      <td>3</td>\n",
       "      <td>-4124.747207</td>\n",
       "      <td>32</td>\n",
       "      <td>среднее</td>\n",
       "      <td>1</td>\n",
       "      <td>женат / замужем</td>\n",
       "      <td>0</td>\n",
       "      <td>M</td>\n",
       "      <td>сотрудник</td>\n",
       "      <td>0</td>\n",
       "      <td>267628.550329</td>\n",
       "      <td>дополнительное образование</td>\n",
       "    </tr>\n",
       "    <tr>\n",
       "      <td>4</td>\n",
       "      <td>0</td>\n",
       "      <td>340266.072047</td>\n",
       "      <td>53</td>\n",
       "      <td>среднее</td>\n",
       "      <td>1</td>\n",
       "      <td>гражданский брак</td>\n",
       "      <td>1</td>\n",
       "      <td>F</td>\n",
       "      <td>пенсионер</td>\n",
       "      <td>0</td>\n",
       "      <td>158616.077870</td>\n",
       "      <td>сыграть свадьбу</td>\n",
       "    </tr>\n",
       "    <tr>\n",
       "      <td>5</td>\n",
       "      <td>0</td>\n",
       "      <td>-926.185831</td>\n",
       "      <td>27</td>\n",
       "      <td>высшее</td>\n",
       "      <td>0</td>\n",
       "      <td>гражданский брак</td>\n",
       "      <td>1</td>\n",
       "      <td>M</td>\n",
       "      <td>компаньон</td>\n",
       "      <td>0</td>\n",
       "      <td>255763.565419</td>\n",
       "      <td>покупка жилья</td>\n",
       "    </tr>\n",
       "    <tr>\n",
       "      <td>6</td>\n",
       "      <td>0</td>\n",
       "      <td>-2879.202052</td>\n",
       "      <td>43</td>\n",
       "      <td>высшее</td>\n",
       "      <td>0</td>\n",
       "      <td>женат / замужем</td>\n",
       "      <td>0</td>\n",
       "      <td>F</td>\n",
       "      <td>компаньон</td>\n",
       "      <td>0</td>\n",
       "      <td>240525.971920</td>\n",
       "      <td>операции с жильем</td>\n",
       "    </tr>\n",
       "    <tr>\n",
       "      <td>7</td>\n",
       "      <td>0</td>\n",
       "      <td>-152.779569</td>\n",
       "      <td>50</td>\n",
       "      <td>СРЕДНЕЕ</td>\n",
       "      <td>1</td>\n",
       "      <td>женат / замужем</td>\n",
       "      <td>0</td>\n",
       "      <td>M</td>\n",
       "      <td>сотрудник</td>\n",
       "      <td>0</td>\n",
       "      <td>135823.934197</td>\n",
       "      <td>образование</td>\n",
       "    </tr>\n",
       "    <tr>\n",
       "      <td>8</td>\n",
       "      <td>2</td>\n",
       "      <td>-6929.865299</td>\n",
       "      <td>35</td>\n",
       "      <td>ВЫСШЕЕ</td>\n",
       "      <td>0</td>\n",
       "      <td>гражданский брак</td>\n",
       "      <td>1</td>\n",
       "      <td>F</td>\n",
       "      <td>сотрудник</td>\n",
       "      <td>0</td>\n",
       "      <td>95856.832424</td>\n",
       "      <td>на проведение свадьбы</td>\n",
       "    </tr>\n",
       "    <tr>\n",
       "      <td>9</td>\n",
       "      <td>0</td>\n",
       "      <td>-2188.756445</td>\n",
       "      <td>41</td>\n",
       "      <td>среднее</td>\n",
       "      <td>1</td>\n",
       "      <td>женат / замужем</td>\n",
       "      <td>0</td>\n",
       "      <td>M</td>\n",
       "      <td>сотрудник</td>\n",
       "      <td>0</td>\n",
       "      <td>144425.938277</td>\n",
       "      <td>покупка жилья для семьи</td>\n",
       "    </tr>\n",
       "  </tbody>\n",
       "</table>\n",
       "</div>"
      ],
      "text/plain": [
       "   children  days_employed  dob_years education  education_id  \\\n",
       "0         1   -8437.673028         42    высшее             0   \n",
       "1         1   -4024.803754         36   среднее             1   \n",
       "2         0   -5623.422610         33   Среднее             1   \n",
       "3         3   -4124.747207         32   среднее             1   \n",
       "4         0  340266.072047         53   среднее             1   \n",
       "5         0    -926.185831         27    высшее             0   \n",
       "6         0   -2879.202052         43    высшее             0   \n",
       "7         0    -152.779569         50   СРЕДНЕЕ             1   \n",
       "8         2   -6929.865299         35    ВЫСШЕЕ             0   \n",
       "9         0   -2188.756445         41   среднее             1   \n",
       "\n",
       "      family_status  family_status_id gender income_type  debt   total_income  \\\n",
       "0   женат / замужем                 0      F   сотрудник     0  253875.639453   \n",
       "1   женат / замужем                 0      F   сотрудник     0  112080.014102   \n",
       "2   женат / замужем                 0      M   сотрудник     0  145885.952297   \n",
       "3   женат / замужем                 0      M   сотрудник     0  267628.550329   \n",
       "4  гражданский брак                 1      F   пенсионер     0  158616.077870   \n",
       "5  гражданский брак                 1      M   компаньон     0  255763.565419   \n",
       "6   женат / замужем                 0      F   компаньон     0  240525.971920   \n",
       "7   женат / замужем                 0      M   сотрудник     0  135823.934197   \n",
       "8  гражданский брак                 1      F   сотрудник     0   95856.832424   \n",
       "9   женат / замужем                 0      M   сотрудник     0  144425.938277   \n",
       "\n",
       "                      purpose  \n",
       "0               покупка жилья  \n",
       "1     приобретение автомобиля  \n",
       "2               покупка жилья  \n",
       "3  дополнительное образование  \n",
       "4             сыграть свадьбу  \n",
       "5               покупка жилья  \n",
       "6           операции с жильем  \n",
       "7                 образование  \n",
       "8       на проведение свадьбы  \n",
       "9     покупка жилья для семьи  "
      ]
     },
     "execution_count": 3,
     "metadata": {},
     "output_type": "execute_result"
    }
   ],
   "source": [
    "df.head(10)"
   ]
  },
  {
   "cell_type": "code",
   "execution_count": 4,
   "metadata": {},
   "outputs": [
    {
     "data": {
      "text/html": [
       "<div>\n",
       "<style scoped>\n",
       "    .dataframe tbody tr th:only-of-type {\n",
       "        vertical-align: middle;\n",
       "    }\n",
       "\n",
       "    .dataframe tbody tr th {\n",
       "        vertical-align: top;\n",
       "    }\n",
       "\n",
       "    .dataframe thead th {\n",
       "        text-align: right;\n",
       "    }\n",
       "</style>\n",
       "<table border=\"1\" class=\"dataframe\">\n",
       "  <thead>\n",
       "    <tr style=\"text-align: right;\">\n",
       "      <th></th>\n",
       "      <th>children</th>\n",
       "      <th>days_employed</th>\n",
       "      <th>dob_years</th>\n",
       "      <th>education</th>\n",
       "      <th>education_id</th>\n",
       "      <th>family_status</th>\n",
       "      <th>family_status_id</th>\n",
       "      <th>gender</th>\n",
       "      <th>income_type</th>\n",
       "      <th>debt</th>\n",
       "      <th>total_income</th>\n",
       "      <th>purpose</th>\n",
       "    </tr>\n",
       "  </thead>\n",
       "  <tbody>\n",
       "    <tr>\n",
       "      <td>21515</td>\n",
       "      <td>1</td>\n",
       "      <td>-467.685130</td>\n",
       "      <td>28</td>\n",
       "      <td>среднее</td>\n",
       "      <td>1</td>\n",
       "      <td>женат / замужем</td>\n",
       "      <td>0</td>\n",
       "      <td>F</td>\n",
       "      <td>сотрудник</td>\n",
       "      <td>1</td>\n",
       "      <td>109486.327999</td>\n",
       "      <td>заняться образованием</td>\n",
       "    </tr>\n",
       "    <tr>\n",
       "      <td>21516</td>\n",
       "      <td>0</td>\n",
       "      <td>-914.391429</td>\n",
       "      <td>42</td>\n",
       "      <td>высшее</td>\n",
       "      <td>0</td>\n",
       "      <td>женат / замужем</td>\n",
       "      <td>0</td>\n",
       "      <td>F</td>\n",
       "      <td>компаньон</td>\n",
       "      <td>0</td>\n",
       "      <td>322807.776603</td>\n",
       "      <td>покупка своего жилья</td>\n",
       "    </tr>\n",
       "    <tr>\n",
       "      <td>21517</td>\n",
       "      <td>0</td>\n",
       "      <td>-404.679034</td>\n",
       "      <td>42</td>\n",
       "      <td>высшее</td>\n",
       "      <td>0</td>\n",
       "      <td>гражданский брак</td>\n",
       "      <td>1</td>\n",
       "      <td>F</td>\n",
       "      <td>компаньон</td>\n",
       "      <td>0</td>\n",
       "      <td>178059.553491</td>\n",
       "      <td>на покупку своего автомобиля</td>\n",
       "    </tr>\n",
       "    <tr>\n",
       "      <td>21518</td>\n",
       "      <td>0</td>\n",
       "      <td>373995.710838</td>\n",
       "      <td>59</td>\n",
       "      <td>СРЕДНЕЕ</td>\n",
       "      <td>1</td>\n",
       "      <td>женат / замужем</td>\n",
       "      <td>0</td>\n",
       "      <td>F</td>\n",
       "      <td>пенсионер</td>\n",
       "      <td>0</td>\n",
       "      <td>153864.650328</td>\n",
       "      <td>сделка с автомобилем</td>\n",
       "    </tr>\n",
       "    <tr>\n",
       "      <td>21519</td>\n",
       "      <td>1</td>\n",
       "      <td>-2351.431934</td>\n",
       "      <td>37</td>\n",
       "      <td>ученая степень</td>\n",
       "      <td>4</td>\n",
       "      <td>в разводе</td>\n",
       "      <td>3</td>\n",
       "      <td>M</td>\n",
       "      <td>сотрудник</td>\n",
       "      <td>0</td>\n",
       "      <td>115949.039788</td>\n",
       "      <td>покупка коммерческой недвижимости</td>\n",
       "    </tr>\n",
       "    <tr>\n",
       "      <td>21520</td>\n",
       "      <td>1</td>\n",
       "      <td>-4529.316663</td>\n",
       "      <td>43</td>\n",
       "      <td>среднее</td>\n",
       "      <td>1</td>\n",
       "      <td>гражданский брак</td>\n",
       "      <td>1</td>\n",
       "      <td>F</td>\n",
       "      <td>компаньон</td>\n",
       "      <td>0</td>\n",
       "      <td>224791.862382</td>\n",
       "      <td>операции с жильем</td>\n",
       "    </tr>\n",
       "    <tr>\n",
       "      <td>21521</td>\n",
       "      <td>0</td>\n",
       "      <td>343937.404131</td>\n",
       "      <td>67</td>\n",
       "      <td>среднее</td>\n",
       "      <td>1</td>\n",
       "      <td>женат / замужем</td>\n",
       "      <td>0</td>\n",
       "      <td>F</td>\n",
       "      <td>пенсионер</td>\n",
       "      <td>0</td>\n",
       "      <td>155999.806512</td>\n",
       "      <td>сделка с автомобилем</td>\n",
       "    </tr>\n",
       "    <tr>\n",
       "      <td>21522</td>\n",
       "      <td>1</td>\n",
       "      <td>-2113.346888</td>\n",
       "      <td>38</td>\n",
       "      <td>среднее</td>\n",
       "      <td>1</td>\n",
       "      <td>гражданский брак</td>\n",
       "      <td>1</td>\n",
       "      <td>M</td>\n",
       "      <td>сотрудник</td>\n",
       "      <td>1</td>\n",
       "      <td>89672.561153</td>\n",
       "      <td>недвижимость</td>\n",
       "    </tr>\n",
       "    <tr>\n",
       "      <td>21523</td>\n",
       "      <td>3</td>\n",
       "      <td>-3112.481705</td>\n",
       "      <td>38</td>\n",
       "      <td>среднее</td>\n",
       "      <td>1</td>\n",
       "      <td>женат / замужем</td>\n",
       "      <td>0</td>\n",
       "      <td>M</td>\n",
       "      <td>сотрудник</td>\n",
       "      <td>1</td>\n",
       "      <td>244093.050500</td>\n",
       "      <td>на покупку своего автомобиля</td>\n",
       "    </tr>\n",
       "    <tr>\n",
       "      <td>21524</td>\n",
       "      <td>2</td>\n",
       "      <td>-1984.507589</td>\n",
       "      <td>40</td>\n",
       "      <td>среднее</td>\n",
       "      <td>1</td>\n",
       "      <td>женат / замужем</td>\n",
       "      <td>0</td>\n",
       "      <td>F</td>\n",
       "      <td>сотрудник</td>\n",
       "      <td>0</td>\n",
       "      <td>82047.418899</td>\n",
       "      <td>на покупку автомобиля</td>\n",
       "    </tr>\n",
       "  </tbody>\n",
       "</table>\n",
       "</div>"
      ],
      "text/plain": [
       "       children  days_employed  dob_years       education  education_id  \\\n",
       "21515         1    -467.685130         28         среднее             1   \n",
       "21516         0    -914.391429         42          высшее             0   \n",
       "21517         0    -404.679034         42          высшее             0   \n",
       "21518         0  373995.710838         59         СРЕДНЕЕ             1   \n",
       "21519         1   -2351.431934         37  ученая степень             4   \n",
       "21520         1   -4529.316663         43         среднее             1   \n",
       "21521         0  343937.404131         67         среднее             1   \n",
       "21522         1   -2113.346888         38         среднее             1   \n",
       "21523         3   -3112.481705         38         среднее             1   \n",
       "21524         2   -1984.507589         40         среднее             1   \n",
       "\n",
       "          family_status  family_status_id gender income_type  debt  \\\n",
       "21515   женат / замужем                 0      F   сотрудник     1   \n",
       "21516   женат / замужем                 0      F   компаньон     0   \n",
       "21517  гражданский брак                 1      F   компаньон     0   \n",
       "21518   женат / замужем                 0      F   пенсионер     0   \n",
       "21519         в разводе                 3      M   сотрудник     0   \n",
       "21520  гражданский брак                 1      F   компаньон     0   \n",
       "21521   женат / замужем                 0      F   пенсионер     0   \n",
       "21522  гражданский брак                 1      M   сотрудник     1   \n",
       "21523   женат / замужем                 0      M   сотрудник     1   \n",
       "21524   женат / замужем                 0      F   сотрудник     0   \n",
       "\n",
       "        total_income                            purpose  \n",
       "21515  109486.327999              заняться образованием  \n",
       "21516  322807.776603               покупка своего жилья  \n",
       "21517  178059.553491       на покупку своего автомобиля  \n",
       "21518  153864.650328               сделка с автомобилем  \n",
       "21519  115949.039788  покупка коммерческой недвижимости  \n",
       "21520  224791.862382                  операции с жильем  \n",
       "21521  155999.806512               сделка с автомобилем  \n",
       "21522   89672.561153                       недвижимость  \n",
       "21523  244093.050500       на покупку своего автомобиля  \n",
       "21524   82047.418899              на покупку автомобиля  "
      ]
     },
     "execution_count": 4,
     "metadata": {},
     "output_type": "execute_result"
    }
   ],
   "source": [
    "df.tail(10)"
   ]
  },
  {
   "cell_type": "code",
   "execution_count": 5,
   "metadata": {},
   "outputs": [
    {
     "name": "stdout",
     "output_type": "stream",
     "text": [
      "<class 'pandas.core.frame.DataFrame'>\n",
      "RangeIndex: 21525 entries, 0 to 21524\n",
      "Data columns (total 12 columns):\n",
      "children            21525 non-null int64\n",
      "days_employed       19351 non-null float64\n",
      "dob_years           21525 non-null int64\n",
      "education           21525 non-null object\n",
      "education_id        21525 non-null int64\n",
      "family_status       21525 non-null object\n",
      "family_status_id    21525 non-null int64\n",
      "gender              21525 non-null object\n",
      "income_type         21525 non-null object\n",
      "debt                21525 non-null int64\n",
      "total_income        19351 non-null float64\n",
      "purpose             21525 non-null object\n",
      "dtypes: float64(2), int64(5), object(5)\n",
      "memory usage: 2.0+ MB\n"
     ]
    }
   ],
   "source": [
    "df.info()"
   ]
  },
  {
   "cell_type": "code",
   "execution_count": 6,
   "metadata": {},
   "outputs": [
    {
     "data": {
      "text/html": [
       "<div>\n",
       "<style scoped>\n",
       "    .dataframe tbody tr th:only-of-type {\n",
       "        vertical-align: middle;\n",
       "    }\n",
       "\n",
       "    .dataframe tbody tr th {\n",
       "        vertical-align: top;\n",
       "    }\n",
       "\n",
       "    .dataframe thead th {\n",
       "        text-align: right;\n",
       "    }\n",
       "</style>\n",
       "<table border=\"1\" class=\"dataframe\">\n",
       "  <thead>\n",
       "    <tr style=\"text-align: right;\">\n",
       "      <th></th>\n",
       "      <th>children</th>\n",
       "      <th>days_employed</th>\n",
       "      <th>dob_years</th>\n",
       "      <th>education_id</th>\n",
       "      <th>family_status_id</th>\n",
       "      <th>debt</th>\n",
       "      <th>total_income</th>\n",
       "    </tr>\n",
       "  </thead>\n",
       "  <tbody>\n",
       "    <tr>\n",
       "      <td>count</td>\n",
       "      <td>21525.000000</td>\n",
       "      <td>19351.000000</td>\n",
       "      <td>21525.000000</td>\n",
       "      <td>21525.000000</td>\n",
       "      <td>21525.000000</td>\n",
       "      <td>21525.000000</td>\n",
       "      <td>1.935100e+04</td>\n",
       "    </tr>\n",
       "    <tr>\n",
       "      <td>mean</td>\n",
       "      <td>0.538908</td>\n",
       "      <td>63046.497661</td>\n",
       "      <td>43.293380</td>\n",
       "      <td>0.817236</td>\n",
       "      <td>0.972544</td>\n",
       "      <td>0.080883</td>\n",
       "      <td>1.674223e+05</td>\n",
       "    </tr>\n",
       "    <tr>\n",
       "      <td>std</td>\n",
       "      <td>1.381587</td>\n",
       "      <td>140827.311974</td>\n",
       "      <td>12.574584</td>\n",
       "      <td>0.548138</td>\n",
       "      <td>1.420324</td>\n",
       "      <td>0.272661</td>\n",
       "      <td>1.029716e+05</td>\n",
       "    </tr>\n",
       "    <tr>\n",
       "      <td>min</td>\n",
       "      <td>-1.000000</td>\n",
       "      <td>-18388.949901</td>\n",
       "      <td>0.000000</td>\n",
       "      <td>0.000000</td>\n",
       "      <td>0.000000</td>\n",
       "      <td>0.000000</td>\n",
       "      <td>2.066726e+04</td>\n",
       "    </tr>\n",
       "    <tr>\n",
       "      <td>25%</td>\n",
       "      <td>0.000000</td>\n",
       "      <td>-2747.423625</td>\n",
       "      <td>33.000000</td>\n",
       "      <td>1.000000</td>\n",
       "      <td>0.000000</td>\n",
       "      <td>0.000000</td>\n",
       "      <td>1.030532e+05</td>\n",
       "    </tr>\n",
       "    <tr>\n",
       "      <td>50%</td>\n",
       "      <td>0.000000</td>\n",
       "      <td>-1203.369529</td>\n",
       "      <td>42.000000</td>\n",
       "      <td>1.000000</td>\n",
       "      <td>0.000000</td>\n",
       "      <td>0.000000</td>\n",
       "      <td>1.450179e+05</td>\n",
       "    </tr>\n",
       "    <tr>\n",
       "      <td>75%</td>\n",
       "      <td>1.000000</td>\n",
       "      <td>-291.095954</td>\n",
       "      <td>53.000000</td>\n",
       "      <td>1.000000</td>\n",
       "      <td>1.000000</td>\n",
       "      <td>0.000000</td>\n",
       "      <td>2.034351e+05</td>\n",
       "    </tr>\n",
       "    <tr>\n",
       "      <td>max</td>\n",
       "      <td>20.000000</td>\n",
       "      <td>401755.400475</td>\n",
       "      <td>75.000000</td>\n",
       "      <td>4.000000</td>\n",
       "      <td>4.000000</td>\n",
       "      <td>1.000000</td>\n",
       "      <td>2.265604e+06</td>\n",
       "    </tr>\n",
       "  </tbody>\n",
       "</table>\n",
       "</div>"
      ],
      "text/plain": [
       "           children  days_employed     dob_years  education_id  \\\n",
       "count  21525.000000   19351.000000  21525.000000  21525.000000   \n",
       "mean       0.538908   63046.497661     43.293380      0.817236   \n",
       "std        1.381587  140827.311974     12.574584      0.548138   \n",
       "min       -1.000000  -18388.949901      0.000000      0.000000   \n",
       "25%        0.000000   -2747.423625     33.000000      1.000000   \n",
       "50%        0.000000   -1203.369529     42.000000      1.000000   \n",
       "75%        1.000000    -291.095954     53.000000      1.000000   \n",
       "max       20.000000  401755.400475     75.000000      4.000000   \n",
       "\n",
       "       family_status_id          debt  total_income  \n",
       "count      21525.000000  21525.000000  1.935100e+04  \n",
       "mean           0.972544      0.080883  1.674223e+05  \n",
       "std            1.420324      0.272661  1.029716e+05  \n",
       "min            0.000000      0.000000  2.066726e+04  \n",
       "25%            0.000000      0.000000  1.030532e+05  \n",
       "50%            0.000000      0.000000  1.450179e+05  \n",
       "75%            1.000000      0.000000  2.034351e+05  \n",
       "max            4.000000      1.000000  2.265604e+06  "
      ]
     },
     "execution_count": 6,
     "metadata": {},
     "output_type": "execute_result"
    }
   ],
   "source": [
    "df.describe()"
   ]
  },
  {
   "cell_type": "code",
   "execution_count": 7,
   "metadata": {},
   "outputs": [
    {
     "data": {
      "text/plain": [
       "children               0\n",
       "days_employed       2174\n",
       "dob_years              0\n",
       "education              0\n",
       "education_id           0\n",
       "family_status          0\n",
       "family_status_id       0\n",
       "gender                 0\n",
       "income_type            0\n",
       "debt                   0\n",
       "total_income        2174\n",
       "purpose                0\n",
       "dtype: int64"
      ]
     },
     "execution_count": 7,
     "metadata": {},
     "output_type": "execute_result"
    }
   ],
   "source": [
    "df.isna().sum()"
   ]
  },
  {
   "cell_type": "code",
   "execution_count": 8,
   "metadata": {},
   "outputs": [
    {
     "data": {
      "text/plain": [
       "array(['высшее', 'среднее', 'Среднее', 'СРЕДНЕЕ', 'ВЫСШЕЕ',\n",
       "       'неоконченное высшее', 'начальное', 'Высшее',\n",
       "       'НЕОКОНЧЕННОЕ ВЫСШЕЕ', 'Неоконченное высшее', 'НАЧАЛЬНОЕ',\n",
       "       'Начальное', 'Ученая степень', 'УЧЕНАЯ СТЕПЕНЬ', 'ученая степень'],\n",
       "      dtype=object)"
      ]
     },
     "execution_count": 8,
     "metadata": {},
     "output_type": "execute_result"
    }
   ],
   "source": [
    "df['education'].unique()"
   ]
  },
  {
   "cell_type": "code",
   "execution_count": 9,
   "metadata": {},
   "outputs": [
    {
     "data": {
      "text/plain": [
       "сотрудник          11119\n",
       "компаньон           5085\n",
       "пенсионер           3856\n",
       "госслужащий         1459\n",
       "безработный            2\n",
       "предприниматель        2\n",
       "в декрете              1\n",
       "студент                1\n",
       "Name: income_type, dtype: int64"
      ]
     },
     "execution_count": 9,
     "metadata": {},
     "output_type": "execute_result"
    }
   ],
   "source": [
    "df['income_type'].value_counts()"
   ]
  },
  {
   "cell_type": "code",
   "execution_count": 10,
   "metadata": {},
   "outputs": [
    {
     "data": {
      "text/plain": [
       "0    12380\n",
       "1     4177\n",
       "4     2813\n",
       "3     1195\n",
       "2      960\n",
       "Name: family_status_id, dtype: int64"
      ]
     },
     "execution_count": 10,
     "metadata": {},
     "output_type": "execute_result"
    }
   ],
   "source": [
    "df['family_status_id'].value_counts()"
   ]
  },
  {
   "cell_type": "markdown",
   "metadata": {},
   "source": [
    "**Вывод**"
   ]
  },
  {
   "cell_type": "markdown",
   "metadata": {},
   "source": [
    "1. - children - максимальные и минимальные значения очень интересные;\n",
    "2 - days_employed - общий трудовой стаж отрицательный, либо очень большой;\n",
    "3 - days_employed - есть пропущенные значения, проверить связь со столбцом total_income, их количество одинаковое\n",
    "4. - dob_years - минимальный возраст клиента 0;\n",
    "5. - education - все значения написаны в разном регистре, кто-то забыл выключить Caps;\n",
    "6. - education_id, family_status, family_status_id, income_type - значения в столбцах выглядят нормальными;"
   ]
  },
  {
   "cell_type": "markdown",
   "metadata": {},
   "source": [
    "## Предобработка данных"
   ]
  },
  {
   "cell_type": "code",
   "execution_count": 11,
   "metadata": {},
   "outputs": [
    {
     "data": {
      "text/plain": [
       " 0     14149\n",
       " 1      4818\n",
       " 2      2055\n",
       " 3       330\n",
       " 20       76\n",
       "-1        47\n",
       " 4        41\n",
       " 5         9\n",
       "Name: children, dtype: int64"
      ]
     },
     "execution_count": 11,
     "metadata": {},
     "output_type": "execute_result"
    }
   ],
   "source": [
    "#У нас 47 значений (-1) и 76 значений 20.\n",
    "#В первом случае возможно это означает пропуск и стоит заменить на ноль.\n",
    "#Во втором случае, возможно случился какой-то баг и значения умножились, значения стоит заменить на два.\n",
    "df['children'].value_counts()"
   ]
  },
  {
   "cell_type": "code",
   "execution_count": 12,
   "metadata": {},
   "outputs": [],
   "source": [
    "df['children'] = df['children'].replace(-1, 0)\n",
    "df['children'] = df['children'].replace(20, 2)"
   ]
  },
  {
   "cell_type": "code",
   "execution_count": 13,
   "metadata": {},
   "outputs": [
    {
     "data": {
      "text/plain": [
       "0     101\n",
       "19     14\n",
       "Name: dob_years, dtype: int64"
      ]
     },
     "execution_count": 13,
     "metadata": {},
     "output_type": "execute_result"
    }
   ],
   "source": [
    "#нельзя определить возраст человека, стоит удалить строки с таким возрастом это 0,45% от всего датафрейма\n",
    "df['dob_years'][df['dob_years'] < 20].value_counts()"
   ]
  },
  {
   "cell_type": "code",
   "execution_count": 14,
   "metadata": {},
   "outputs": [],
   "source": [
    "#фильтруем столбец dob_years\n",
    "df = df.loc[df['dob_years'] >0]"
   ]
  },
  {
   "cell_type": "code",
   "execution_count": 15,
   "metadata": {},
   "outputs": [],
   "source": [
    "#преоброзуем поля с образованием в нижний регистр\n",
    "df['education'] = df['education'].str.lower()"
   ]
  },
  {
   "cell_type": "code",
   "execution_count": 16,
   "metadata": {},
   "outputs": [
    {
     "data": {
      "text/plain": [
       "array(['высшее', 'среднее', 'неоконченное высшее', 'начальное',\n",
       "       'ученая степень'], dtype=object)"
      ]
     },
     "execution_count": 16,
     "metadata": {},
     "output_type": "execute_result"
    }
   ],
   "source": [
    "df['education'].unique()"
   ]
  },
  {
   "cell_type": "code",
   "execution_count": 17,
   "metadata": {},
   "outputs": [
    {
     "data": {
      "text/plain": [
       "F      14164\n",
       "M       7259\n",
       "XNA        1\n",
       "Name: gender, dtype: int64"
      ]
     },
     "execution_count": 17,
     "metadata": {},
     "output_type": "execute_result"
    }
   ],
   "source": [
    "#странное значение пола, удалим его\n",
    "df['gender'].value_counts()"
   ]
  },
  {
   "cell_type": "code",
   "execution_count": 18,
   "metadata": {},
   "outputs": [],
   "source": [
    "#фильтруем столбец gender \n",
    "df = df.loc[df['gender'] != 'XNA']"
   ]
  },
  {
   "cell_type": "code",
   "execution_count": 19,
   "metadata": {},
   "outputs": [],
   "source": [
    "#переведем столбец с образованием в нижний регистр\n",
    "df['education'] = df['education'].str.lower()"
   ]
  },
  {
   "cell_type": "code",
   "execution_count": 20,
   "metadata": {},
   "outputs": [
    {
     "data": {
      "text/plain": [
       "array(['высшее', 'среднее', 'неоконченное высшее', 'начальное',\n",
       "       'ученая степень'], dtype=object)"
      ]
     },
     "execution_count": 20,
     "metadata": {},
     "output_type": "execute_result"
    }
   ],
   "source": [
    "#все ок\n",
    "df['education'].unique()"
   ]
  },
  {
   "cell_type": "markdown",
   "metadata": {},
   "source": [
    "### Обработка пропусков"
   ]
  },
  {
   "cell_type": "code",
   "execution_count": 21,
   "metadata": {},
   "outputs": [
    {
     "data": {
      "text/plain": [
       "array([ True])"
      ]
     },
     "execution_count": 21,
     "metadata": {},
     "output_type": "execute_result"
    }
   ],
   "source": [
    "#все пропуски в days_employed связаны с пропусками в total_income\n",
    "(df['days_employed'].isnull() == df['total_income'].isnull()).unique()\n"
   ]
  },
  {
   "cell_type": "markdown",
   "metadata": {},
   "source": [
    "Разберем пропущенные значения в годовом доходе. Возможно пропуски возникли случайным образом. Стоит их заполнить значениями среднего по образованию и должности."
   ]
  },
  {
   "cell_type": "code",
   "execution_count": 22,
   "metadata": {},
   "outputs": [],
   "source": [
    "#заполняем пропуски\n",
    "df['total_income'] = df.groupby(['income_type', 'education'])['total_income'].transform(lambda x: x.fillna(x.mean()))"
   ]
  },
  {
   "cell_type": "code",
   "execution_count": 23,
   "metadata": {},
   "outputs": [
    {
     "data": {
      "text/plain": [
       "3428"
      ]
     },
     "execution_count": 23,
     "metadata": {},
     "output_type": "execute_result"
    }
   ],
   "source": [
    "#проверим количество положительных значений стажа\n",
    "df[df['days_employed'] >0]['days_employed'].count()"
   ]
  },
  {
   "cell_type": "code",
   "execution_count": 24,
   "metadata": {},
   "outputs": [
    {
     "data": {
      "text/plain": [
       "array(['пенсионер', 'безработный'], dtype=object)"
      ]
     },
     "execution_count": 24,
     "metadata": {},
     "output_type": "execute_result"
    }
   ],
   "source": [
    "#посмотрим какой тип занятости у этих людей\n",
    "df[df['days_employed'] >0]['income_type'].unique()"
   ]
  },
  {
   "cell_type": "code",
   "execution_count": 25,
   "metadata": {},
   "outputs": [
    {
     "data": {
      "text/plain": [
       "array(['сотрудник', 'компаньон', 'госслужащий', 'студент',\n",
       "       'предприниматель', 'в декрете'], dtype=object)"
      ]
     },
     "execution_count": 25,
     "metadata": {},
     "output_type": "execute_result"
    }
   ],
   "source": [
    "#и посмотрим тип занятости у людей с отрицательным заработком\n",
    "df[df['days_employed'] <0]['income_type'].unique()"
   ]
  },
  {
   "cell_type": "code",
   "execution_count": 26,
   "metadata": {},
   "outputs": [
    {
     "data": {
      "text/plain": [
       "0"
      ]
     },
     "execution_count": 26,
     "metadata": {},
     "output_type": "execute_result"
    }
   ],
   "source": [
    "df[df['days_employed'] >0]['days_employed'].isna().sum()"
   ]
  },
  {
   "cell_type": "markdown",
   "metadata": {},
   "source": [
    "Заметим, что только у пенсионеров и безработных нет отрицательных значений, а у положительных значений нет пропусков."
   ]
  },
  {
   "cell_type": "code",
   "execution_count": 27,
   "metadata": {},
   "outputs": [
    {
     "data": {
      "text/plain": [
       "365016.54314603505"
      ]
     },
     "execution_count": 27,
     "metadata": {},
     "output_type": "execute_result"
    }
   ],
   "source": [
    "#кажется среднее очень большое\n",
    "df[df['days_employed'] >0]['days_employed'].mean()"
   ]
  },
  {
   "cell_type": "code",
   "execution_count": 28,
   "metadata": {},
   "outputs": [
    {
     "data": {
      "text/plain": [
       "1000.0453236877672"
      ]
     },
     "execution_count": 28,
     "metadata": {},
     "output_type": "execute_result"
    }
   ],
   "source": [
    "#неплохо, с поднятием пенсионного возраста, люди стали работать по тысячу лет\n",
    "df[df['days_employed'] >0]['days_employed'].mean()/365"
   ]
  },
  {
   "cell_type": "code",
   "execution_count": 29,
   "metadata": {},
   "outputs": [
    {
     "data": {
      "text/plain": [
       "59.41802800466744"
      ]
     },
     "execution_count": 29,
     "metadata": {},
     "output_type": "execute_result"
    }
   ],
   "source": [
    "#проверим средний возраст этих людей, может ошибка в том, что подсчет стажа шел в часах\n",
    "df[df['days_employed'] >0]['dob_years'].mean()"
   ]
  },
  {
   "cell_type": "code",
   "execution_count": 30,
   "metadata": {},
   "outputs": [],
   "source": [
    "#средний возраст выглядит нормальным, тогда изменим значения стажа, поделив его на количество часов в сутках\n",
    "df.loc[(df['days_employed'] > 0), 'days_employed'] = df.loc[(df['days_employed'] > 0), 'days_employed']/24"
   ]
  },
  {
   "cell_type": "code",
   "execution_count": 31,
   "metadata": {},
   "outputs": [],
   "source": [
    "#теперь разберемся с отрицательными значениями, все значения преобразуем по модулю\n",
    "df.loc[(df['days_employed'] < 0), 'days_employed'] = df.loc[(df['days_employed'] < 0), 'days_employed'].abs()"
   ]
  },
  {
   "cell_type": "code",
   "execution_count": 32,
   "metadata": {},
   "outputs": [],
   "source": [
    "#отфильтруем стаж работы по среднему значению сгруппированному по типу занятости\n",
    "df['days_employed'] = df.groupby('income_type')['days_employed'].transform(lambda x: x.fillna(x.mean()))"
   ]
  },
  {
   "cell_type": "code",
   "execution_count": 33,
   "metadata": {},
   "outputs": [
    {
     "data": {
      "text/plain": [
       "0"
      ]
     },
     "execution_count": 33,
     "metadata": {},
     "output_type": "execute_result"
    }
   ],
   "source": [
    "df['days_employed'].isna().sum()"
   ]
  },
  {
   "cell_type": "markdown",
   "metadata": {},
   "source": [
    "**Вывод**"
   ]
  },
  {
   "cell_type": "markdown",
   "metadata": {},
   "source": [
    "Возможно некорректно заполнять пропущенные значения. Стоило бы узнать истинную причину пропусков, позвонив нескольким клиентам. Они могли просто не указать в заявке стаж, или недавно устроились на работу после долгого перерыва, поэтому в графе ежемесячного дохода стоит пропуск. Так как количество пропусков составляет около 10% от всех данных, что достаточно много, то было принято решений заменить пропуски на средние значения."
   ]
  },
  {
   "cell_type": "markdown",
   "metadata": {},
   "source": [
    "### Замена типа данных"
   ]
  },
  {
   "cell_type": "code",
   "execution_count": 34,
   "metadata": {},
   "outputs": [],
   "source": [
    "#заменим тип данных в столбцах со стажем и зарплатой\n",
    "df['days_employed'] = df['days_employed'].astype('int')\n",
    "df['total_income'] = df['total_income'].astype('int')"
   ]
  },
  {
   "cell_type": "markdown",
   "metadata": {},
   "source": [
    "**Вывод**"
   ]
  },
  {
   "cell_type": "markdown",
   "metadata": {},
   "source": [
    "Изменен тип данных у столбцов со стажем и ежемесячным доходом."
   ]
  },
  {
   "cell_type": "markdown",
   "metadata": {},
   "source": [
    "### Обработка дубликатов"
   ]
  },
  {
   "cell_type": "code",
   "execution_count": 35,
   "metadata": {},
   "outputs": [
    {
     "data": {
      "text/plain": [
       "71"
      ]
     },
     "execution_count": 35,
     "metadata": {},
     "output_type": "execute_result"
    }
   ],
   "source": [
    "#посчитаем количество дупликатов в датафрейме\n",
    "df.duplicated().sum()"
   ]
  },
  {
   "cell_type": "code",
   "execution_count": 36,
   "metadata": {},
   "outputs": [],
   "source": [
    "#количество дубликатов небольшое, можно их удалить\n",
    "df = df.drop_duplicates()"
   ]
  },
  {
   "cell_type": "markdown",
   "metadata": {},
   "source": [
    "**Вывод**"
   ]
  },
  {
   "cell_type": "markdown",
   "metadata": {},
   "source": [
    "Были удалены дубликаты, возможно было задвоение данных. Это сделано для более наглядного представления столбцов."
   ]
  },
  {
   "cell_type": "markdown",
   "metadata": {},
   "source": [
    "### Лемматизация"
   ]
  },
  {
   "cell_type": "code",
   "execution_count": 37,
   "metadata": {},
   "outputs": [
    {
     "data": {
      "text/plain": [
       "array(['покупка жилья', 'приобретение автомобиля',\n",
       "       'дополнительное образование', 'сыграть свадьбу',\n",
       "       'операции с жильем', 'образование', 'на проведение свадьбы',\n",
       "       'покупка жилья для семьи', 'покупка недвижимости',\n",
       "       'покупка коммерческой недвижимости', 'покупка жилой недвижимости',\n",
       "       'строительство собственной недвижимости', 'недвижимость',\n",
       "       'строительство недвижимости', 'на покупку подержанного автомобиля',\n",
       "       'на покупку своего автомобиля',\n",
       "       'операции с коммерческой недвижимостью',\n",
       "       'строительство жилой недвижимости', 'жилье',\n",
       "       'операции со своей недвижимостью', 'автомобили',\n",
       "       'заняться образованием', 'сделка с подержанным автомобилем',\n",
       "       'получение образования', 'автомобиль', 'свадьба',\n",
       "       'получение дополнительного образования', 'покупка своего жилья',\n",
       "       'операции с недвижимостью', 'получение высшего образования',\n",
       "       'свой автомобиль', 'сделка с автомобилем',\n",
       "       'профильное образование', 'высшее образование',\n",
       "       'покупка жилья для сдачи', 'на покупку автомобиля', 'ремонт жилью',\n",
       "       'заняться высшим образованием'], dtype=object)"
      ]
     },
     "execution_count": 37,
     "metadata": {},
     "output_type": "execute_result"
    }
   ],
   "source": [
    "m = Mystem()\n",
    "purpose_list = df['purpose'].unique()\n",
    "purpose_list"
   ]
  },
  {
   "cell_type": "code",
   "execution_count": 38,
   "metadata": {
    "scrolled": true
   },
   "outputs": [
    {
     "data": {
      "text/plain": [
       "Counter({'покупка': 10,\n",
       "         ' ': 59,\n",
       "         'жилье': 7,\n",
       "         '\\n': 38,\n",
       "         'приобретение': 1,\n",
       "         'автомобиль': 9,\n",
       "         'дополнительный': 2,\n",
       "         'образование': 9,\n",
       "         'сыграть': 1,\n",
       "         'свадьба': 3,\n",
       "         'операция': 4,\n",
       "         'с': 5,\n",
       "         'на': 4,\n",
       "         'проведение': 1,\n",
       "         'для': 2,\n",
       "         'семья': 1,\n",
       "         'недвижимость': 10,\n",
       "         'коммерческий': 2,\n",
       "         'жилой': 2,\n",
       "         'строительство': 3,\n",
       "         'собственный': 1,\n",
       "         'подержать': 1,\n",
       "         'свой': 4,\n",
       "         'со': 1,\n",
       "         'заниматься': 2,\n",
       "         'сделка': 2,\n",
       "         'подержанный': 1,\n",
       "         'получение': 3,\n",
       "         'высокий': 3,\n",
       "         'профильный': 1,\n",
       "         'сдача': 1,\n",
       "         'ремонт': 1})"
      ]
     },
     "execution_count": 38,
     "metadata": {},
     "output_type": "execute_result"
    }
   ],
   "source": [
    "lemmas_purpose = []\n",
    "for row in purpose_list:\n",
    "    lemmas_purpose += m.lemmatize(row)\n",
    "\n",
    "Counter(lemmas_purpose)"
   ]
  },
  {
   "cell_type": "markdown",
   "metadata": {},
   "source": [
    "**Вывод**"
   ]
  },
  {
   "cell_type": "markdown",
   "metadata": {},
   "source": [
    "Можно выделить основные цели кредитов - это:\n",
    "1. Недвижимость\n",
    "2. Образование\n",
    "3. Свадьба\n",
    "4. Автомобиль"
   ]
  },
  {
   "cell_type": "markdown",
   "metadata": {},
   "source": [
    "### Категоризация данных"
   ]
  },
  {
   "cell_type": "code",
   "execution_count": 39,
   "metadata": {},
   "outputs": [],
   "source": [
    "def dob_years_func(row):\n",
    "    if row < 30:\n",
    "        return 'до 30 лет'\n",
    "    elif 30 <= row < 45:\n",
    "        return '30-45 лет'\n",
    "    elif 45 <= row < 65:\n",
    "        return '45-65 лет'\n",
    "    else:\n",
    "        return 'старше 65 лет'"
   ]
  },
  {
   "cell_type": "code",
   "execution_count": 40,
   "metadata": {},
   "outputs": [],
   "source": [
    "def children_func(children):\n",
    "    if children == 0:\n",
    "        return 'нет детей'\n",
    "    elif children == 1:\n",
    "        return '1 ребенок'\n",
    "    elif children == 2:\n",
    "        return '2 ребенка'\n",
    "    else:\n",
    "        return '3 и более'"
   ]
  },
  {
   "cell_type": "code",
   "execution_count": 41,
   "metadata": {},
   "outputs": [],
   "source": [
    "def purpose_func(str):\n",
    "    lemmas = m.lemmatize(str)\n",
    "    if 'жилье' in lemmas or 'недвижимость' in lemmas:\n",
    "        return 'недвижимость'\n",
    "    if 'образование' in lemmas:\n",
    "        return 'образование'\n",
    "    if 'свадьба' in lemmas:\n",
    "        return 'свадьба'\n",
    "    if 'автомобиль' in lemmas:\n",
    "        return 'автомобиль'   "
   ]
  },
  {
   "cell_type": "code",
   "execution_count": 42,
   "metadata": {},
   "outputs": [
    {
     "data": {
      "text/html": [
       "<div>\n",
       "<style scoped>\n",
       "    .dataframe tbody tr th:only-of-type {\n",
       "        vertical-align: middle;\n",
       "    }\n",
       "\n",
       "    .dataframe tbody tr th {\n",
       "        vertical-align: top;\n",
       "    }\n",
       "\n",
       "    .dataframe thead th {\n",
       "        text-align: right;\n",
       "    }\n",
       "</style>\n",
       "<table border=\"1\" class=\"dataframe\">\n",
       "  <thead>\n",
       "    <tr style=\"text-align: right;\">\n",
       "      <th></th>\n",
       "      <th>children</th>\n",
       "      <th>days_employed</th>\n",
       "      <th>dob_years</th>\n",
       "      <th>education_id</th>\n",
       "      <th>family_status_id</th>\n",
       "      <th>debt</th>\n",
       "      <th>total_income</th>\n",
       "    </tr>\n",
       "  </thead>\n",
       "  <tbody>\n",
       "    <tr>\n",
       "      <td>count</td>\n",
       "      <td>21352.000000</td>\n",
       "      <td>21352.000000</td>\n",
       "      <td>21352.000000</td>\n",
       "      <td>21352.000000</td>\n",
       "      <td>21352.000000</td>\n",
       "      <td>21352.000000</td>\n",
       "      <td>2.135200e+04</td>\n",
       "    </tr>\n",
       "    <tr>\n",
       "      <td>mean</td>\n",
       "      <td>0.478316</td>\n",
       "      <td>4647.735622</td>\n",
       "      <td>43.476817</td>\n",
       "      <td>0.817722</td>\n",
       "      <td>0.972649</td>\n",
       "      <td>0.081163</td>\n",
       "      <td>1.675318e+05</td>\n",
       "    </tr>\n",
       "    <tr>\n",
       "      <td>std</td>\n",
       "      <td>0.755786</td>\n",
       "      <td>5320.102803</td>\n",
       "      <td>12.241877</td>\n",
       "      <td>0.548717</td>\n",
       "      <td>1.421020</td>\n",
       "      <td>0.273092</td>\n",
       "      <td>9.839369e+04</td>\n",
       "    </tr>\n",
       "    <tr>\n",
       "      <td>min</td>\n",
       "      <td>0.000000</td>\n",
       "      <td>24.000000</td>\n",
       "      <td>19.000000</td>\n",
       "      <td>0.000000</td>\n",
       "      <td>0.000000</td>\n",
       "      <td>0.000000</td>\n",
       "      <td>2.066700e+04</td>\n",
       "    </tr>\n",
       "    <tr>\n",
       "      <td>25%</td>\n",
       "      <td>0.000000</td>\n",
       "      <td>1023.000000</td>\n",
       "      <td>33.000000</td>\n",
       "      <td>1.000000</td>\n",
       "      <td>0.000000</td>\n",
       "      <td>0.000000</td>\n",
       "      <td>1.076482e+05</td>\n",
       "    </tr>\n",
       "    <tr>\n",
       "      <td>50%</td>\n",
       "      <td>0.000000</td>\n",
       "      <td>2328.000000</td>\n",
       "      <td>43.000000</td>\n",
       "      <td>1.000000</td>\n",
       "      <td>0.000000</td>\n",
       "      <td>0.000000</td>\n",
       "      <td>1.523040e+05</td>\n",
       "    </tr>\n",
       "    <tr>\n",
       "      <td>75%</td>\n",
       "      <td>1.000000</td>\n",
       "      <td>5320.250000</td>\n",
       "      <td>53.000000</td>\n",
       "      <td>1.000000</td>\n",
       "      <td>1.000000</td>\n",
       "      <td>0.000000</td>\n",
       "      <td>1.982935e+05</td>\n",
       "    </tr>\n",
       "    <tr>\n",
       "      <td>max</td>\n",
       "      <td>5.000000</td>\n",
       "      <td>18388.000000</td>\n",
       "      <td>75.000000</td>\n",
       "      <td>4.000000</td>\n",
       "      <td>4.000000</td>\n",
       "      <td>1.000000</td>\n",
       "      <td>2.265604e+06</td>\n",
       "    </tr>\n",
       "  </tbody>\n",
       "</table>\n",
       "</div>"
      ],
      "text/plain": [
       "           children  days_employed     dob_years  education_id  \\\n",
       "count  21352.000000   21352.000000  21352.000000  21352.000000   \n",
       "mean       0.478316    4647.735622     43.476817      0.817722   \n",
       "std        0.755786    5320.102803     12.241877      0.548717   \n",
       "min        0.000000      24.000000     19.000000      0.000000   \n",
       "25%        0.000000    1023.000000     33.000000      1.000000   \n",
       "50%        0.000000    2328.000000     43.000000      1.000000   \n",
       "75%        1.000000    5320.250000     53.000000      1.000000   \n",
       "max        5.000000   18388.000000     75.000000      4.000000   \n",
       "\n",
       "       family_status_id          debt  total_income  \n",
       "count      21352.000000  21352.000000  2.135200e+04  \n",
       "mean           0.972649      0.081163  1.675318e+05  \n",
       "std            1.421020      0.273092  9.839369e+04  \n",
       "min            0.000000      0.000000  2.066700e+04  \n",
       "25%            0.000000      0.000000  1.076482e+05  \n",
       "50%            0.000000      0.000000  1.523040e+05  \n",
       "75%            1.000000      0.000000  1.982935e+05  \n",
       "max            4.000000      1.000000  2.265604e+06  "
      ]
     },
     "execution_count": 42,
     "metadata": {},
     "output_type": "execute_result"
    }
   ],
   "source": [
    "df.describe()"
   ]
  },
  {
   "cell_type": "code",
   "execution_count": 43,
   "metadata": {},
   "outputs": [],
   "source": [
    "#Исходя из таблицы выше можно категоризировать уровень дохода\n",
    "def income_status_func(monthly_income):\n",
    "    if monthly_income <= 107000:\n",
    "            return 'низкий'\n",
    "    if monthly_income <= 152000:\n",
    "            return 'средний'\n",
    "    if monthly_income < 198000:\n",
    "            return 'выше среднего'\n",
    "    return 'высокий'"
   ]
  },
  {
   "cell_type": "code",
   "execution_count": 44,
   "metadata": {},
   "outputs": [],
   "source": [
    "df['number_of_child'] = df['children'].apply(children_func)\n",
    "df['purpose_category'] = df['purpose'].apply(purpose_func)\n",
    "df['age_status'] = df['dob_years'].apply(dob_years_func)\n",
    "df['income_status'] = df['total_income'].apply(income_status_func)"
   ]
  },
  {
   "cell_type": "code",
   "execution_count": 45,
   "metadata": {},
   "outputs": [
    {
     "data": {
      "text/html": [
       "<div>\n",
       "<style scoped>\n",
       "    .dataframe tbody tr th:only-of-type {\n",
       "        vertical-align: middle;\n",
       "    }\n",
       "\n",
       "    .dataframe tbody tr th {\n",
       "        vertical-align: top;\n",
       "    }\n",
       "\n",
       "    .dataframe thead th {\n",
       "        text-align: right;\n",
       "    }\n",
       "</style>\n",
       "<table border=\"1\" class=\"dataframe\">\n",
       "  <thead>\n",
       "    <tr style=\"text-align: right;\">\n",
       "      <th></th>\n",
       "      <th>children</th>\n",
       "      <th>days_employed</th>\n",
       "      <th>dob_years</th>\n",
       "      <th>education</th>\n",
       "      <th>education_id</th>\n",
       "      <th>family_status</th>\n",
       "      <th>family_status_id</th>\n",
       "      <th>gender</th>\n",
       "      <th>income_type</th>\n",
       "      <th>debt</th>\n",
       "      <th>total_income</th>\n",
       "      <th>purpose</th>\n",
       "      <th>number_of_child</th>\n",
       "      <th>purpose_category</th>\n",
       "      <th>age_status</th>\n",
       "      <th>income_status</th>\n",
       "    </tr>\n",
       "  </thead>\n",
       "  <tbody>\n",
       "    <tr>\n",
       "      <td>5632</td>\n",
       "      <td>0</td>\n",
       "      <td>2328</td>\n",
       "      <td>36</td>\n",
       "      <td>среднее</td>\n",
       "      <td>1</td>\n",
       "      <td>женат / замужем</td>\n",
       "      <td>0</td>\n",
       "      <td>F</td>\n",
       "      <td>сотрудник</td>\n",
       "      <td>0</td>\n",
       "      <td>152676</td>\n",
       "      <td>покупка коммерческой недвижимости</td>\n",
       "      <td>нет детей</td>\n",
       "      <td>недвижимость</td>\n",
       "      <td>30-45 лет</td>\n",
       "      <td>выше среднего</td>\n",
       "    </tr>\n",
       "    <tr>\n",
       "      <td>21232</td>\n",
       "      <td>0</td>\n",
       "      <td>1437</td>\n",
       "      <td>25</td>\n",
       "      <td>высшее</td>\n",
       "      <td>0</td>\n",
       "      <td>Не женат / не замужем</td>\n",
       "      <td>4</td>\n",
       "      <td>M</td>\n",
       "      <td>компаньон</td>\n",
       "      <td>0</td>\n",
       "      <td>136647</td>\n",
       "      <td>на покупку автомобиля</td>\n",
       "      <td>нет детей</td>\n",
       "      <td>автомобиль</td>\n",
       "      <td>до 30 лет</td>\n",
       "      <td>средний</td>\n",
       "    </tr>\n",
       "    <tr>\n",
       "      <td>6658</td>\n",
       "      <td>0</td>\n",
       "      <td>4425</td>\n",
       "      <td>31</td>\n",
       "      <td>среднее</td>\n",
       "      <td>1</td>\n",
       "      <td>женат / замужем</td>\n",
       "      <td>0</td>\n",
       "      <td>F</td>\n",
       "      <td>компаньон</td>\n",
       "      <td>0</td>\n",
       "      <td>189384</td>\n",
       "      <td>ремонт жилью</td>\n",
       "      <td>нет детей</td>\n",
       "      <td>недвижимость</td>\n",
       "      <td>30-45 лет</td>\n",
       "      <td>выше среднего</td>\n",
       "    </tr>\n",
       "    <tr>\n",
       "      <td>2743</td>\n",
       "      <td>0</td>\n",
       "      <td>2328</td>\n",
       "      <td>46</td>\n",
       "      <td>среднее</td>\n",
       "      <td>1</td>\n",
       "      <td>женат / замужем</td>\n",
       "      <td>0</td>\n",
       "      <td>F</td>\n",
       "      <td>сотрудник</td>\n",
       "      <td>0</td>\n",
       "      <td>152676</td>\n",
       "      <td>покупка жилья для сдачи</td>\n",
       "      <td>нет детей</td>\n",
       "      <td>недвижимость</td>\n",
       "      <td>45-65 лет</td>\n",
       "      <td>выше среднего</td>\n",
       "    </tr>\n",
       "    <tr>\n",
       "      <td>8616</td>\n",
       "      <td>0</td>\n",
       "      <td>15208</td>\n",
       "      <td>59</td>\n",
       "      <td>среднее</td>\n",
       "      <td>1</td>\n",
       "      <td>вдовец / вдова</td>\n",
       "      <td>2</td>\n",
       "      <td>F</td>\n",
       "      <td>пенсионер</td>\n",
       "      <td>0</td>\n",
       "      <td>131683</td>\n",
       "      <td>свой автомобиль</td>\n",
       "      <td>нет детей</td>\n",
       "      <td>автомобиль</td>\n",
       "      <td>45-65 лет</td>\n",
       "      <td>средний</td>\n",
       "    </tr>\n",
       "  </tbody>\n",
       "</table>\n",
       "</div>"
      ],
      "text/plain": [
       "       children  days_employed  dob_years education  education_id  \\\n",
       "5632          0           2328         36   среднее             1   \n",
       "21232         0           1437         25    высшее             0   \n",
       "6658          0           4425         31   среднее             1   \n",
       "2743          0           2328         46   среднее             1   \n",
       "8616          0          15208         59   среднее             1   \n",
       "\n",
       "               family_status  family_status_id gender income_type  debt  \\\n",
       "5632         женат / замужем                 0      F   сотрудник     0   \n",
       "21232  Не женат / не замужем                 4      M   компаньон     0   \n",
       "6658         женат / замужем                 0      F   компаньон     0   \n",
       "2743         женат / замужем                 0      F   сотрудник     0   \n",
       "8616          вдовец / вдова                 2      F   пенсионер     0   \n",
       "\n",
       "       total_income                            purpose number_of_child  \\\n",
       "5632         152676  покупка коммерческой недвижимости       нет детей   \n",
       "21232        136647              на покупку автомобиля       нет детей   \n",
       "6658         189384                       ремонт жилью       нет детей   \n",
       "2743         152676            покупка жилья для сдачи       нет детей   \n",
       "8616         131683                    свой автомобиль       нет детей   \n",
       "\n",
       "      purpose_category age_status  income_status  \n",
       "5632      недвижимость  30-45 лет  выше среднего  \n",
       "21232       автомобиль  до 30 лет        средний  \n",
       "6658      недвижимость  30-45 лет  выше среднего  \n",
       "2743      недвижимость  45-65 лет  выше среднего  \n",
       "8616        автомобиль  45-65 лет        средний  "
      ]
     },
     "execution_count": 45,
     "metadata": {},
     "output_type": "execute_result"
    }
   ],
   "source": [
    "#посмотрим как выглядят новые столбцы\n",
    "df.sample(5)"
   ]
  },
  {
   "cell_type": "markdown",
   "metadata": {},
   "source": [
    "**Вывод**"
   ]
  },
  {
   "cell_type": "markdown",
   "metadata": {},
   "source": [
    "Теперь в таблице есть новые столбцы разделенные по категориям."
   ]
  },
  {
   "cell_type": "code",
   "execution_count": 46,
   "metadata": {},
   "outputs": [
    {
     "data": {
      "text/html": [
       "<div>\n",
       "<style scoped>\n",
       "    .dataframe tbody tr th:only-of-type {\n",
       "        vertical-align: middle;\n",
       "    }\n",
       "\n",
       "    .dataframe tbody tr th {\n",
       "        vertical-align: top;\n",
       "    }\n",
       "\n",
       "    .dataframe thead th {\n",
       "        text-align: right;\n",
       "    }\n",
       "</style>\n",
       "<table border=\"1\" class=\"dataframe\">\n",
       "  <thead>\n",
       "    <tr style=\"text-align: right;\">\n",
       "      <th></th>\n",
       "      <th>0</th>\n",
       "      <th>1</th>\n",
       "      <th>2</th>\n",
       "      <th>3</th>\n",
       "      <th>4</th>\n",
       "    </tr>\n",
       "  </thead>\n",
       "  <tbody>\n",
       "    <tr>\n",
       "      <td>family</td>\n",
       "      <td>женат / замужем</td>\n",
       "      <td>гражданский брак</td>\n",
       "      <td>вдовец / вдова</td>\n",
       "      <td>в разводе</td>\n",
       "      <td>Не женат / не замужем</td>\n",
       "    </tr>\n",
       "    <tr>\n",
       "      <td>education</td>\n",
       "      <td>высшее</td>\n",
       "      <td>среднее</td>\n",
       "      <td>неоконченное высшее</td>\n",
       "      <td>начальное</td>\n",
       "      <td>ученая степень</td>\n",
       "    </tr>\n",
       "    <tr>\n",
       "      <td>number_of_child</td>\n",
       "      <td>1 ребенок</td>\n",
       "      <td>нет детей</td>\n",
       "      <td>3 и более</td>\n",
       "      <td>2 ребенка</td>\n",
       "      <td>None</td>\n",
       "    </tr>\n",
       "    <tr>\n",
       "      <td>purpose_category</td>\n",
       "      <td>недвижимость</td>\n",
       "      <td>автомобиль</td>\n",
       "      <td>образование</td>\n",
       "      <td>свадьба</td>\n",
       "      <td>None</td>\n",
       "    </tr>\n",
       "    <tr>\n",
       "      <td>income_status</td>\n",
       "      <td>высокий</td>\n",
       "      <td>средний</td>\n",
       "      <td>выше среднего</td>\n",
       "      <td>низкий</td>\n",
       "      <td>None</td>\n",
       "    </tr>\n",
       "  </tbody>\n",
       "</table>\n",
       "</div>"
      ],
      "text/plain": [
       "                                0                 1                    2  \\\n",
       "family            женат / замужем  гражданский брак       вдовец / вдова   \n",
       "education                  высшее           среднее  неоконченное высшее   \n",
       "number_of_child         1 ребенок         нет детей            3 и более   \n",
       "purpose_category     недвижимость        автомобиль          образование   \n",
       "income_status             высокий           средний        выше среднего   \n",
       "\n",
       "                          3                      4  \n",
       "family            в разводе  Не женат / не замужем  \n",
       "education         начальное         ученая степень  \n",
       "number_of_child   2 ребенка                   None  \n",
       "purpose_category    свадьба                   None  \n",
       "income_status        низкий                   None  "
      ]
     },
     "execution_count": 46,
     "metadata": {},
     "output_type": "execute_result"
    }
   ],
   "source": [
    "#преобразование в словарь\n",
    "df_dict = {\"family\" : df['family_status'].unique(),\n",
    "          \"education\" : df['education'].unique(),\n",
    "          \"number_of_child\" : df['number_of_child'].unique(),\n",
    "          \"purpose_category\" : df['purpose_category'].unique(),\n",
    "          \"income_status\" : df['income_status'].unique()}\n",
    "df_dict2= pd.DataFrame.from_dict(df_dict, orient = 'index')\n",
    "df_dict2"
   ]
  },
  {
   "cell_type": "markdown",
   "metadata": {},
   "source": [
    "Выше приведено преобразование в словарь категоризированных столбцов."
   ]
  },
  {
   "cell_type": "markdown",
   "metadata": {},
   "source": [
    "## Зависимость нескольких параметров на возврат кредита в срок"
   ]
  },
  {
   "cell_type": "markdown",
   "metadata": {},
   "source": [
    "- Есть ли зависимость между наличием детей и возвратом кредита в срок?"
   ]
  },
  {
   "cell_type": "code",
   "execution_count": 47,
   "metadata": {},
   "outputs": [
    {
     "data": {
      "text/html": [
       "<div>\n",
       "<style scoped>\n",
       "    .dataframe tbody tr th:only-of-type {\n",
       "        vertical-align: middle;\n",
       "    }\n",
       "\n",
       "    .dataframe tbody tr th {\n",
       "        vertical-align: top;\n",
       "    }\n",
       "\n",
       "    .dataframe thead tr th {\n",
       "        text-align: left;\n",
       "    }\n",
       "\n",
       "    .dataframe thead tr:last-of-type th {\n",
       "        text-align: right;\n",
       "    }\n",
       "</style>\n",
       "<table border=\"1\" class=\"dataframe\">\n",
       "  <thead>\n",
       "    <tr>\n",
       "      <th></th>\n",
       "      <th>count</th>\n",
       "      <th>sum</th>\n",
       "      <th>ratio_children</th>\n",
       "    </tr>\n",
       "    <tr>\n",
       "      <th></th>\n",
       "      <th>debt</th>\n",
       "      <th>debt</th>\n",
       "      <th></th>\n",
       "    </tr>\n",
       "    <tr>\n",
       "      <th>number_of_child</th>\n",
       "      <th></th>\n",
       "      <th></th>\n",
       "      <th></th>\n",
       "    </tr>\n",
       "  </thead>\n",
       "  <tbody>\n",
       "    <tr>\n",
       "      <td>1 ребенок</td>\n",
       "      <td>4792</td>\n",
       "      <td>441</td>\n",
       "      <td>9.2</td>\n",
       "    </tr>\n",
       "    <tr>\n",
       "      <td>2 ребенка</td>\n",
       "      <td>2114</td>\n",
       "      <td>202</td>\n",
       "      <td>9.6</td>\n",
       "    </tr>\n",
       "    <tr>\n",
       "      <td>3 и более</td>\n",
       "      <td>378</td>\n",
       "      <td>31</td>\n",
       "      <td>8.2</td>\n",
       "    </tr>\n",
       "    <tr>\n",
       "      <td>нет детей</td>\n",
       "      <td>14068</td>\n",
       "      <td>1059</td>\n",
       "      <td>7.5</td>\n",
       "    </tr>\n",
       "  </tbody>\n",
       "</table>\n",
       "</div>"
      ],
      "text/plain": [
       "                 count   sum ratio_children\n",
       "                  debt  debt               \n",
       "number_of_child                            \n",
       "1 ребенок         4792   441            9.2\n",
       "2 ребенка         2114   202            9.6\n",
       "3 и более          378    31            8.2\n",
       "нет детей        14068  1059            7.5"
      ]
     },
     "execution_count": 47,
     "metadata": {},
     "output_type": "execute_result"
    }
   ],
   "source": [
    "children_debt = df.pivot_table(index='number_of_child',values='debt',aggfunc=['count','sum'])\n",
    "ratio_children = children_debt[('sum', 'debt')]/children_debt[('count', 'debt')]\n",
    "children_debt['ratio_children']=round(ratio_children*100,1)\n",
    "children_debt"
   ]
  },
  {
   "cell_type": "markdown",
   "metadata": {},
   "source": [
    "**Вывод**"
   ]
  },
  {
   "cell_type": "markdown",
   "metadata": {},
   "source": [
    "Лучшие заемщики без детей и таких большинство. По человеческой логике многодетные семьи должны быть нехорошими плательщиками кредитов, но видимо из-за большой ответственности и государственных льгот на многодетные семьи, ситуация у них гораздо лучше, нежели чем те у кого 1 или 2 ребенка. "
   ]
  },
  {
   "cell_type": "markdown",
   "metadata": {},
   "source": [
    "- Есть ли зависимость между семейным положением и возвратом кредита в срок?"
   ]
  },
  {
   "cell_type": "code",
   "execution_count": 48,
   "metadata": {},
   "outputs": [
    {
     "data": {
      "text/html": [
       "<div>\n",
       "<style scoped>\n",
       "    .dataframe tbody tr th:only-of-type {\n",
       "        vertical-align: middle;\n",
       "    }\n",
       "\n",
       "    .dataframe tbody tr th {\n",
       "        vertical-align: top;\n",
       "    }\n",
       "\n",
       "    .dataframe thead tr th {\n",
       "        text-align: left;\n",
       "    }\n",
       "\n",
       "    .dataframe thead tr:last-of-type th {\n",
       "        text-align: right;\n",
       "    }\n",
       "</style>\n",
       "<table border=\"1\" class=\"dataframe\">\n",
       "  <thead>\n",
       "    <tr>\n",
       "      <th></th>\n",
       "      <th>count</th>\n",
       "      <th>sum</th>\n",
       "      <th>ratio_family_status</th>\n",
       "    </tr>\n",
       "    <tr>\n",
       "      <th></th>\n",
       "      <th>debt</th>\n",
       "      <th>debt</th>\n",
       "      <th></th>\n",
       "    </tr>\n",
       "    <tr>\n",
       "      <th>family_status</th>\n",
       "      <th></th>\n",
       "      <th></th>\n",
       "      <th></th>\n",
       "    </tr>\n",
       "  </thead>\n",
       "  <tbody>\n",
       "    <tr>\n",
       "      <td>Не женат / не замужем</td>\n",
       "      <td>2794</td>\n",
       "      <td>273</td>\n",
       "      <td>9.8</td>\n",
       "    </tr>\n",
       "    <tr>\n",
       "      <td>в разводе</td>\n",
       "      <td>1185</td>\n",
       "      <td>85</td>\n",
       "      <td>7.2</td>\n",
       "    </tr>\n",
       "    <tr>\n",
       "      <td>вдовец / вдова</td>\n",
       "      <td>954</td>\n",
       "      <td>62</td>\n",
       "      <td>6.5</td>\n",
       "    </tr>\n",
       "    <tr>\n",
       "      <td>гражданский брак</td>\n",
       "      <td>4129</td>\n",
       "      <td>386</td>\n",
       "      <td>9.3</td>\n",
       "    </tr>\n",
       "    <tr>\n",
       "      <td>женат / замужем</td>\n",
       "      <td>12290</td>\n",
       "      <td>927</td>\n",
       "      <td>7.5</td>\n",
       "    </tr>\n",
       "  </tbody>\n",
       "</table>\n",
       "</div>"
      ],
      "text/plain": [
       "                       count  sum ratio_family_status\n",
       "                        debt debt                    \n",
       "family_status                                        \n",
       "Не женат / не замужем   2794  273                 9.8\n",
       "в разводе               1185   85                 7.2\n",
       "вдовец / вдова           954   62                 6.5\n",
       "гражданский брак        4129  386                 9.3\n",
       "женат / замужем        12290  927                 7.5"
      ]
     },
     "execution_count": 48,
     "metadata": {},
     "output_type": "execute_result"
    }
   ],
   "source": [
    "family_status_debt = df.pivot_table(index='family_status',values='debt',aggfunc=['count','sum'])\n",
    "ratio_family_status = family_status_debt[('sum', 'debt')]/family_status_debt[('count', 'debt')]\n",
    "family_status_debt['ratio_family_status']=round(ratio_family_status*100,1)\n",
    "family_status_debt"
   ]
  },
  {
   "cell_type": "markdown",
   "metadata": {},
   "source": [
    "**Вывод**"
   ]
  },
  {
   "cell_type": "markdown",
   "metadata": {},
   "source": [
    "Люди в официальном браке и после брака более ответственны к погашению кредита, а тех кто находится в гражданском браке или не женаты/не замужем. Это говорит об ответственности людей перед своей семьей, нежели перед самим собой."
   ]
  },
  {
   "cell_type": "markdown",
   "metadata": {},
   "source": [
    "- Есть ли зависимость между уровнем дохода и возвратом кредита в срок?"
   ]
  },
  {
   "cell_type": "code",
   "execution_count": 49,
   "metadata": {},
   "outputs": [
    {
     "data": {
      "text/html": [
       "<div>\n",
       "<style scoped>\n",
       "    .dataframe tbody tr th:only-of-type {\n",
       "        vertical-align: middle;\n",
       "    }\n",
       "\n",
       "    .dataframe tbody tr th {\n",
       "        vertical-align: top;\n",
       "    }\n",
       "\n",
       "    .dataframe thead tr th {\n",
       "        text-align: left;\n",
       "    }\n",
       "\n",
       "    .dataframe thead tr:last-of-type th {\n",
       "        text-align: right;\n",
       "    }\n",
       "</style>\n",
       "<table border=\"1\" class=\"dataframe\">\n",
       "  <thead>\n",
       "    <tr>\n",
       "      <th></th>\n",
       "      <th>count</th>\n",
       "      <th>sum</th>\n",
       "      <th>ratio_income</th>\n",
       "    </tr>\n",
       "    <tr>\n",
       "      <th></th>\n",
       "      <th>debt</th>\n",
       "      <th>debt</th>\n",
       "      <th></th>\n",
       "    </tr>\n",
       "    <tr>\n",
       "      <th>income_status</th>\n",
       "      <th></th>\n",
       "      <th></th>\n",
       "      <th></th>\n",
       "    </tr>\n",
       "  </thead>\n",
       "  <tbody>\n",
       "    <tr>\n",
       "      <td>высокий</td>\n",
       "      <td>5359</td>\n",
       "      <td>374</td>\n",
       "      <td>7.0</td>\n",
       "    </tr>\n",
       "    <tr>\n",
       "      <td>выше среднего</td>\n",
       "      <td>5338</td>\n",
       "      <td>464</td>\n",
       "      <td>8.7</td>\n",
       "    </tr>\n",
       "    <tr>\n",
       "      <td>низкий</td>\n",
       "      <td>5279</td>\n",
       "      <td>422</td>\n",
       "      <td>8.0</td>\n",
       "    </tr>\n",
       "    <tr>\n",
       "      <td>средний</td>\n",
       "      <td>5376</td>\n",
       "      <td>473</td>\n",
       "      <td>8.8</td>\n",
       "    </tr>\n",
       "  </tbody>\n",
       "</table>\n",
       "</div>"
      ],
      "text/plain": [
       "              count  sum ratio_income\n",
       "               debt debt             \n",
       "income_status                        \n",
       "высокий        5359  374          7.0\n",
       "выше среднего  5338  464          8.7\n",
       "низкий         5279  422          8.0\n",
       "средний        5376  473          8.8"
      ]
     },
     "execution_count": 49,
     "metadata": {},
     "output_type": "execute_result"
    }
   ],
   "source": [
    "income_status_debt = df.pivot_table(index='income_status',values='debt',aggfunc=['count','sum'])\n",
    "ratio_income = income_status_debt[('sum', 'debt')]/income_status_debt[('count', 'debt')]\n",
    "income_status_debt['ratio_income']=round(ratio_income*100,1)\n",
    "income_status_debt"
   ]
  },
  {
   "cell_type": "markdown",
   "metadata": {},
   "source": [
    "**Вывод**"
   ]
  },
  {
   "cell_type": "markdown",
   "metadata": {},
   "source": [
    "Очевидно видеть, что люди с высоким доходом лучше финансово образованы. Гораздо неочевиднее видеть людей с низкими доходами на втором месте, учитывая что часто такие люди с низкой социальной ответственностью и любят брать микрозаймы, кредитные карты и не отдавать деньги. Возможно у этого банка пугающие коллекторы, а возможно не хотят портить кредитную историю. Еще есть предположение, что это небольшие кредиты. Клиенты со средним доходом и доходом выше среднего меньше всего рассчитывают свои силы.  "
   ]
  },
  {
   "cell_type": "markdown",
   "metadata": {},
   "source": [
    "- Как разные цели кредита влияют на его возврат в срок?"
   ]
  },
  {
   "cell_type": "code",
   "execution_count": 50,
   "metadata": {},
   "outputs": [
    {
     "data": {
      "text/html": [
       "<div>\n",
       "<style scoped>\n",
       "    .dataframe tbody tr th:only-of-type {\n",
       "        vertical-align: middle;\n",
       "    }\n",
       "\n",
       "    .dataframe tbody tr th {\n",
       "        vertical-align: top;\n",
       "    }\n",
       "\n",
       "    .dataframe thead tr th {\n",
       "        text-align: left;\n",
       "    }\n",
       "\n",
       "    .dataframe thead tr:last-of-type th {\n",
       "        text-align: right;\n",
       "    }\n",
       "</style>\n",
       "<table border=\"1\" class=\"dataframe\">\n",
       "  <thead>\n",
       "    <tr>\n",
       "      <th></th>\n",
       "      <th>count</th>\n",
       "      <th>sum</th>\n",
       "      <th>ratio_purpose</th>\n",
       "    </tr>\n",
       "    <tr>\n",
       "      <th></th>\n",
       "      <th>debt</th>\n",
       "      <th>debt</th>\n",
       "      <th></th>\n",
       "    </tr>\n",
       "    <tr>\n",
       "      <th>purpose_category</th>\n",
       "      <th></th>\n",
       "      <th></th>\n",
       "      <th></th>\n",
       "    </tr>\n",
       "  </thead>\n",
       "  <tbody>\n",
       "    <tr>\n",
       "      <td>автомобиль</td>\n",
       "      <td>4284</td>\n",
       "      <td>400</td>\n",
       "      <td>9.3</td>\n",
       "    </tr>\n",
       "    <tr>\n",
       "      <td>недвижимость</td>\n",
       "      <td>10763</td>\n",
       "      <td>779</td>\n",
       "      <td>7.2</td>\n",
       "    </tr>\n",
       "    <tr>\n",
       "      <td>образование</td>\n",
       "      <td>3995</td>\n",
       "      <td>370</td>\n",
       "      <td>9.3</td>\n",
       "    </tr>\n",
       "    <tr>\n",
       "      <td>свадьба</td>\n",
       "      <td>2310</td>\n",
       "      <td>184</td>\n",
       "      <td>8.0</td>\n",
       "    </tr>\n",
       "  </tbody>\n",
       "</table>\n",
       "</div>"
      ],
      "text/plain": [
       "                  count  sum ratio_purpose\n",
       "                   debt debt              \n",
       "purpose_category                          \n",
       "автомобиль         4284  400           9.3\n",
       "недвижимость      10763  779           7.2\n",
       "образование        3995  370           9.3\n",
       "свадьба            2310  184           8.0"
      ]
     },
     "execution_count": 50,
     "metadata": {},
     "output_type": "execute_result"
    }
   ],
   "source": [
    "purpose_category_debt = df.pivot_table(index='purpose_category',values='debt',aggfunc=['count','sum'])\n",
    "ratio_purpose = purpose_category_debt[('sum', 'debt')]/purpose_category_debt[('count', 'debt')]\n",
    "purpose_category_debt['ratio_purpose']=round(ratio_purpose*100,1)\n",
    "purpose_category_debt"
   ]
  },
  {
   "cell_type": "markdown",
   "metadata": {},
   "source": [
    "**Вывод**"
   ]
  },
  {
   "cell_type": "markdown",
   "metadata": {},
   "source": [
    "Люди более ответственно и осознано берут кредиты на недвижимость, чего не скажешь про автомобили и образование. Автомобили ломаются, приходится вкладывать деньги, а образование можно бросить - заставить ленивый мозг работать стоит усилий, а так не хочется.  "
   ]
  },
  {
   "cell_type": "markdown",
   "metadata": {},
   "source": [
    "- В дополнение, хочется посмотреть как образование влияет на возврат кредита в срок"
   ]
  },
  {
   "cell_type": "code",
   "execution_count": 51,
   "metadata": {},
   "outputs": [
    {
     "data": {
      "text/html": [
       "<div>\n",
       "<style scoped>\n",
       "    .dataframe tbody tr th:only-of-type {\n",
       "        vertical-align: middle;\n",
       "    }\n",
       "\n",
       "    .dataframe tbody tr th {\n",
       "        vertical-align: top;\n",
       "    }\n",
       "\n",
       "    .dataframe thead tr th {\n",
       "        text-align: left;\n",
       "    }\n",
       "\n",
       "    .dataframe thead tr:last-of-type th {\n",
       "        text-align: right;\n",
       "    }\n",
       "</style>\n",
       "<table border=\"1\" class=\"dataframe\">\n",
       "  <thead>\n",
       "    <tr>\n",
       "      <th></th>\n",
       "      <th>count</th>\n",
       "      <th>sum</th>\n",
       "      <th>ratio_education</th>\n",
       "    </tr>\n",
       "    <tr>\n",
       "      <th></th>\n",
       "      <th>debt</th>\n",
       "      <th>debt</th>\n",
       "      <th></th>\n",
       "    </tr>\n",
       "    <tr>\n",
       "      <th>education</th>\n",
       "      <th></th>\n",
       "      <th></th>\n",
       "      <th></th>\n",
       "    </tr>\n",
       "  </thead>\n",
       "  <tbody>\n",
       "    <tr>\n",
       "      <td>высшее</td>\n",
       "      <td>5215</td>\n",
       "      <td>277</td>\n",
       "      <td>5.3</td>\n",
       "    </tr>\n",
       "    <tr>\n",
       "      <td>начальное</td>\n",
       "      <td>282</td>\n",
       "      <td>31</td>\n",
       "      <td>11.0</td>\n",
       "    </tr>\n",
       "    <tr>\n",
       "      <td>неоконченное высшее</td>\n",
       "      <td>741</td>\n",
       "      <td>68</td>\n",
       "      <td>9.2</td>\n",
       "    </tr>\n",
       "    <tr>\n",
       "      <td>среднее</td>\n",
       "      <td>15108</td>\n",
       "      <td>1357</td>\n",
       "      <td>9.0</td>\n",
       "    </tr>\n",
       "    <tr>\n",
       "      <td>ученая степень</td>\n",
       "      <td>6</td>\n",
       "      <td>0</td>\n",
       "      <td>0.0</td>\n",
       "    </tr>\n",
       "  </tbody>\n",
       "</table>\n",
       "</div>"
      ],
      "text/plain": [
       "                     count   sum ratio_education\n",
       "                      debt  debt                \n",
       "education                                       \n",
       "высшее                5215   277             5.3\n",
       "начальное              282    31            11.0\n",
       "неоконченное высшее    741    68             9.2\n",
       "среднее              15108  1357             9.0\n",
       "ученая степень           6     0             0.0"
      ]
     },
     "execution_count": 51,
     "metadata": {},
     "output_type": "execute_result"
    }
   ],
   "source": [
    "education_debt = df.pivot_table(index='education',values='debt',aggfunc=['count','sum'])\n",
    "ratio_education = education_debt[('sum', 'debt')]/education_debt[('count', 'debt')]\n",
    "education_debt['ratio_education']=round(ratio_education*100,1)\n",
    "education_debt"
   ]
  },
  {
   "cell_type": "markdown",
   "metadata": {},
   "source": [
    "Тут все очевидно."
   ]
  },
  {
   "cell_type": "markdown",
   "metadata": {},
   "source": [
    "## Общий вывод"
   ]
  },
  {
   "cell_type": "markdown",
   "metadata": {},
   "source": [
    "Лучшими заемищками можно считать клиентов без детей, с высшим образованием, женатых/замужних(либо переживших брак по причине смерти или развода),с высоким уровнем дохода и с целью совершения покупки или манипуляциями с недвижимостью.\n",
    "Худшими заемщиками являются клиенты с 1-2 детьми, с начальным образованием, не находящиеся в официальных отношениях, со средним или выше среднего уровнем дохода и с целью покупки автомобиля или вложения средств в образование."
   ]
  }
 ],
 "metadata": {
  "ExecuteTimeLog": [
   {
    "duration": 370,
    "start_time": "2021-09-16T15:49:06.342Z"
   },
   {
    "duration": -10642,
    "start_time": "2021-09-16T15:49:17.357Z"
   },
   {
    "duration": -10648,
    "start_time": "2021-09-16T15:49:17.364Z"
   },
   {
    "duration": -10651,
    "start_time": "2021-09-16T15:49:17.368Z"
   },
   {
    "duration": -10656,
    "start_time": "2021-09-16T15:49:17.375Z"
   },
   {
    "duration": -10657,
    "start_time": "2021-09-16T15:49:17.377Z"
   },
   {
    "duration": -10659,
    "start_time": "2021-09-16T15:49:17.380Z"
   },
   {
    "duration": -10660,
    "start_time": "2021-09-16T15:49:17.383Z"
   },
   {
    "duration": 757,
    "start_time": "2021-09-16T15:49:43.814Z"
   },
   {
    "duration": 65,
    "start_time": "2021-09-16T15:49:44.574Z"
   },
   {
    "duration": 30,
    "start_time": "2021-09-16T15:49:44.666Z"
   },
   {
    "duration": 19,
    "start_time": "2021-09-16T15:49:45.463Z"
   },
   {
    "duration": 15,
    "start_time": "2021-09-16T15:49:45.895Z"
   },
   {
    "duration": 46,
    "start_time": "2021-09-16T15:49:46.303Z"
   },
   {
    "duration": 19,
    "start_time": "2021-09-16T15:49:46.736Z"
   },
   {
    "duration": 7,
    "start_time": "2021-09-16T15:49:47.167Z"
   },
   {
    "duration": 11,
    "start_time": "2021-09-16T15:49:47.596Z"
   },
   {
    "duration": 9,
    "start_time": "2021-09-16T15:49:48.097Z"
   },
   {
    "duration": 8,
    "start_time": "2021-09-16T15:49:49.879Z"
   },
   {
    "duration": 7,
    "start_time": "2021-09-16T15:49:50.364Z"
   },
   {
    "duration": 8,
    "start_time": "2021-09-16T15:49:50.879Z"
   },
   {
    "duration": 9,
    "start_time": "2021-09-16T15:49:51.191Z"
   },
   {
    "duration": 17,
    "start_time": "2021-09-16T15:49:51.486Z"
   },
   {
    "duration": 9,
    "start_time": "2021-09-16T15:49:51.824Z"
   },
   {
    "duration": 10,
    "start_time": "2021-09-16T15:49:52.184Z"
   },
   {
    "duration": 11,
    "start_time": "2021-09-16T15:49:52.688Z"
   },
   {
    "duration": 8,
    "start_time": "2021-09-16T15:49:54.094Z"
   },
   {
    "duration": 35,
    "start_time": "2021-09-16T15:49:55.064Z"
   },
   {
    "duration": 10,
    "start_time": "2021-09-16T15:49:55.424Z"
   },
   {
    "duration": 10,
    "start_time": "2021-09-16T15:49:56.330Z"
   },
   {
    "duration": 12,
    "start_time": "2021-09-16T15:49:57.062Z"
   },
   {
    "duration": 9,
    "start_time": "2021-09-16T15:49:57.681Z"
   },
   {
    "duration": 9,
    "start_time": "2021-09-16T15:49:58.430Z"
   },
   {
    "duration": 9,
    "start_time": "2021-09-16T15:49:58.672Z"
   },
   {
    "duration": 9,
    "start_time": "2021-09-16T15:49:58.974Z"
   },
   {
    "duration": 17,
    "start_time": "2021-09-16T15:49:59.463Z"
   },
   {
    "duration": 9,
    "start_time": "2021-09-16T15:49:59.887Z"
   },
   {
    "duration": 19,
    "start_time": "2021-09-16T15:50:00.600Z"
   },
   {
    "duration": 7,
    "start_time": "2021-09-16T15:50:00.999Z"
   },
   {
    "duration": 7,
    "start_time": "2021-09-16T15:50:02.615Z"
   },
   {
    "duration": 23,
    "start_time": "2021-09-16T15:50:04.533Z"
   },
   {
    "duration": 24,
    "start_time": "2021-09-16T15:50:04.895Z"
   },
   {
    "duration": 8,
    "start_time": "2021-09-16T15:50:06.841Z"
   },
   {
    "duration": 5,
    "start_time": "2021-09-16T15:50:15.325Z"
   },
   {
    "duration": 894,
    "start_time": "2021-09-16T15:51:06.065Z"
   },
   {
    "duration": 1305,
    "start_time": "2021-09-16T15:56:51.982Z"
   },
   {
    "duration": 3457,
    "start_time": "2021-09-16T15:57:19.352Z"
   },
   {
    "duration": 289,
    "start_time": "2021-09-17T04:33:53.623Z"
   },
   {
    "duration": 557,
    "start_time": "2021-09-17T04:33:59.779Z"
   },
   {
    "duration": 54,
    "start_time": "2021-09-17T04:34:00.337Z"
   },
   {
    "duration": 18,
    "start_time": "2021-09-17T04:34:00.394Z"
   },
   {
    "duration": 20,
    "start_time": "2021-09-17T04:34:00.414Z"
   },
   {
    "duration": 22,
    "start_time": "2021-09-17T04:34:00.436Z"
   },
   {
    "duration": 40,
    "start_time": "2021-09-17T04:34:00.460Z"
   },
   {
    "duration": 9,
    "start_time": "2021-09-17T04:34:00.502Z"
   },
   {
    "duration": 13,
    "start_time": "2021-09-17T04:34:00.512Z"
   },
   {
    "duration": 15,
    "start_time": "2021-09-17T04:34:00.527Z"
   },
   {
    "duration": 14,
    "start_time": "2021-09-17T04:34:00.544Z"
   },
   {
    "duration": 18,
    "start_time": "2021-09-17T04:34:00.559Z"
   },
   {
    "duration": 12,
    "start_time": "2021-09-17T04:34:00.579Z"
   },
   {
    "duration": 19,
    "start_time": "2021-09-17T04:34:00.592Z"
   },
   {
    "duration": 7,
    "start_time": "2021-09-17T04:34:00.613Z"
   },
   {
    "duration": 22,
    "start_time": "2021-09-17T04:34:00.621Z"
   },
   {
    "duration": 16,
    "start_time": "2021-09-17T04:34:00.645Z"
   },
   {
    "duration": 17,
    "start_time": "2021-09-17T04:34:00.662Z"
   },
   {
    "duration": 8,
    "start_time": "2021-09-17T04:34:00.681Z"
   },
   {
    "duration": 7,
    "start_time": "2021-09-17T04:34:02.319Z"
   },
   {
    "duration": 259,
    "start_time": "2021-09-17T04:34:02.871Z"
   },
   {
    "duration": 11,
    "start_time": "2021-09-17T04:35:07.256Z"
   },
   {
    "duration": 6,
    "start_time": "2021-09-17T04:35:26.608Z"
   },
   {
    "duration": 243,
    "start_time": "2021-09-17T04:41:15.908Z"
   },
   {
    "duration": 3,
    "start_time": "2021-09-17T04:41:19.268Z"
   },
   {
    "duration": 58,
    "start_time": "2021-09-17T04:41:19.274Z"
   },
   {
    "duration": 13,
    "start_time": "2021-09-17T04:41:19.334Z"
   },
   {
    "duration": 14,
    "start_time": "2021-09-17T04:41:19.349Z"
   },
   {
    "duration": 15,
    "start_time": "2021-09-17T04:41:19.365Z"
   },
   {
    "duration": 32,
    "start_time": "2021-09-17T04:41:19.383Z"
   },
   {
    "duration": 34,
    "start_time": "2021-09-17T04:41:19.416Z"
   },
   {
    "duration": 5,
    "start_time": "2021-09-17T04:41:19.452Z"
   },
   {
    "duration": 6,
    "start_time": "2021-09-17T04:41:19.460Z"
   },
   {
    "duration": 6,
    "start_time": "2021-09-17T04:41:19.468Z"
   },
   {
    "duration": 7,
    "start_time": "2021-09-17T04:41:19.476Z"
   },
   {
    "duration": 4,
    "start_time": "2021-09-17T04:41:19.484Z"
   },
   {
    "duration": 6,
    "start_time": "2021-09-17T04:41:19.489Z"
   },
   {
    "duration": 46,
    "start_time": "2021-09-17T04:41:19.497Z"
   },
   {
    "duration": 10,
    "start_time": "2021-09-17T04:41:19.545Z"
   },
   {
    "duration": 9,
    "start_time": "2021-09-17T04:41:19.557Z"
   },
   {
    "duration": 8,
    "start_time": "2021-09-17T04:41:19.568Z"
   },
   {
    "duration": 7,
    "start_time": "2021-09-17T04:41:19.578Z"
   },
   {
    "duration": 17,
    "start_time": "2021-09-17T04:41:19.587Z"
   },
   {
    "duration": 9,
    "start_time": "2021-09-17T04:41:19.606Z"
   },
   {
    "duration": 25,
    "start_time": "2021-09-17T04:41:19.617Z"
   },
   {
    "duration": 21,
    "start_time": "2021-09-17T04:41:19.644Z"
   },
   {
    "duration": 6,
    "start_time": "2021-09-17T04:41:19.666Z"
   },
   {
    "duration": 7,
    "start_time": "2021-09-17T04:41:19.674Z"
   },
   {
    "duration": 7,
    "start_time": "2021-09-17T04:41:19.682Z"
   },
   {
    "duration": 6,
    "start_time": "2021-09-17T04:41:19.691Z"
   },
   {
    "duration": 44,
    "start_time": "2021-09-17T04:41:19.700Z"
   },
   {
    "duration": 6,
    "start_time": "2021-09-17T04:41:19.746Z"
   },
   {
    "duration": 6,
    "start_time": "2021-09-17T04:41:19.754Z"
   },
   {
    "duration": 14,
    "start_time": "2021-09-17T04:41:19.762Z"
   },
   {
    "duration": 6,
    "start_time": "2021-09-17T04:41:19.777Z"
   },
   {
    "duration": 12,
    "start_time": "2021-09-17T04:41:19.785Z"
   },
   {
    "duration": 4,
    "start_time": "2021-09-17T04:41:19.799Z"
   },
   {
    "duration": 36,
    "start_time": "2021-09-17T04:41:19.805Z"
   },
   {
    "duration": 16,
    "start_time": "2021-09-17T04:41:19.843Z"
   },
   {
    "duration": 16,
    "start_time": "2021-09-17T04:41:19.861Z"
   },
   {
    "duration": 6,
    "start_time": "2021-09-17T04:41:19.879Z"
   },
   {
    "duration": 6,
    "start_time": "2021-09-17T04:41:22.032Z"
   },
   {
    "duration": 665,
    "start_time": "2021-09-17T04:41:22.752Z"
   },
   {
    "duration": 4,
    "start_time": "2021-09-17T04:47:10.805Z"
   },
   {
    "duration": 11,
    "start_time": "2021-09-17T04:48:57.286Z"
   },
   {
    "duration": 30,
    "start_time": "2021-09-17T04:49:33.302Z"
   },
   {
    "duration": 3,
    "start_time": "2021-09-17T04:55:51.163Z"
   },
   {
    "duration": 56,
    "start_time": "2021-09-17T04:55:51.168Z"
   },
   {
    "duration": 12,
    "start_time": "2021-09-17T04:55:51.226Z"
   },
   {
    "duration": 18,
    "start_time": "2021-09-17T04:55:51.240Z"
   },
   {
    "duration": 17,
    "start_time": "2021-09-17T04:55:51.260Z"
   },
   {
    "duration": 31,
    "start_time": "2021-09-17T04:55:51.278Z"
   },
   {
    "duration": 10,
    "start_time": "2021-09-17T04:55:51.310Z"
   },
   {
    "duration": 25,
    "start_time": "2021-09-17T04:55:51.322Z"
   },
   {
    "duration": 9,
    "start_time": "2021-09-17T04:55:51.349Z"
   },
   {
    "duration": 8,
    "start_time": "2021-09-17T04:55:51.360Z"
   },
   {
    "duration": 12,
    "start_time": "2021-09-17T04:55:51.369Z"
   },
   {
    "duration": 14,
    "start_time": "2021-09-17T04:55:51.383Z"
   },
   {
    "duration": 21,
    "start_time": "2021-09-17T04:55:51.399Z"
   },
   {
    "duration": 7,
    "start_time": "2021-09-17T04:55:51.421Z"
   },
   {
    "duration": 12,
    "start_time": "2021-09-17T04:55:51.429Z"
   },
   {
    "duration": 9,
    "start_time": "2021-09-17T04:55:51.443Z"
   },
   {
    "duration": 8,
    "start_time": "2021-09-17T04:55:51.454Z"
   },
   {
    "duration": 14,
    "start_time": "2021-09-17T04:55:51.463Z"
   },
   {
    "duration": 19,
    "start_time": "2021-09-17T04:55:51.479Z"
   },
   {
    "duration": 9,
    "start_time": "2021-09-17T04:55:51.500Z"
   },
   {
    "duration": 7,
    "start_time": "2021-09-17T04:55:51.510Z"
   },
   {
    "duration": 29,
    "start_time": "2021-09-17T04:55:51.518Z"
   },
   {
    "duration": 5,
    "start_time": "2021-09-17T04:55:51.549Z"
   },
   {
    "duration": 10,
    "start_time": "2021-09-17T04:55:51.556Z"
   },
   {
    "duration": 17,
    "start_time": "2021-09-17T04:55:51.568Z"
   },
   {
    "duration": 9,
    "start_time": "2021-09-17T04:55:51.587Z"
   },
   {
    "duration": 12,
    "start_time": "2021-09-17T04:55:51.599Z"
   },
   {
    "duration": 14,
    "start_time": "2021-09-17T04:55:51.613Z"
   },
   {
    "duration": 12,
    "start_time": "2021-09-17T04:55:51.629Z"
   },
   {
    "duration": 12,
    "start_time": "2021-09-17T04:55:51.643Z"
   },
   {
    "duration": 8,
    "start_time": "2021-09-17T04:55:51.657Z"
   },
   {
    "duration": 25,
    "start_time": "2021-09-17T04:55:51.666Z"
   },
   {
    "duration": 8,
    "start_time": "2021-09-17T04:55:51.693Z"
   },
   {
    "duration": 17,
    "start_time": "2021-09-17T04:55:51.703Z"
   },
   {
    "duration": 26,
    "start_time": "2021-09-17T04:55:51.721Z"
   },
   {
    "duration": 16,
    "start_time": "2021-09-17T04:55:51.748Z"
   },
   {
    "duration": 27,
    "start_time": "2021-09-17T04:55:51.766Z"
   },
   {
    "duration": 642,
    "start_time": "2021-09-17T04:55:51.795Z"
   },
   {
    "duration": 264,
    "start_time": "2021-09-17T04:55:52.440Z"
   },
   {
    "duration": -10806,
    "start_time": "2021-09-17T04:56:03.512Z"
   },
   {
    "duration": -10807,
    "start_time": "2021-09-17T04:56:03.514Z"
   },
   {
    "duration": -10808,
    "start_time": "2021-09-17T04:56:03.516Z"
   },
   {
    "duration": -10809,
    "start_time": "2021-09-17T04:56:03.518Z"
   },
   {
    "duration": -10810,
    "start_time": "2021-09-17T04:56:03.520Z"
   },
   {
    "duration": 2,
    "start_time": "2021-09-17T04:55:59.699Z"
   },
   {
    "duration": 54,
    "start_time": "2021-09-17T04:55:59.703Z"
   },
   {
    "duration": 12,
    "start_time": "2021-09-17T04:55:59.759Z"
   },
   {
    "duration": 16,
    "start_time": "2021-09-17T04:55:59.773Z"
   },
   {
    "duration": 14,
    "start_time": "2021-09-17T04:55:59.791Z"
   },
   {
    "duration": 50,
    "start_time": "2021-09-17T04:55:59.807Z"
   },
   {
    "duration": 8,
    "start_time": "2021-09-17T04:55:59.858Z"
   },
   {
    "duration": 6,
    "start_time": "2021-09-17T04:55:59.868Z"
   },
   {
    "duration": 9,
    "start_time": "2021-09-17T04:55:59.876Z"
   },
   {
    "duration": 14,
    "start_time": "2021-09-17T04:55:59.886Z"
   },
   {
    "duration": 11,
    "start_time": "2021-09-17T04:55:59.901Z"
   },
   {
    "duration": 9,
    "start_time": "2021-09-17T04:55:59.913Z"
   },
   {
    "duration": 21,
    "start_time": "2021-09-17T04:55:59.924Z"
   },
   {
    "duration": 9,
    "start_time": "2021-09-17T04:55:59.946Z"
   },
   {
    "duration": 14,
    "start_time": "2021-09-17T04:55:59.957Z"
   },
   {
    "duration": 11,
    "start_time": "2021-09-17T04:55:59.972Z"
   },
   {
    "duration": 9,
    "start_time": "2021-09-17T04:55:59.985Z"
   },
   {
    "duration": 9,
    "start_time": "2021-09-17T04:55:59.995Z"
   },
   {
    "duration": 12,
    "start_time": "2021-09-17T04:56:00.006Z"
   },
   {
    "duration": 22,
    "start_time": "2021-09-17T04:56:00.020Z"
   },
   {
    "duration": 13,
    "start_time": "2021-09-17T04:56:00.043Z"
   },
   {
    "duration": 39,
    "start_time": "2021-09-17T04:56:00.057Z"
   },
   {
    "duration": 7,
    "start_time": "2021-09-17T04:56:00.097Z"
   },
   {
    "duration": 13,
    "start_time": "2021-09-17T04:56:00.105Z"
   },
   {
    "duration": 11,
    "start_time": "2021-09-17T04:56:00.120Z"
   },
   {
    "duration": 6,
    "start_time": "2021-09-17T04:56:00.133Z"
   },
   {
    "duration": 8,
    "start_time": "2021-09-17T04:56:00.142Z"
   },
   {
    "duration": 6,
    "start_time": "2021-09-17T04:56:00.152Z"
   },
   {
    "duration": 15,
    "start_time": "2021-09-17T04:56:00.160Z"
   },
   {
    "duration": 7,
    "start_time": "2021-09-17T04:56:00.176Z"
   },
   {
    "duration": 13,
    "start_time": "2021-09-17T04:56:00.184Z"
   },
   {
    "duration": 18,
    "start_time": "2021-09-17T04:56:00.199Z"
   },
   {
    "duration": 4,
    "start_time": "2021-09-17T04:56:00.219Z"
   },
   {
    "duration": 5,
    "start_time": "2021-09-17T04:56:00.241Z"
   },
   {
    "duration": 32,
    "start_time": "2021-09-17T04:56:00.248Z"
   },
   {
    "duration": 33,
    "start_time": "2021-09-17T04:56:00.282Z"
   },
   {
    "duration": 30,
    "start_time": "2021-09-17T04:56:00.317Z"
   },
   {
    "duration": 651,
    "start_time": "2021-09-17T04:56:00.350Z"
   },
   {
    "duration": 382,
    "start_time": "2021-09-17T04:56:01.003Z"
   },
   {
    "duration": -10701,
    "start_time": "2021-09-17T04:56:12.088Z"
   },
   {
    "duration": -10703,
    "start_time": "2021-09-17T04:56:12.091Z"
   },
   {
    "duration": -10708,
    "start_time": "2021-09-17T04:56:12.098Z"
   },
   {
    "duration": -10709,
    "start_time": "2021-09-17T04:56:12.100Z"
   },
   {
    "duration": 29,
    "start_time": "2021-09-17T04:56:03.690Z"
   },
   {
    "duration": 3,
    "start_time": "2021-09-17T04:56:05.326Z"
   },
   {
    "duration": 246,
    "start_time": "2021-09-17T04:56:07.172Z"
   },
   {
    "duration": 257,
    "start_time": "2021-09-17T04:56:25.990Z"
   },
   {
    "duration": 3,
    "start_time": "2021-09-17T04:56:48.309Z"
   },
   {
    "duration": 273,
    "start_time": "2021-09-17T04:56:50.845Z"
   },
   {
    "duration": 531,
    "start_time": "2021-09-17T04:57:09.789Z"
   },
   {
    "duration": 50,
    "start_time": "2021-09-17T04:57:10.321Z"
   },
   {
    "duration": 18,
    "start_time": "2021-09-17T04:57:10.373Z"
   },
   {
    "duration": 16,
    "start_time": "2021-09-17T04:57:10.393Z"
   },
   {
    "duration": 13,
    "start_time": "2021-09-17T04:57:10.410Z"
   },
   {
    "duration": 40,
    "start_time": "2021-09-17T04:57:10.425Z"
   },
   {
    "duration": 8,
    "start_time": "2021-09-17T04:57:10.467Z"
   },
   {
    "duration": 5,
    "start_time": "2021-09-17T04:57:10.476Z"
   },
   {
    "duration": 7,
    "start_time": "2021-09-17T04:57:10.483Z"
   },
   {
    "duration": 6,
    "start_time": "2021-09-17T04:57:10.492Z"
   },
   {
    "duration": 7,
    "start_time": "2021-09-17T04:57:10.499Z"
   },
   {
    "duration": 5,
    "start_time": "2021-09-17T04:57:10.541Z"
   },
   {
    "duration": 8,
    "start_time": "2021-09-17T04:57:10.547Z"
   },
   {
    "duration": 13,
    "start_time": "2021-09-17T04:57:10.556Z"
   },
   {
    "duration": 11,
    "start_time": "2021-09-17T04:57:10.570Z"
   },
   {
    "duration": 7,
    "start_time": "2021-09-17T04:57:10.583Z"
   },
   {
    "duration": 6,
    "start_time": "2021-09-17T04:57:10.591Z"
   },
   {
    "duration": 8,
    "start_time": "2021-09-17T04:57:10.599Z"
   },
   {
    "duration": 36,
    "start_time": "2021-09-17T04:57:10.609Z"
   },
   {
    "duration": 6,
    "start_time": "2021-09-17T04:57:10.647Z"
   },
   {
    "duration": 8,
    "start_time": "2021-09-17T04:57:10.654Z"
   },
   {
    "duration": 19,
    "start_time": "2021-09-17T04:57:10.663Z"
   },
   {
    "duration": 5,
    "start_time": "2021-09-17T04:57:10.683Z"
   },
   {
    "duration": 6,
    "start_time": "2021-09-17T04:57:10.690Z"
   },
   {
    "duration": 10,
    "start_time": "2021-09-17T04:57:10.698Z"
   },
   {
    "duration": 32,
    "start_time": "2021-09-17T04:57:10.710Z"
   },
   {
    "duration": 6,
    "start_time": "2021-09-17T04:57:10.745Z"
   },
   {
    "duration": 7,
    "start_time": "2021-09-17T04:57:10.753Z"
   },
   {
    "duration": 11,
    "start_time": "2021-09-17T04:57:10.762Z"
   },
   {
    "duration": 9,
    "start_time": "2021-09-17T04:57:10.774Z"
   },
   {
    "duration": 6,
    "start_time": "2021-09-17T04:57:10.784Z"
   },
   {
    "duration": 12,
    "start_time": "2021-09-17T04:57:10.792Z"
   },
   {
    "duration": 36,
    "start_time": "2021-09-17T04:57:10.806Z"
   },
   {
    "duration": 5,
    "start_time": "2021-09-17T04:57:10.843Z"
   },
   {
    "duration": 17,
    "start_time": "2021-09-17T04:57:10.849Z"
   },
   {
    "duration": 16,
    "start_time": "2021-09-17T04:57:10.868Z"
   },
   {
    "duration": 5,
    "start_time": "2021-09-17T04:57:10.886Z"
   },
   {
    "duration": 656,
    "start_time": "2021-09-17T04:57:10.893Z"
   },
   {
    "duration": 304,
    "start_time": "2021-09-17T04:57:11.551Z"
   },
   {
    "duration": -10811,
    "start_time": "2021-09-17T04:57:22.668Z"
   },
   {
    "duration": -10812,
    "start_time": "2021-09-17T04:57:22.671Z"
   },
   {
    "duration": -10820,
    "start_time": "2021-09-17T04:57:22.680Z"
   },
   {
    "duration": -10821,
    "start_time": "2021-09-17T04:57:22.682Z"
   },
   {
    "duration": -10820,
    "start_time": "2021-09-17T04:57:22.683Z"
   },
   {
    "duration": 3,
    "start_time": "2021-09-17T04:57:17.541Z"
   },
   {
    "duration": 4,
    "start_time": "2021-09-17T04:57:18.307Z"
   },
   {
    "duration": 4,
    "start_time": "2021-09-17T04:57:19.078Z"
   },
   {
    "duration": 31,
    "start_time": "2021-09-17T04:57:19.811Z"
   },
   {
    "duration": 3,
    "start_time": "2021-09-17T04:57:21.356Z"
   },
   {
    "duration": 2634,
    "start_time": "2021-09-17T04:57:22.508Z"
   },
   {
    "duration": 12,
    "start_time": "2021-09-17T04:57:34.233Z"
   },
   {
    "duration": 19,
    "start_time": "2021-09-17T05:00:19.614Z"
   },
   {
    "duration": 13,
    "start_time": "2021-09-17T05:00:25.053Z"
   },
   {
    "duration": 258,
    "start_time": "2021-09-17T05:07:14.990Z"
   },
   {
    "duration": 23,
    "start_time": "2021-09-17T05:07:34.843Z"
   },
   {
    "duration": 1011,
    "start_time": "2021-09-17T05:09:10.581Z"
   },
   {
    "duration": 23,
    "start_time": "2021-09-17T05:09:29.019Z"
   },
   {
    "duration": 25,
    "start_time": "2021-09-17T05:09:43.701Z"
   },
   {
    "duration": 24,
    "start_time": "2021-09-17T05:10:06.133Z"
   },
   {
    "duration": 3,
    "start_time": "2021-09-17T05:10:29.748Z"
   },
   {
    "duration": 2602,
    "start_time": "2021-09-17T05:10:32.980Z"
   },
   {
    "duration": 23,
    "start_time": "2021-09-17T05:10:35.772Z"
   },
   {
    "duration": 24,
    "start_time": "2021-09-17T05:10:50.139Z"
   },
   {
    "duration": 23,
    "start_time": "2021-09-17T05:10:58.867Z"
   },
   {
    "duration": 24,
    "start_time": "2021-09-17T05:11:08.907Z"
   },
   {
    "duration": 270,
    "start_time": "2021-09-17T05:11:30.433Z"
   },
   {
    "duration": 270,
    "start_time": "2021-09-17T05:11:43.408Z"
   },
   {
    "duration": 24,
    "start_time": "2021-09-17T05:11:51.003Z"
   },
   {
    "duration": 24,
    "start_time": "2021-09-17T05:21:47.075Z"
   },
   {
    "duration": -10805,
    "start_time": "2021-09-17T05:35:51.002Z"
   },
   {
    "duration": -10809,
    "start_time": "2021-09-17T05:35:51.007Z"
   },
   {
    "duration": -10811,
    "start_time": "2021-09-17T05:35:51.010Z"
   },
   {
    "duration": -10812,
    "start_time": "2021-09-17T05:35:51.012Z"
   },
   {
    "duration": -10813,
    "start_time": "2021-09-17T05:35:51.014Z"
   },
   {
    "duration": -10814,
    "start_time": "2021-09-17T05:35:51.016Z"
   },
   {
    "duration": -10815,
    "start_time": "2021-09-17T05:35:51.018Z"
   },
   {
    "duration": -10816,
    "start_time": "2021-09-17T05:35:51.020Z"
   },
   {
    "duration": -10817,
    "start_time": "2021-09-17T05:35:51.022Z"
   },
   {
    "duration": -10818,
    "start_time": "2021-09-17T05:35:51.024Z"
   },
   {
    "duration": -10820,
    "start_time": "2021-09-17T05:35:51.026Z"
   },
   {
    "duration": -10821,
    "start_time": "2021-09-17T05:35:51.028Z"
   },
   {
    "duration": -10822,
    "start_time": "2021-09-17T05:35:51.030Z"
   },
   {
    "duration": -10823,
    "start_time": "2021-09-17T05:35:51.032Z"
   },
   {
    "duration": -10824,
    "start_time": "2021-09-17T05:35:51.034Z"
   },
   {
    "duration": -10826,
    "start_time": "2021-09-17T05:35:51.037Z"
   },
   {
    "duration": -10835,
    "start_time": "2021-09-17T05:35:51.047Z"
   },
   {
    "duration": -10837,
    "start_time": "2021-09-17T05:35:51.050Z"
   },
   {
    "duration": -10838,
    "start_time": "2021-09-17T05:35:51.052Z"
   },
   {
    "duration": -10838,
    "start_time": "2021-09-17T05:35:51.053Z"
   },
   {
    "duration": -10840,
    "start_time": "2021-09-17T05:35:51.055Z"
   },
   {
    "duration": -10841,
    "start_time": "2021-09-17T05:35:51.057Z"
   },
   {
    "duration": -10842,
    "start_time": "2021-09-17T05:35:51.059Z"
   },
   {
    "duration": -10843,
    "start_time": "2021-09-17T05:35:51.061Z"
   },
   {
    "duration": -10843,
    "start_time": "2021-09-17T05:35:51.063Z"
   },
   {
    "duration": -10845,
    "start_time": "2021-09-17T05:35:51.065Z"
   },
   {
    "duration": -10846,
    "start_time": "2021-09-17T05:35:51.067Z"
   },
   {
    "duration": -10847,
    "start_time": "2021-09-17T05:35:51.069Z"
   },
   {
    "duration": -10848,
    "start_time": "2021-09-17T05:35:51.071Z"
   },
   {
    "duration": -10849,
    "start_time": "2021-09-17T05:35:51.073Z"
   },
   {
    "duration": -10850,
    "start_time": "2021-09-17T05:35:51.075Z"
   },
   {
    "duration": -10851,
    "start_time": "2021-09-17T05:35:51.077Z"
   },
   {
    "duration": -10852,
    "start_time": "2021-09-17T05:35:51.079Z"
   },
   {
    "duration": -10853,
    "start_time": "2021-09-17T05:35:51.081Z"
   },
   {
    "duration": -10854,
    "start_time": "2021-09-17T05:35:51.083Z"
   },
   {
    "duration": -10854,
    "start_time": "2021-09-17T05:35:51.084Z"
   },
   {
    "duration": -10856,
    "start_time": "2021-09-17T05:35:51.086Z"
   },
   {
    "duration": -10857,
    "start_time": "2021-09-17T05:35:51.088Z"
   },
   {
    "duration": -10858,
    "start_time": "2021-09-17T05:35:51.090Z"
   },
   {
    "duration": -10853,
    "start_time": "2021-09-17T05:35:51.093Z"
   },
   {
    "duration": -10854,
    "start_time": "2021-09-17T05:35:51.095Z"
   },
   {
    "duration": -10855,
    "start_time": "2021-09-17T05:35:51.097Z"
   },
   {
    "duration": -10856,
    "start_time": "2021-09-17T05:35:51.099Z"
   },
   {
    "duration": -10849,
    "start_time": "2021-09-17T05:35:51.100Z"
   },
   {
    "duration": -10846,
    "start_time": "2021-09-17T05:35:51.102Z"
   },
   {
    "duration": -10847,
    "start_time": "2021-09-17T05:35:51.104Z"
   },
   {
    "duration": 1603,
    "start_time": "2021-09-17T05:35:54.709Z"
   },
   {
    "duration": 59,
    "start_time": "2021-09-17T05:35:56.314Z"
   },
   {
    "duration": 19,
    "start_time": "2021-09-17T05:35:56.375Z"
   },
   {
    "duration": 13,
    "start_time": "2021-09-17T05:35:56.397Z"
   },
   {
    "duration": 33,
    "start_time": "2021-09-17T05:35:56.412Z"
   },
   {
    "duration": 32,
    "start_time": "2021-09-17T05:35:56.448Z"
   },
   {
    "duration": 9,
    "start_time": "2021-09-17T05:35:56.481Z"
   },
   {
    "duration": 5,
    "start_time": "2021-09-17T05:35:56.493Z"
   },
   {
    "duration": 7,
    "start_time": "2021-09-17T05:35:56.500Z"
   },
   {
    "duration": 37,
    "start_time": "2021-09-17T05:35:56.509Z"
   },
   {
    "duration": 8,
    "start_time": "2021-09-17T05:35:56.549Z"
   },
   {
    "duration": 16,
    "start_time": "2021-09-17T05:35:56.558Z"
   },
   {
    "duration": 12,
    "start_time": "2021-09-17T05:35:56.576Z"
   },
   {
    "duration": 7,
    "start_time": "2021-09-17T05:35:56.589Z"
   },
   {
    "duration": 12,
    "start_time": "2021-09-17T05:35:56.598Z"
   },
   {
    "duration": 10,
    "start_time": "2021-09-17T05:35:56.612Z"
   },
   {
    "duration": 27,
    "start_time": "2021-09-17T05:35:56.623Z"
   },
   {
    "duration": 9,
    "start_time": "2021-09-17T05:35:56.652Z"
   },
   {
    "duration": 12,
    "start_time": "2021-09-17T05:35:56.663Z"
   },
   {
    "duration": 8,
    "start_time": "2021-09-17T05:35:56.677Z"
   },
   {
    "duration": 11,
    "start_time": "2021-09-17T05:35:56.687Z"
   },
   {
    "duration": 20,
    "start_time": "2021-09-17T05:35:56.700Z"
   },
   {
    "duration": 9,
    "start_time": "2021-09-17T05:35:56.748Z"
   },
   {
    "duration": 6,
    "start_time": "2021-09-17T05:35:56.759Z"
   },
   {
    "duration": 8,
    "start_time": "2021-09-17T05:35:56.766Z"
   },
   {
    "duration": 7,
    "start_time": "2021-09-17T05:35:56.776Z"
   },
   {
    "duration": 6,
    "start_time": "2021-09-17T05:35:56.785Z"
   },
   {
    "duration": 7,
    "start_time": "2021-09-17T05:35:56.793Z"
   },
   {
    "duration": 9,
    "start_time": "2021-09-17T05:35:56.845Z"
   },
   {
    "duration": 10,
    "start_time": "2021-09-17T05:35:56.856Z"
   },
   {
    "duration": 8,
    "start_time": "2021-09-17T05:35:56.867Z"
   },
   {
    "duration": 19,
    "start_time": "2021-09-17T05:35:56.877Z"
   },
   {
    "duration": 4,
    "start_time": "2021-09-17T05:35:56.898Z"
   },
   {
    "duration": 6,
    "start_time": "2021-09-17T05:35:56.904Z"
   },
   {
    "duration": 38,
    "start_time": "2021-09-17T05:35:56.912Z"
   },
   {
    "duration": 16,
    "start_time": "2021-09-17T05:35:56.952Z"
   },
   {
    "duration": 5,
    "start_time": "2021-09-17T05:35:56.970Z"
   },
   {
    "duration": 677,
    "start_time": "2021-09-17T05:35:56.977Z"
   },
   {
    "duration": 6,
    "start_time": "2021-09-17T05:35:57.657Z"
   },
   {
    "duration": 8,
    "start_time": "2021-09-17T05:35:57.665Z"
   },
   {
    "duration": 6,
    "start_time": "2021-09-17T05:35:57.675Z"
   },
   {
    "duration": 32,
    "start_time": "2021-09-17T05:35:57.682Z"
   },
   {
    "duration": 2,
    "start_time": "2021-09-17T05:35:57.716Z"
   },
   {
    "duration": 2853,
    "start_time": "2021-09-17T05:35:57.741Z"
   },
   {
    "duration": 19,
    "start_time": "2021-09-17T05:36:00.596Z"
   },
   {
    "duration": 8439,
    "start_time": "2021-09-17T05:36:00.617Z"
   },
   {
    "duration": -10757,
    "start_time": "2021-09-17T05:36:19.815Z"
   },
   {
    "duration": 30,
    "start_time": "2021-09-17T05:36:20.225Z"
   },
   {
    "duration": 274,
    "start_time": "2021-09-17T05:41:28.539Z"
   },
   {
    "duration": 36,
    "start_time": "2021-09-17T05:41:34.939Z"
   },
   {
    "duration": 34,
    "start_time": "2021-09-17T05:43:31.020Z"
   },
   {
    "duration": 34,
    "start_time": "2021-09-17T05:43:44.230Z"
   },
   {
    "duration": 23,
    "start_time": "2021-09-17T05:44:32.769Z"
   },
   {
    "duration": 24,
    "start_time": "2021-09-17T05:46:10.093Z"
   },
   {
    "duration": 24,
    "start_time": "2021-09-17T05:47:12.189Z"
   },
   {
    "duration": 24,
    "start_time": "2021-09-17T05:47:22.491Z"
   },
   {
    "duration": 29,
    "start_time": "2021-09-17T05:47:31.049Z"
   },
   {
    "duration": 25,
    "start_time": "2021-09-17T05:48:56.950Z"
   },
   {
    "duration": 26,
    "start_time": "2021-09-17T06:20:04.490Z"
   },
   {
    "duration": 24,
    "start_time": "2021-09-17T06:20:26.980Z"
   },
   {
    "duration": 2,
    "start_time": "2021-09-17T06:28:50.636Z"
   },
   {
    "duration": 66,
    "start_time": "2021-09-17T06:28:50.640Z"
   },
   {
    "duration": 15,
    "start_time": "2021-09-17T06:28:50.708Z"
   },
   {
    "duration": 26,
    "start_time": "2021-09-17T06:28:50.725Z"
   },
   {
    "duration": 13,
    "start_time": "2021-09-17T06:28:50.753Z"
   },
   {
    "duration": 29,
    "start_time": "2021-09-17T06:28:50.768Z"
   },
   {
    "duration": 9,
    "start_time": "2021-09-17T06:28:50.798Z"
   },
   {
    "duration": 6,
    "start_time": "2021-09-17T06:28:50.809Z"
   },
   {
    "duration": 29,
    "start_time": "2021-09-17T06:28:50.817Z"
   },
   {
    "duration": 14,
    "start_time": "2021-09-17T06:28:50.848Z"
   },
   {
    "duration": 7,
    "start_time": "2021-09-17T06:28:50.864Z"
   },
   {
    "duration": 5,
    "start_time": "2021-09-17T06:28:50.873Z"
   },
   {
    "duration": 9,
    "start_time": "2021-09-17T06:28:50.879Z"
   },
   {
    "duration": 6,
    "start_time": "2021-09-17T06:28:50.889Z"
   },
   {
    "duration": 13,
    "start_time": "2021-09-17T06:28:50.897Z"
   },
   {
    "duration": 30,
    "start_time": "2021-09-17T06:28:50.911Z"
   },
   {
    "duration": 13,
    "start_time": "2021-09-17T06:28:50.942Z"
   },
   {
    "duration": 9,
    "start_time": "2021-09-17T06:28:50.957Z"
   },
   {
    "duration": 14,
    "start_time": "2021-09-17T06:28:50.968Z"
   },
   {
    "duration": 12,
    "start_time": "2021-09-17T06:28:50.984Z"
   },
   {
    "duration": 15,
    "start_time": "2021-09-17T06:28:50.997Z"
   },
   {
    "duration": 32,
    "start_time": "2021-09-17T06:28:51.014Z"
   },
   {
    "duration": 11,
    "start_time": "2021-09-17T06:28:51.048Z"
   },
   {
    "duration": 7,
    "start_time": "2021-09-17T06:28:51.061Z"
   },
   {
    "duration": 14,
    "start_time": "2021-09-17T06:28:51.070Z"
   },
   {
    "duration": 5,
    "start_time": "2021-09-17T06:28:51.086Z"
   },
   {
    "duration": 6,
    "start_time": "2021-09-17T06:28:51.095Z"
   },
   {
    "duration": 6,
    "start_time": "2021-09-17T06:28:51.103Z"
   },
   {
    "duration": 5,
    "start_time": "2021-09-17T06:28:51.111Z"
   },
   {
    "duration": 28,
    "start_time": "2021-09-17T06:28:51.117Z"
   },
   {
    "duration": 12,
    "start_time": "2021-09-17T06:28:51.147Z"
   },
   {
    "duration": 14,
    "start_time": "2021-09-17T06:28:51.160Z"
   },
   {
    "duration": 4,
    "start_time": "2021-09-17T06:28:51.176Z"
   },
   {
    "duration": 7,
    "start_time": "2021-09-17T06:28:51.181Z"
   },
   {
    "duration": 17,
    "start_time": "2021-09-17T06:28:51.190Z"
   },
   {
    "duration": 45,
    "start_time": "2021-09-17T06:28:51.209Z"
   },
   {
    "duration": 25,
    "start_time": "2021-09-17T06:28:51.256Z"
   },
   {
    "duration": 745,
    "start_time": "2021-09-17T06:28:51.283Z"
   },
   {
    "duration": 3,
    "start_time": "2021-09-17T06:28:52.030Z"
   },
   {
    "duration": 20,
    "start_time": "2021-09-17T06:28:52.035Z"
   },
   {
    "duration": 29,
    "start_time": "2021-09-17T06:28:52.057Z"
   },
   {
    "duration": 57,
    "start_time": "2021-09-17T06:28:52.087Z"
   },
   {
    "duration": 3,
    "start_time": "2021-09-17T06:28:52.145Z"
   },
   {
    "duration": 2677,
    "start_time": "2021-09-17T06:28:52.150Z"
   },
   {
    "duration": 25,
    "start_time": "2021-09-17T06:28:54.829Z"
   },
   {
    "duration": 21,
    "start_time": "2021-09-17T06:28:54.856Z"
   },
   {
    "duration": 32,
    "start_time": "2021-09-17T06:28:54.879Z"
   },
   {
    "duration": 34,
    "start_time": "2021-09-17T06:28:54.912Z"
   },
   {
    "duration": 23,
    "start_time": "2021-09-17T06:28:54.947Z"
   },
   {
    "duration": 26,
    "start_time": "2021-09-17T06:28:54.972Z"
   },
   {
    "duration": 855,
    "start_time": "2021-09-17T07:16:20.329Z"
   },
   {
    "duration": 68,
    "start_time": "2021-09-17T07:16:21.188Z"
   },
   {
    "duration": 32,
    "start_time": "2021-09-17T07:16:21.260Z"
   },
   {
    "duration": 38,
    "start_time": "2021-09-17T07:16:21.295Z"
   },
   {
    "duration": 39,
    "start_time": "2021-09-17T07:16:21.336Z"
   },
   {
    "duration": 62,
    "start_time": "2021-09-17T07:16:21.377Z"
   },
   {
    "duration": 16,
    "start_time": "2021-09-17T07:16:21.442Z"
   },
   {
    "duration": 30,
    "start_time": "2021-09-17T07:16:21.461Z"
   },
   {
    "duration": 18,
    "start_time": "2021-09-17T07:16:21.496Z"
   },
   {
    "duration": 21,
    "start_time": "2021-09-17T07:16:21.518Z"
   },
   {
    "duration": 23,
    "start_time": "2021-09-17T07:16:21.541Z"
   },
   {
    "duration": 11,
    "start_time": "2021-09-17T07:16:21.567Z"
   },
   {
    "duration": 33,
    "start_time": "2021-09-17T07:16:21.581Z"
   },
   {
    "duration": 15,
    "start_time": "2021-09-17T07:16:21.617Z"
   },
   {
    "duration": 20,
    "start_time": "2021-09-17T07:16:21.634Z"
   },
   {
    "duration": 22,
    "start_time": "2021-09-17T07:16:21.657Z"
   },
   {
    "duration": 22,
    "start_time": "2021-09-17T07:16:21.682Z"
   },
   {
    "duration": 36,
    "start_time": "2021-09-17T07:16:21.706Z"
   },
   {
    "duration": 41,
    "start_time": "2021-09-17T07:16:21.745Z"
   },
   {
    "duration": 19,
    "start_time": "2021-09-17T07:16:21.789Z"
   },
   {
    "duration": 15,
    "start_time": "2021-09-17T07:16:21.810Z"
   },
   {
    "duration": 55,
    "start_time": "2021-09-17T07:16:21.827Z"
   },
   {
    "duration": 10,
    "start_time": "2021-09-17T07:16:21.884Z"
   },
   {
    "duration": 16,
    "start_time": "2021-09-17T07:16:21.896Z"
   },
   {
    "duration": 19,
    "start_time": "2021-09-17T07:16:21.915Z"
   },
   {
    "duration": 29,
    "start_time": "2021-09-17T07:16:21.937Z"
   },
   {
    "duration": 11,
    "start_time": "2021-09-17T07:16:21.975Z"
   },
   {
    "duration": 8,
    "start_time": "2021-09-17T07:16:21.989Z"
   },
   {
    "duration": 12,
    "start_time": "2021-09-17T07:16:22.000Z"
   },
   {
    "duration": 60,
    "start_time": "2021-09-17T07:16:22.015Z"
   },
   {
    "duration": 9,
    "start_time": "2021-09-17T07:16:22.082Z"
   },
   {
    "duration": 26,
    "start_time": "2021-09-17T07:16:22.094Z"
   },
   {
    "duration": 14,
    "start_time": "2021-09-17T07:16:22.123Z"
   },
   {
    "duration": 26,
    "start_time": "2021-09-17T07:16:22.139Z"
   },
   {
    "duration": 78,
    "start_time": "2021-09-17T07:16:22.168Z"
   },
   {
    "duration": 53,
    "start_time": "2021-09-17T07:16:22.248Z"
   },
   {
    "duration": 10,
    "start_time": "2021-09-17T07:16:22.304Z"
   },
   {
    "duration": 960,
    "start_time": "2021-09-17T07:16:22.317Z"
   },
   {
    "duration": 5,
    "start_time": "2021-09-17T07:16:23.281Z"
   },
   {
    "duration": 38,
    "start_time": "2021-09-17T07:16:23.290Z"
   },
   {
    "duration": 28,
    "start_time": "2021-09-17T07:16:23.331Z"
   },
   {
    "duration": 69,
    "start_time": "2021-09-17T07:16:23.361Z"
   },
   {
    "duration": 4,
    "start_time": "2021-09-17T07:16:23.432Z"
   },
   {
    "duration": 3890,
    "start_time": "2021-09-17T07:16:23.439Z"
   },
   {
    "duration": 44,
    "start_time": "2021-09-17T07:16:27.332Z"
   },
   {
    "duration": 47,
    "start_time": "2021-09-17T07:16:27.379Z"
   },
   {
    "duration": 71,
    "start_time": "2021-09-17T07:16:27.429Z"
   },
   {
    "duration": 67,
    "start_time": "2021-09-17T07:16:27.503Z"
   },
   {
    "duration": 45,
    "start_time": "2021-09-17T07:16:27.572Z"
   },
   {
    "duration": 70,
    "start_time": "2021-09-17T07:16:27.619Z"
   },
   {
    "duration": 18,
    "start_time": "2021-09-17T07:24:50.959Z"
   },
   {
    "duration": 14,
    "start_time": "2021-09-17T07:58:20.250Z"
   },
   {
    "duration": 271,
    "start_time": "2021-09-17T08:19:10.741Z"
   },
   {
    "duration": 4,
    "start_time": "2021-09-17T08:19:33.970Z"
   },
   {
    "duration": 7,
    "start_time": "2021-09-17T08:19:45.352Z"
   },
   {
    "duration": 6,
    "start_time": "2021-09-17T08:21:24.317Z"
   },
   {
    "duration": 279,
    "start_time": "2021-09-17T08:22:30.824Z"
   },
   {
    "duration": 7,
    "start_time": "2021-09-17T08:23:30.641Z"
   },
   {
    "duration": 10,
    "start_time": "2021-09-17T08:23:44.682Z"
   },
   {
    "duration": 15,
    "start_time": "2021-09-17T08:50:41.735Z"
   },
   {
    "duration": 9,
    "start_time": "2021-09-17T08:51:15.680Z"
   },
   {
    "duration": 271,
    "start_time": "2021-09-17T08:54:03.760Z"
   },
   {
    "duration": 15,
    "start_time": "2021-09-17T08:54:39.767Z"
   },
   {
    "duration": 587,
    "start_time": "2021-09-17T08:56:35.195Z"
   },
   {
    "duration": 50,
    "start_time": "2021-09-17T08:56:35.784Z"
   },
   {
    "duration": 18,
    "start_time": "2021-09-17T08:56:35.836Z"
   },
   {
    "duration": 15,
    "start_time": "2021-09-17T08:56:35.855Z"
   },
   {
    "duration": 12,
    "start_time": "2021-09-17T08:56:35.872Z"
   },
   {
    "duration": 30,
    "start_time": "2021-09-17T08:56:35.885Z"
   },
   {
    "duration": 29,
    "start_time": "2021-09-17T08:56:35.917Z"
   },
   {
    "duration": 7,
    "start_time": "2021-09-17T08:56:35.948Z"
   },
   {
    "duration": 7,
    "start_time": "2021-09-17T08:56:35.958Z"
   },
   {
    "duration": 6,
    "start_time": "2021-09-17T08:56:35.967Z"
   },
   {
    "duration": 8,
    "start_time": "2021-09-17T08:56:35.975Z"
   },
   {
    "duration": 8,
    "start_time": "2021-09-17T08:56:35.985Z"
   },
   {
    "duration": 11,
    "start_time": "2021-09-17T08:56:35.995Z"
   },
   {
    "duration": 33,
    "start_time": "2021-09-17T08:56:36.008Z"
   },
   {
    "duration": 12,
    "start_time": "2021-09-17T08:56:36.043Z"
   },
   {
    "duration": 9,
    "start_time": "2021-09-17T08:56:36.057Z"
   },
   {
    "duration": 10,
    "start_time": "2021-09-17T08:56:36.068Z"
   },
   {
    "duration": 8,
    "start_time": "2021-09-17T08:56:36.080Z"
   },
   {
    "duration": 12,
    "start_time": "2021-09-17T08:56:36.090Z"
   },
   {
    "duration": 9,
    "start_time": "2021-09-17T08:56:36.104Z"
   },
   {
    "duration": 27,
    "start_time": "2021-09-17T08:56:36.114Z"
   },
   {
    "duration": 20,
    "start_time": "2021-09-17T08:56:36.143Z"
   },
   {
    "duration": 6,
    "start_time": "2021-09-17T08:56:36.165Z"
   },
   {
    "duration": 6,
    "start_time": "2021-09-17T08:56:36.172Z"
   },
   {
    "duration": 7,
    "start_time": "2021-09-17T08:56:36.180Z"
   },
   {
    "duration": 6,
    "start_time": "2021-09-17T08:56:36.189Z"
   },
   {
    "duration": 43,
    "start_time": "2021-09-17T08:56:36.198Z"
   },
   {
    "duration": 6,
    "start_time": "2021-09-17T08:56:36.243Z"
   },
   {
    "duration": 8,
    "start_time": "2021-09-17T08:56:36.251Z"
   },
   {
    "duration": 10,
    "start_time": "2021-09-17T08:56:36.261Z"
   },
   {
    "duration": 5,
    "start_time": "2021-09-17T08:56:36.273Z"
   },
   {
    "duration": 12,
    "start_time": "2021-09-17T08:56:36.280Z"
   },
   {
    "duration": 4,
    "start_time": "2021-09-17T08:56:36.293Z"
   },
   {
    "duration": 6,
    "start_time": "2021-09-17T08:56:36.299Z"
   },
   {
    "duration": 47,
    "start_time": "2021-09-17T08:56:36.306Z"
   },
   {
    "duration": 16,
    "start_time": "2021-09-17T08:56:36.355Z"
   },
   {
    "duration": 6,
    "start_time": "2021-09-17T08:56:36.372Z"
   },
   {
    "duration": 651,
    "start_time": "2021-09-17T08:56:36.380Z"
   },
   {
    "duration": 7,
    "start_time": "2021-09-17T08:56:37.033Z"
   },
   {
    "duration": 8,
    "start_time": "2021-09-17T08:56:37.042Z"
   },
   {
    "duration": 5,
    "start_time": "2021-09-17T08:56:37.052Z"
   },
   {
    "duration": 34,
    "start_time": "2021-09-17T08:56:37.058Z"
   },
   {
    "duration": 2,
    "start_time": "2021-09-17T08:56:37.094Z"
   },
   {
    "duration": 2621,
    "start_time": "2021-09-17T08:56:37.098Z"
   },
   {
    "duration": 25,
    "start_time": "2021-09-17T08:56:39.721Z"
   },
   {
    "duration": 15,
    "start_time": "2021-09-17T08:56:39.748Z"
   },
   {
    "duration": 28,
    "start_time": "2021-09-17T08:56:39.765Z"
   },
   {
    "duration": 48,
    "start_time": "2021-09-17T08:56:39.795Z"
   },
   {
    "duration": 21,
    "start_time": "2021-09-17T08:56:39.845Z"
   },
   {
    "duration": 21,
    "start_time": "2021-09-17T08:56:39.868Z"
   },
   {
    "duration": 22,
    "start_time": "2021-09-17T08:56:39.891Z"
   }
  ],
  "kernelspec": {
   "display_name": "Python 3 (ipykernel)",
   "language": "python",
   "name": "python3"
  },
  "language_info": {
   "codemirror_mode": {
    "name": "ipython",
    "version": 3
   },
   "file_extension": ".py",
   "mimetype": "text/x-python",
   "name": "python",
   "nbconvert_exporter": "python",
   "pygments_lexer": "ipython3",
   "version": "3.9.21"
  },
  "toc": {
   "base_numbering": 1,
   "nav_menu": {},
   "number_sections": true,
   "sideBar": true,
   "skip_h1_title": true,
   "title_cell": "Table of Contents",
   "title_sidebar": "Contents",
   "toc_cell": false,
   "toc_position": {},
   "toc_section_display": true,
   "toc_window_display": false
  },
  "varInspector": {
   "cols": {
    "lenName": 16,
    "lenType": 16,
    "lenVar": 40
   },
   "kernels_config": {
    "python": {
     "delete_cmd_postfix": "",
     "delete_cmd_prefix": "del ",
     "library": "var_list.py",
     "varRefreshCmd": "print(var_dic_list())"
    },
    "r": {
     "delete_cmd_postfix": ") ",
     "delete_cmd_prefix": "rm(",
     "library": "var_list.r",
     "varRefreshCmd": "cat(var_dic_list()) "
    }
   },
   "types_to_exclude": [
    "module",
    "function",
    "builtin_function_or_method",
    "instance",
    "_Feature"
   ],
   "window_display": false
  }
 },
 "nbformat": 4,
 "nbformat_minor": 2
}
