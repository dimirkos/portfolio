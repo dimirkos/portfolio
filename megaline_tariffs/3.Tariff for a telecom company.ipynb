{
 "cells": [
  {
   "cell_type": "markdown",
   "metadata": {},
   "source": [
    "<font size=\"5\"><b>Определение перспективного тарифа для телеком-компании</b></font>\n",
    "\n",
    "Компания «Мегалайн» — федеральный оператор сотовой связи. Клиентам предлагают два тарифных плана: «Смарт» и «Ультра». Чтобы скорректировать рекламный бюджет, коммерческий департамент хочет понять, какой тариф приносит больше денег.\n",
    "Предстоит сделать предварительный анализ тарифов на небольшой выборке клиентов. В распоряжении данные 500 пользователей «Мегалайна»: кто они, откуда, каким тарифом пользуются, сколько звонков и сообщений каждый отправил за 2018 год. Нужно проанализировать поведение клиентов и сделать вывод — какой тариф лучше."
   ]
  },
  {
   "cell_type": "markdown",
   "metadata": {},
   "source": [
    "<font size=\"5\"><b>Описание тарифов</b></font>\n",
    "\n",
    "**Тариф «Смарт»**\n",
    "\n",
    "1. Ежемесячная плата: 550 рублей\n",
    "2. Включено 500 минут разговора, 50 сообщений и 15 Гб интернет-трафика\n",
    "3. Стоимость услуг сверх тарифного пакета: 1. минута разговора: 3 рубля («Мегалайн» всегда округляет вверх значения минут и мегабайтов. Если пользователь проговорил всего 1 секунду, в тарифе засчитывается целая минута); 2. сообщение: 3 рубля; 3. 1 Гб интернет-трафика: 200 рублей.\n",
    "\n",
    "**Тариф «Ультра»**\n",
    "\n",
    "1. Ежемесячная плата: 1950 рублей\n",
    "2. Включено 3000 минут разговора, 1000 сообщений и 30 Гб интернет-трафика\n",
    "3. Стоимость услуг сверх тарифного пакета: 1. минута разговора: 1 рубль; 2. сообщение: 1 рубль; 3. 1 Гб интернет-трафика: 150 рублей.\n",
    "\n",
    "\n",
    "*«Мегалайн» всегда округляет секунды до минут, а мегабайты — до гигабайт. Каждый звонок округляется отдельно: даже если он длился всего 1 секунду, будет засчитан как 1 минута.\n",
    "Для веб-трафика отдельные сессии не считаются. Вместо этого общая сумма за месяц округляется в бо́льшую сторону. Если абонент использует 1025 мегабайт в этом месяце, с него возьмут плату за 2 гигабайта.*"
   ]
  },
  {
   "cell_type": "markdown",
   "metadata": {
    "toc": true
   },
   "source": [
    "<h1>Содержание<span class=\"tocSkip\"></span></h1>\n",
    "<div class=\"toc\"><ul class=\"toc-item\"><li><span><a href=\"#Общая-информация-о-данных\" data-toc-modified-id=\"Общая-информация-о-данных-1\"><span class=\"toc-item-num\">1&nbsp;&nbsp;</span>Общая информация о данных</a></span></li><li><span><a href=\"#Предобработка-данных\" data-toc-modified-id=\"Предобработка-данных-2\"><span class=\"toc-item-num\">2&nbsp;&nbsp;</span>Предобработка данных</a></span><ul class=\"toc-item\"><li><span><a href=\"#Количество-сделанных-звонков-и-израсходованных-минут-разговора-по-месяцам\" data-toc-modified-id=\"Количество-сделанных-звонков-и-израсходованных-минут-разговора-по-месяцам-2.1\"><span class=\"toc-item-num\">2.1&nbsp;&nbsp;</span>Количество сделанных звонков и израсходованных минут разговора по месяцам</a></span></li><li><span><a href=\"#Количество-отправленных-сообщений-по-месяцам\" data-toc-modified-id=\"Количество-отправленных-сообщений-по-месяцам-2.2\"><span class=\"toc-item-num\">2.2&nbsp;&nbsp;</span>Количество отправленных сообщений по месяцам</a></span></li><li><span><a href=\"#Объем-израсходованного-интернет-трафика-по-месяцам\" data-toc-modified-id=\"Объем-израсходованного-интернет-трафика-по-месяцам-2.3\"><span class=\"toc-item-num\">2.3&nbsp;&nbsp;</span>Объем израсходованного интернет-трафика по месяцам</a></span></li><li><span><a href=\"#Помесячная-выручка-с-каждого-пользователя\" data-toc-modified-id=\"Помесячная-выручка-с-каждого-пользователя-2.4\"><span class=\"toc-item-num\">2.4&nbsp;&nbsp;</span>Помесячная выручка с каждого пользователя</a></span></li></ul></li><li><span><a href=\"#Анализ-данных\" data-toc-modified-id=\"Анализ-данных-3\"><span class=\"toc-item-num\">3&nbsp;&nbsp;</span>Анализ данных</a></span></li><li><span><a href=\"#Проверка-гипотез\" data-toc-modified-id=\"Проверка-гипотез-4\"><span class=\"toc-item-num\">4&nbsp;&nbsp;</span>Проверка гипотез</a></span></li><li><span><a href=\"#Общий-вывод\" data-toc-modified-id=\"Общий-вывод-5\"><span class=\"toc-item-num\">5&nbsp;&nbsp;</span>Общий вывод</a></span></li></ul></div>"
   ]
  },
  {
   "cell_type": "markdown",
   "metadata": {},
   "source": [
    "## Общая информация о данных"
   ]
  },
  {
   "cell_type": "code",
   "execution_count": 1,
   "metadata": {},
   "outputs": [],
   "source": [
    "import pandas as pd\n",
    "import numpy as np\n",
    "import matplotlib.pyplot as plt\n",
    "\n",
    "from datetime import datetime\n",
    "from scipy import stats as st"
   ]
  },
  {
   "cell_type": "code",
   "execution_count": 2,
   "metadata": {},
   "outputs": [],
   "source": [
    "pd.set_option('display.max_columns', None)"
   ]
  },
  {
   "cell_type": "code",
   "execution_count": 3,
   "metadata": {},
   "outputs": [],
   "source": [
    "calls = pd.read_csv('/datasets/calls.csv')\n",
    "internet = pd.read_csv('/datasets/internet.csv')\n",
    "messages = pd.read_csv('/datasets/messages.csv')\n",
    "tariffs = pd.read_csv('/datasets/tariffs.csv')\n",
    "users = pd.read_csv('/datasets/users.csv')"
   ]
  },
  {
   "cell_type": "markdown",
   "metadata": {},
   "source": [
    "Рассмотрим подробнее информацию в таблице со звонками.\n",
    "\n",
    "**Таблица calls (информация о звонках):**\n",
    "- **id** — уникальный номер звонка\n",
    "- **call_date** — дата звонка\n",
    "- **duration** — длительность звонка в минутах\n",
    "- **user_id** — идентификатор пользователя, сделавшего звонок"
   ]
  },
  {
   "cell_type": "code",
   "execution_count": 4,
   "metadata": {},
   "outputs": [
    {
     "data": {
      "text/html": [
       "<div>\n",
       "<style scoped>\n",
       "    .dataframe tbody tr th:only-of-type {\n",
       "        vertical-align: middle;\n",
       "    }\n",
       "\n",
       "    .dataframe tbody tr th {\n",
       "        vertical-align: top;\n",
       "    }\n",
       "\n",
       "    .dataframe thead th {\n",
       "        text-align: right;\n",
       "    }\n",
       "</style>\n",
       "<table border=\"1\" class=\"dataframe\">\n",
       "  <thead>\n",
       "    <tr style=\"text-align: right;\">\n",
       "      <th></th>\n",
       "      <th>id</th>\n",
       "      <th>call_date</th>\n",
       "      <th>duration</th>\n",
       "      <th>user_id</th>\n",
       "    </tr>\n",
       "  </thead>\n",
       "  <tbody>\n",
       "    <tr>\n",
       "      <td>3807</td>\n",
       "      <td>1010_56</td>\n",
       "      <td>2018-12-21</td>\n",
       "      <td>5.21</td>\n",
       "      <td>1010</td>\n",
       "    </tr>\n",
       "    <tr>\n",
       "      <td>183948</td>\n",
       "      <td>1456_420</td>\n",
       "      <td>2018-09-08</td>\n",
       "      <td>17.28</td>\n",
       "      <td>1456</td>\n",
       "    </tr>\n",
       "    <tr>\n",
       "      <td>87694</td>\n",
       "      <td>1219_463</td>\n",
       "      <td>2018-05-31</td>\n",
       "      <td>6.21</td>\n",
       "      <td>1219</td>\n",
       "    </tr>\n",
       "    <tr>\n",
       "      <td>28751</td>\n",
       "      <td>1072_77</td>\n",
       "      <td>2018-12-06</td>\n",
       "      <td>14.20</td>\n",
       "      <td>1072</td>\n",
       "    </tr>\n",
       "    <tr>\n",
       "      <td>135352</td>\n",
       "      <td>1345_161</td>\n",
       "      <td>2018-07-12</td>\n",
       "      <td>7.16</td>\n",
       "      <td>1345</td>\n",
       "    </tr>\n",
       "  </tbody>\n",
       "</table>\n",
       "</div>"
      ],
      "text/plain": [
       "              id   call_date  duration  user_id\n",
       "3807     1010_56  2018-12-21      5.21     1010\n",
       "183948  1456_420  2018-09-08     17.28     1456\n",
       "87694   1219_463  2018-05-31      6.21     1219\n",
       "28751    1072_77  2018-12-06     14.20     1072\n",
       "135352  1345_161  2018-07-12      7.16     1345"
      ]
     },
     "execution_count": 4,
     "metadata": {},
     "output_type": "execute_result"
    }
   ],
   "source": [
    "calls.sample(5)"
   ]
  },
  {
   "cell_type": "code",
   "execution_count": 5,
   "metadata": {},
   "outputs": [
    {
     "name": "stdout",
     "output_type": "stream",
     "text": [
      "<class 'pandas.core.frame.DataFrame'>\n",
      "RangeIndex: 202607 entries, 0 to 202606\n",
      "Data columns (total 4 columns):\n",
      "id           202607 non-null object\n",
      "call_date    202607 non-null object\n",
      "duration     202607 non-null float64\n",
      "user_id      202607 non-null int64\n",
      "dtypes: float64(1), int64(1), object(2)\n",
      "memory usage: 6.2+ MB\n"
     ]
    }
   ],
   "source": [
    "calls.info()"
   ]
  },
  {
   "cell_type": "code",
   "execution_count": 6,
   "metadata": {},
   "outputs": [
    {
     "data": {
      "text/html": [
       "<div>\n",
       "<style scoped>\n",
       "    .dataframe tbody tr th:only-of-type {\n",
       "        vertical-align: middle;\n",
       "    }\n",
       "\n",
       "    .dataframe tbody tr th {\n",
       "        vertical-align: top;\n",
       "    }\n",
       "\n",
       "    .dataframe thead th {\n",
       "        text-align: right;\n",
       "    }\n",
       "</style>\n",
       "<table border=\"1\" class=\"dataframe\">\n",
       "  <thead>\n",
       "    <tr style=\"text-align: right;\">\n",
       "      <th></th>\n",
       "      <th>duration</th>\n",
       "      <th>user_id</th>\n",
       "    </tr>\n",
       "  </thead>\n",
       "  <tbody>\n",
       "    <tr>\n",
       "      <td>count</td>\n",
       "      <td>202607.000000</td>\n",
       "      <td>202607.000000</td>\n",
       "    </tr>\n",
       "    <tr>\n",
       "      <td>mean</td>\n",
       "      <td>6.755887</td>\n",
       "      <td>1253.940619</td>\n",
       "    </tr>\n",
       "    <tr>\n",
       "      <td>std</td>\n",
       "      <td>5.843365</td>\n",
       "      <td>144.722751</td>\n",
       "    </tr>\n",
       "    <tr>\n",
       "      <td>min</td>\n",
       "      <td>0.000000</td>\n",
       "      <td>1000.000000</td>\n",
       "    </tr>\n",
       "    <tr>\n",
       "      <td>25%</td>\n",
       "      <td>1.300000</td>\n",
       "      <td>1126.000000</td>\n",
       "    </tr>\n",
       "    <tr>\n",
       "      <td>50%</td>\n",
       "      <td>6.000000</td>\n",
       "      <td>1260.000000</td>\n",
       "    </tr>\n",
       "    <tr>\n",
       "      <td>75%</td>\n",
       "      <td>10.700000</td>\n",
       "      <td>1379.000000</td>\n",
       "    </tr>\n",
       "    <tr>\n",
       "      <td>max</td>\n",
       "      <td>38.000000</td>\n",
       "      <td>1499.000000</td>\n",
       "    </tr>\n",
       "  </tbody>\n",
       "</table>\n",
       "</div>"
      ],
      "text/plain": [
       "            duration        user_id\n",
       "count  202607.000000  202607.000000\n",
       "mean        6.755887    1253.940619\n",
       "std         5.843365     144.722751\n",
       "min         0.000000    1000.000000\n",
       "25%         1.300000    1126.000000\n",
       "50%         6.000000    1260.000000\n",
       "75%        10.700000    1379.000000\n",
       "max        38.000000    1499.000000"
      ]
     },
     "execution_count": 6,
     "metadata": {},
     "output_type": "execute_result"
    }
   ],
   "source": [
    "calls.describe()"
   ]
  },
  {
   "cell_type": "markdown",
   "metadata": {},
   "source": [
    "В таблице нет пропущенных значений. \n",
    "Стоит изменить типы данных в столбцах id, call_date.\n",
    "Есть звонки длительностью 0мин 0сек - это пропущенные."
   ]
  },
  {
   "cell_type": "markdown",
   "metadata": {},
   "source": [
    "**Таблица internet (информация об интернет-сессиях):**\n",
    "- **id** — уникальный номер сессии\n",
    "- **mb_used** — объём потраченного за сессию интернет-трафика (в мегабайтах)\n",
    "- **session_date** — дата интернет-сессии\n",
    "- **user_id** — идентификатор пользователя"
   ]
  },
  {
   "cell_type": "code",
   "execution_count": 7,
   "metadata": {},
   "outputs": [
    {
     "data": {
      "text/html": [
       "<div>\n",
       "<style scoped>\n",
       "    .dataframe tbody tr th:only-of-type {\n",
       "        vertical-align: middle;\n",
       "    }\n",
       "\n",
       "    .dataframe tbody tr th {\n",
       "        vertical-align: top;\n",
       "    }\n",
       "\n",
       "    .dataframe thead th {\n",
       "        text-align: right;\n",
       "    }\n",
       "</style>\n",
       "<table border=\"1\" class=\"dataframe\">\n",
       "  <thead>\n",
       "    <tr style=\"text-align: right;\">\n",
       "      <th></th>\n",
       "      <th>Unnamed: 0</th>\n",
       "      <th>id</th>\n",
       "      <th>mb_used</th>\n",
       "      <th>session_date</th>\n",
       "      <th>user_id</th>\n",
       "    </tr>\n",
       "  </thead>\n",
       "  <tbody>\n",
       "    <tr>\n",
       "      <td>0</td>\n",
       "      <td>0</td>\n",
       "      <td>1000_0</td>\n",
       "      <td>112.95</td>\n",
       "      <td>2018-11-25</td>\n",
       "      <td>1000</td>\n",
       "    </tr>\n",
       "    <tr>\n",
       "      <td>1</td>\n",
       "      <td>1</td>\n",
       "      <td>1000_1</td>\n",
       "      <td>1052.81</td>\n",
       "      <td>2018-09-07</td>\n",
       "      <td>1000</td>\n",
       "    </tr>\n",
       "    <tr>\n",
       "      <td>2</td>\n",
       "      <td>2</td>\n",
       "      <td>1000_2</td>\n",
       "      <td>1197.26</td>\n",
       "      <td>2018-06-25</td>\n",
       "      <td>1000</td>\n",
       "    </tr>\n",
       "    <tr>\n",
       "      <td>3</td>\n",
       "      <td>3</td>\n",
       "      <td>1000_3</td>\n",
       "      <td>550.27</td>\n",
       "      <td>2018-08-22</td>\n",
       "      <td>1000</td>\n",
       "    </tr>\n",
       "    <tr>\n",
       "      <td>4</td>\n",
       "      <td>4</td>\n",
       "      <td>1000_4</td>\n",
       "      <td>302.56</td>\n",
       "      <td>2018-09-24</td>\n",
       "      <td>1000</td>\n",
       "    </tr>\n",
       "  </tbody>\n",
       "</table>\n",
       "</div>"
      ],
      "text/plain": [
       "   Unnamed: 0      id  mb_used session_date  user_id\n",
       "0           0  1000_0   112.95   2018-11-25     1000\n",
       "1           1  1000_1  1052.81   2018-09-07     1000\n",
       "2           2  1000_2  1197.26   2018-06-25     1000\n",
       "3           3  1000_3   550.27   2018-08-22     1000\n",
       "4           4  1000_4   302.56   2018-09-24     1000"
      ]
     },
     "execution_count": 7,
     "metadata": {},
     "output_type": "execute_result"
    }
   ],
   "source": [
    "internet.head(5)"
   ]
  },
  {
   "cell_type": "code",
   "execution_count": 8,
   "metadata": {},
   "outputs": [
    {
     "name": "stdout",
     "output_type": "stream",
     "text": [
      "<class 'pandas.core.frame.DataFrame'>\n",
      "RangeIndex: 149396 entries, 0 to 149395\n",
      "Data columns (total 5 columns):\n",
      "Unnamed: 0      149396 non-null int64\n",
      "id              149396 non-null object\n",
      "mb_used         149396 non-null float64\n",
      "session_date    149396 non-null object\n",
      "user_id         149396 non-null int64\n",
      "dtypes: float64(1), int64(2), object(2)\n",
      "memory usage: 5.7+ MB\n"
     ]
    }
   ],
   "source": [
    "internet.info()"
   ]
  },
  {
   "cell_type": "code",
   "execution_count": 9,
   "metadata": {},
   "outputs": [
    {
     "data": {
      "text/html": [
       "<div>\n",
       "<style scoped>\n",
       "    .dataframe tbody tr th:only-of-type {\n",
       "        vertical-align: middle;\n",
       "    }\n",
       "\n",
       "    .dataframe tbody tr th {\n",
       "        vertical-align: top;\n",
       "    }\n",
       "\n",
       "    .dataframe thead th {\n",
       "        text-align: right;\n",
       "    }\n",
       "</style>\n",
       "<table border=\"1\" class=\"dataframe\">\n",
       "  <thead>\n",
       "    <tr style=\"text-align: right;\">\n",
       "      <th></th>\n",
       "      <th>Unnamed: 0</th>\n",
       "      <th>mb_used</th>\n",
       "      <th>user_id</th>\n",
       "    </tr>\n",
       "  </thead>\n",
       "  <tbody>\n",
       "    <tr>\n",
       "      <td>count</td>\n",
       "      <td>149396.000000</td>\n",
       "      <td>149396.000000</td>\n",
       "      <td>149396.000000</td>\n",
       "    </tr>\n",
       "    <tr>\n",
       "      <td>mean</td>\n",
       "      <td>74697.500000</td>\n",
       "      <td>370.192426</td>\n",
       "      <td>1252.099842</td>\n",
       "    </tr>\n",
       "    <tr>\n",
       "      <td>std</td>\n",
       "      <td>43127.054745</td>\n",
       "      <td>278.300951</td>\n",
       "      <td>144.050823</td>\n",
       "    </tr>\n",
       "    <tr>\n",
       "      <td>min</td>\n",
       "      <td>0.000000</td>\n",
       "      <td>0.000000</td>\n",
       "      <td>1000.000000</td>\n",
       "    </tr>\n",
       "    <tr>\n",
       "      <td>25%</td>\n",
       "      <td>37348.750000</td>\n",
       "      <td>138.187500</td>\n",
       "      <td>1130.000000</td>\n",
       "    </tr>\n",
       "    <tr>\n",
       "      <td>50%</td>\n",
       "      <td>74697.500000</td>\n",
       "      <td>348.015000</td>\n",
       "      <td>1251.000000</td>\n",
       "    </tr>\n",
       "    <tr>\n",
       "      <td>75%</td>\n",
       "      <td>112046.250000</td>\n",
       "      <td>559.552500</td>\n",
       "      <td>1380.000000</td>\n",
       "    </tr>\n",
       "    <tr>\n",
       "      <td>max</td>\n",
       "      <td>149395.000000</td>\n",
       "      <td>1724.830000</td>\n",
       "      <td>1499.000000</td>\n",
       "    </tr>\n",
       "  </tbody>\n",
       "</table>\n",
       "</div>"
      ],
      "text/plain": [
       "          Unnamed: 0        mb_used        user_id\n",
       "count  149396.000000  149396.000000  149396.000000\n",
       "mean    74697.500000     370.192426    1252.099842\n",
       "std     43127.054745     278.300951     144.050823\n",
       "min         0.000000       0.000000    1000.000000\n",
       "25%     37348.750000     138.187500    1130.000000\n",
       "50%     74697.500000     348.015000    1251.000000\n",
       "75%    112046.250000     559.552500    1380.000000\n",
       "max    149395.000000    1724.830000    1499.000000"
      ]
     },
     "execution_count": 9,
     "metadata": {},
     "output_type": "execute_result"
    }
   ],
   "source": [
    "internet.describe()"
   ]
  },
  {
   "cell_type": "markdown",
   "metadata": {},
   "source": [
    "В таблице нет пропущенных значений. Стоит изменить типы данных в столбцах id, session_date. Какой-то странный столбец unnamed, который дублирует нумерацию строк, стоит его удалить."
   ]
  },
  {
   "cell_type": "markdown",
   "metadata": {},
   "source": [
    "**Таблица messages (информация о сообщениях):**\n",
    "- **id** — уникальный номер сообщения\n",
    "- **message_date** — дата сообщения\n",
    "- **user_id** — идентификатор пользователя, отправившего сообщение"
   ]
  },
  {
   "cell_type": "code",
   "execution_count": 10,
   "metadata": {},
   "outputs": [
    {
     "data": {
      "text/html": [
       "<div>\n",
       "<style scoped>\n",
       "    .dataframe tbody tr th:only-of-type {\n",
       "        vertical-align: middle;\n",
       "    }\n",
       "\n",
       "    .dataframe tbody tr th {\n",
       "        vertical-align: top;\n",
       "    }\n",
       "\n",
       "    .dataframe thead th {\n",
       "        text-align: right;\n",
       "    }\n",
       "</style>\n",
       "<table border=\"1\" class=\"dataframe\">\n",
       "  <thead>\n",
       "    <tr style=\"text-align: right;\">\n",
       "      <th></th>\n",
       "      <th>id</th>\n",
       "      <th>message_date</th>\n",
       "      <th>user_id</th>\n",
       "    </tr>\n",
       "  </thead>\n",
       "  <tbody>\n",
       "    <tr>\n",
       "      <td>0</td>\n",
       "      <td>1000_0</td>\n",
       "      <td>2018-06-27</td>\n",
       "      <td>1000</td>\n",
       "    </tr>\n",
       "    <tr>\n",
       "      <td>1</td>\n",
       "      <td>1000_1</td>\n",
       "      <td>2018-10-08</td>\n",
       "      <td>1000</td>\n",
       "    </tr>\n",
       "    <tr>\n",
       "      <td>2</td>\n",
       "      <td>1000_2</td>\n",
       "      <td>2018-08-04</td>\n",
       "      <td>1000</td>\n",
       "    </tr>\n",
       "    <tr>\n",
       "      <td>3</td>\n",
       "      <td>1000_3</td>\n",
       "      <td>2018-06-16</td>\n",
       "      <td>1000</td>\n",
       "    </tr>\n",
       "    <tr>\n",
       "      <td>4</td>\n",
       "      <td>1000_4</td>\n",
       "      <td>2018-12-05</td>\n",
       "      <td>1000</td>\n",
       "    </tr>\n",
       "  </tbody>\n",
       "</table>\n",
       "</div>"
      ],
      "text/plain": [
       "       id message_date  user_id\n",
       "0  1000_0   2018-06-27     1000\n",
       "1  1000_1   2018-10-08     1000\n",
       "2  1000_2   2018-08-04     1000\n",
       "3  1000_3   2018-06-16     1000\n",
       "4  1000_4   2018-12-05     1000"
      ]
     },
     "execution_count": 10,
     "metadata": {},
     "output_type": "execute_result"
    }
   ],
   "source": [
    "messages.head()"
   ]
  },
  {
   "cell_type": "code",
   "execution_count": 11,
   "metadata": {},
   "outputs": [
    {
     "name": "stdout",
     "output_type": "stream",
     "text": [
      "<class 'pandas.core.frame.DataFrame'>\n",
      "RangeIndex: 123036 entries, 0 to 123035\n",
      "Data columns (total 3 columns):\n",
      "id              123036 non-null object\n",
      "message_date    123036 non-null object\n",
      "user_id         123036 non-null int64\n",
      "dtypes: int64(1), object(2)\n",
      "memory usage: 2.8+ MB\n"
     ]
    }
   ],
   "source": [
    "messages.info()"
   ]
  },
  {
   "cell_type": "markdown",
   "metadata": {},
   "source": [
    "Стоит изменить тип данных message_date. "
   ]
  },
  {
   "cell_type": "markdown",
   "metadata": {},
   "source": [
    "**Таблица tariffs (информация о тарифах):**\n",
    "\n",
    "- **tariff_name** — название тарифа\n",
    "- **rub_monthly_fee** — ежемесячная абонентская плата в рублях\n",
    "- **minutes_included** — количество минут разговора в месяц, включённых в абонентскую плату\n",
    "- **messages_included** — количество сообщений в месяц, включённых в абонентскую плату\n",
    "- **mb_per_month_included** — объём интернет-трафика, включённого в абонентскую плату (в мегабайтах)\n",
    "- **rub_per_minute** — стоимость минуты разговора сверх тарифного пакета (например, если в тарифе 100 минут разговора в месяц, то со 101 минуты будет взиматься плата)\n",
    "- **rub_per_message** — стоимость отправки сообщения сверх тарифного пакета\n",
    "- **rub_per_gb** — стоимость дополнительного гигабайта интернет-трафика сверх тарифного пакета (1 гигабайт = 1024 мегабайта)"
   ]
  },
  {
   "cell_type": "code",
   "execution_count": 12,
   "metadata": {},
   "outputs": [
    {
     "data": {
      "text/html": [
       "<div>\n",
       "<style scoped>\n",
       "    .dataframe tbody tr th:only-of-type {\n",
       "        vertical-align: middle;\n",
       "    }\n",
       "\n",
       "    .dataframe tbody tr th {\n",
       "        vertical-align: top;\n",
       "    }\n",
       "\n",
       "    .dataframe thead th {\n",
       "        text-align: right;\n",
       "    }\n",
       "</style>\n",
       "<table border=\"1\" class=\"dataframe\">\n",
       "  <thead>\n",
       "    <tr style=\"text-align: right;\">\n",
       "      <th></th>\n",
       "      <th>messages_included</th>\n",
       "      <th>mb_per_month_included</th>\n",
       "      <th>minutes_included</th>\n",
       "      <th>rub_monthly_fee</th>\n",
       "      <th>rub_per_gb</th>\n",
       "      <th>rub_per_message</th>\n",
       "      <th>rub_per_minute</th>\n",
       "      <th>tariff_name</th>\n",
       "    </tr>\n",
       "  </thead>\n",
       "  <tbody>\n",
       "    <tr>\n",
       "      <td>0</td>\n",
       "      <td>50</td>\n",
       "      <td>15360</td>\n",
       "      <td>500</td>\n",
       "      <td>550</td>\n",
       "      <td>200</td>\n",
       "      <td>3</td>\n",
       "      <td>3</td>\n",
       "      <td>smart</td>\n",
       "    </tr>\n",
       "    <tr>\n",
       "      <td>1</td>\n",
       "      <td>1000</td>\n",
       "      <td>30720</td>\n",
       "      <td>3000</td>\n",
       "      <td>1950</td>\n",
       "      <td>150</td>\n",
       "      <td>1</td>\n",
       "      <td>1</td>\n",
       "      <td>ultra</td>\n",
       "    </tr>\n",
       "  </tbody>\n",
       "</table>\n",
       "</div>"
      ],
      "text/plain": [
       "   messages_included  mb_per_month_included  minutes_included  \\\n",
       "0                 50                  15360               500   \n",
       "1               1000                  30720              3000   \n",
       "\n",
       "   rub_monthly_fee  rub_per_gb  rub_per_message  rub_per_minute tariff_name  \n",
       "0              550         200                3               3       smart  \n",
       "1             1950         150                1               1       ultra  "
      ]
     },
     "execution_count": 12,
     "metadata": {},
     "output_type": "execute_result"
    }
   ],
   "source": [
    "tariffs.head()"
   ]
  },
  {
   "cell_type": "code",
   "execution_count": 13,
   "metadata": {},
   "outputs": [
    {
     "name": "stdout",
     "output_type": "stream",
     "text": [
      "<class 'pandas.core.frame.DataFrame'>\n",
      "RangeIndex: 2 entries, 0 to 1\n",
      "Data columns (total 8 columns):\n",
      "messages_included        2 non-null int64\n",
      "mb_per_month_included    2 non-null int64\n",
      "minutes_included         2 non-null int64\n",
      "rub_monthly_fee          2 non-null int64\n",
      "rub_per_gb               2 non-null int64\n",
      "rub_per_message          2 non-null int64\n",
      "rub_per_minute           2 non-null int64\n",
      "tariff_name              2 non-null object\n",
      "dtypes: int64(7), object(1)\n",
      "memory usage: 256.0+ bytes\n"
     ]
    }
   ],
   "source": [
    "tariffs.info()"
   ]
  },
  {
   "cell_type": "markdown",
   "metadata": {},
   "source": [
    "С таблицей tariffs все в порядке."
   ]
  },
  {
   "cell_type": "markdown",
   "metadata": {},
   "source": [
    "**Таблица users (информация о пользователях):**\n",
    "\n",
    "- **user_id** — уникальный идентификатор пользователя\n",
    "- **first_name** — имя пользователя\n",
    "- **last_name** — фамилия пользователя\n",
    "- **age** — возраст пользователя (годы)\n",
    "- **reg_date** — дата подключения тарифа (день, месяц, год)\n",
    "- **churn_date** — дата прекращения пользования тарифом (если значение пропущено, то тариф ещё действовал на момент выгрузки данных)\n",
    "- **city** — город проживания пользователя\n",
    "- **tarif** — название тарифного плана"
   ]
  },
  {
   "cell_type": "code",
   "execution_count": 14,
   "metadata": {},
   "outputs": [
    {
     "data": {
      "text/html": [
       "<div>\n",
       "<style scoped>\n",
       "    .dataframe tbody tr th:only-of-type {\n",
       "        vertical-align: middle;\n",
       "    }\n",
       "\n",
       "    .dataframe tbody tr th {\n",
       "        vertical-align: top;\n",
       "    }\n",
       "\n",
       "    .dataframe thead th {\n",
       "        text-align: right;\n",
       "    }\n",
       "</style>\n",
       "<table border=\"1\" class=\"dataframe\">\n",
       "  <thead>\n",
       "    <tr style=\"text-align: right;\">\n",
       "      <th></th>\n",
       "      <th>user_id</th>\n",
       "      <th>age</th>\n",
       "      <th>churn_date</th>\n",
       "      <th>city</th>\n",
       "      <th>first_name</th>\n",
       "      <th>last_name</th>\n",
       "      <th>reg_date</th>\n",
       "      <th>tariff</th>\n",
       "    </tr>\n",
       "  </thead>\n",
       "  <tbody>\n",
       "    <tr>\n",
       "      <td>267</td>\n",
       "      <td>1267</td>\n",
       "      <td>63</td>\n",
       "      <td>NaN</td>\n",
       "      <td>Екатеринбург</td>\n",
       "      <td>Яна</td>\n",
       "      <td>Седова</td>\n",
       "      <td>2018-08-05</td>\n",
       "      <td>smart</td>\n",
       "    </tr>\n",
       "    <tr>\n",
       "      <td>317</td>\n",
       "      <td>1317</td>\n",
       "      <td>45</td>\n",
       "      <td>NaN</td>\n",
       "      <td>Москва</td>\n",
       "      <td>Всеволод</td>\n",
       "      <td>Зыков</td>\n",
       "      <td>2018-07-09</td>\n",
       "      <td>smart</td>\n",
       "    </tr>\n",
       "    <tr>\n",
       "      <td>361</td>\n",
       "      <td>1361</td>\n",
       "      <td>38</td>\n",
       "      <td>NaN</td>\n",
       "      <td>Екатеринбург</td>\n",
       "      <td>Рената</td>\n",
       "      <td>Кошелева</td>\n",
       "      <td>2018-09-09</td>\n",
       "      <td>ultra</td>\n",
       "    </tr>\n",
       "    <tr>\n",
       "      <td>223</td>\n",
       "      <td>1223</td>\n",
       "      <td>20</td>\n",
       "      <td>NaN</td>\n",
       "      <td>Стерлитамак</td>\n",
       "      <td>Алан</td>\n",
       "      <td>Панфилов</td>\n",
       "      <td>2018-12-12</td>\n",
       "      <td>smart</td>\n",
       "    </tr>\n",
       "    <tr>\n",
       "      <td>134</td>\n",
       "      <td>1134</td>\n",
       "      <td>65</td>\n",
       "      <td>NaN</td>\n",
       "      <td>Красноярск</td>\n",
       "      <td>Марьяна</td>\n",
       "      <td>Авросимова</td>\n",
       "      <td>2018-01-16</td>\n",
       "      <td>smart</td>\n",
       "    </tr>\n",
       "  </tbody>\n",
       "</table>\n",
       "</div>"
      ],
      "text/plain": [
       "     user_id  age churn_date          city first_name   last_name    reg_date  \\\n",
       "267     1267   63        NaN  Екатеринбург        Яна      Седова  2018-08-05   \n",
       "317     1317   45        NaN        Москва   Всеволод       Зыков  2018-07-09   \n",
       "361     1361   38        NaN  Екатеринбург     Рената    Кошелева  2018-09-09   \n",
       "223     1223   20        NaN   Стерлитамак       Алан    Панфилов  2018-12-12   \n",
       "134     1134   65        NaN    Красноярск    Марьяна  Авросимова  2018-01-16   \n",
       "\n",
       "    tariff  \n",
       "267  smart  \n",
       "317  smart  \n",
       "361  ultra  \n",
       "223  smart  \n",
       "134  smart  "
      ]
     },
     "execution_count": 14,
     "metadata": {},
     "output_type": "execute_result"
    }
   ],
   "source": [
    "users.sample(5)"
   ]
  },
  {
   "cell_type": "code",
   "execution_count": 15,
   "metadata": {},
   "outputs": [
    {
     "name": "stdout",
     "output_type": "stream",
     "text": [
      "<class 'pandas.core.frame.DataFrame'>\n",
      "RangeIndex: 500 entries, 0 to 499\n",
      "Data columns (total 8 columns):\n",
      "user_id       500 non-null int64\n",
      "age           500 non-null int64\n",
      "churn_date    38 non-null object\n",
      "city          500 non-null object\n",
      "first_name    500 non-null object\n",
      "last_name     500 non-null object\n",
      "reg_date      500 non-null object\n",
      "tariff        500 non-null object\n",
      "dtypes: int64(2), object(6)\n",
      "memory usage: 31.4+ KB\n"
     ]
    }
   ],
   "source": [
    "users.info()"
   ]
  },
  {
   "cell_type": "code",
   "execution_count": 16,
   "metadata": {},
   "outputs": [
    {
     "data": {
      "text/html": [
       "<div>\n",
       "<style scoped>\n",
       "    .dataframe tbody tr th:only-of-type {\n",
       "        vertical-align: middle;\n",
       "    }\n",
       "\n",
       "    .dataframe tbody tr th {\n",
       "        vertical-align: top;\n",
       "    }\n",
       "\n",
       "    .dataframe thead th {\n",
       "        text-align: right;\n",
       "    }\n",
       "</style>\n",
       "<table border=\"1\" class=\"dataframe\">\n",
       "  <thead>\n",
       "    <tr style=\"text-align: right;\">\n",
       "      <th></th>\n",
       "      <th>user_id</th>\n",
       "      <th>age</th>\n",
       "    </tr>\n",
       "  </thead>\n",
       "  <tbody>\n",
       "    <tr>\n",
       "      <td>count</td>\n",
       "      <td>500.000000</td>\n",
       "      <td>500.00000</td>\n",
       "    </tr>\n",
       "    <tr>\n",
       "      <td>mean</td>\n",
       "      <td>1249.500000</td>\n",
       "      <td>46.58800</td>\n",
       "    </tr>\n",
       "    <tr>\n",
       "      <td>std</td>\n",
       "      <td>144.481833</td>\n",
       "      <td>16.66763</td>\n",
       "    </tr>\n",
       "    <tr>\n",
       "      <td>min</td>\n",
       "      <td>1000.000000</td>\n",
       "      <td>18.00000</td>\n",
       "    </tr>\n",
       "    <tr>\n",
       "      <td>25%</td>\n",
       "      <td>1124.750000</td>\n",
       "      <td>32.00000</td>\n",
       "    </tr>\n",
       "    <tr>\n",
       "      <td>50%</td>\n",
       "      <td>1249.500000</td>\n",
       "      <td>46.00000</td>\n",
       "    </tr>\n",
       "    <tr>\n",
       "      <td>75%</td>\n",
       "      <td>1374.250000</td>\n",
       "      <td>62.00000</td>\n",
       "    </tr>\n",
       "    <tr>\n",
       "      <td>max</td>\n",
       "      <td>1499.000000</td>\n",
       "      <td>75.00000</td>\n",
       "    </tr>\n",
       "  </tbody>\n",
       "</table>\n",
       "</div>"
      ],
      "text/plain": [
       "           user_id        age\n",
       "count   500.000000  500.00000\n",
       "mean   1249.500000   46.58800\n",
       "std     144.481833   16.66763\n",
       "min    1000.000000   18.00000\n",
       "25%    1124.750000   32.00000\n",
       "50%    1249.500000   46.00000\n",
       "75%    1374.250000   62.00000\n",
       "max    1499.000000   75.00000"
      ]
     },
     "execution_count": 16,
     "metadata": {},
     "output_type": "execute_result"
    }
   ],
   "source": [
    "users.describe()"
   ]
  },
  {
   "cell_type": "markdown",
   "metadata": {},
   "source": [
    "Стоит изменить тип данных у столбцов churn_date, reg_date. Пропуски в churn_date связаны с тем, что пользователи не прекратили использовать тариф."
   ]
  },
  {
   "cell_type": "markdown",
   "metadata": {},
   "source": [
    "## Предобработка данных"
   ]
  },
  {
   "cell_type": "code",
   "execution_count": 17,
   "metadata": {},
   "outputs": [],
   "source": [
    "calls['call_date'] = pd.to_datetime(calls['call_date'], format=\"%Y-%m-%d\")\n",
    "\n",
    "internet['session_date'] = pd.to_datetime(internet['session_date'], format=\"%Y-%m-%d\")\n",
    "\n",
    "messages['message_date'] = pd.to_datetime(messages['message_date'], format=\"%Y-%m-%d\")\n",
    "\n",
    "users['churn_date'] = pd.to_datetime(users['churn_date'], format=\"%Y-%m-%d\")\n",
    "users['reg_date'] = pd.to_datetime(users['reg_date'], format=\"%Y-%m-%d\")"
   ]
  },
  {
   "cell_type": "code",
   "execution_count": 18,
   "metadata": {},
   "outputs": [],
   "source": [
    "#удаляем ненужный столбец Unnamed: 0\n",
    "internet = internet.drop(['Unnamed: 0'], axis=1)"
   ]
  },
  {
   "cell_type": "code",
   "execution_count": 19,
   "metadata": {},
   "outputs": [],
   "source": [
    "#округляем продолжительность звонков большую сторону и приводим к целочисленному типу, по скольку \n",
    "#Мегалайн округляет секунды до минут в большую сторону\n",
    "calls['duration'] = calls['duration'].apply(np.ceil).astype('int')"
   ]
  },
  {
   "cell_type": "code",
   "execution_count": 20,
   "metadata": {},
   "outputs": [],
   "source": [
    "#удалим строки с пропущенными звонками и строки неиспользованными мегабайтами\n",
    "calls.drop(calls[calls['duration']==0].index, inplace=True)\n",
    "internet.drop(internet[internet['mb_used']==0].index, inplace=True)"
   ]
  },
  {
   "cell_type": "markdown",
   "metadata": {},
   "source": [
    "### Количество сделанных звонков и израсходованных минут разговора по месяцам"
   ]
  },
  {
   "cell_type": "code",
   "execution_count": 21,
   "metadata": {},
   "outputs": [
    {
     "data": {
      "text/html": [
       "<div>\n",
       "<style scoped>\n",
       "    .dataframe tbody tr th:only-of-type {\n",
       "        vertical-align: middle;\n",
       "    }\n",
       "\n",
       "    .dataframe tbody tr th {\n",
       "        vertical-align: top;\n",
       "    }\n",
       "\n",
       "    .dataframe thead th {\n",
       "        text-align: right;\n",
       "    }\n",
       "</style>\n",
       "<table border=\"1\" class=\"dataframe\">\n",
       "  <thead>\n",
       "    <tr style=\"text-align: right;\">\n",
       "      <th></th>\n",
       "      <th>user_id</th>\n",
       "      <th>month</th>\n",
       "      <th>sum_duration_calls</th>\n",
       "      <th>count_calls</th>\n",
       "    </tr>\n",
       "  </thead>\n",
       "  <tbody>\n",
       "    <tr>\n",
       "      <td>412</td>\n",
       "      <td>1065</td>\n",
       "      <td>August</td>\n",
       "      <td>573</td>\n",
       "      <td>65</td>\n",
       "    </tr>\n",
       "    <tr>\n",
       "      <td>2084</td>\n",
       "      <td>1333</td>\n",
       "      <td>December</td>\n",
       "      <td>697</td>\n",
       "      <td>79</td>\n",
       "    </tr>\n",
       "    <tr>\n",
       "      <td>2587</td>\n",
       "      <td>1409</td>\n",
       "      <td>December</td>\n",
       "      <td>667</td>\n",
       "      <td>76</td>\n",
       "    </tr>\n",
       "    <tr>\n",
       "      <td>1692</td>\n",
       "      <td>1272</td>\n",
       "      <td>September</td>\n",
       "      <td>294</td>\n",
       "      <td>27</td>\n",
       "    </tr>\n",
       "    <tr>\n",
       "      <td>1502</td>\n",
       "      <td>1240</td>\n",
       "      <td>September</td>\n",
       "      <td>523</td>\n",
       "      <td>51</td>\n",
       "    </tr>\n",
       "  </tbody>\n",
       "</table>\n",
       "</div>"
      ],
      "text/plain": [
       "      user_id      month  sum_duration_calls  count_calls\n",
       "412      1065     August                 573           65\n",
       "2084     1333   December                 697           79\n",
       "2587     1409   December                 667           76\n",
       "1692     1272  September                 294           27\n",
       "1502     1240  September                 523           51"
      ]
     },
     "execution_count": 21,
     "metadata": {},
     "output_type": "execute_result"
    }
   ],
   "source": [
    "calls['month'] = calls['call_date'].dt.month_name()\n",
    "\n",
    "calls_group = calls.groupby(['user_id', 'month']).agg({'duration':'sum', 'id':'count'}).reset_index()\n",
    "calls_group = calls_group.rename(columns={'duration':'sum_duration_calls','id':'count_calls'})\n",
    "\n",
    "calls_group.sample(5)"
   ]
  },
  {
   "cell_type": "markdown",
   "metadata": {},
   "source": [
    "### Количество отправленных сообщений по месяцам"
   ]
  },
  {
   "cell_type": "code",
   "execution_count": 22,
   "metadata": {},
   "outputs": [
    {
     "data": {
      "text/html": [
       "<div>\n",
       "<style scoped>\n",
       "    .dataframe tbody tr th:only-of-type {\n",
       "        vertical-align: middle;\n",
       "    }\n",
       "\n",
       "    .dataframe tbody tr th {\n",
       "        vertical-align: top;\n",
       "    }\n",
       "\n",
       "    .dataframe thead th {\n",
       "        text-align: right;\n",
       "    }\n",
       "</style>\n",
       "<table border=\"1\" class=\"dataframe\">\n",
       "  <thead>\n",
       "    <tr style=\"text-align: right;\">\n",
       "      <th></th>\n",
       "      <th>user_id</th>\n",
       "      <th>month</th>\n",
       "      <th>count_messages</th>\n",
       "    </tr>\n",
       "  </thead>\n",
       "  <tbody>\n",
       "    <tr>\n",
       "      <td>1301</td>\n",
       "      <td>1251</td>\n",
       "      <td>October</td>\n",
       "      <td>99</td>\n",
       "    </tr>\n",
       "    <tr>\n",
       "      <td>1523</td>\n",
       "      <td>1295</td>\n",
       "      <td>September</td>\n",
       "      <td>32</td>\n",
       "    </tr>\n",
       "    <tr>\n",
       "      <td>1219</td>\n",
       "      <td>1237</td>\n",
       "      <td>November</td>\n",
       "      <td>99</td>\n",
       "    </tr>\n",
       "    <tr>\n",
       "      <td>2496</td>\n",
       "      <td>1460</td>\n",
       "      <td>September</td>\n",
       "      <td>45</td>\n",
       "    </tr>\n",
       "    <tr>\n",
       "      <td>1163</td>\n",
       "      <td>1222</td>\n",
       "      <td>August</td>\n",
       "      <td>4</td>\n",
       "    </tr>\n",
       "  </tbody>\n",
       "</table>\n",
       "</div>"
      ],
      "text/plain": [
       "      user_id      month  count_messages\n",
       "1301     1251    October              99\n",
       "1523     1295  September              32\n",
       "1219     1237   November              99\n",
       "2496     1460  September              45\n",
       "1163     1222     August               4"
      ]
     },
     "execution_count": 22,
     "metadata": {},
     "output_type": "execute_result"
    }
   ],
   "source": [
    "messages['month'] = messages['message_date'].dt.month_name()\n",
    "\n",
    "messages_group = messages.groupby(['user_id', 'month']).agg({'id':'count'}).reset_index()\n",
    "messages_group = messages_group.rename(columns={'id':'count_messages'})\n",
    "\n",
    "messages_group.sample(5)"
   ]
  },
  {
   "cell_type": "markdown",
   "metadata": {},
   "source": [
    "### Объем израсходованного интернет-трафика по месяцам"
   ]
  },
  {
   "cell_type": "code",
   "execution_count": 23,
   "metadata": {},
   "outputs": [
    {
     "data": {
      "text/html": [
       "<div>\n",
       "<style scoped>\n",
       "    .dataframe tbody tr th:only-of-type {\n",
       "        vertical-align: middle;\n",
       "    }\n",
       "\n",
       "    .dataframe tbody tr th {\n",
       "        vertical-align: top;\n",
       "    }\n",
       "\n",
       "    .dataframe thead th {\n",
       "        text-align: right;\n",
       "    }\n",
       "</style>\n",
       "<table border=\"1\" class=\"dataframe\">\n",
       "  <thead>\n",
       "    <tr style=\"text-align: right;\">\n",
       "      <th></th>\n",
       "      <th>user_id</th>\n",
       "      <th>month</th>\n",
       "      <th>sum_mb_used</th>\n",
       "      <th>sum_gb_used</th>\n",
       "    </tr>\n",
       "  </thead>\n",
       "  <tbody>\n",
       "    <tr>\n",
       "      <td>1222</td>\n",
       "      <td>1189</td>\n",
       "      <td>July</td>\n",
       "      <td>18147.15</td>\n",
       "      <td>18.0</td>\n",
       "    </tr>\n",
       "    <tr>\n",
       "      <td>369</td>\n",
       "      <td>1057</td>\n",
       "      <td>September</td>\n",
       "      <td>20647.81</td>\n",
       "      <td>21.0</td>\n",
       "    </tr>\n",
       "    <tr>\n",
       "      <td>2927</td>\n",
       "      <td>1458</td>\n",
       "      <td>August</td>\n",
       "      <td>13981.20</td>\n",
       "      <td>14.0</td>\n",
       "    </tr>\n",
       "    <tr>\n",
       "      <td>2537</td>\n",
       "      <td>1396</td>\n",
       "      <td>June</td>\n",
       "      <td>12099.84</td>\n",
       "      <td>12.0</td>\n",
       "    </tr>\n",
       "    <tr>\n",
       "      <td>565</td>\n",
       "      <td>1089</td>\n",
       "      <td>October</td>\n",
       "      <td>20861.14</td>\n",
       "      <td>21.0</td>\n",
       "    </tr>\n",
       "  </tbody>\n",
       "</table>\n",
       "</div>"
      ],
      "text/plain": [
       "      user_id      month  sum_mb_used  sum_gb_used\n",
       "1222     1189       July     18147.15         18.0\n",
       "369      1057  September     20647.81         21.0\n",
       "2927     1458     August     13981.20         14.0\n",
       "2537     1396       June     12099.84         12.0\n",
       "565      1089    October     20861.14         21.0"
      ]
     },
     "execution_count": 23,
     "metadata": {},
     "output_type": "execute_result"
    }
   ],
   "source": [
    "internet['month'] = internet['session_date'].dt.month_name()\n",
    "internet_group = internet.groupby(['user_id', 'month']).agg({'mb_used':'sum'}).reset_index()\n",
    "internet_group = internet_group.rename(columns={'mb_used':'sum_mb_used'})\n",
    "internet_group['sum_gb_used']=(internet_group['sum_mb_used']/1024).apply(np.ceil)\n",
    "internet_group.sample(5)"
   ]
  },
  {
   "cell_type": "code",
   "execution_count": 24,
   "metadata": {},
   "outputs": [
    {
     "data": {
      "text/html": [
       "<div>\n",
       "<style scoped>\n",
       "    .dataframe tbody tr th:only-of-type {\n",
       "        vertical-align: middle;\n",
       "    }\n",
       "\n",
       "    .dataframe tbody tr th {\n",
       "        vertical-align: top;\n",
       "    }\n",
       "\n",
       "    .dataframe thead th {\n",
       "        text-align: right;\n",
       "    }\n",
       "</style>\n",
       "<table border=\"1\" class=\"dataframe\">\n",
       "  <thead>\n",
       "    <tr style=\"text-align: right;\">\n",
       "      <th></th>\n",
       "      <th>user_id</th>\n",
       "      <th>month</th>\n",
       "      <th>sum_mb_used</th>\n",
       "      <th>sum_gb_used</th>\n",
       "    </tr>\n",
       "  </thead>\n",
       "  <tbody>\n",
       "    <tr>\n",
       "      <td>2259</td>\n",
       "      <td>1359</td>\n",
       "      <td>July</td>\n",
       "      <td>1009.93</td>\n",
       "      <td>1.0</td>\n",
       "    </tr>\n",
       "    <tr>\n",
       "      <td>2377</td>\n",
       "      <td>1377</td>\n",
       "      <td>April</td>\n",
       "      <td>1151.05</td>\n",
       "      <td>2.0</td>\n",
       "    </tr>\n",
       "    <tr>\n",
       "      <td>1232</td>\n",
       "      <td>1191</td>\n",
       "      <td>June</td>\n",
       "      <td>1160.40</td>\n",
       "      <td>2.0</td>\n",
       "    </tr>\n",
       "    <tr>\n",
       "      <td>2979</td>\n",
       "      <td>1466</td>\n",
       "      <td>February</td>\n",
       "      <td>1162.99</td>\n",
       "      <td>2.0</td>\n",
       "    </tr>\n",
       "    <tr>\n",
       "      <td>1233</td>\n",
       "      <td>1191</td>\n",
       "      <td>October</td>\n",
       "      <td>1175.74</td>\n",
       "      <td>2.0</td>\n",
       "    </tr>\n",
       "  </tbody>\n",
       "</table>\n",
       "</div>"
      ],
      "text/plain": [
       "      user_id     month  sum_mb_used  sum_gb_used\n",
       "2259     1359      July      1009.93          1.0\n",
       "2377     1377     April      1151.05          2.0\n",
       "1232     1191      June      1160.40          2.0\n",
       "2979     1466  February      1162.99          2.0\n",
       "1233     1191   October      1175.74          2.0"
      ]
     },
     "execution_count": 24,
     "metadata": {},
     "output_type": "execute_result"
    }
   ],
   "source": [
    "#округлили верно\n",
    "internet_group.query('sum_mb_used > 1000').sort_values(by='sum_mb_used').head()"
   ]
  },
  {
   "cell_type": "markdown",
   "metadata": {},
   "source": [
    "### Помесячная выручка с каждого пользователя"
   ]
  },
  {
   "cell_type": "code",
   "execution_count": 25,
   "metadata": {},
   "outputs": [
    {
     "data": {
      "text/html": [
       "<div>\n",
       "<style scoped>\n",
       "    .dataframe tbody tr th:only-of-type {\n",
       "        vertical-align: middle;\n",
       "    }\n",
       "\n",
       "    .dataframe tbody tr th {\n",
       "        vertical-align: top;\n",
       "    }\n",
       "\n",
       "    .dataframe thead th {\n",
       "        text-align: right;\n",
       "    }\n",
       "</style>\n",
       "<table border=\"1\" class=\"dataframe\">\n",
       "  <thead>\n",
       "    <tr style=\"text-align: right;\">\n",
       "      <th></th>\n",
       "      <th>user_id</th>\n",
       "      <th>month</th>\n",
       "      <th>sum_duration_calls</th>\n",
       "      <th>count_calls</th>\n",
       "      <th>count_messages</th>\n",
       "      <th>sum_mb_used</th>\n",
       "      <th>sum_gb_used</th>\n",
       "    </tr>\n",
       "  </thead>\n",
       "  <tbody>\n",
       "    <tr>\n",
       "      <td>1722</td>\n",
       "      <td>1277</td>\n",
       "      <td>August</td>\n",
       "      <td>185.0</td>\n",
       "      <td>23.0</td>\n",
       "      <td>131.0</td>\n",
       "      <td>23932.62</td>\n",
       "      <td>24.0</td>\n",
       "    </tr>\n",
       "    <tr>\n",
       "      <td>1950</td>\n",
       "      <td>1312</td>\n",
       "      <td>December</td>\n",
       "      <td>474.0</td>\n",
       "      <td>54.0</td>\n",
       "      <td>29.0</td>\n",
       "      <td>21860.02</td>\n",
       "      <td>22.0</td>\n",
       "    </tr>\n",
       "    <tr>\n",
       "      <td>710</td>\n",
       "      <td>1114</td>\n",
       "      <td>July</td>\n",
       "      <td>80.0</td>\n",
       "      <td>10.0</td>\n",
       "      <td>NaN</td>\n",
       "      <td>1893.15</td>\n",
       "      <td>2.0</td>\n",
       "    </tr>\n",
       "    <tr>\n",
       "      <td>2026</td>\n",
       "      <td>1324</td>\n",
       "      <td>November</td>\n",
       "      <td>535.0</td>\n",
       "      <td>64.0</td>\n",
       "      <td>124.0</td>\n",
       "      <td>21252.03</td>\n",
       "      <td>21.0</td>\n",
       "    </tr>\n",
       "    <tr>\n",
       "      <td>984</td>\n",
       "      <td>1157</td>\n",
       "      <td>May</td>\n",
       "      <td>448.0</td>\n",
       "      <td>51.0</td>\n",
       "      <td>NaN</td>\n",
       "      <td>21915.28</td>\n",
       "      <td>22.0</td>\n",
       "    </tr>\n",
       "  </tbody>\n",
       "</table>\n",
       "</div>"
      ],
      "text/plain": [
       "      user_id     month  sum_duration_calls  count_calls  count_messages  \\\n",
       "1722     1277    August               185.0         23.0           131.0   \n",
       "1950     1312  December               474.0         54.0            29.0   \n",
       "710      1114      July                80.0         10.0             NaN   \n",
       "2026     1324  November               535.0         64.0           124.0   \n",
       "984      1157       May               448.0         51.0             NaN   \n",
       "\n",
       "      sum_mb_used  sum_gb_used  \n",
       "1722     23932.62         24.0  \n",
       "1950     21860.02         22.0  \n",
       "710       1893.15          2.0  \n",
       "2026     21252.03         21.0  \n",
       "984      21915.28         22.0  "
      ]
     },
     "execution_count": 25,
     "metadata": {},
     "output_type": "execute_result"
    }
   ],
   "source": [
    "df = calls_group.merge(messages_group, on=['user_id','month'], how='outer').merge(internet_group, on=['user_id','month'], \n",
    "                                                                                 how = 'outer')\n",
    "df.sample(5)"
   ]
  },
  {
   "cell_type": "code",
   "execution_count": 26,
   "metadata": {},
   "outputs": [
    {
     "data": {
      "text/html": [
       "<div>\n",
       "<style scoped>\n",
       "    .dataframe tbody tr th:only-of-type {\n",
       "        vertical-align: middle;\n",
       "    }\n",
       "\n",
       "    .dataframe tbody tr th {\n",
       "        vertical-align: top;\n",
       "    }\n",
       "\n",
       "    .dataframe thead th {\n",
       "        text-align: right;\n",
       "    }\n",
       "</style>\n",
       "<table border=\"1\" class=\"dataframe\">\n",
       "  <thead>\n",
       "    <tr style=\"text-align: right;\">\n",
       "      <th></th>\n",
       "      <th>user_id</th>\n",
       "      <th>month</th>\n",
       "      <th>sum_duration_calls</th>\n",
       "      <th>count_calls</th>\n",
       "      <th>count_messages</th>\n",
       "      <th>sum_mb_used</th>\n",
       "      <th>sum_gb_used</th>\n",
       "      <th>age</th>\n",
       "      <th>churn_date</th>\n",
       "      <th>city</th>\n",
       "      <th>first_name</th>\n",
       "      <th>last_name</th>\n",
       "      <th>reg_date</th>\n",
       "      <th>tariff</th>\n",
       "    </tr>\n",
       "  </thead>\n",
       "  <tbody>\n",
       "    <tr>\n",
       "      <td>2462</td>\n",
       "      <td>1391</td>\n",
       "      <td>November</td>\n",
       "      <td>669.0</td>\n",
       "      <td>74.0</td>\n",
       "      <td>3.0</td>\n",
       "      <td>27488.39</td>\n",
       "      <td>27.0</td>\n",
       "      <td>47</td>\n",
       "      <td>NaT</td>\n",
       "      <td>Стерлитамак</td>\n",
       "      <td>Герасим</td>\n",
       "      <td>Аркадьев</td>\n",
       "      <td>2018-05-12</td>\n",
       "      <td>ultra</td>\n",
       "    </tr>\n",
       "    <tr>\n",
       "      <td>2414</td>\n",
       "      <td>1384</td>\n",
       "      <td>August</td>\n",
       "      <td>682.0</td>\n",
       "      <td>74.0</td>\n",
       "      <td>1.0</td>\n",
       "      <td>17428.77</td>\n",
       "      <td>18.0</td>\n",
       "      <td>42</td>\n",
       "      <td>NaT</td>\n",
       "      <td>Нижний Новгород</td>\n",
       "      <td>Кристина</td>\n",
       "      <td>Касьянова</td>\n",
       "      <td>2018-04-27</td>\n",
       "      <td>smart</td>\n",
       "    </tr>\n",
       "    <tr>\n",
       "      <td>2793</td>\n",
       "      <td>1437</td>\n",
       "      <td>September</td>\n",
       "      <td>174.0</td>\n",
       "      <td>23.0</td>\n",
       "      <td>23.0</td>\n",
       "      <td>24141.40</td>\n",
       "      <td>24.0</td>\n",
       "      <td>73</td>\n",
       "      <td>NaT</td>\n",
       "      <td>Казань</td>\n",
       "      <td>Лилия</td>\n",
       "      <td>Селезнева</td>\n",
       "      <td>2018-08-03</td>\n",
       "      <td>smart</td>\n",
       "    </tr>\n",
       "    <tr>\n",
       "      <td>2799</td>\n",
       "      <td>1439</td>\n",
       "      <td>July</td>\n",
       "      <td>329.0</td>\n",
       "      <td>43.0</td>\n",
       "      <td>5.0</td>\n",
       "      <td>20039.64</td>\n",
       "      <td>20.0</td>\n",
       "      <td>62</td>\n",
       "      <td>NaT</td>\n",
       "      <td>Орёл</td>\n",
       "      <td>Евгения</td>\n",
       "      <td>Афонина</td>\n",
       "      <td>2018-06-30</td>\n",
       "      <td>smart</td>\n",
       "    </tr>\n",
       "    <tr>\n",
       "      <td>109</td>\n",
       "      <td>1015</td>\n",
       "      <td>August</td>\n",
       "      <td>394.0</td>\n",
       "      <td>41.0</td>\n",
       "      <td>68.0</td>\n",
       "      <td>27401.42</td>\n",
       "      <td>27.0</td>\n",
       "      <td>26</td>\n",
       "      <td>NaT</td>\n",
       "      <td>Челябинск</td>\n",
       "      <td>Рузана</td>\n",
       "      <td>Алюшина</td>\n",
       "      <td>2018-04-30</td>\n",
       "      <td>smart</td>\n",
       "    </tr>\n",
       "  </tbody>\n",
       "</table>\n",
       "</div>"
      ],
      "text/plain": [
       "      user_id      month  sum_duration_calls  count_calls  count_messages  \\\n",
       "2462     1391   November               669.0         74.0             3.0   \n",
       "2414     1384     August               682.0         74.0             1.0   \n",
       "2793     1437  September               174.0         23.0            23.0   \n",
       "2799     1439       July               329.0         43.0             5.0   \n",
       "109      1015     August               394.0         41.0            68.0   \n",
       "\n",
       "      sum_mb_used  sum_gb_used  age churn_date             city first_name  \\\n",
       "2462     27488.39         27.0   47        NaT      Стерлитамак    Герасим   \n",
       "2414     17428.77         18.0   42        NaT  Нижний Новгород   Кристина   \n",
       "2793     24141.40         24.0   73        NaT           Казань      Лилия   \n",
       "2799     20039.64         20.0   62        NaT             Орёл    Евгения   \n",
       "109      27401.42         27.0   26        NaT        Челябинск     Рузана   \n",
       "\n",
       "      last_name   reg_date tariff  \n",
       "2462   Аркадьев 2018-05-12  ultra  \n",
       "2414  Касьянова 2018-04-27  smart  \n",
       "2793  Селезнева 2018-08-03  smart  \n",
       "2799    Афонина 2018-06-30  smart  \n",
       "109     Алюшина 2018-04-30  smart  "
      ]
     },
     "execution_count": 26,
     "metadata": {},
     "output_type": "execute_result"
    }
   ],
   "source": [
    "df = df.merge(users, on='user_id', how='left')\n",
    "df.sample(5)"
   ]
  },
  {
   "cell_type": "code",
   "execution_count": 27,
   "metadata": {},
   "outputs": [
    {
     "name": "stdout",
     "output_type": "stream",
     "text": [
      "<class 'pandas.core.frame.DataFrame'>\n",
      "Int64Index: 3214 entries, 0 to 3213\n",
      "Data columns (total 14 columns):\n",
      "user_id               3214 non-null int64\n",
      "month                 3214 non-null object\n",
      "sum_duration_calls    3168 non-null float64\n",
      "count_calls           3168 non-null float64\n",
      "count_messages        2717 non-null float64\n",
      "sum_mb_used           3201 non-null float64\n",
      "sum_gb_used           3201 non-null float64\n",
      "age                   3214 non-null int64\n",
      "churn_date            187 non-null datetime64[ns]\n",
      "city                  3214 non-null object\n",
      "first_name            3214 non-null object\n",
      "last_name             3214 non-null object\n",
      "reg_date              3214 non-null datetime64[ns]\n",
      "tariff                3214 non-null object\n",
      "dtypes: datetime64[ns](2), float64(5), int64(2), object(5)\n",
      "memory usage: 376.6+ KB\n"
     ]
    }
   ],
   "source": [
    "df.info()"
   ]
  },
  {
   "cell_type": "code",
   "execution_count": 28,
   "metadata": {},
   "outputs": [
    {
     "data": {
      "text/plain": [
       "user_id                  0\n",
       "month                    0\n",
       "sum_duration_calls      46\n",
       "count_calls             46\n",
       "count_messages         497\n",
       "sum_mb_used             13\n",
       "sum_gb_used             13\n",
       "age                      0\n",
       "churn_date            3027\n",
       "city                     0\n",
       "first_name               0\n",
       "last_name                0\n",
       "reg_date                 0\n",
       "tariff                   0\n",
       "dtype: int64"
      ]
     },
     "execution_count": 28,
     "metadata": {},
     "output_type": "execute_result"
    }
   ],
   "source": [
    "df.isna().sum()"
   ]
  },
  {
   "cell_type": "code",
   "execution_count": 29,
   "metadata": {},
   "outputs": [],
   "source": [
    "df['sum_duration_calls'] = df['sum_duration_calls'].fillna(0)\n",
    "df['count_calls'] = df['count_calls'].fillna(0)\n",
    "df['count_messages'] = df['count_messages'].fillna(0)\n",
    "df['sum_mb_used'] = df['sum_mb_used'].fillna(0)\n",
    "df['sum_gb_used'] = df['sum_gb_used'].fillna(0)"
   ]
  },
  {
   "cell_type": "code",
   "execution_count": 30,
   "metadata": {},
   "outputs": [
    {
     "data": {
      "text/html": [
       "<div>\n",
       "<style scoped>\n",
       "    .dataframe tbody tr th:only-of-type {\n",
       "        vertical-align: middle;\n",
       "    }\n",
       "\n",
       "    .dataframe tbody tr th {\n",
       "        vertical-align: top;\n",
       "    }\n",
       "\n",
       "    .dataframe thead th {\n",
       "        text-align: right;\n",
       "    }\n",
       "</style>\n",
       "<table border=\"1\" class=\"dataframe\">\n",
       "  <thead>\n",
       "    <tr style=\"text-align: right;\">\n",
       "      <th></th>\n",
       "      <th>user_id</th>\n",
       "      <th>month</th>\n",
       "      <th>sum_duration_calls</th>\n",
       "      <th>count_calls</th>\n",
       "      <th>count_messages</th>\n",
       "      <th>sum_mb_used</th>\n",
       "      <th>sum_gb_used</th>\n",
       "      <th>age</th>\n",
       "      <th>churn_date</th>\n",
       "      <th>city</th>\n",
       "      <th>first_name</th>\n",
       "      <th>last_name</th>\n",
       "      <th>reg_date</th>\n",
       "      <th>tariff</th>\n",
       "      <th>messages_included</th>\n",
       "      <th>mb_per_month_included</th>\n",
       "      <th>minutes_included</th>\n",
       "      <th>rub_monthly_fee</th>\n",
       "      <th>rub_per_gb</th>\n",
       "      <th>rub_per_message</th>\n",
       "      <th>rub_per_minute</th>\n",
       "    </tr>\n",
       "  </thead>\n",
       "  <tbody>\n",
       "    <tr>\n",
       "      <td>132</td>\n",
       "      <td>1018</td>\n",
       "      <td>May</td>\n",
       "      <td>507.0</td>\n",
       "      <td>61.0</td>\n",
       "      <td>30.0</td>\n",
       "      <td>5042.33</td>\n",
       "      <td>5.0</td>\n",
       "      <td>71</td>\n",
       "      <td>NaT</td>\n",
       "      <td>Уфа</td>\n",
       "      <td>Матвей</td>\n",
       "      <td>Золотов</td>\n",
       "      <td>2018-04-01</td>\n",
       "      <td>ultra</td>\n",
       "      <td>1000</td>\n",
       "      <td>30720</td>\n",
       "      <td>3000</td>\n",
       "      <td>1950</td>\n",
       "      <td>150</td>\n",
       "      <td>1</td>\n",
       "      <td>1</td>\n",
       "    </tr>\n",
       "    <tr>\n",
       "      <td>703</td>\n",
       "      <td>1113</td>\n",
       "      <td>March</td>\n",
       "      <td>530.0</td>\n",
       "      <td>63.0</td>\n",
       "      <td>43.0</td>\n",
       "      <td>17208.37</td>\n",
       "      <td>17.0</td>\n",
       "      <td>52</td>\n",
       "      <td>NaT</td>\n",
       "      <td>Чита</td>\n",
       "      <td>Харитон</td>\n",
       "      <td>Булгаков</td>\n",
       "      <td>2018-01-24</td>\n",
       "      <td>smart</td>\n",
       "      <td>50</td>\n",
       "      <td>15360</td>\n",
       "      <td>500</td>\n",
       "      <td>550</td>\n",
       "      <td>200</td>\n",
       "      <td>3</td>\n",
       "      <td>3</td>\n",
       "    </tr>\n",
       "    <tr>\n",
       "      <td>764</td>\n",
       "      <td>1121</td>\n",
       "      <td>June</td>\n",
       "      <td>584.0</td>\n",
       "      <td>62.0</td>\n",
       "      <td>50.0</td>\n",
       "      <td>15748.82</td>\n",
       "      <td>16.0</td>\n",
       "      <td>62</td>\n",
       "      <td>NaT</td>\n",
       "      <td>Белгород</td>\n",
       "      <td>Марта</td>\n",
       "      <td>Афанасова</td>\n",
       "      <td>2018-05-04</td>\n",
       "      <td>smart</td>\n",
       "      <td>50</td>\n",
       "      <td>15360</td>\n",
       "      <td>500</td>\n",
       "      <td>550</td>\n",
       "      <td>200</td>\n",
       "      <td>3</td>\n",
       "      <td>3</td>\n",
       "    </tr>\n",
       "    <tr>\n",
       "      <td>983</td>\n",
       "      <td>1157</td>\n",
       "      <td>March</td>\n",
       "      <td>322.0</td>\n",
       "      <td>39.0</td>\n",
       "      <td>0.0</td>\n",
       "      <td>15895.47</td>\n",
       "      <td>16.0</td>\n",
       "      <td>27</td>\n",
       "      <td>NaT</td>\n",
       "      <td>Москва</td>\n",
       "      <td>Виктория</td>\n",
       "      <td>Белоусова</td>\n",
       "      <td>2018-02-23</td>\n",
       "      <td>smart</td>\n",
       "      <td>50</td>\n",
       "      <td>15360</td>\n",
       "      <td>500</td>\n",
       "      <td>550</td>\n",
       "      <td>200</td>\n",
       "      <td>3</td>\n",
       "      <td>3</td>\n",
       "    </tr>\n",
       "    <tr>\n",
       "      <td>343</td>\n",
       "      <td>1055</td>\n",
       "      <td>December</td>\n",
       "      <td>597.0</td>\n",
       "      <td>65.0</td>\n",
       "      <td>39.0</td>\n",
       "      <td>22832.59</td>\n",
       "      <td>23.0</td>\n",
       "      <td>39</td>\n",
       "      <td>NaT</td>\n",
       "      <td>Казань</td>\n",
       "      <td>Луиза</td>\n",
       "      <td>Березина</td>\n",
       "      <td>2018-01-02</td>\n",
       "      <td>smart</td>\n",
       "      <td>50</td>\n",
       "      <td>15360</td>\n",
       "      <td>500</td>\n",
       "      <td>550</td>\n",
       "      <td>200</td>\n",
       "      <td>3</td>\n",
       "      <td>3</td>\n",
       "    </tr>\n",
       "  </tbody>\n",
       "</table>\n",
       "</div>"
      ],
      "text/plain": [
       "     user_id     month  sum_duration_calls  count_calls  count_messages  \\\n",
       "132     1018       May               507.0         61.0            30.0   \n",
       "703     1113     March               530.0         63.0            43.0   \n",
       "764     1121      June               584.0         62.0            50.0   \n",
       "983     1157     March               322.0         39.0             0.0   \n",
       "343     1055  December               597.0         65.0            39.0   \n",
       "\n",
       "     sum_mb_used  sum_gb_used  age churn_date      city first_name  last_name  \\\n",
       "132      5042.33          5.0   71        NaT       Уфа     Матвей    Золотов   \n",
       "703     17208.37         17.0   52        NaT      Чита    Харитон   Булгаков   \n",
       "764     15748.82         16.0   62        NaT  Белгород      Марта  Афанасова   \n",
       "983     15895.47         16.0   27        NaT    Москва   Виктория  Белоусова   \n",
       "343     22832.59         23.0   39        NaT    Казань      Луиза   Березина   \n",
       "\n",
       "      reg_date tariff  messages_included  mb_per_month_included  \\\n",
       "132 2018-04-01  ultra               1000                  30720   \n",
       "703 2018-01-24  smart                 50                  15360   \n",
       "764 2018-05-04  smart                 50                  15360   \n",
       "983 2018-02-23  smart                 50                  15360   \n",
       "343 2018-01-02  smart                 50                  15360   \n",
       "\n",
       "     minutes_included  rub_monthly_fee  rub_per_gb  rub_per_message  \\\n",
       "132              3000             1950         150                1   \n",
       "703               500              550         200                3   \n",
       "764               500              550         200                3   \n",
       "983               500              550         200                3   \n",
       "343               500              550         200                3   \n",
       "\n",
       "     rub_per_minute  \n",
       "132               1  \n",
       "703               3  \n",
       "764               3  \n",
       "983               3  \n",
       "343               3  "
      ]
     },
     "execution_count": 30,
     "metadata": {},
     "output_type": "execute_result"
    }
   ],
   "source": [
    "#сделаем полную таблицу\n",
    "tariffs=tariffs.rename(columns={\"tariff_name\" : \"tariff\"})\n",
    "df = df.merge(tariffs, on='tariff', how='left')\n",
    "df.sample(5)"
   ]
  },
  {
   "cell_type": "code",
   "execution_count": 31,
   "metadata": {},
   "outputs": [],
   "source": [
    "#Вычтем бесплатный лимит из суммарного количества звонков, сообщений и интернет-трафика; остаток умножем на значение из \n",
    "#тарифного плана; прибавим абонентскую плату, соответствующую тарифному плану.\n",
    "\n",
    "def above_used_tariff(data):\n",
    "    messages_above = (data['count_messages'] - data['messages_included']) * data['rub_per_message']\n",
    "    minutes_above = (data['sum_duration_calls'] - data['minutes_included']) * data['rub_per_minute']\n",
    "    gb_above = int(data['sum_gb_used'] - (data['mb_per_month_included']/1024)) * data['rub_per_gb'] \n",
    "    t = 0\n",
    "    for i in [messages_above, minutes_above, gb_above]:\n",
    "        if i > 0:\n",
    "            t += i\n",
    "    return t"
   ]
  },
  {
   "cell_type": "code",
   "execution_count": 32,
   "metadata": {},
   "outputs": [
    {
     "data": {
      "text/html": [
       "<div>\n",
       "<style scoped>\n",
       "    .dataframe tbody tr th:only-of-type {\n",
       "        vertical-align: middle;\n",
       "    }\n",
       "\n",
       "    .dataframe tbody tr th {\n",
       "        vertical-align: top;\n",
       "    }\n",
       "\n",
       "    .dataframe thead th {\n",
       "        text-align: right;\n",
       "    }\n",
       "</style>\n",
       "<table border=\"1\" class=\"dataframe\">\n",
       "  <thead>\n",
       "    <tr style=\"text-align: right;\">\n",
       "      <th></th>\n",
       "      <th>user_id</th>\n",
       "      <th>month</th>\n",
       "      <th>sum_duration_calls</th>\n",
       "      <th>count_calls</th>\n",
       "      <th>count_messages</th>\n",
       "      <th>sum_mb_used</th>\n",
       "      <th>sum_gb_used</th>\n",
       "      <th>age</th>\n",
       "      <th>churn_date</th>\n",
       "      <th>city</th>\n",
       "      <th>first_name</th>\n",
       "      <th>last_name</th>\n",
       "      <th>reg_date</th>\n",
       "      <th>tariff</th>\n",
       "      <th>messages_included</th>\n",
       "      <th>mb_per_month_included</th>\n",
       "      <th>minutes_included</th>\n",
       "      <th>rub_monthly_fee</th>\n",
       "      <th>rub_per_gb</th>\n",
       "      <th>rub_per_message</th>\n",
       "      <th>rub_per_minute</th>\n",
       "      <th>above_used_tariff</th>\n",
       "      <th>total_paid</th>\n",
       "    </tr>\n",
       "  </thead>\n",
       "  <tbody>\n",
       "    <tr>\n",
       "      <td>1810</td>\n",
       "      <td>1291</td>\n",
       "      <td>April</td>\n",
       "      <td>550.0</td>\n",
       "      <td>73.0</td>\n",
       "      <td>0.0</td>\n",
       "      <td>14467.90</td>\n",
       "      <td>15.0</td>\n",
       "      <td>73</td>\n",
       "      <td>NaT</td>\n",
       "      <td>Москва</td>\n",
       "      <td>Мануэла</td>\n",
       "      <td>Анищенко</td>\n",
       "      <td>2018-02-08</td>\n",
       "      <td>smart</td>\n",
       "      <td>50</td>\n",
       "      <td>15360</td>\n",
       "      <td>500</td>\n",
       "      <td>550</td>\n",
       "      <td>200</td>\n",
       "      <td>3</td>\n",
       "      <td>3</td>\n",
       "      <td>150.0</td>\n",
       "      <td>700.0</td>\n",
       "    </tr>\n",
       "    <tr>\n",
       "      <td>1331</td>\n",
       "      <td>1210</td>\n",
       "      <td>October</td>\n",
       "      <td>602.0</td>\n",
       "      <td>65.0</td>\n",
       "      <td>0.0</td>\n",
       "      <td>21818.17</td>\n",
       "      <td>22.0</td>\n",
       "      <td>33</td>\n",
       "      <td>NaT</td>\n",
       "      <td>Севастополь</td>\n",
       "      <td>Евфросинья</td>\n",
       "      <td>Серебрякова</td>\n",
       "      <td>2018-07-29</td>\n",
       "      <td>smart</td>\n",
       "      <td>50</td>\n",
       "      <td>15360</td>\n",
       "      <td>500</td>\n",
       "      <td>550</td>\n",
       "      <td>200</td>\n",
       "      <td>3</td>\n",
       "      <td>3</td>\n",
       "      <td>1706.0</td>\n",
       "      <td>2256.0</td>\n",
       "    </tr>\n",
       "    <tr>\n",
       "      <td>2200</td>\n",
       "      <td>1354</td>\n",
       "      <td>August</td>\n",
       "      <td>148.0</td>\n",
       "      <td>15.0</td>\n",
       "      <td>39.0</td>\n",
       "      <td>7084.09</td>\n",
       "      <td>7.0</td>\n",
       "      <td>56</td>\n",
       "      <td>NaT</td>\n",
       "      <td>Сочи</td>\n",
       "      <td>Лола</td>\n",
       "      <td>Кулагина</td>\n",
       "      <td>2018-08-19</td>\n",
       "      <td>smart</td>\n",
       "      <td>50</td>\n",
       "      <td>15360</td>\n",
       "      <td>500</td>\n",
       "      <td>550</td>\n",
       "      <td>200</td>\n",
       "      <td>3</td>\n",
       "      <td>3</td>\n",
       "      <td>0.0</td>\n",
       "      <td>550.0</td>\n",
       "    </tr>\n",
       "    <tr>\n",
       "      <td>2820</td>\n",
       "      <td>1444</td>\n",
       "      <td>December</td>\n",
       "      <td>631.0</td>\n",
       "      <td>78.0</td>\n",
       "      <td>63.0</td>\n",
       "      <td>20178.18</td>\n",
       "      <td>20.0</td>\n",
       "      <td>35</td>\n",
       "      <td>NaT</td>\n",
       "      <td>Нижний Новгород</td>\n",
       "      <td>Иулиан</td>\n",
       "      <td>Воронин</td>\n",
       "      <td>2018-11-07</td>\n",
       "      <td>smart</td>\n",
       "      <td>50</td>\n",
       "      <td>15360</td>\n",
       "      <td>500</td>\n",
       "      <td>550</td>\n",
       "      <td>200</td>\n",
       "      <td>3</td>\n",
       "      <td>3</td>\n",
       "      <td>1432.0</td>\n",
       "      <td>1982.0</td>\n",
       "    </tr>\n",
       "    <tr>\n",
       "      <td>898</td>\n",
       "      <td>1145</td>\n",
       "      <td>May</td>\n",
       "      <td>508.0</td>\n",
       "      <td>56.0</td>\n",
       "      <td>103.0</td>\n",
       "      <td>17264.97</td>\n",
       "      <td>17.0</td>\n",
       "      <td>45</td>\n",
       "      <td>NaT</td>\n",
       "      <td>Тюмень</td>\n",
       "      <td>Юлий</td>\n",
       "      <td>Алешин</td>\n",
       "      <td>2018-04-11</td>\n",
       "      <td>smart</td>\n",
       "      <td>50</td>\n",
       "      <td>15360</td>\n",
       "      <td>500</td>\n",
       "      <td>550</td>\n",
       "      <td>200</td>\n",
       "      <td>3</td>\n",
       "      <td>3</td>\n",
       "      <td>583.0</td>\n",
       "      <td>1133.0</td>\n",
       "    </tr>\n",
       "  </tbody>\n",
       "</table>\n",
       "</div>"
      ],
      "text/plain": [
       "      user_id     month  sum_duration_calls  count_calls  count_messages  \\\n",
       "1810     1291     April               550.0         73.0             0.0   \n",
       "1331     1210   October               602.0         65.0             0.0   \n",
       "2200     1354    August               148.0         15.0            39.0   \n",
       "2820     1444  December               631.0         78.0            63.0   \n",
       "898      1145       May               508.0         56.0           103.0   \n",
       "\n",
       "      sum_mb_used  sum_gb_used  age churn_date             city  first_name  \\\n",
       "1810     14467.90         15.0   73        NaT           Москва     Мануэла   \n",
       "1331     21818.17         22.0   33        NaT      Севастополь  Евфросинья   \n",
       "2200      7084.09          7.0   56        NaT             Сочи        Лола   \n",
       "2820     20178.18         20.0   35        NaT  Нижний Новгород      Иулиан   \n",
       "898      17264.97         17.0   45        NaT           Тюмень        Юлий   \n",
       "\n",
       "        last_name   reg_date tariff  messages_included  mb_per_month_included  \\\n",
       "1810     Анищенко 2018-02-08  smart                 50                  15360   \n",
       "1331  Серебрякова 2018-07-29  smart                 50                  15360   \n",
       "2200     Кулагина 2018-08-19  smart                 50                  15360   \n",
       "2820      Воронин 2018-11-07  smart                 50                  15360   \n",
       "898        Алешин 2018-04-11  smart                 50                  15360   \n",
       "\n",
       "      minutes_included  rub_monthly_fee  rub_per_gb  rub_per_message  \\\n",
       "1810               500              550         200                3   \n",
       "1331               500              550         200                3   \n",
       "2200               500              550         200                3   \n",
       "2820               500              550         200                3   \n",
       "898                500              550         200                3   \n",
       "\n",
       "      rub_per_minute  above_used_tariff  total_paid  \n",
       "1810               3              150.0       700.0  \n",
       "1331               3             1706.0      2256.0  \n",
       "2200               3                0.0       550.0  \n",
       "2820               3             1432.0      1982.0  \n",
       "898                3              583.0      1133.0  "
      ]
     },
     "execution_count": 32,
     "metadata": {},
     "output_type": "execute_result"
    }
   ],
   "source": [
    "df['above_used_tariff'] = df.apply(lambda x: above_used_tariff(x), axis=1)\n",
    "df['total_paid'] = df['rub_monthly_fee'] + df['above_used_tariff']\n",
    "df.sample(5)"
   ]
  },
  {
   "cell_type": "code",
   "execution_count": 33,
   "metadata": {},
   "outputs": [
    {
     "data": {
      "text/html": [
       "<div>\n",
       "<style scoped>\n",
       "    .dataframe tbody tr th:only-of-type {\n",
       "        vertical-align: middle;\n",
       "    }\n",
       "\n",
       "    .dataframe tbody tr th {\n",
       "        vertical-align: top;\n",
       "    }\n",
       "\n",
       "    .dataframe thead th {\n",
       "        text-align: right;\n",
       "    }\n",
       "</style>\n",
       "<table border=\"1\" class=\"dataframe\">\n",
       "  <thead>\n",
       "    <tr style=\"text-align: right;\">\n",
       "      <th></th>\n",
       "      <th>user_id</th>\n",
       "      <th>month</th>\n",
       "      <th>sum_duration_calls</th>\n",
       "      <th>count_calls</th>\n",
       "      <th>count_messages</th>\n",
       "      <th>sum_mb_used</th>\n",
       "      <th>sum_gb_used</th>\n",
       "      <th>age</th>\n",
       "      <th>churn_date</th>\n",
       "      <th>city</th>\n",
       "      <th>first_name</th>\n",
       "      <th>last_name</th>\n",
       "      <th>reg_date</th>\n",
       "      <th>tariff</th>\n",
       "      <th>messages_included</th>\n",
       "      <th>mb_per_month_included</th>\n",
       "      <th>minutes_included</th>\n",
       "      <th>rub_monthly_fee</th>\n",
       "      <th>rub_per_gb</th>\n",
       "      <th>rub_per_message</th>\n",
       "      <th>rub_per_minute</th>\n",
       "      <th>above_used_tariff</th>\n",
       "      <th>total_paid</th>\n",
       "      <th>messages_above_tariff</th>\n",
       "      <th>minutes_above_tariff</th>\n",
       "      <th>gb_above_tariff</th>\n",
       "    </tr>\n",
       "  </thead>\n",
       "  <tbody>\n",
       "    <tr>\n",
       "      <td>2636</td>\n",
       "      <td>1416</td>\n",
       "      <td>November</td>\n",
       "      <td>861.0</td>\n",
       "      <td>107.0</td>\n",
       "      <td>89.0</td>\n",
       "      <td>19368.45</td>\n",
       "      <td>19.0</td>\n",
       "      <td>50</td>\n",
       "      <td>2018-12-14</td>\n",
       "      <td>Санкт-Петербург</td>\n",
       "      <td>Валерия</td>\n",
       "      <td>Ёлчина</td>\n",
       "      <td>2018-07-16</td>\n",
       "      <td>ultra</td>\n",
       "      <td>1000</td>\n",
       "      <td>30720</td>\n",
       "      <td>3000</td>\n",
       "      <td>1950</td>\n",
       "      <td>150</td>\n",
       "      <td>1</td>\n",
       "      <td>1</td>\n",
       "      <td>0.0</td>\n",
       "      <td>1950.0</td>\n",
       "      <td>0.0</td>\n",
       "      <td>0.0</td>\n",
       "      <td>0.0</td>\n",
       "    </tr>\n",
       "    <tr>\n",
       "      <td>2063</td>\n",
       "      <td>1330</td>\n",
       "      <td>May</td>\n",
       "      <td>665.0</td>\n",
       "      <td>71.0</td>\n",
       "      <td>61.0</td>\n",
       "      <td>29374.15</td>\n",
       "      <td>29.0</td>\n",
       "      <td>65</td>\n",
       "      <td>NaT</td>\n",
       "      <td>Нижний Новгород</td>\n",
       "      <td>Изольда</td>\n",
       "      <td>Алфимова</td>\n",
       "      <td>2018-02-02</td>\n",
       "      <td>ultra</td>\n",
       "      <td>1000</td>\n",
       "      <td>30720</td>\n",
       "      <td>3000</td>\n",
       "      <td>1950</td>\n",
       "      <td>150</td>\n",
       "      <td>1</td>\n",
       "      <td>1</td>\n",
       "      <td>0.0</td>\n",
       "      <td>1950.0</td>\n",
       "      <td>0.0</td>\n",
       "      <td>0.0</td>\n",
       "      <td>0.0</td>\n",
       "    </tr>\n",
       "    <tr>\n",
       "      <td>1739</td>\n",
       "      <td>1280</td>\n",
       "      <td>December</td>\n",
       "      <td>479.0</td>\n",
       "      <td>68.0</td>\n",
       "      <td>51.0</td>\n",
       "      <td>19787.05</td>\n",
       "      <td>20.0</td>\n",
       "      <td>53</td>\n",
       "      <td>NaT</td>\n",
       "      <td>Астрахань</td>\n",
       "      <td>Артемий</td>\n",
       "      <td>Худяков</td>\n",
       "      <td>2018-07-18</td>\n",
       "      <td>smart</td>\n",
       "      <td>50</td>\n",
       "      <td>15360</td>\n",
       "      <td>500</td>\n",
       "      <td>550</td>\n",
       "      <td>200</td>\n",
       "      <td>3</td>\n",
       "      <td>3</td>\n",
       "      <td>1003.0</td>\n",
       "      <td>1553.0</td>\n",
       "      <td>1.0</td>\n",
       "      <td>0.0</td>\n",
       "      <td>5.0</td>\n",
       "    </tr>\n",
       "    <tr>\n",
       "      <td>1108</td>\n",
       "      <td>1176</td>\n",
       "      <td>July</td>\n",
       "      <td>353.0</td>\n",
       "      <td>35.0</td>\n",
       "      <td>64.0</td>\n",
       "      <td>16378.19</td>\n",
       "      <td>16.0</td>\n",
       "      <td>37</td>\n",
       "      <td>NaT</td>\n",
       "      <td>Волгоград</td>\n",
       "      <td>Радим</td>\n",
       "      <td>Куприянов</td>\n",
       "      <td>2018-01-20</td>\n",
       "      <td>smart</td>\n",
       "      <td>50</td>\n",
       "      <td>15360</td>\n",
       "      <td>500</td>\n",
       "      <td>550</td>\n",
       "      <td>200</td>\n",
       "      <td>3</td>\n",
       "      <td>3</td>\n",
       "      <td>242.0</td>\n",
       "      <td>792.0</td>\n",
       "      <td>14.0</td>\n",
       "      <td>0.0</td>\n",
       "      <td>1.0</td>\n",
       "    </tr>\n",
       "    <tr>\n",
       "      <td>776</td>\n",
       "      <td>1123</td>\n",
       "      <td>March</td>\n",
       "      <td>234.0</td>\n",
       "      <td>24.0</td>\n",
       "      <td>6.0</td>\n",
       "      <td>7659.09</td>\n",
       "      <td>8.0</td>\n",
       "      <td>74</td>\n",
       "      <td>NaT</td>\n",
       "      <td>Краснодар</td>\n",
       "      <td>Вениамин</td>\n",
       "      <td>Устинов</td>\n",
       "      <td>2018-03-18</td>\n",
       "      <td>smart</td>\n",
       "      <td>50</td>\n",
       "      <td>15360</td>\n",
       "      <td>500</td>\n",
       "      <td>550</td>\n",
       "      <td>200</td>\n",
       "      <td>3</td>\n",
       "      <td>3</td>\n",
       "      <td>0.0</td>\n",
       "      <td>550.0</td>\n",
       "      <td>0.0</td>\n",
       "      <td>0.0</td>\n",
       "      <td>0.0</td>\n",
       "    </tr>\n",
       "  </tbody>\n",
       "</table>\n",
       "</div>"
      ],
      "text/plain": [
       "      user_id     month  sum_duration_calls  count_calls  count_messages  \\\n",
       "2636     1416  November               861.0        107.0            89.0   \n",
       "2063     1330       May               665.0         71.0            61.0   \n",
       "1739     1280  December               479.0         68.0            51.0   \n",
       "1108     1176      July               353.0         35.0            64.0   \n",
       "776      1123     March               234.0         24.0             6.0   \n",
       "\n",
       "      sum_mb_used  sum_gb_used  age churn_date             city first_name  \\\n",
       "2636     19368.45         19.0   50 2018-12-14  Санкт-Петербург    Валерия   \n",
       "2063     29374.15         29.0   65        NaT  Нижний Новгород    Изольда   \n",
       "1739     19787.05         20.0   53        NaT        Астрахань    Артемий   \n",
       "1108     16378.19         16.0   37        NaT        Волгоград      Радим   \n",
       "776       7659.09          8.0   74        NaT        Краснодар   Вениамин   \n",
       "\n",
       "      last_name   reg_date tariff  messages_included  mb_per_month_included  \\\n",
       "2636     Ёлчина 2018-07-16  ultra               1000                  30720   \n",
       "2063   Алфимова 2018-02-02  ultra               1000                  30720   \n",
       "1739    Худяков 2018-07-18  smart                 50                  15360   \n",
       "1108  Куприянов 2018-01-20  smart                 50                  15360   \n",
       "776     Устинов 2018-03-18  smart                 50                  15360   \n",
       "\n",
       "      minutes_included  rub_monthly_fee  rub_per_gb  rub_per_message  \\\n",
       "2636              3000             1950         150                1   \n",
       "2063              3000             1950         150                1   \n",
       "1739               500              550         200                3   \n",
       "1108               500              550         200                3   \n",
       "776                500              550         200                3   \n",
       "\n",
       "      rub_per_minute  above_used_tariff  total_paid  messages_above_tariff  \\\n",
       "2636               1                0.0      1950.0                    0.0   \n",
       "2063               1                0.0      1950.0                    0.0   \n",
       "1739               3             1003.0      1553.0                    1.0   \n",
       "1108               3              242.0       792.0                   14.0   \n",
       "776                3                0.0       550.0                    0.0   \n",
       "\n",
       "      minutes_above_tariff  gb_above_tariff  \n",
       "2636                   0.0              0.0  \n",
       "2063                   0.0              0.0  \n",
       "1739                   0.0              5.0  \n",
       "1108                   0.0              1.0  \n",
       "776                    0.0              0.0  "
      ]
     },
     "execution_count": 33,
     "metadata": {},
     "output_type": "execute_result"
    }
   ],
   "source": [
    "#добавим в таблицу отдельно столбцы с превышением сообщений, минут и Гб.\n",
    "df['messages_above_tariff'] = np.where((df['count_messages'] - df['messages_included']) > 0,\n",
    "                                       df['count_messages'] - df['messages_included'], 0)\n",
    "df['minutes_above_tariff'] = np.where((df['sum_duration_calls'] - df['minutes_included']) > 0,\n",
    "                                       df['sum_duration_calls'] - df['minutes_included'], 0)\n",
    "\n",
    "df['gb_above_tariff'] = np.where((df['sum_gb_used'] - (df['mb_per_month_included']/1024)) > 0,\n",
    "                                       df['sum_gb_used'] - (df['mb_per_month_included']/1024), 0)\n",
    "    \n",
    "df.sample(5)\n",
    "\n"
   ]
  },
  {
   "cell_type": "markdown",
   "metadata": {},
   "source": [
    "## Анализ данных"
   ]
  },
  {
   "cell_type": "code",
   "execution_count": 34,
   "metadata": {},
   "outputs": [
    {
     "name": "stdout",
     "output_type": "stream",
     "text": [
      "Тариф Смарт\n",
      "\n",
      "Среднее количество потраченных минут: 417.93\n",
      "Дисперсия минут: 36219.32\n",
      "Стандартное отклонение по минутам: 190.27\n",
      "---------------------------------------------\n",
      "Тариф Ультра\n",
      "\n",
      "Среднее количество потраченных минут: 526.62\n",
      "Дисперсия минут: 100873.63\n",
      "Стандартное отклонение по минутам: 317.44\n"
     ]
    }
   ],
   "source": [
    "smart = df[df['tariff'] == 'smart']\n",
    "ultra = df[df['tariff'] == 'ultra']\n",
    "s_minutes = smart['sum_duration_calls']\n",
    "u_minutes = ultra['sum_duration_calls']\n",
    "\n",
    "print('Тариф Смарт')\n",
    "print()\n",
    "print('Среднее количество потраченных минут:', s_minutes.mean().round(2))\n",
    "print('Дисперсия минут:', np.var(s_minutes, ddof=1).round(2))\n",
    "print('Стандартное отклонение по минутам:', np.std(s_minutes).round(2))\n",
    "print('---------------------------------------------')\n",
    "print('Тариф Ультра')\n",
    "print()\n",
    "print('Среднее количество потраченных минут:', u_minutes.mean().round(2))\n",
    "print('Дисперсия минут:', np.var(u_minutes, ddof=1).round(2))\n",
    "print('Стандартное отклонение по минутам:', np.std(u_minutes).round(2))"
   ]
  },
  {
   "cell_type": "code",
   "execution_count": 35,
   "metadata": {},
   "outputs": [],
   "source": [
    "def func_hist(df1, df2, title, xlabel, ylabel):\n",
    "    plt.title(title)\n",
    "    plt.xlabel(xlabel)\n",
    "    plt.ylabel(ylabel)\n",
    "    df1.hist(label='Тариф \"Смарт\"')\n",
    "    df2.hist(alpha=0.5, label='Тариф \"Ультра\"')\n",
    "    plt.legend(loc='best')\n",
    "    plt.show()\n",
    "    "
   ]
  },
  {
   "cell_type": "code",
   "execution_count": 36,
   "metadata": {},
   "outputs": [
    {
     "data": {
      "image/png": "[encoded data removed]",
      "text/plain": [
       "<Figure size 432x288 with 1 Axes>"
      ]
     },
     "metadata": {
      "needs_background": "light"
     },
     "output_type": "display_data"
    }
   ],
   "source": [
    "func_hist(s_minutes, u_minutes, 'Гистограммы для использованных минут за месяц', 'Количество минут', 'Количество наблюдений')"
   ]
  },
  {
   "cell_type": "markdown",
   "metadata": {},
   "source": [
    "<div class=\"alert alert-success\">\n",
    "<h2> Комментарий ревьюера <a class=\"tocSkip\"> </h2>\n",
    "\n",
    "Кстати, если тебе поднадоел стандартный `matplotlib`, попробуй пострить графики с помощью [plotly](https://plotly.github.io/plotly.py-docs/generated/plotly.express.histogram.html)"
   ]
  },
  {
   "cell_type": "markdown",
   "metadata": {},
   "source": [
    "При тарифе \"Ультра\" большинство пользователей не расходуют заявленное количество минут. В тарифе \"Смарт\" минуты расходуются либо с доплатой, либо с небольшим запасом минут."
   ]
  },
  {
   "cell_type": "code",
   "execution_count": 37,
   "metadata": {},
   "outputs": [
    {
     "name": "stdout",
     "output_type": "stream",
     "text": [
      "Тариф Смарт\n",
      "\n",
      "Среднее количество сообщений: 33.38\n",
      "Дисперсия сообщений: 796.81\n",
      "Стандартное отклонение по сообщениям: 28.22\n",
      "---------------------------------------------\n",
      "Тариф Ультра\n",
      "\n",
      "Среднее количество сообщений: 49.36\n",
      "Дисперсия сообщений: 2285.27\n",
      "Стандартное отклонение по сообщениям: 47.78\n"
     ]
    }
   ],
   "source": [
    "s_messages = smart['count_messages']\n",
    "u_messages = ultra['count_messages']\n",
    "\n",
    "print('Тариф Смарт')\n",
    "print()\n",
    "print('Среднее количество сообщений:', s_messages.mean().round(2))\n",
    "print('Дисперсия сообщений:', np.var(s_messages, ddof=1).round(2))\n",
    "print('Стандартное отклонение по сообщениям:', np.std(s_messages).round(2))\n",
    "print('---------------------------------------------')\n",
    "print('Тариф Ультра')\n",
    "print()\n",
    "print('Среднее количество сообщений:', u_messages.mean().round(2))\n",
    "print('Дисперсия сообщений:', np.var(u_messages, ddof=1).round(2))\n",
    "print('Стандартное отклонение по сообщениям:', np.std(u_messages).round(2))"
   ]
  },
  {
   "cell_type": "code",
   "execution_count": 38,
   "metadata": {},
   "outputs": [
    {
     "data": {
      "text/html": [
       "<style  type=\"text/css\" >\n",
       "</style><table id=\"T_23d3ef0a_2b37_11ec_b77b_02420a396aac\" ><thead>    <tr>        <th class=\"blank\" ></th>        <th class=\"index_name level0\" >tariff</th>        <th class=\"col_heading level0 col0\" >smart</th>        <th class=\"col_heading level0 col1\" >ultra</th>    </tr></thead><tbody>\n",
       "                <tr>\n",
       "                        <th id=\"T_23d3ef0a_2b37_11ec_b77b_02420a396aaclevel0_row0\" class=\"row_heading level0 row0\" rowspan=3>mean</th>\n",
       "                        <th id=\"T_23d3ef0a_2b37_11ec_b77b_02420a396aaclevel1_row0\" class=\"row_heading level1 row0\" >count_messages</th>\n",
       "                        <td id=\"T_23d3ef0a_2b37_11ec_b77b_02420a396aacrow0_col0\" class=\"data row0 col0\" >33.38</td>\n",
       "                        <td id=\"T_23d3ef0a_2b37_11ec_b77b_02420a396aacrow0_col1\" class=\"data row0 col1\" >49.36</td>\n",
       "            </tr>\n",
       "            <tr>\n",
       "                                <th id=\"T_23d3ef0a_2b37_11ec_b77b_02420a396aaclevel1_row1\" class=\"row_heading level1 row1\" >sum_duration_calls</th>\n",
       "                        <td id=\"T_23d3ef0a_2b37_11ec_b77b_02420a396aacrow1_col0\" class=\"data row1 col0\" >417.93</td>\n",
       "                        <td id=\"T_23d3ef0a_2b37_11ec_b77b_02420a396aacrow1_col1\" class=\"data row1 col1\" >526.62</td>\n",
       "            </tr>\n",
       "            <tr>\n",
       "                                <th id=\"T_23d3ef0a_2b37_11ec_b77b_02420a396aaclevel1_row2\" class=\"row_heading level1 row2\" >sum_mb_used</th>\n",
       "                        <td id=\"T_23d3ef0a_2b37_11ec_b77b_02420a396aacrow2_col0\" class=\"data row2 col0\" >16208.39</td>\n",
       "                        <td id=\"T_23d3ef0a_2b37_11ec_b77b_02420a396aacrow2_col1\" class=\"data row2 col1\" >19468.81</td>\n",
       "            </tr>\n",
       "            <tr>\n",
       "                        <th id=\"T_23d3ef0a_2b37_11ec_b77b_02420a396aaclevel0_row3\" class=\"row_heading level0 row3\" rowspan=3>std</th>\n",
       "                        <th id=\"T_23d3ef0a_2b37_11ec_b77b_02420a396aaclevel1_row3\" class=\"row_heading level1 row3\" >count_messages</th>\n",
       "                        <td id=\"T_23d3ef0a_2b37_11ec_b77b_02420a396aacrow3_col0\" class=\"data row3 col0\" >28.23</td>\n",
       "                        <td id=\"T_23d3ef0a_2b37_11ec_b77b_02420a396aacrow3_col1\" class=\"data row3 col1\" >47.80</td>\n",
       "            </tr>\n",
       "            <tr>\n",
       "                                <th id=\"T_23d3ef0a_2b37_11ec_b77b_02420a396aaclevel1_row4\" class=\"row_heading level1 row4\" >sum_duration_calls</th>\n",
       "                        <td id=\"T_23d3ef0a_2b37_11ec_b77b_02420a396aacrow4_col0\" class=\"data row4 col0\" >190.31</td>\n",
       "                        <td id=\"T_23d3ef0a_2b37_11ec_b77b_02420a396aacrow4_col1\" class=\"data row4 col1\" >317.61</td>\n",
       "            </tr>\n",
       "            <tr>\n",
       "                                <th id=\"T_23d3ef0a_2b37_11ec_b77b_02420a396aaclevel1_row5\" class=\"row_heading level1 row5\" >sum_mb_used</th>\n",
       "                        <td id=\"T_23d3ef0a_2b37_11ec_b77b_02420a396aacrow5_col0\" class=\"data row5 col0\" >5870.48</td>\n",
       "                        <td id=\"T_23d3ef0a_2b37_11ec_b77b_02420a396aacrow5_col1\" class=\"data row5 col1\" >10087.17</td>\n",
       "            </tr>\n",
       "            <tr>\n",
       "                        <th id=\"T_23d3ef0a_2b37_11ec_b77b_02420a396aaclevel0_row6\" class=\"row_heading level0 row6\" rowspan=3>var</th>\n",
       "                        <th id=\"T_23d3ef0a_2b37_11ec_b77b_02420a396aaclevel1_row6\" class=\"row_heading level1 row6\" >count_messages</th>\n",
       "                        <td id=\"T_23d3ef0a_2b37_11ec_b77b_02420a396aacrow6_col0\" class=\"data row6 col0\" >796.81</td>\n",
       "                        <td id=\"T_23d3ef0a_2b37_11ec_b77b_02420a396aacrow6_col1\" class=\"data row6 col1\" >2285.27</td>\n",
       "            </tr>\n",
       "            <tr>\n",
       "                                <th id=\"T_23d3ef0a_2b37_11ec_b77b_02420a396aaclevel1_row7\" class=\"row_heading level1 row7\" >sum_duration_calls</th>\n",
       "                        <td id=\"T_23d3ef0a_2b37_11ec_b77b_02420a396aacrow7_col0\" class=\"data row7 col0\" >36219.32</td>\n",
       "                        <td id=\"T_23d3ef0a_2b37_11ec_b77b_02420a396aacrow7_col1\" class=\"data row7 col1\" >100873.63</td>\n",
       "            </tr>\n",
       "            <tr>\n",
       "                                <th id=\"T_23d3ef0a_2b37_11ec_b77b_02420a396aaclevel1_row8\" class=\"row_heading level1 row8\" >sum_mb_used</th>\n",
       "                        <td id=\"T_23d3ef0a_2b37_11ec_b77b_02420a396aacrow8_col0\" class=\"data row8 col0\" >34462496.46</td>\n",
       "                        <td id=\"T_23d3ef0a_2b37_11ec_b77b_02420a396aacrow8_col1\" class=\"data row8 col1\" >101751013.78</td>\n",
       "            </tr>\n",
       "    </tbody></table>"
      ],
      "text/plain": [
       "<pandas.io.formats.style.Styler at 0x7f65df5b2710>"
      ]
     },
     "execution_count": 38,
     "metadata": {},
     "output_type": "execute_result"
    }
   ],
   "source": [
    "df.pivot_table(index='tariff',  \n",
    "                 values=['sum_duration_calls', 'sum_mb_used', 'count_messages'], \n",
    "                 aggfunc=['mean', 'std', 'var']).T.style.format('{:.2f}')"
   ]
  },
  {
   "cell_type": "code",
   "execution_count": 39,
   "metadata": {},
   "outputs": [
    {
     "data": {
      "image/png": "[encoded data removed]",
      "text/plain": [
       "<Figure size 432x288 with 1 Axes>"
      ]
     },
     "metadata": {
      "needs_background": "light"
     },
     "output_type": "display_data"
    }
   ],
   "source": [
    "func_hist(s_messages, u_messages, 'Гистограммы для отправленных сообщений за месяц', 'Количество сообщений',\n",
    "          'Количество наблюдений')"
   ]
  },
  {
   "cell_type": "markdown",
   "metadata": {},
   "source": [
    "Сообщения для обоих тарифов не являются показательными, люди все чаще пользуются мессенджерами, однако некоторые пользователи тарифа \"Смарт\" переплачивают за сообщения."
   ]
  },
  {
   "cell_type": "code",
   "execution_count": 40,
   "metadata": {},
   "outputs": [
    {
     "name": "stdout",
     "output_type": "stream",
     "text": [
      "Тариф Смарт\n",
      "\n",
      "Среднее количество использованных мегабайт: 16208.39\n",
      "Дисперсия количества мегабайт: 34462496.46\n",
      "Стандартное отклонение по количеству мегабайт: 5869.16\n",
      "---------------------------------------------\n",
      "Тариф Ультра\n",
      "\n",
      "Среднее количество использованных мегабайт: 19468.81\n",
      "Дисперсия количества мегабайт: 101751013.78\n",
      "Стандартное отклонение по количеству мегабайт: 10082.05\n"
     ]
    }
   ],
   "source": [
    "s_internet = smart['sum_mb_used']\n",
    "u_internet = ultra['sum_mb_used']\n",
    "\n",
    "print('Тариф Смарт')\n",
    "print()\n",
    "print('Среднее количество использованных мегабайт:', s_internet.mean().round(2))\n",
    "print('Дисперсия количества мегабайт:', np.var(s_internet, ddof =1).round(2))\n",
    "print('Стандартное отклонение по количеству мегабайт:', np.std(s_internet).round(2))\n",
    "print('---------------------------------------------')\n",
    "print('Тариф Ультра')\n",
    "print()\n",
    "print('Среднее количество использованных мегабайт:', u_internet.mean().round(2))\n",
    "print('Дисперсия количества мегабайт:', np.var(u_internet, ddof =1).round(2))\n",
    "print('Стандартное отклонение по количеству мегабайт:', np.std(u_internet).round(2))"
   ]
  },
  {
   "cell_type": "code",
   "execution_count": 41,
   "metadata": {},
   "outputs": [
    {
     "data": {
      "image/png": "[encoded data removed]",
      "text/plain": [
       "<Figure size 432x288 with 1 Axes>"
      ]
     },
     "metadata": {
      "needs_background": "light"
     },
     "output_type": "display_data"
    }
   ],
   "source": [
    "func_hist(s_internet, u_internet, 'Гистограммы для использованных мегабайт за месяц', 'Количество мегабайт',\n",
    "          'Количество наблюдений')"
   ]
  },
  {
   "cell_type": "code",
   "execution_count": 42,
   "metadata": {},
   "outputs": [
    {
     "data": {
      "image/png": "[encoded data removed]",
      "text/plain": [
       "<Figure size 432x288 with 1 Axes>"
      ]
     },
     "metadata": {
      "needs_background": "light"
     },
     "output_type": "display_data"
    }
   ],
   "source": [
    "#построим также гистограммы для гигабайтов\n",
    "s_internet2 = smart['sum_gb_used']\n",
    "u_internet2 = ultra['sum_gb_used']\n",
    "func_hist(s_internet2, u_internet2, 'Гистограммы для использованных гигабайт за месяц', 'Количество гигабайт',\n",
    "          'Количество наблюдений')"
   ]
  },
  {
   "cell_type": "markdown",
   "metadata": {},
   "source": [
    "Заметно, что клиенты активно используют интернет. Наиболее заметны переплаты за тариф \"Смарт\", но также и на \"Ультра\"."
   ]
  },
  {
   "cell_type": "markdown",
   "metadata": {},
   "source": [
    "Гистограммы для использования интернета и для израсходованных минут имею нормальное распределение."
   ]
  },
  {
   "cell_type": "code",
   "execution_count": 43,
   "metadata": {},
   "outputs": [
    {
     "data": {
      "image/png": "[encoded data removed]",
      "text/plain": [
       "<Figure size 432x288 with 1 Axes>"
      ]
     },
     "metadata": {
      "needs_background": "light"
     },
     "output_type": "display_data"
    }
   ],
   "source": [
    "#посмотрим кто больше переплачивает\n",
    "s_total_paid = smart['total_paid']\n",
    "u_total_paid = ultra['total_paid']\n",
    "func_hist(s_total_paid, u_total_paid, 'Гистограммы для использованных гигабайт за месяц', 'Количество рублей',\n",
    "          'Количество наблюдений')"
   ]
  },
  {
   "cell_type": "markdown",
   "metadata": {},
   "source": [
    "Предварительно можно сказать, что многие считают, что выгоднее сидеть на \"Смарте\" и переплачивать, нежели чем сразу платить почти в 4 раза больше. Проверим это ниже."
   ]
  },
  {
   "cell_type": "markdown",
   "metadata": {},
   "source": [
    "## Проверка гипотез"
   ]
  },
  {
   "cell_type": "markdown",
   "metadata": {},
   "source": [
    "Сформулируем первую нулевую гипотезу:\n",
    "- H0: средняя выручка пользователей тарифов «Ультра» и «Смарт» не различаются\n",
    "- H1: средняя выручка пользователей тарифов «Ультра» и «Смарт» различаются"
   ]
  },
  {
   "cell_type": "code",
   "execution_count": 44,
   "metadata": {},
   "outputs": [
    {
     "name": "stdout",
     "output_type": "stream",
     "text": [
      "p-значение: 1.4229814360764067e-160\n",
      "Отвергаем нулевую гипотезу\n"
     ]
    }
   ],
   "source": [
    "smart_total_paid = smart['total_paid']\n",
    "ultra_total_paid = ultra['total_paid']\n",
    "\n",
    "\n",
    "alpha = 0.05 \n",
    "results = st.ttest_ind(smart_total_paid, ultra_total_paid)\n",
    "\n",
    "\n",
    "print('p-значение:', results.pvalue)\n",
    "\n",
    "if (results.pvalue < alpha):\n",
    "    print(\"Отвергаем нулевую гипотезу\")\n",
    "else:\n",
    "    print(\"Не получилось отвергнуть нулевую гипотезу\")"
   ]
  },
  {
   "cell_type": "markdown",
   "metadata": {},
   "source": [
    "Сформулируем вторую нулевую гипотезу:\n",
    "- H0: средняя выручка пользователей из Москвы не отличается от выручки пользователей из других регионов\n",
    "- H1: средняя выручка пользователей из Москвы отличается от выручки пользователей из других регионов"
   ]
  },
  {
   "cell_type": "code",
   "execution_count": 45,
   "metadata": {},
   "outputs": [
    {
     "name": "stdout",
     "output_type": "stream",
     "text": [
      "p-значение: 0.5440152911670224\n",
      "Не получилось отвергнуть нулевую гипотезу\n"
     ]
    }
   ],
   "source": [
    "moscow = df.loc[df['city'] == 'Москва']['total_paid']\n",
    "other = df.loc[df['city'] != 'Москва']['total_paid']\n",
    "\n",
    "alpha = 0.05\n",
    "results = st.ttest_ind(moscow, other)\n",
    "\n",
    "\n",
    "print('p-значение:', results.pvalue)\n",
    "\n",
    "if (results.pvalue < alpha):\n",
    "    print(\"Отвергаем нулевую гипотезу\")\n",
    "else:\n",
    "    print(\"Не получилось отвергнуть нулевую гипотезу\")"
   ]
  },
  {
   "cell_type": "markdown",
   "metadata": {},
   "source": [
    "## Общий вывод"
   ]
  },
  {
   "cell_type": "markdown",
   "metadata": {},
   "source": [
    "В ходе работы над проектом была проведена предобработка данных: данные приведены к нужным типам, удалены лишние столбцы, удалены строки с нулевыми значениями. Посчитано:\n",
    "- Количество сделанных звонков и израсходованных минут разговора по месяцам\n",
    "- Количество отправленных сообщений по месяцам\n",
    "- Количество отправленных сообщений по месяцам\n",
    "- Помесячная выручка с каждого пользователя\n",
    "\n",
    "\n",
    "Был проведен анализ данных:\n",
    "- Посчитано среднее количество, дисперсия и стандартное отклонение израсходованных минут, отправленных сообщений и использованных мегабайт интернета\n",
    "- Построены гистограммы для использованных показателей тарифов, а также гистограмма, где показано количество переплаченных денег за тарифы\n",
    "\n",
    "\n",
    "Проверены гипотезы:\n",
    "- средняя выручка пользователей тарифов «Ультра» и «Смарт» различается\n",
    "- средняя выручка пользователей из Москвы отличается от выручки пользователей из других регионов\n",
    "\n",
    "\n",
    "На обоих тарифах неактивно используются смс-сообщения. Пользователи тарифа \"Смарт\" часто выходят за рамки указанных единиц тарифа и переплачивают за минуты и интернет, пользователи тарифа \"Ультра\" делают это гораздо реже."
   ]
  },
  {
   "cell_type": "markdown",
   "metadata": {},
   "source": [
    "Для пользователей выгоднее выбирать тариф \"Смарт\" и платить за минуты и интернет вне трафика. Для оператора, конечно, более выгоден тариф \"Ультра\", клиенты платят больше и редко когда расходуют полный пакет. Стоит проанализировать из-за чего клиенты отказываются от оператора \"Мегалайн\" и какие условия у конкурентов, на основе этого сделать вывод, стоит ли как-то координально трансформировать или добавлять тарифы. \n",
    "Так как не удалось отвергнуть вторую гипотезу, можно спрогнозировать отток клиентов при появлении более выгодного тарифа у конкурентов. Стоит изменить ценообразование по регионам, так как финансирование страны более централизовано, и в регионах люди получают меньше. \n",
    "Тут замечается психология людей, при большем заработке люди меньше радуются мелочам. Именно поэтому стоит рассмотреть изменение цен по регионам."
   ]
  }
 ],
 "metadata": {
  "ExecuteTimeLog": [
   {
    "duration": 1338,
    "start_time": "2021-10-08T10:44:11.026Z"
   },
   {
    "duration": 577,
    "start_time": "2021-10-08T10:46:42.455Z"
   },
   {
    "duration": 16,
    "start_time": "2021-10-08T10:48:11.985Z"
   },
   {
    "duration": 29,
    "start_time": "2021-10-08T10:48:27.451Z"
   },
   {
    "duration": 40,
    "start_time": "2021-10-08T10:49:33.054Z"
   },
   {
    "duration": 19,
    "start_time": "2021-10-08T10:52:48.080Z"
   },
   {
    "duration": 17,
    "start_time": "2021-10-08T10:52:55.203Z"
   },
   {
    "duration": 12,
    "start_time": "2021-10-08T10:53:17.485Z"
   },
   {
    "duration": 19,
    "start_time": "2021-10-08T10:53:32.728Z"
   },
   {
    "duration": 18,
    "start_time": "2021-10-08T10:56:16.189Z"
   },
   {
    "duration": 18,
    "start_time": "2021-10-08T10:56:22.086Z"
   },
   {
    "duration": 12,
    "start_time": "2021-10-08T10:56:30.857Z"
   },
   {
    "duration": 16,
    "start_time": "2021-10-08T10:56:40.936Z"
   },
   {
    "duration": 24,
    "start_time": "2021-10-08T10:57:09.211Z"
   },
   {
    "duration": 40,
    "start_time": "2021-10-08T10:57:24.771Z"
   },
   {
    "duration": 17,
    "start_time": "2021-10-08T10:58:16.506Z"
   },
   {
    "duration": 13,
    "start_time": "2021-10-08T11:01:11.962Z"
   },
   {
    "duration": 1494,
    "start_time": "2021-10-08T11:04:35.564Z"
   },
   {
    "duration": 574,
    "start_time": "2021-10-08T11:04:37.061Z"
   },
   {
    "duration": 36,
    "start_time": "2021-10-08T11:04:37.639Z"
   },
   {
    "duration": 28,
    "start_time": "2021-10-08T11:04:37.678Z"
   },
   {
    "duration": 41,
    "start_time": "2021-10-08T11:04:37.709Z"
   },
   {
    "duration": 12,
    "start_time": "2021-10-08T11:04:37.753Z"
   },
   {
    "duration": 48,
    "start_time": "2021-10-08T11:04:37.768Z"
   },
   {
    "duration": 39,
    "start_time": "2021-10-08T11:04:37.819Z"
   },
   {
    "duration": 11,
    "start_time": "2021-10-08T11:13:23.866Z"
   },
   {
    "duration": 20,
    "start_time": "2021-10-08T11:14:23.656Z"
   },
   {
    "duration": 18,
    "start_time": "2021-10-08T11:14:40.238Z"
   },
   {
    "duration": 386,
    "start_time": "2021-10-08T11:21:25.580Z"
   },
   {
    "duration": 12,
    "start_time": "2021-10-08T11:21:33.768Z"
   },
   {
    "duration": 9,
    "start_time": "2021-10-08T11:23:59.846Z"
   },
   {
    "duration": 15,
    "start_time": "2021-10-08T11:43:56.213Z"
   },
   {
    "duration": 16,
    "start_time": "2021-10-08T11:44:02.940Z"
   },
   {
    "duration": 9,
    "start_time": "2021-10-08T11:44:15.722Z"
   },
   {
    "duration": 22,
    "start_time": "2021-10-08T11:44:26.569Z"
   },
   {
    "duration": 5,
    "start_time": "2021-10-08T12:03:24.297Z"
   },
   {
    "duration": 580,
    "start_time": "2021-10-08T12:03:24.576Z"
   },
   {
    "duration": 17,
    "start_time": "2021-10-08T12:03:25.158Z"
   },
   {
    "duration": 41,
    "start_time": "2021-10-08T12:03:25.178Z"
   },
   {
    "duration": 36,
    "start_time": "2021-10-08T12:03:25.222Z"
   },
   {
    "duration": 12,
    "start_time": "2021-10-08T12:03:25.671Z"
   },
   {
    "duration": 22,
    "start_time": "2021-10-08T12:03:25.827Z"
   },
   {
    "duration": 39,
    "start_time": "2021-10-08T12:03:25.974Z"
   },
   {
    "duration": 11,
    "start_time": "2021-10-08T12:03:26.436Z"
   },
   {
    "duration": 21,
    "start_time": "2021-10-08T12:03:26.588Z"
   },
   {
    "duration": 11,
    "start_time": "2021-10-08T12:03:27.078Z"
   },
   {
    "duration": 10,
    "start_time": "2021-10-08T12:03:27.236Z"
   },
   {
    "duration": 16,
    "start_time": "2021-10-08T12:03:28.056Z"
   },
   {
    "duration": 10,
    "start_time": "2021-10-08T12:03:28.466Z"
   },
   {
    "duration": 88,
    "start_time": "2021-10-08T12:03:28.564Z"
   },
   {
    "duration": 95,
    "start_time": "2021-10-08T12:03:29.321Z"
   },
   {
    "duration": 1341,
    "start_time": "2021-10-08T12:05:53.322Z"
   },
   {
    "duration": 556,
    "start_time": "2021-10-08T12:05:54.666Z"
   },
   {
    "duration": 25,
    "start_time": "2021-10-08T12:05:55.226Z"
   },
   {
    "duration": 30,
    "start_time": "2021-10-08T12:05:55.254Z"
   },
   {
    "duration": 52,
    "start_time": "2021-10-08T12:05:55.287Z"
   },
   {
    "duration": 13,
    "start_time": "2021-10-08T12:05:55.342Z"
   },
   {
    "duration": 51,
    "start_time": "2021-10-08T12:05:55.357Z"
   },
   {
    "duration": 39,
    "start_time": "2021-10-08T12:05:55.412Z"
   },
   {
    "duration": 10,
    "start_time": "2021-10-08T12:05:55.455Z"
   },
   {
    "duration": 51,
    "start_time": "2021-10-08T12:05:55.467Z"
   },
   {
    "duration": 12,
    "start_time": "2021-10-08T12:05:55.520Z"
   },
   {
    "duration": 9,
    "start_time": "2021-10-08T12:05:55.534Z"
   },
   {
    "duration": 19,
    "start_time": "2021-10-08T12:05:55.545Z"
   },
   {
    "duration": 10,
    "start_time": "2021-10-08T12:05:55.600Z"
   },
   {
    "duration": 26,
    "start_time": "2021-10-08T12:05:55.612Z"
   },
   {
    "duration": 112,
    "start_time": "2021-10-08T12:05:55.640Z"
   },
   {
    "duration": 4,
    "start_time": "2021-10-08T13:14:40.995Z"
   },
   {
    "duration": 561,
    "start_time": "2021-10-08T13:14:41.002Z"
   },
   {
    "duration": 18,
    "start_time": "2021-10-08T13:14:41.567Z"
   },
   {
    "duration": 27,
    "start_time": "2021-10-08T13:14:41.587Z"
   },
   {
    "duration": 36,
    "start_time": "2021-10-08T13:14:41.617Z"
   },
   {
    "duration": 12,
    "start_time": "2021-10-08T13:14:41.655Z"
   },
   {
    "duration": 24,
    "start_time": "2021-10-08T13:14:41.701Z"
   },
   {
    "duration": 39,
    "start_time": "2021-10-08T13:14:41.728Z"
   },
   {
    "duration": 33,
    "start_time": "2021-10-08T13:14:41.769Z"
   },
   {
    "duration": 19,
    "start_time": "2021-10-08T13:14:41.804Z"
   },
   {
    "duration": 12,
    "start_time": "2021-10-08T13:14:41.825Z"
   },
   {
    "duration": 9,
    "start_time": "2021-10-08T13:14:41.839Z"
   },
   {
    "duration": 57,
    "start_time": "2021-10-08T13:14:41.851Z"
   },
   {
    "duration": 12,
    "start_time": "2021-10-08T13:14:41.911Z"
   },
   {
    "duration": 22,
    "start_time": "2021-10-08T13:14:41.926Z"
   },
   {
    "duration": 120,
    "start_time": "2021-10-08T13:14:41.951Z"
   },
   {
    "duration": 7871,
    "start_time": "2021-10-08T13:18:23.814Z"
   },
   {
    "duration": 12,
    "start_time": "2021-10-08T13:19:14.520Z"
   },
   {
    "duration": 4,
    "start_time": "2021-10-08T13:19:34.703Z"
   },
   {
    "duration": 536,
    "start_time": "2021-10-08T13:19:34.712Z"
   },
   {
    "duration": 16,
    "start_time": "2021-10-08T13:19:35.251Z"
   },
   {
    "duration": 26,
    "start_time": "2021-10-08T13:19:35.270Z"
   },
   {
    "duration": 35,
    "start_time": "2021-10-08T13:19:35.299Z"
   },
   {
    "duration": 12,
    "start_time": "2021-10-08T13:19:35.337Z"
   },
   {
    "duration": 34,
    "start_time": "2021-10-08T13:19:35.351Z"
   },
   {
    "duration": 38,
    "start_time": "2021-10-08T13:19:35.401Z"
   },
   {
    "duration": 10,
    "start_time": "2021-10-08T13:19:35.442Z"
   },
   {
    "duration": 49,
    "start_time": "2021-10-08T13:19:35.454Z"
   },
   {
    "duration": 11,
    "start_time": "2021-10-08T13:19:35.506Z"
   },
   {
    "duration": 11,
    "start_time": "2021-10-08T13:19:35.519Z"
   },
   {
    "duration": 24,
    "start_time": "2021-10-08T13:19:35.532Z"
   },
   {
    "duration": 13,
    "start_time": "2021-10-08T13:19:35.558Z"
   },
   {
    "duration": 23,
    "start_time": "2021-10-08T13:19:35.601Z"
   },
   {
    "duration": 117,
    "start_time": "2021-10-08T13:19:35.626Z"
   },
   {
    "duration": 6882,
    "start_time": "2021-10-08T13:19:35.745Z"
   },
   {
    "duration": -939,
    "start_time": "2021-10-08T13:19:43.569Z"
   },
   {
    "duration": 1322,
    "start_time": "2021-10-08T13:19:58.552Z"
   },
   {
    "duration": 562,
    "start_time": "2021-10-08T13:19:59.877Z"
   },
   {
    "duration": 22,
    "start_time": "2021-10-08T13:20:00.443Z"
   },
   {
    "duration": 30,
    "start_time": "2021-10-08T13:20:00.468Z"
   },
   {
    "duration": 44,
    "start_time": "2021-10-08T13:20:00.500Z"
   },
   {
    "duration": 11,
    "start_time": "2021-10-08T13:20:00.546Z"
   },
   {
    "duration": 49,
    "start_time": "2021-10-08T13:20:00.560Z"
   },
   {
    "duration": 39,
    "start_time": "2021-10-08T13:20:00.612Z"
   },
   {
    "duration": 10,
    "start_time": "2021-10-08T13:20:00.654Z"
   },
   {
    "duration": 47,
    "start_time": "2021-10-08T13:20:00.667Z"
   },
   {
    "duration": 32,
    "start_time": "2021-10-08T13:20:00.717Z"
   },
   {
    "duration": 15,
    "start_time": "2021-10-08T13:20:00.752Z"
   },
   {
    "duration": 21,
    "start_time": "2021-10-08T13:20:00.770Z"
   },
   {
    "duration": 10,
    "start_time": "2021-10-08T13:20:00.801Z"
   },
   {
    "duration": 29,
    "start_time": "2021-10-08T13:20:00.814Z"
   },
   {
    "duration": 131,
    "start_time": "2021-10-08T13:20:00.846Z"
   },
   {
    "duration": 8918,
    "start_time": "2021-10-08T13:20:00.980Z"
   },
   {
    "duration": -925,
    "start_time": "2021-10-08T13:20:10.826Z"
   },
   {
    "duration": 6955,
    "start_time": "2021-10-08T13:21:05.543Z"
   },
   {
    "duration": 282,
    "start_time": "2021-10-08T13:22:10.650Z"
   },
   {
    "duration": 4,
    "start_time": "2021-10-08T13:22:18.430Z"
   },
   {
    "duration": 551,
    "start_time": "2021-10-08T13:22:18.437Z"
   },
   {
    "duration": 17,
    "start_time": "2021-10-08T13:22:18.990Z"
   },
   {
    "duration": 28,
    "start_time": "2021-10-08T13:22:19.010Z"
   },
   {
    "duration": 37,
    "start_time": "2021-10-08T13:22:19.040Z"
   },
   {
    "duration": 30,
    "start_time": "2021-10-08T13:22:19.080Z"
   },
   {
    "duration": 26,
    "start_time": "2021-10-08T13:22:19.114Z"
   },
   {
    "duration": 68,
    "start_time": "2021-10-08T13:22:19.143Z"
   },
   {
    "duration": 10,
    "start_time": "2021-10-08T13:22:19.213Z"
   },
   {
    "duration": 29,
    "start_time": "2021-10-08T13:22:19.226Z"
   },
   {
    "duration": 18,
    "start_time": "2021-10-08T13:22:19.257Z"
   },
   {
    "duration": 26,
    "start_time": "2021-10-08T13:22:19.277Z"
   },
   {
    "duration": 22,
    "start_time": "2021-10-08T13:22:19.305Z"
   },
   {
    "duration": 18,
    "start_time": "2021-10-08T13:22:19.329Z"
   },
   {
    "duration": 26,
    "start_time": "2021-10-08T13:22:19.349Z"
   },
   {
    "duration": 107,
    "start_time": "2021-10-08T13:22:19.377Z"
   },
   {
    "duration": 284,
    "start_time": "2021-10-08T13:22:19.486Z"
   },
   {
    "duration": -941,
    "start_time": "2021-10-08T13:22:20.713Z"
   },
   {
    "duration": 1052,
    "start_time": "2021-10-08T13:22:30.064Z"
   },
   {
    "duration": 317,
    "start_time": "2021-10-08T13:22:39.815Z"
   },
   {
    "duration": 311,
    "start_time": "2021-10-08T13:22:51.468Z"
   },
   {
    "duration": 10,
    "start_time": "2021-10-08T13:22:57.263Z"
   },
   {
    "duration": 1416,
    "start_time": "2021-10-08T13:23:18.140Z"
   },
   {
    "duration": 560,
    "start_time": "2021-10-08T13:23:19.560Z"
   },
   {
    "duration": 23,
    "start_time": "2021-10-08T13:23:20.123Z"
   },
   {
    "duration": 36,
    "start_time": "2021-10-08T13:23:20.148Z"
   },
   {
    "duration": 51,
    "start_time": "2021-10-08T13:23:20.187Z"
   },
   {
    "duration": 12,
    "start_time": "2021-10-08T13:23:20.241Z"
   },
   {
    "duration": 52,
    "start_time": "2021-10-08T13:23:20.255Z"
   },
   {
    "duration": 40,
    "start_time": "2021-10-08T13:23:20.310Z"
   },
   {
    "duration": 10,
    "start_time": "2021-10-08T13:23:20.352Z"
   },
   {
    "duration": 57,
    "start_time": "2021-10-08T13:23:20.364Z"
   },
   {
    "duration": 12,
    "start_time": "2021-10-08T13:23:20.424Z"
   },
   {
    "duration": 13,
    "start_time": "2021-10-08T13:23:20.438Z"
   },
   {
    "duration": 25,
    "start_time": "2021-10-08T13:23:20.454Z"
   },
   {
    "duration": 10,
    "start_time": "2021-10-08T13:23:20.501Z"
   },
   {
    "duration": 33,
    "start_time": "2021-10-08T13:23:20.514Z"
   },
   {
    "duration": 96,
    "start_time": "2021-10-08T13:23:56.528Z"
   },
   {
    "duration": 11,
    "start_time": "2021-10-08T13:24:33.338Z"
   },
   {
    "duration": 11,
    "start_time": "2021-10-08T13:24:41.187Z"
   },
   {
    "duration": 13,
    "start_time": "2021-10-08T13:25:51.728Z"
   },
   {
    "duration": 13,
    "start_time": "2021-10-08T13:27:12.379Z"
   },
   {
    "duration": 12,
    "start_time": "2021-10-08T13:27:21.845Z"
   },
   {
    "duration": 8,
    "start_time": "2021-10-08T13:34:20.432Z"
   },
   {
    "duration": 33,
    "start_time": "2021-10-08T14:08:11.345Z"
   },
   {
    "duration": 43,
    "start_time": "2021-10-08T14:09:27.508Z"
   },
   {
    "duration": 10,
    "start_time": "2021-10-08T14:09:29.912Z"
   },
   {
    "duration": 101,
    "start_time": "2021-10-08T14:11:26.846Z"
   },
   {
    "duration": 71,
    "start_time": "2021-10-08T14:11:27.537Z"
   },
   {
    "duration": 19,
    "start_time": "2021-10-08T14:11:28.227Z"
   },
   {
    "duration": 45,
    "start_time": "2021-10-08T14:14:25.934Z"
   },
   {
    "duration": 17,
    "start_time": "2021-10-08T14:14:26.735Z"
   },
   {
    "duration": 46,
    "start_time": "2021-10-08T14:15:25.409Z"
   },
   {
    "duration": 15,
    "start_time": "2021-10-08T14:15:27.076Z"
   },
   {
    "duration": 11,
    "start_time": "2021-10-08T14:15:34.383Z"
   },
   {
    "duration": 57,
    "start_time": "2021-10-08T14:16:57.046Z"
   },
   {
    "duration": 46,
    "start_time": "2021-10-08T14:18:56.490Z"
   },
   {
    "duration": 11,
    "start_time": "2021-10-08T14:19:09.056Z"
   },
   {
    "duration": 12,
    "start_time": "2021-10-08T14:19:14.483Z"
   },
   {
    "duration": 36,
    "start_time": "2021-10-08T14:19:26.744Z"
   },
   {
    "duration": 132,
    "start_time": "2021-10-08T14:24:56.716Z"
   },
   {
    "duration": 106,
    "start_time": "2021-10-08T14:25:03.708Z"
   },
   {
    "duration": 124,
    "start_time": "2021-10-08T17:42:25.031Z"
   },
   {
    "duration": 1123,
    "start_time": "2021-10-08T17:42:29.502Z"
   },
   {
    "duration": 448,
    "start_time": "2021-10-08T17:42:30.627Z"
   },
   {
    "duration": 23,
    "start_time": "2021-10-08T17:42:31.079Z"
   },
   {
    "duration": 22,
    "start_time": "2021-10-08T17:42:31.104Z"
   },
   {
    "duration": 61,
    "start_time": "2021-10-08T17:42:31.127Z"
   },
   {
    "duration": 11,
    "start_time": "2021-10-08T17:42:31.192Z"
   },
   {
    "duration": 18,
    "start_time": "2021-10-08T17:42:31.206Z"
   },
   {
    "duration": 57,
    "start_time": "2021-10-08T17:42:31.226Z"
   },
   {
    "duration": 7,
    "start_time": "2021-10-08T17:42:31.287Z"
   },
   {
    "duration": 21,
    "start_time": "2021-10-08T17:42:31.297Z"
   },
   {
    "duration": 17,
    "start_time": "2021-10-08T17:42:31.320Z"
   },
   {
    "duration": 21,
    "start_time": "2021-10-08T17:42:31.338Z"
   },
   {
    "duration": 25,
    "start_time": "2021-10-08T17:42:31.362Z"
   },
   {
    "duration": 21,
    "start_time": "2021-10-08T17:42:31.389Z"
   },
   {
    "duration": 27,
    "start_time": "2021-10-08T17:42:31.412Z"
   },
   {
    "duration": 116,
    "start_time": "2021-10-08T17:42:31.441Z"
   },
   {
    "duration": 17,
    "start_time": "2021-10-08T17:42:31.559Z"
   },
   {
    "duration": 16,
    "start_time": "2021-10-08T17:42:31.578Z"
   },
   {
    "duration": 71,
    "start_time": "2021-10-08T17:42:31.597Z"
   },
   {
    "duration": 155,
    "start_time": "2021-10-08T17:42:31.670Z"
   },
   {
    "duration": 105,
    "start_time": "2021-10-08T17:42:31.827Z"
   },
   {
    "duration": 97,
    "start_time": "2021-10-08T17:42:31.934Z"
   },
   {
    "duration": 121,
    "start_time": "2021-10-08T17:42:34.338Z"
   },
   {
    "duration": 51,
    "start_time": "2021-10-08T17:42:46.874Z"
   },
   {
    "duration": 63,
    "start_time": "2021-10-08T17:42:59.088Z"
   },
   {
    "duration": 68,
    "start_time": "2021-10-08T17:43:04.919Z"
   },
   {
    "duration": 52,
    "start_time": "2021-10-08T17:43:15.821Z"
   },
   {
    "duration": 18,
    "start_time": "2021-10-08T17:45:35.313Z"
   },
   {
    "duration": 8,
    "start_time": "2021-10-08T17:45:37.158Z"
   },
   {
    "duration": 22,
    "start_time": "2021-10-08T17:45:50.808Z"
   },
   {
    "duration": 22,
    "start_time": "2021-10-08T17:45:54.221Z"
   },
   {
    "duration": 109,
    "start_time": "2021-10-08T17:48:37.258Z"
   },
   {
    "duration": 748,
    "start_time": "2021-10-08T17:48:44.918Z"
   },
   {
    "duration": 8,
    "start_time": "2021-10-08T17:49:38.829Z"
   },
   {
    "duration": 1029,
    "start_time": "2021-10-08T17:49:53.584Z"
   },
   {
    "duration": 343,
    "start_time": "2021-10-08T17:50:19.310Z"
   },
   {
    "duration": 45,
    "start_time": "2021-10-08T17:50:40.666Z"
   },
   {
    "duration": 4,
    "start_time": "2021-10-08T17:50:51.001Z"
   },
   {
    "duration": 590,
    "start_time": "2021-10-08T17:50:51.007Z"
   },
   {
    "duration": 14,
    "start_time": "2021-10-08T17:50:51.599Z"
   },
   {
    "duration": 20,
    "start_time": "2021-10-08T17:50:51.615Z"
   },
   {
    "duration": 27,
    "start_time": "2021-10-08T17:50:51.637Z"
   },
   {
    "duration": 27,
    "start_time": "2021-10-08T17:50:51.666Z"
   },
   {
    "duration": 21,
    "start_time": "2021-10-08T17:50:51.695Z"
   },
   {
    "duration": 29,
    "start_time": "2021-10-08T17:50:51.719Z"
   },
   {
    "duration": 33,
    "start_time": "2021-10-08T17:50:51.751Z"
   },
   {
    "duration": 22,
    "start_time": "2021-10-08T17:50:51.786Z"
   },
   {
    "duration": 8,
    "start_time": "2021-10-08T17:50:51.809Z"
   },
   {
    "duration": 7,
    "start_time": "2021-10-08T17:50:51.819Z"
   },
   {
    "duration": 10,
    "start_time": "2021-10-08T17:50:51.828Z"
   },
   {
    "duration": 8,
    "start_time": "2021-10-08T17:50:51.881Z"
   },
   {
    "duration": 17,
    "start_time": "2021-10-08T17:50:51.893Z"
   },
   {
    "duration": 86,
    "start_time": "2021-10-08T17:50:51.912Z"
   },
   {
    "duration": 8,
    "start_time": "2021-10-08T17:50:52.000Z"
   },
   {
    "duration": 6,
    "start_time": "2021-10-08T17:50:52.010Z"
   },
   {
    "duration": 44,
    "start_time": "2021-10-08T17:50:52.018Z"
   },
   {
    "duration": 107,
    "start_time": "2021-10-08T17:50:52.077Z"
   },
   {
    "duration": 69,
    "start_time": "2021-10-08T17:50:52.186Z"
   },
   {
    "duration": 81,
    "start_time": "2021-10-08T17:50:52.256Z"
   },
   {
    "duration": 20,
    "start_time": "2021-10-08T17:50:52.340Z"
   },
   {
    "duration": 30,
    "start_time": "2021-10-08T17:50:53.781Z"
   },
   {
    "duration": 20,
    "start_time": "2021-10-08T17:50:54.425Z"
   },
   {
    "duration": 99,
    "start_time": "2021-10-08T17:51:16.138Z"
   },
   {
    "duration": 345,
    "start_time": "2021-10-08T17:51:22.768Z"
   },
   {
    "duration": 3,
    "start_time": "2021-10-08T17:51:25.131Z"
   },
   {
    "duration": 450,
    "start_time": "2021-10-08T17:51:25.136Z"
   },
   {
    "duration": 21,
    "start_time": "2021-10-08T17:51:25.588Z"
   },
   {
    "duration": 20,
    "start_time": "2021-10-08T17:51:25.611Z"
   },
   {
    "duration": 27,
    "start_time": "2021-10-08T17:51:25.633Z"
   },
   {
    "duration": 13,
    "start_time": "2021-10-08T17:51:25.686Z"
   },
   {
    "duration": 28,
    "start_time": "2021-10-08T17:51:25.701Z"
   },
   {
    "duration": 58,
    "start_time": "2021-10-08T17:51:25.731Z"
   },
   {
    "duration": 9,
    "start_time": "2021-10-08T17:51:25.792Z"
   },
   {
    "duration": 15,
    "start_time": "2021-10-08T17:51:25.803Z"
   },
   {
    "duration": 7,
    "start_time": "2021-10-08T17:51:25.821Z"
   },
   {
    "duration": 6,
    "start_time": "2021-10-08T17:51:25.830Z"
   },
   {
    "duration": 41,
    "start_time": "2021-10-08T17:51:25.838Z"
   },
   {
    "duration": 13,
    "start_time": "2021-10-08T17:51:25.881Z"
   },
   {
    "duration": 18,
    "start_time": "2021-10-08T17:51:25.897Z"
   },
   {
    "duration": 118,
    "start_time": "2021-10-08T17:51:25.917Z"
   },
   {
    "duration": 10,
    "start_time": "2021-10-08T17:51:26.038Z"
   },
   {
    "duration": 34,
    "start_time": "2021-10-08T17:51:26.050Z"
   },
   {
    "duration": 48,
    "start_time": "2021-10-08T17:51:26.087Z"
   },
   {
    "duration": 105,
    "start_time": "2021-10-08T17:51:26.137Z"
   },
   {
    "duration": 83,
    "start_time": "2021-10-08T17:51:26.244Z"
   },
   {
    "duration": 84,
    "start_time": "2021-10-08T17:51:26.328Z"
   },
   {
    "duration": 20,
    "start_time": "2021-10-08T17:51:26.414Z"
   },
   {
    "duration": 340,
    "start_time": "2021-10-08T17:51:26.436Z"
   },
   {
    "duration": 3,
    "start_time": "2021-10-08T17:51:57.203Z"
   },
   {
    "duration": 506,
    "start_time": "2021-10-08T17:51:57.208Z"
   },
   {
    "duration": 14,
    "start_time": "2021-10-08T17:51:57.717Z"
   },
   {
    "duration": 21,
    "start_time": "2021-10-08T17:51:57.733Z"
   },
   {
    "duration": 34,
    "start_time": "2021-10-08T17:51:57.756Z"
   },
   {
    "duration": 10,
    "start_time": "2021-10-08T17:51:57.792Z"
   },
   {
    "duration": 20,
    "start_time": "2021-10-08T17:51:57.804Z"
   },
   {
    "duration": 50,
    "start_time": "2021-10-08T17:51:57.826Z"
   },
   {
    "duration": 12,
    "start_time": "2021-10-08T17:51:57.879Z"
   },
   {
    "duration": 17,
    "start_time": "2021-10-08T17:51:57.900Z"
   },
   {
    "duration": 9,
    "start_time": "2021-10-08T17:51:57.920Z"
   },
   {
    "duration": 54,
    "start_time": "2021-10-08T17:51:57.931Z"
   },
   {
    "duration": 14,
    "start_time": "2021-10-08T17:51:57.988Z"
   },
   {
    "duration": 8,
    "start_time": "2021-10-08T17:51:58.005Z"
   },
   {
    "duration": 17,
    "start_time": "2021-10-08T17:51:58.015Z"
   },
   {
    "duration": 107,
    "start_time": "2021-10-08T17:51:58.033Z"
   },
   {
    "duration": 8,
    "start_time": "2021-10-08T17:51:58.141Z"
   },
   {
    "duration": 9,
    "start_time": "2021-10-08T17:51:58.151Z"
   },
   {
    "duration": 61,
    "start_time": "2021-10-08T17:51:58.162Z"
   },
   {
    "duration": 126,
    "start_time": "2021-10-08T17:51:58.225Z"
   },
   {
    "duration": 82,
    "start_time": "2021-10-08T17:51:58.353Z"
   },
   {
    "duration": 94,
    "start_time": "2021-10-08T17:51:58.437Z"
   },
   {
    "duration": 29,
    "start_time": "2021-10-08T17:51:58.533Z"
   },
   {
    "duration": 27,
    "start_time": "2021-10-08T17:51:58.577Z"
   },
   {
    "duration": 38,
    "start_time": "2021-10-08T17:52:00.970Z"
   },
   {
    "duration": 319,
    "start_time": "2021-10-08T17:52:03.487Z"
   },
   {
    "duration": 3,
    "start_time": "2021-10-08T17:52:14.565Z"
   },
   {
    "duration": 503,
    "start_time": "2021-10-08T17:52:14.570Z"
   },
   {
    "duration": 23,
    "start_time": "2021-10-08T17:52:15.076Z"
   },
   {
    "duration": 36,
    "start_time": "2021-10-08T17:52:15.102Z"
   },
   {
    "duration": 55,
    "start_time": "2021-10-08T17:52:15.140Z"
   },
   {
    "duration": 11,
    "start_time": "2021-10-08T17:52:15.198Z"
   },
   {
    "duration": 31,
    "start_time": "2021-10-08T17:52:15.211Z"
   },
   {
    "duration": 58,
    "start_time": "2021-10-08T17:52:15.245Z"
   },
   {
    "duration": 10,
    "start_time": "2021-10-08T17:52:15.306Z"
   },
   {
    "duration": 15,
    "start_time": "2021-10-08T17:52:15.318Z"
   },
   {
    "duration": 9,
    "start_time": "2021-10-08T17:52:15.334Z"
   },
   {
    "duration": 37,
    "start_time": "2021-10-08T17:52:15.345Z"
   },
   {
    "duration": 18,
    "start_time": "2021-10-08T17:52:15.385Z"
   },
   {
    "duration": 6,
    "start_time": "2021-10-08T17:52:15.404Z"
   },
   {
    "duration": 17,
    "start_time": "2021-10-08T17:52:15.412Z"
   },
   {
    "duration": 96,
    "start_time": "2021-10-08T17:52:15.430Z"
   },
   {
    "duration": 8,
    "start_time": "2021-10-08T17:52:15.528Z"
   },
   {
    "duration": 7,
    "start_time": "2021-10-08T17:52:15.538Z"
   },
   {
    "duration": 76,
    "start_time": "2021-10-08T17:52:15.547Z"
   },
   {
    "duration": 153,
    "start_time": "2021-10-08T17:52:15.626Z"
   },
   {
    "duration": 74,
    "start_time": "2021-10-08T17:52:15.782Z"
   },
   {
    "duration": 88,
    "start_time": "2021-10-08T17:52:15.858Z"
   },
   {
    "duration": 46,
    "start_time": "2021-10-08T17:52:15.948Z"
   },
   {
    "duration": 21,
    "start_time": "2021-10-08T17:52:17.747Z"
   },
   {
    "duration": 20,
    "start_time": "2021-10-08T17:52:18.655Z"
   },
   {
    "duration": 347,
    "start_time": "2021-10-08T17:52:25.736Z"
   },
   {
    "duration": 319,
    "start_time": "2021-10-08T17:53:11.134Z"
   },
   {
    "duration": 1123,
    "start_time": "2021-10-08T17:53:18.845Z"
   },
   {
    "duration": 479,
    "start_time": "2021-10-08T17:53:19.970Z"
   },
   {
    "duration": 18,
    "start_time": "2021-10-08T17:53:20.451Z"
   },
   {
    "duration": 29,
    "start_time": "2021-10-08T17:53:20.471Z"
   },
   {
    "duration": 30,
    "start_time": "2021-10-08T17:53:20.502Z"
   },
   {
    "duration": 8,
    "start_time": "2021-10-08T17:53:20.534Z"
   },
   {
    "duration": 39,
    "start_time": "2021-10-08T17:53:20.544Z"
   },
   {
    "duration": 42,
    "start_time": "2021-10-08T17:53:20.586Z"
   },
   {
    "duration": 10,
    "start_time": "2021-10-08T17:53:20.632Z"
   },
   {
    "duration": 53,
    "start_time": "2021-10-08T17:53:20.644Z"
   },
   {
    "duration": 8,
    "start_time": "2021-10-08T17:53:20.699Z"
   },
   {
    "duration": 8,
    "start_time": "2021-10-08T17:53:20.709Z"
   },
   {
    "duration": 13,
    "start_time": "2021-10-08T17:53:20.718Z"
   },
   {
    "duration": 7,
    "start_time": "2021-10-08T17:53:20.733Z"
   },
   {
    "duration": 37,
    "start_time": "2021-10-08T17:53:20.742Z"
   },
   {
    "duration": 75,
    "start_time": "2021-10-08T17:53:20.781Z"
   },
   {
    "duration": 24,
    "start_time": "2021-10-08T17:53:20.858Z"
   },
   {
    "duration": 9,
    "start_time": "2021-10-08T17:53:20.885Z"
   },
   {
    "duration": 49,
    "start_time": "2021-10-08T17:53:20.896Z"
   },
   {
    "duration": 138,
    "start_time": "2021-10-08T17:53:20.947Z"
   },
   {
    "duration": 71,
    "start_time": "2021-10-08T17:53:21.089Z"
   },
   {
    "duration": 89,
    "start_time": "2021-10-08T17:53:21.161Z"
   },
   {
    "duration": 40,
    "start_time": "2021-10-08T17:53:21.252Z"
   },
   {
    "duration": 21,
    "start_time": "2021-10-08T17:53:21.295Z"
   },
   {
    "duration": 437,
    "start_time": "2021-10-08T17:53:21.318Z"
   },
   {
    "duration": 3,
    "start_time": "2021-10-08T17:56:55.072Z"
   },
   {
    "duration": 433,
    "start_time": "2021-10-08T17:56:55.078Z"
   },
   {
    "duration": 11,
    "start_time": "2021-10-08T17:56:55.513Z"
   },
   {
    "duration": 29,
    "start_time": "2021-10-08T17:56:55.526Z"
   },
   {
    "duration": 33,
    "start_time": "2021-10-08T17:56:55.557Z"
   },
   {
    "duration": 8,
    "start_time": "2021-10-08T17:56:55.592Z"
   },
   {
    "duration": 21,
    "start_time": "2021-10-08T17:56:55.601Z"
   },
   {
    "duration": 27,
    "start_time": "2021-10-08T17:56:55.623Z"
   },
   {
    "duration": 32,
    "start_time": "2021-10-08T17:56:55.652Z"
   },
   {
    "duration": 15,
    "start_time": "2021-10-08T17:56:55.688Z"
   },
   {
    "duration": 8,
    "start_time": "2021-10-08T17:56:55.704Z"
   },
   {
    "duration": 8,
    "start_time": "2021-10-08T17:56:55.713Z"
   },
   {
    "duration": 11,
    "start_time": "2021-10-08T17:56:55.722Z"
   },
   {
    "duration": 7,
    "start_time": "2021-10-08T17:56:55.734Z"
   },
   {
    "duration": 50,
    "start_time": "2021-10-08T17:56:55.743Z"
   },
   {
    "duration": 62,
    "start_time": "2021-10-08T17:56:55.795Z"
   },
   {
    "duration": 23,
    "start_time": "2021-10-08T17:56:55.858Z"
   },
   {
    "duration": 5,
    "start_time": "2021-10-08T17:56:55.884Z"
   },
   {
    "duration": 46,
    "start_time": "2021-10-08T17:56:55.892Z"
   },
   {
    "duration": 119,
    "start_time": "2021-10-08T17:56:55.940Z"
   },
   {
    "duration": 87,
    "start_time": "2021-10-08T17:56:56.061Z"
   },
   {
    "duration": 80,
    "start_time": "2021-10-08T17:56:56.149Z"
   },
   {
    "duration": 21,
    "start_time": "2021-10-08T17:56:56.230Z"
   },
   {
    "duration": 21,
    "start_time": "2021-10-08T17:56:58.095Z"
   },
   {
    "duration": 22,
    "start_time": "2021-10-08T17:56:58.828Z"
   },
   {
    "duration": 308,
    "start_time": "2021-10-08T17:57:08.913Z"
   },
   {
    "duration": 8,
    "start_time": "2021-10-08T17:58:24.610Z"
   },
   {
    "duration": 3,
    "start_time": "2021-10-08T18:01:10.572Z"
   },
   {
    "duration": 5,
    "start_time": "2021-10-08T18:02:07.742Z"
   },
   {
    "duration": 6,
    "start_time": "2021-10-08T18:02:32.630Z"
   },
   {
    "duration": 4,
    "start_time": "2021-10-08T18:04:08.921Z"
   },
   {
    "duration": 468,
    "start_time": "2021-10-08T18:04:08.926Z"
   },
   {
    "duration": 13,
    "start_time": "2021-10-08T18:04:09.396Z"
   },
   {
    "duration": 26,
    "start_time": "2021-10-08T18:04:09.411Z"
   },
   {
    "duration": 25,
    "start_time": "2021-10-08T18:04:09.439Z"
   },
   {
    "duration": 13,
    "start_time": "2021-10-08T18:04:09.466Z"
   },
   {
    "duration": 26,
    "start_time": "2021-10-08T18:04:09.486Z"
   },
   {
    "duration": 25,
    "start_time": "2021-10-08T18:04:09.514Z"
   },
   {
    "duration": 6,
    "start_time": "2021-10-08T18:04:09.542Z"
   },
   {
    "duration": 41,
    "start_time": "2021-10-08T18:04:09.550Z"
   },
   {
    "duration": 8,
    "start_time": "2021-10-08T18:04:09.594Z"
   },
   {
    "duration": 16,
    "start_time": "2021-10-08T18:04:09.604Z"
   },
   {
    "duration": 20,
    "start_time": "2021-10-08T18:04:09.621Z"
   },
   {
    "duration": 22,
    "start_time": "2021-10-08T18:04:09.643Z"
   },
   {
    "duration": 28,
    "start_time": "2021-10-08T18:04:09.666Z"
   },
   {
    "duration": 70,
    "start_time": "2021-10-08T18:04:09.696Z"
   },
   {
    "duration": 18,
    "start_time": "2021-10-08T18:04:09.768Z"
   },
   {
    "duration": 8,
    "start_time": "2021-10-08T18:04:09.789Z"
   },
   {
    "duration": 44,
    "start_time": "2021-10-08T18:04:09.799Z"
   },
   {
    "duration": 135,
    "start_time": "2021-10-08T18:04:09.845Z"
   },
   {
    "duration": 76,
    "start_time": "2021-10-08T18:04:09.983Z"
   },
   {
    "duration": 70,
    "start_time": "2021-10-08T18:04:10.082Z"
   },
   {
    "duration": 41,
    "start_time": "2021-10-08T18:04:10.153Z"
   },
   {
    "duration": 21,
    "start_time": "2021-10-08T18:04:10.196Z"
   },
   {
    "duration": 8,
    "start_time": "2021-10-08T18:04:10.218Z"
   },
   {
    "duration": 8,
    "start_time": "2021-10-08T18:04:12.066Z"
   },
   {
    "duration": 5,
    "start_time": "2021-10-08T18:04:13.366Z"
   },
   {
    "duration": 14,
    "start_time": "2021-10-08T18:04:15.238Z"
   },
   {
    "duration": 3,
    "start_time": "2021-10-08T18:04:59.931Z"
   },
   {
    "duration": 459,
    "start_time": "2021-10-08T18:04:59.936Z"
   },
   {
    "duration": 13,
    "start_time": "2021-10-08T18:05:00.398Z"
   },
   {
    "duration": 31,
    "start_time": "2021-10-08T18:05:00.413Z"
   },
   {
    "duration": 25,
    "start_time": "2021-10-08T18:05:00.446Z"
   },
   {
    "duration": 14,
    "start_time": "2021-10-08T18:05:00.473Z"
   },
   {
    "duration": 21,
    "start_time": "2021-10-08T18:05:00.489Z"
   },
   {
    "duration": 28,
    "start_time": "2021-10-08T18:05:00.512Z"
   },
   {
    "duration": 7,
    "start_time": "2021-10-08T18:05:00.543Z"
   },
   {
    "duration": 22,
    "start_time": "2021-10-08T18:05:00.579Z"
   },
   {
    "duration": 12,
    "start_time": "2021-10-08T18:05:00.603Z"
   },
   {
    "duration": 14,
    "start_time": "2021-10-08T18:05:00.617Z"
   },
   {
    "duration": 13,
    "start_time": "2021-10-08T18:05:00.632Z"
   },
   {
    "duration": 9,
    "start_time": "2021-10-08T18:05:00.647Z"
   },
   {
    "duration": 23,
    "start_time": "2021-10-08T18:05:00.676Z"
   },
   {
    "duration": 68,
    "start_time": "2021-10-08T18:05:00.701Z"
   },
   {
    "duration": 16,
    "start_time": "2021-10-08T18:05:00.770Z"
   },
   {
    "duration": 18,
    "start_time": "2021-10-08T18:05:00.789Z"
   },
   {
    "duration": 56,
    "start_time": "2021-10-08T18:05:00.808Z"
   },
   {
    "duration": 104,
    "start_time": "2021-10-08T18:05:00.866Z"
   },
   {
    "duration": 76,
    "start_time": "2021-10-08T18:05:00.977Z"
   },
   {
    "duration": 89,
    "start_time": "2021-10-08T18:05:01.055Z"
   },
   {
    "duration": 41,
    "start_time": "2021-10-08T18:05:01.145Z"
   },
   {
    "duration": 25,
    "start_time": "2021-10-08T18:05:01.189Z"
   },
   {
    "duration": 27,
    "start_time": "2021-10-08T18:05:05.106Z"
   },
   {
    "duration": 9,
    "start_time": "2021-10-08T18:05:26.095Z"
   },
   {
    "duration": 7,
    "start_time": "2021-10-08T18:05:40.208Z"
   },
   {
    "duration": 1123,
    "start_time": "2021-10-08T18:06:08.948Z"
   },
   {
    "duration": 437,
    "start_time": "2021-10-08T18:06:10.073Z"
   },
   {
    "duration": 17,
    "start_time": "2021-10-08T18:06:10.512Z"
   },
   {
    "duration": 22,
    "start_time": "2021-10-08T18:06:10.531Z"
   },
   {
    "duration": 35,
    "start_time": "2021-10-08T18:06:10.555Z"
   },
   {
    "duration": 9,
    "start_time": "2021-10-08T18:06:10.593Z"
   },
   {
    "duration": 26,
    "start_time": "2021-10-08T18:06:10.604Z"
   },
   {
    "duration": 51,
    "start_time": "2021-10-08T18:06:10.632Z"
   },
   {
    "duration": 9,
    "start_time": "2021-10-08T18:06:10.688Z"
   },
   {
    "duration": 22,
    "start_time": "2021-10-08T18:06:10.699Z"
   },
   {
    "duration": 16,
    "start_time": "2021-10-08T18:06:10.723Z"
   },
   {
    "duration": 14,
    "start_time": "2021-10-08T18:06:10.740Z"
   },
   {
    "duration": 22,
    "start_time": "2021-10-08T18:06:10.756Z"
   },
   {
    "duration": 11,
    "start_time": "2021-10-08T18:06:10.780Z"
   },
   {
    "duration": 20,
    "start_time": "2021-10-08T18:06:10.794Z"
   },
   {
    "duration": 95,
    "start_time": "2021-10-08T18:06:10.815Z"
   },
   {
    "duration": 11,
    "start_time": "2021-10-08T18:06:10.912Z"
   },
   {
    "duration": 19,
    "start_time": "2021-10-08T18:06:10.925Z"
   },
   {
    "duration": 51,
    "start_time": "2021-10-08T18:06:10.946Z"
   },
   {
    "duration": 106,
    "start_time": "2021-10-08T18:06:10.999Z"
   },
   {
    "duration": 80,
    "start_time": "2021-10-08T18:06:11.106Z"
   },
   {
    "duration": 69,
    "start_time": "2021-10-08T18:06:11.189Z"
   },
   {
    "duration": 43,
    "start_time": "2021-10-08T18:06:11.260Z"
   },
   {
    "duration": 19,
    "start_time": "2021-10-08T18:06:11.305Z"
   },
   {
    "duration": 7,
    "start_time": "2021-10-08T18:06:11.326Z"
   },
   {
    "duration": 6,
    "start_time": "2021-10-08T18:06:11.335Z"
   },
   {
    "duration": 389,
    "start_time": "2021-10-09T08:51:13.664Z"
   },
   {
    "duration": 1372,
    "start_time": "2021-10-09T08:51:25.245Z"
   },
   {
    "duration": 526,
    "start_time": "2021-10-09T08:51:26.619Z"
   },
   {
    "duration": 22,
    "start_time": "2021-10-09T08:51:27.148Z"
   },
   {
    "duration": 29,
    "start_time": "2021-10-09T08:51:27.172Z"
   },
   {
    "duration": 60,
    "start_time": "2021-10-09T08:51:27.204Z"
   },
   {
    "duration": 12,
    "start_time": "2021-10-09T08:51:27.267Z"
   },
   {
    "duration": 26,
    "start_time": "2021-10-09T08:51:27.282Z"
   },
   {
    "duration": 73,
    "start_time": "2021-10-09T08:51:27.312Z"
   },
   {
    "duration": 10,
    "start_time": "2021-10-09T08:51:27.389Z"
   },
   {
    "duration": 25,
    "start_time": "2021-10-09T08:51:27.401Z"
   },
   {
    "duration": 32,
    "start_time": "2021-10-09T08:51:27.428Z"
   },
   {
    "duration": 12,
    "start_time": "2021-10-09T08:51:27.463Z"
   },
   {
    "duration": 27,
    "start_time": "2021-10-09T08:51:27.477Z"
   },
   {
    "duration": 19,
    "start_time": "2021-10-09T08:51:27.506Z"
   },
   {
    "duration": 47,
    "start_time": "2021-10-09T08:51:27.529Z"
   },
   {
    "duration": 108,
    "start_time": "2021-10-09T08:51:27.579Z"
   },
   {
    "duration": 14,
    "start_time": "2021-10-09T08:51:27.689Z"
   },
   {
    "duration": 11,
    "start_time": "2021-10-09T08:51:27.705Z"
   },
   {
    "duration": 79,
    "start_time": "2021-10-09T08:51:27.720Z"
   },
   {
    "duration": 144,
    "start_time": "2021-10-09T08:51:27.802Z"
   },
   {
    "duration": 105,
    "start_time": "2021-10-09T08:51:27.957Z"
   },
   {
    "duration": 100,
    "start_time": "2021-10-09T08:51:28.064Z"
   },
   {
    "duration": 30,
    "start_time": "2021-10-09T08:51:28.168Z"
   },
   {
    "duration": 29,
    "start_time": "2021-10-09T08:51:28.200Z"
   },
   {
    "duration": 36,
    "start_time": "2021-10-09T08:51:28.231Z"
   },
   {
    "duration": 12,
    "start_time": "2021-10-09T08:51:28.269Z"
   },
   {
    "duration": 10,
    "start_time": "2021-10-09T08:51:32.738Z"
   },
   {
    "duration": 7,
    "start_time": "2021-10-09T08:51:34.174Z"
   },
   {
    "duration": 390,
    "start_time": "2021-10-09T09:01:33.881Z"
   },
   {
    "duration": 2225,
    "start_time": "2021-10-09T09:02:01.339Z"
   },
   {
    "duration": 2233,
    "start_time": "2021-10-09T09:03:02.469Z"
   },
   {
    "duration": 340,
    "start_time": "2021-10-09T09:07:53.529Z"
   },
   {
    "duration": 10,
    "start_time": "2021-10-09T09:08:18.136Z"
   },
   {
    "duration": 331,
    "start_time": "2021-10-09T09:11:16.723Z"
   },
   {
    "duration": 339,
    "start_time": "2021-10-09T09:11:38.149Z"
   },
   {
    "duration": 13,
    "start_time": "2021-10-09T09:12:03.468Z"
   },
   {
    "duration": 13,
    "start_time": "2021-10-09T09:12:18.981Z"
   },
   {
    "duration": 41,
    "start_time": "2021-10-09T09:12:30.454Z"
   },
   {
    "duration": 4,
    "start_time": "2021-10-09T09:13:13.685Z"
   },
   {
    "duration": 539,
    "start_time": "2021-10-09T09:13:13.693Z"
   },
   {
    "duration": 19,
    "start_time": "2021-10-09T09:13:14.235Z"
   },
   {
    "duration": 29,
    "start_time": "2021-10-09T09:13:14.257Z"
   },
   {
    "duration": 37,
    "start_time": "2021-10-09T09:13:14.289Z"
   },
   {
    "duration": 13,
    "start_time": "2021-10-09T09:13:14.357Z"
   },
   {
    "duration": 26,
    "start_time": "2021-10-09T09:13:14.372Z"
   },
   {
    "duration": 66,
    "start_time": "2021-10-09T09:13:14.401Z"
   },
   {
    "duration": 9,
    "start_time": "2021-10-09T09:13:14.471Z"
   },
   {
    "duration": 19,
    "start_time": "2021-10-09T09:13:14.484Z"
   },
   {
    "duration": 11,
    "start_time": "2021-10-09T09:13:14.506Z"
   },
   {
    "duration": 39,
    "start_time": "2021-10-09T09:13:14.520Z"
   },
   {
    "duration": 18,
    "start_time": "2021-10-09T09:13:14.562Z"
   },
   {
    "duration": 11,
    "start_time": "2021-10-09T09:13:14.583Z"
   },
   {
    "duration": 68,
    "start_time": "2021-10-09T09:13:14.597Z"
   },
   {
    "duration": 110,
    "start_time": "2021-10-09T09:13:14.668Z"
   },
   {
    "duration": 13,
    "start_time": "2021-10-09T09:13:14.781Z"
   },
   {
    "duration": 10,
    "start_time": "2021-10-09T09:13:14.797Z"
   },
   {
    "duration": 95,
    "start_time": "2021-10-09T09:13:14.809Z"
   },
   {
    "duration": 157,
    "start_time": "2021-10-09T09:13:14.907Z"
   },
   {
    "duration": 115,
    "start_time": "2021-10-09T09:13:15.067Z"
   },
   {
    "duration": 113,
    "start_time": "2021-10-09T09:13:15.185Z"
   },
   {
    "duration": 31,
    "start_time": "2021-10-09T09:13:15.301Z"
   },
   {
    "duration": 50,
    "start_time": "2021-10-09T09:13:15.334Z"
   },
   {
    "duration": 10,
    "start_time": "2021-10-09T09:13:15.386Z"
   },
   {
    "duration": 10,
    "start_time": "2021-10-09T09:13:15.399Z"
   },
   {
    "duration": 44,
    "start_time": "2021-10-09T09:13:15.414Z"
   },
   {
    "duration": 36,
    "start_time": "2021-10-09T09:13:15.460Z"
   },
   {
    "duration": 10,
    "start_time": "2021-10-09T09:13:23.448Z"
   },
   {
    "duration": 38,
    "start_time": "2021-10-09T09:13:46.446Z"
   },
   {
    "duration": 39,
    "start_time": "2021-10-09T09:13:57.049Z"
   },
   {
    "duration": 1516,
    "start_time": "2021-10-10T07:23:36.951Z"
   },
   {
    "duration": 570,
    "start_time": "2021-10-10T07:23:38.469Z"
   },
   {
    "duration": 23,
    "start_time": "2021-10-10T07:23:39.042Z"
   },
   {
    "duration": 43,
    "start_time": "2021-10-10T07:23:39.068Z"
   },
   {
    "duration": 46,
    "start_time": "2021-10-10T07:23:39.114Z"
   },
   {
    "duration": 11,
    "start_time": "2021-10-10T07:23:39.162Z"
   },
   {
    "duration": 24,
    "start_time": "2021-10-10T07:23:39.200Z"
   },
   {
    "duration": 41,
    "start_time": "2021-10-10T07:23:39.228Z"
   },
   {
    "duration": 36,
    "start_time": "2021-10-10T07:23:39.272Z"
   },
   {
    "duration": 30,
    "start_time": "2021-10-10T07:23:39.310Z"
   },
   {
    "duration": 12,
    "start_time": "2021-10-10T07:23:39.342Z"
   },
   {
    "duration": 13,
    "start_time": "2021-10-10T07:23:39.356Z"
   },
   {
    "duration": 39,
    "start_time": "2021-10-10T07:23:39.372Z"
   },
   {
    "duration": 9,
    "start_time": "2021-10-10T07:23:39.413Z"
   },
   {
    "duration": 24,
    "start_time": "2021-10-10T07:23:39.425Z"
   },
   {
    "duration": 133,
    "start_time": "2021-10-10T07:23:39.451Z"
   },
   {
    "duration": 18,
    "start_time": "2021-10-10T07:23:39.587Z"
   },
   {
    "duration": 9,
    "start_time": "2021-10-10T07:23:39.608Z"
   },
   {
    "duration": 84,
    "start_time": "2021-10-10T07:23:39.620Z"
   },
   {
    "duration": 155,
    "start_time": "2021-10-10T07:23:39.707Z"
   },
   {
    "duration": 104,
    "start_time": "2021-10-10T07:23:39.865Z"
   },
   {
    "duration": 525,
    "start_time": "2021-10-10T07:23:42.570Z"
   },
   {
    "duration": 98,
    "start_time": "2021-10-10T07:24:08.232Z"
   },
   {
    "duration": 13,
    "start_time": "2021-10-10T07:25:21.463Z"
   },
   {
    "duration": 18,
    "start_time": "2021-10-10T07:25:53.220Z"
   },
   {
    "duration": 19,
    "start_time": "2021-10-10T07:26:16.944Z"
   },
   {
    "duration": 33,
    "start_time": "2021-10-10T07:26:18.577Z"
   },
   {
    "duration": 31,
    "start_time": "2021-10-10T07:26:22.028Z"
   },
   {
    "duration": 10,
    "start_time": "2021-10-10T07:26:23.727Z"
   },
   {
    "duration": 9,
    "start_time": "2021-10-10T07:26:28.510Z"
   },
   {
    "duration": 11,
    "start_time": "2021-10-10T07:27:06.614Z"
   },
   {
    "duration": 45,
    "start_time": "2021-10-10T07:27:49.560Z"
   },
   {
    "duration": 3,
    "start_time": "2021-10-10T07:28:32.028Z"
   },
   {
    "duration": 5,
    "start_time": "2021-10-10T07:28:58.339Z"
   },
   {
    "duration": 8,
    "start_time": "2021-10-10T07:28:58.347Z"
   },
   {
    "duration": 581,
    "start_time": "2021-10-10T07:28:58.359Z"
   },
   {
    "duration": 19,
    "start_time": "2021-10-10T07:28:58.943Z"
   },
   {
    "duration": 29,
    "start_time": "2021-10-10T07:28:58.965Z"
   },
   {
    "duration": 37,
    "start_time": "2021-10-10T07:28:58.998Z"
   },
   {
    "duration": 14,
    "start_time": "2021-10-10T07:28:59.040Z"
   },
   {
    "duration": 62,
    "start_time": "2021-10-10T07:28:59.057Z"
   },
   {
    "duration": 38,
    "start_time": "2021-10-10T07:28:59.122Z"
   },
   {
    "duration": 10,
    "start_time": "2021-10-10T07:28:59.163Z"
   },
   {
    "duration": 20,
    "start_time": "2021-10-10T07:28:59.200Z"
   },
   {
    "duration": 12,
    "start_time": "2021-10-10T07:28:59.223Z"
   },
   {
    "duration": 13,
    "start_time": "2021-10-10T07:28:59.237Z"
   },
   {
    "duration": 47,
    "start_time": "2021-10-10T07:28:59.253Z"
   },
   {
    "duration": 9,
    "start_time": "2021-10-10T07:28:59.303Z"
   },
   {
    "duration": 23,
    "start_time": "2021-10-10T07:28:59.315Z"
   },
   {
    "duration": 121,
    "start_time": "2021-10-10T07:28:59.341Z"
   },
   {
    "duration": 11,
    "start_time": "2021-10-10T07:28:59.466Z"
   },
   {
    "duration": 22,
    "start_time": "2021-10-10T07:28:59.480Z"
   },
   {
    "duration": 59,
    "start_time": "2021-10-10T07:28:59.505Z"
   },
   {
    "duration": 164,
    "start_time": "2021-10-10T07:28:59.566Z"
   },
   {
    "duration": 110,
    "start_time": "2021-10-10T07:28:59.733Z"
   },
   {
    "duration": 110,
    "start_time": "2021-10-10T07:28:59.846Z"
   },
   {
    "duration": 15,
    "start_time": "2021-10-10T07:28:59.958Z"
   },
   {
    "duration": 53,
    "start_time": "2021-10-10T07:28:59.976Z"
   },
   {
    "duration": 31,
    "start_time": "2021-10-10T07:29:00.031Z"
   },
   {
    "duration": 36,
    "start_time": "2021-10-10T07:29:00.065Z"
   },
   {
    "duration": 9,
    "start_time": "2021-10-10T07:29:00.104Z"
   },
   {
    "duration": 12,
    "start_time": "2021-10-10T07:29:00.116Z"
   },
   {
    "duration": 37,
    "start_time": "2021-10-10T07:29:06.810Z"
   },
   {
    "duration": 87,
    "start_time": "2021-10-10T07:40:23.977Z"
   },
   {
    "duration": 3,
    "start_time": "2021-10-10T07:41:00.885Z"
   },
   {
    "duration": 25,
    "start_time": "2021-10-10T07:41:00.891Z"
   },
   {
    "duration": 579,
    "start_time": "2021-10-10T07:41:00.919Z"
   },
   {
    "duration": 18,
    "start_time": "2021-10-10T07:41:01.500Z"
   },
   {
    "duration": 57,
    "start_time": "2021-10-10T07:41:01.520Z"
   },
   {
    "duration": 38,
    "start_time": "2021-10-10T07:41:01.579Z"
   },
   {
    "duration": 11,
    "start_time": "2021-10-10T07:41:01.619Z"
   },
   {
    "duration": 47,
    "start_time": "2021-10-10T07:41:01.632Z"
   },
   {
    "duration": 45,
    "start_time": "2021-10-10T07:41:01.683Z"
   },
   {
    "duration": 11,
    "start_time": "2021-10-10T07:41:01.731Z"
   },
   {
    "duration": 28,
    "start_time": "2021-10-10T07:41:01.744Z"
   },
   {
    "duration": 34,
    "start_time": "2021-10-10T07:41:01.774Z"
   },
   {
    "duration": 19,
    "start_time": "2021-10-10T07:41:01.810Z"
   },
   {
    "duration": 17,
    "start_time": "2021-10-10T07:41:01.831Z"
   },
   {
    "duration": 15,
    "start_time": "2021-10-10T07:41:01.851Z"
   },
   {
    "duration": 48,
    "start_time": "2021-10-10T07:41:01.869Z"
   },
   {
    "duration": 122,
    "start_time": "2021-10-10T07:41:01.920Z"
   },
   {
    "duration": 13,
    "start_time": "2021-10-10T07:41:02.044Z"
   },
   {
    "duration": 13,
    "start_time": "2021-10-10T07:41:02.060Z"
   },
   {
    "duration": 84,
    "start_time": "2021-10-10T07:41:02.076Z"
   },
   {
    "duration": 162,
    "start_time": "2021-10-10T07:41:02.162Z"
   },
   {
    "duration": 123,
    "start_time": "2021-10-10T07:41:02.327Z"
   },
   {
    "duration": 108,
    "start_time": "2021-10-10T07:41:02.453Z"
   },
   {
    "duration": 15,
    "start_time": "2021-10-10T07:41:02.563Z"
   },
   {
    "duration": 49,
    "start_time": "2021-10-10T07:41:02.581Z"
   },
   {
    "duration": 31,
    "start_time": "2021-10-10T07:41:02.632Z"
   },
   {
    "duration": 41,
    "start_time": "2021-10-10T07:41:02.667Z"
   },
   {
    "duration": 11,
    "start_time": "2021-10-10T07:41:02.711Z"
   },
   {
    "duration": 9,
    "start_time": "2021-10-10T07:41:02.724Z"
   },
   {
    "duration": 71,
    "start_time": "2021-10-10T07:41:02.735Z"
   },
   {
    "duration": 99,
    "start_time": "2021-10-10T07:41:02.809Z"
   },
   {
    "duration": 96,
    "start_time": "2021-10-10T07:46:55.418Z"
   },
   {
    "duration": 95,
    "start_time": "2021-10-10T07:47:29.385Z"
   },
   {
    "duration": 99,
    "start_time": "2021-10-10T07:47:49.491Z"
   },
   {
    "duration": 97,
    "start_time": "2021-10-10T07:48:25.497Z"
   },
   {
    "duration": 352,
    "start_time": "2021-10-10T07:49:12.485Z"
   },
   {
    "duration": 86,
    "start_time": "2021-10-10T07:50:37.239Z"
   },
   {
    "duration": 110,
    "start_time": "2021-10-10T07:51:06.948Z"
   },
   {
    "duration": 1311,
    "start_time": "2021-10-10T07:51:18.350Z"
   },
   {
    "duration": 4,
    "start_time": "2021-10-10T07:51:19.663Z"
   },
   {
    "duration": 553,
    "start_time": "2021-10-10T07:51:19.669Z"
   },
   {
    "duration": 22,
    "start_time": "2021-10-10T07:51:20.225Z"
   },
   {
    "duration": 28,
    "start_time": "2021-10-10T07:51:20.249Z"
   },
   {
    "duration": 49,
    "start_time": "2021-10-10T07:51:20.280Z"
   },
   {
    "duration": 12,
    "start_time": "2021-10-10T07:51:20.331Z"
   },
   {
    "duration": 26,
    "start_time": "2021-10-10T07:51:20.345Z"
   },
   {
    "duration": 61,
    "start_time": "2021-10-10T07:51:20.375Z"
   },
   {
    "duration": 10,
    "start_time": "2021-10-10T07:51:20.438Z"
   },
   {
    "duration": 22,
    "start_time": "2021-10-10T07:51:20.450Z"
   },
   {
    "duration": 37,
    "start_time": "2021-10-10T07:51:20.474Z"
   },
   {
    "duration": 20,
    "start_time": "2021-10-10T07:51:20.513Z"
   },
   {
    "duration": 20,
    "start_time": "2021-10-10T07:51:20.535Z"
   },
   {
    "duration": 11,
    "start_time": "2021-10-10T07:51:20.558Z"
   },
   {
    "duration": 50,
    "start_time": "2021-10-10T07:51:20.571Z"
   },
   {
    "duration": 120,
    "start_time": "2021-10-10T07:51:20.624Z"
   },
   {
    "duration": 14,
    "start_time": "2021-10-10T07:51:20.746Z"
   },
   {
    "duration": 13,
    "start_time": "2021-10-10T07:51:20.763Z"
   },
   {
    "duration": 80,
    "start_time": "2021-10-10T07:51:20.778Z"
   },
   {
    "duration": 159,
    "start_time": "2021-10-10T07:51:20.860Z"
   },
   {
    "duration": 109,
    "start_time": "2021-10-10T07:51:21.021Z"
   },
   {
    "duration": 116,
    "start_time": "2021-10-10T07:51:21.132Z"
   },
   {
    "duration": 15,
    "start_time": "2021-10-10T07:51:21.251Z"
   },
   {
    "duration": 50,
    "start_time": "2021-10-10T07:51:21.269Z"
   },
   {
    "duration": 30,
    "start_time": "2021-10-10T07:51:21.322Z"
   },
   {
    "duration": 10,
    "start_time": "2021-10-10T07:51:21.357Z"
   },
   {
    "duration": 36,
    "start_time": "2021-10-10T07:51:21.370Z"
   },
   {
    "duration": 8,
    "start_time": "2021-10-10T07:51:21.408Z"
   },
   {
    "duration": 37,
    "start_time": "2021-10-10T07:51:21.418Z"
   },
   {
    "duration": 101,
    "start_time": "2021-10-10T07:51:21.457Z"
   },
   {
    "duration": 105,
    "start_time": "2021-10-10T07:52:14.750Z"
   },
   {
    "duration": 105,
    "start_time": "2021-10-10T07:52:25.685Z"
   },
   {
    "duration": 100,
    "start_time": "2021-10-10T07:52:42.293Z"
   },
   {
    "duration": 5,
    "start_time": "2021-10-10T07:53:00.440Z"
   },
   {
    "duration": 5,
    "start_time": "2021-10-10T07:53:07.961Z"
   },
   {
    "duration": 8196,
    "start_time": "2021-10-10T07:54:39.999Z"
   },
   {
    "duration": 3736,
    "start_time": "2021-10-10T07:55:20.255Z"
   },
   {
    "duration": 5,
    "start_time": "2021-10-10T07:56:05.255Z"
   },
   {
    "duration": 6,
    "start_time": "2021-10-10T07:56:05.263Z"
   },
   {
    "duration": 585,
    "start_time": "2021-10-10T07:56:05.273Z"
   },
   {
    "duration": 20,
    "start_time": "2021-10-10T07:56:05.861Z"
   },
   {
    "duration": 33,
    "start_time": "2021-10-10T07:56:05.883Z"
   },
   {
    "duration": 36,
    "start_time": "2021-10-10T07:56:05.919Z"
   },
   {
    "duration": 12,
    "start_time": "2021-10-10T07:56:05.957Z"
   },
   {
    "duration": 51,
    "start_time": "2021-10-10T07:56:05.972Z"
   },
   {
    "duration": 39,
    "start_time": "2021-10-10T07:56:06.026Z"
   },
   {
    "duration": 35,
    "start_time": "2021-10-10T07:56:06.068Z"
   },
   {
    "duration": 36,
    "start_time": "2021-10-10T07:56:06.106Z"
   },
   {
    "duration": 20,
    "start_time": "2021-10-10T07:56:06.145Z"
   },
   {
    "duration": 16,
    "start_time": "2021-10-10T07:56:06.167Z"
   },
   {
    "duration": 29,
    "start_time": "2021-10-10T07:56:06.185Z"
   },
   {
    "duration": 9,
    "start_time": "2021-10-10T07:56:06.216Z"
   },
   {
    "duration": 35,
    "start_time": "2021-10-10T07:56:06.228Z"
   },
   {
    "duration": 116,
    "start_time": "2021-10-10T07:56:06.265Z"
   },
   {
    "duration": 17,
    "start_time": "2021-10-10T07:56:06.383Z"
   },
   {
    "duration": 13,
    "start_time": "2021-10-10T07:56:06.403Z"
   },
   {
    "duration": 72,
    "start_time": "2021-10-10T07:56:06.418Z"
   },
   {
    "duration": 149,
    "start_time": "2021-10-10T07:56:06.492Z"
   },
   {
    "duration": 107,
    "start_time": "2021-10-10T07:56:06.645Z"
   },
   {
    "duration": 117,
    "start_time": "2021-10-10T07:56:06.755Z"
   },
   {
    "duration": 33,
    "start_time": "2021-10-10T07:56:06.875Z"
   },
   {
    "duration": 31,
    "start_time": "2021-10-10T07:56:06.910Z"
   },
   {
    "duration": 32,
    "start_time": "2021-10-10T07:56:06.943Z"
   },
   {
    "duration": 11,
    "start_time": "2021-10-10T07:56:07.001Z"
   },
   {
    "duration": 16,
    "start_time": "2021-10-10T07:56:07.015Z"
   },
   {
    "duration": 17,
    "start_time": "2021-10-10T07:56:07.034Z"
   },
   {
    "duration": 54,
    "start_time": "2021-10-10T07:56:07.053Z"
   },
   {
    "duration": 6,
    "start_time": "2021-10-10T07:56:07.110Z"
   },
   {
    "duration": 6,
    "start_time": "2021-10-10T07:56:13.114Z"
   },
   {
    "duration": 3844,
    "start_time": "2021-10-10T07:56:38.531Z"
   },
   {
    "duration": 8339,
    "start_time": "2021-10-10T07:58:12.622Z"
   },
   {
    "duration": 1368,
    "start_time": "2021-10-10T08:03:53.297Z"
   },
   {
    "duration": 3,
    "start_time": "2021-10-10T08:03:54.669Z"
   },
   {
    "duration": 556,
    "start_time": "2021-10-10T08:03:54.675Z"
   },
   {
    "duration": 25,
    "start_time": "2021-10-10T08:03:55.234Z"
   },
   {
    "duration": 29,
    "start_time": "2021-10-10T08:03:55.261Z"
   },
   {
    "duration": 42,
    "start_time": "2021-10-10T08:03:55.292Z"
   },
   {
    "duration": 11,
    "start_time": "2021-10-10T08:03:55.336Z"
   },
   {
    "duration": 26,
    "start_time": "2021-10-10T08:03:55.349Z"
   },
   {
    "duration": 39,
    "start_time": "2021-10-10T08:03:55.401Z"
   },
   {
    "duration": 9,
    "start_time": "2021-10-10T08:03:55.443Z"
   },
   {
    "duration": 22,
    "start_time": "2021-10-10T08:03:55.455Z"
   },
   {
    "duration": 11,
    "start_time": "2021-10-10T08:03:55.501Z"
   },
   {
    "duration": 10,
    "start_time": "2021-10-10T08:03:55.514Z"
   },
   {
    "duration": 27,
    "start_time": "2021-10-10T08:03:55.527Z"
   },
   {
    "duration": 11,
    "start_time": "2021-10-10T08:03:55.556Z"
   },
   {
    "duration": 45,
    "start_time": "2021-10-10T08:03:55.570Z"
   },
   {
    "duration": 119,
    "start_time": "2021-10-10T08:03:55.617Z"
   },
   {
    "duration": 14,
    "start_time": "2021-10-10T08:03:55.738Z"
   },
   {
    "duration": 10,
    "start_time": "2021-10-10T08:03:55.754Z"
   },
   {
    "duration": 82,
    "start_time": "2021-10-10T08:03:55.767Z"
   },
   {
    "duration": 155,
    "start_time": "2021-10-10T08:03:55.852Z"
   },
   {
    "duration": 111,
    "start_time": "2021-10-10T08:03:56.009Z"
   },
   {
    "duration": 121,
    "start_time": "2021-10-10T08:03:56.122Z"
   },
   {
    "duration": 16,
    "start_time": "2021-10-10T08:03:56.245Z"
   },
   {
    "duration": 54,
    "start_time": "2021-10-10T08:03:56.263Z"
   },
   {
    "duration": 31,
    "start_time": "2021-10-10T08:03:56.320Z"
   },
   {
    "duration": 10,
    "start_time": "2021-10-10T08:03:56.355Z"
   },
   {
    "duration": 33,
    "start_time": "2021-10-10T08:03:56.368Z"
   },
   {
    "duration": 8,
    "start_time": "2021-10-10T08:03:56.404Z"
   },
   {
    "duration": 48,
    "start_time": "2021-10-10T08:03:56.414Z"
   },
   {
    "duration": 6,
    "start_time": "2021-10-10T08:03:56.464Z"
   },
   {
    "duration": 8630,
    "start_time": "2021-10-10T08:03:56.472Z"
   },
   {
    "duration": 6,
    "start_time": "2021-10-10T08:04:40.353Z"
   },
   {
    "duration": 823,
    "start_time": "2021-10-10T08:04:43.630Z"
   },
   {
    "duration": 5,
    "start_time": "2021-10-10T08:05:00.143Z"
   },
   {
    "duration": 286,
    "start_time": "2021-10-10T08:05:01.016Z"
   },
   {
    "duration": 5,
    "start_time": "2021-10-10T08:05:28.553Z"
   },
   {
    "duration": 10566,
    "start_time": "2021-10-10T08:05:30.481Z"
   },
   {
    "duration": 269,
    "start_time": "2021-10-10T08:08:41.434Z"
   },
   {
    "duration": 6,
    "start_time": "2021-10-10T08:09:32.203Z"
   },
   {
    "duration": 13,
    "start_time": "2021-10-10T08:09:44.836Z"
   },
   {
    "duration": 10,
    "start_time": "2021-10-10T08:10:00.269Z"
   },
   {
    "duration": 5,
    "start_time": "2021-10-10T08:10:46.522Z"
   },
   {
    "duration": 6,
    "start_time": "2021-10-10T08:10:59.204Z"
   },
   {
    "duration": 9092,
    "start_time": "2021-10-10T08:11:02.889Z"
   },
   {
    "duration": 6,
    "start_time": "2021-10-10T08:11:23.057Z"
   },
   {
    "duration": 8059,
    "start_time": "2021-10-10T08:11:30.531Z"
   },
   {
    "duration": 6,
    "start_time": "2021-10-10T08:11:49.173Z"
   },
   {
    "duration": 393,
    "start_time": "2021-10-10T08:11:52.207Z"
   },
   {
    "duration": 4,
    "start_time": "2021-10-10T08:12:09.603Z"
   },
   {
    "duration": 12,
    "start_time": "2021-10-10T08:12:09.609Z"
   },
   {
    "duration": 564,
    "start_time": "2021-10-10T08:12:09.624Z"
   },
   {
    "duration": 18,
    "start_time": "2021-10-10T08:12:10.190Z"
   },
   {
    "duration": 28,
    "start_time": "2021-10-10T08:12:10.210Z"
   },
   {
    "duration": 34,
    "start_time": "2021-10-10T08:12:10.241Z"
   },
   {
    "duration": 32,
    "start_time": "2021-10-10T08:12:10.278Z"
   },
   {
    "duration": 27,
    "start_time": "2021-10-10T08:12:10.313Z"
   },
   {
    "duration": 59,
    "start_time": "2021-10-10T08:12:10.342Z"
   },
   {
    "duration": 9,
    "start_time": "2021-10-10T08:12:10.404Z"
   },
   {
    "duration": 27,
    "start_time": "2021-10-10T08:12:10.416Z"
   },
   {
    "duration": 12,
    "start_time": "2021-10-10T08:12:10.446Z"
   },
   {
    "duration": 44,
    "start_time": "2021-10-10T08:12:10.460Z"
   },
   {
    "duration": 22,
    "start_time": "2021-10-10T08:12:10.507Z"
   },
   {
    "duration": 20,
    "start_time": "2021-10-10T08:12:10.531Z"
   },
   {
    "duration": 31,
    "start_time": "2021-10-10T08:12:10.553Z"
   },
   {
    "duration": 99,
    "start_time": "2021-10-10T08:12:10.587Z"
   },
   {
    "duration": 20,
    "start_time": "2021-10-10T08:12:10.688Z"
   },
   {
    "duration": 6,
    "start_time": "2021-10-10T08:12:10.713Z"
   },
   {
    "duration": 83,
    "start_time": "2021-10-10T08:12:10.722Z"
   },
   {
    "duration": 154,
    "start_time": "2021-10-10T08:12:10.807Z"
   },
   {
    "duration": 107,
    "start_time": "2021-10-10T08:12:10.964Z"
   },
   {
    "duration": 115,
    "start_time": "2021-10-10T08:12:11.073Z"
   },
   {
    "duration": 25,
    "start_time": "2021-10-10T08:12:11.191Z"
   },
   {
    "duration": 33,
    "start_time": "2021-10-10T08:12:11.218Z"
   },
   {
    "duration": 60,
    "start_time": "2021-10-10T08:12:11.253Z"
   },
   {
    "duration": 11,
    "start_time": "2021-10-10T08:12:11.315Z"
   },
   {
    "duration": 8,
    "start_time": "2021-10-10T08:12:11.328Z"
   },
   {
    "duration": 8,
    "start_time": "2021-10-10T08:12:11.338Z"
   },
   {
    "duration": 74,
    "start_time": "2021-10-10T08:12:11.348Z"
   },
   {
    "duration": 5,
    "start_time": "2021-10-10T08:12:11.424Z"
   },
   {
    "duration": 409,
    "start_time": "2021-10-10T08:12:11.431Z"
   },
   {
    "duration": 4,
    "start_time": "2021-10-10T08:37:03.478Z"
   },
   {
    "duration": 9,
    "start_time": "2021-10-10T08:37:03.486Z"
   },
   {
    "duration": 579,
    "start_time": "2021-10-10T08:37:03.499Z"
   },
   {
    "duration": 17,
    "start_time": "2021-10-10T08:37:04.081Z"
   },
   {
    "duration": 28,
    "start_time": "2021-10-10T08:37:04.100Z"
   },
   {
    "duration": 44,
    "start_time": "2021-10-10T08:37:04.130Z"
   },
   {
    "duration": 26,
    "start_time": "2021-10-10T08:37:04.176Z"
   },
   {
    "duration": 23,
    "start_time": "2021-10-10T08:37:04.204Z"
   },
   {
    "duration": 46,
    "start_time": "2021-10-10T08:37:04.231Z"
   },
   {
    "duration": 26,
    "start_time": "2021-10-10T08:37:04.281Z"
   },
   {
    "duration": 23,
    "start_time": "2021-10-10T08:37:04.310Z"
   },
   {
    "duration": 18,
    "start_time": "2021-10-10T08:37:04.336Z"
   },
   {
    "duration": 17,
    "start_time": "2021-10-10T08:37:04.356Z"
   },
   {
    "duration": 37,
    "start_time": "2021-10-10T08:37:04.376Z"
   },
   {
    "duration": 9,
    "start_time": "2021-10-10T08:37:04.416Z"
   },
   {
    "duration": 22,
    "start_time": "2021-10-10T08:37:04.427Z"
   },
   {
    "duration": 124,
    "start_time": "2021-10-10T08:37:04.452Z"
   },
   {
    "duration": 11,
    "start_time": "2021-10-10T08:37:04.578Z"
   },
   {
    "duration": 13,
    "start_time": "2021-10-10T08:37:04.592Z"
   },
   {
    "duration": 64,
    "start_time": "2021-10-10T08:37:04.608Z"
   },
   {
    "duration": 173,
    "start_time": "2021-10-10T08:37:04.675Z"
   },
   {
    "duration": 108,
    "start_time": "2021-10-10T08:37:04.850Z"
   },
   {
    "duration": 118,
    "start_time": "2021-10-10T08:37:04.960Z"
   },
   {
    "duration": 29,
    "start_time": "2021-10-10T08:37:05.080Z"
   },
   {
    "duration": 33,
    "start_time": "2021-10-10T08:37:05.112Z"
   },
   {
    "duration": 60,
    "start_time": "2021-10-10T08:37:05.150Z"
   },
   {
    "duration": 11,
    "start_time": "2021-10-10T08:37:05.213Z"
   },
   {
    "duration": 9,
    "start_time": "2021-10-10T08:37:05.227Z"
   },
   {
    "duration": 20,
    "start_time": "2021-10-10T08:37:05.239Z"
   },
   {
    "duration": 59,
    "start_time": "2021-10-10T08:37:05.262Z"
   },
   {
    "duration": 5,
    "start_time": "2021-10-10T08:37:05.324Z"
   },
   {
    "duration": 319,
    "start_time": "2021-10-10T08:37:05.332Z"
   },
   {
    "duration": 6896,
    "start_time": "2021-10-10T08:37:22.612Z"
   },
   {
    "duration": 4,
    "start_time": "2021-10-10T08:37:52.185Z"
   },
   {
    "duration": 9,
    "start_time": "2021-10-10T08:37:52.193Z"
   },
   {
    "duration": 581,
    "start_time": "2021-10-10T08:37:52.206Z"
   },
   {
    "duration": 17,
    "start_time": "2021-10-10T08:37:52.790Z"
   },
   {
    "duration": 29,
    "start_time": "2021-10-10T08:37:52.810Z"
   },
   {
    "duration": 35,
    "start_time": "2021-10-10T08:37:52.841Z"
   },
   {
    "duration": 12,
    "start_time": "2021-10-10T08:37:52.902Z"
   },
   {
    "duration": 26,
    "start_time": "2021-10-10T08:37:52.917Z"
   },
   {
    "duration": 63,
    "start_time": "2021-10-10T08:37:52.946Z"
   },
   {
    "duration": 11,
    "start_time": "2021-10-10T08:37:53.012Z"
   },
   {
    "duration": 23,
    "start_time": "2021-10-10T08:37:53.026Z"
   },
   {
    "duration": 11,
    "start_time": "2021-10-10T08:37:53.052Z"
   },
   {
    "duration": 40,
    "start_time": "2021-10-10T08:37:53.066Z"
   },
   {
    "duration": 18,
    "start_time": "2021-10-10T08:37:53.109Z"
   },
   {
    "duration": 9,
    "start_time": "2021-10-10T08:37:53.130Z"
   },
   {
    "duration": 23,
    "start_time": "2021-10-10T08:37:53.142Z"
   },
   {
    "duration": 119,
    "start_time": "2021-10-10T08:37:53.167Z"
   },
   {
    "duration": 20,
    "start_time": "2021-10-10T08:37:53.288Z"
   },
   {
    "duration": 6,
    "start_time": "2021-10-10T08:37:53.313Z"
   },
   {
    "duration": 78,
    "start_time": "2021-10-10T08:37:53.322Z"
   },
   {
    "duration": 152,
    "start_time": "2021-10-10T08:37:53.403Z"
   },
   {
    "duration": 106,
    "start_time": "2021-10-10T08:37:53.557Z"
   },
   {
    "duration": 112,
    "start_time": "2021-10-10T08:37:53.665Z"
   },
   {
    "duration": 32,
    "start_time": "2021-10-10T08:37:53.779Z"
   },
   {
    "duration": 34,
    "start_time": "2021-10-10T08:37:53.814Z"
   },
   {
    "duration": 57,
    "start_time": "2021-10-10T08:37:53.851Z"
   },
   {
    "duration": 11,
    "start_time": "2021-10-10T08:37:53.911Z"
   },
   {
    "duration": 13,
    "start_time": "2021-10-10T08:37:53.924Z"
   },
   {
    "duration": 8,
    "start_time": "2021-10-10T08:37:53.940Z"
   },
   {
    "duration": 75,
    "start_time": "2021-10-10T08:37:53.951Z"
   },
   {
    "duration": 6,
    "start_time": "2021-10-10T08:37:54.028Z"
   },
   {
    "duration": 7569,
    "start_time": "2021-10-10T08:37:54.036Z"
   },
   {
    "duration": 1348,
    "start_time": "2021-10-10T08:57:34.230Z"
   },
   {
    "duration": 4,
    "start_time": "2021-10-10T08:57:35.580Z"
   },
   {
    "duration": 689,
    "start_time": "2021-10-10T08:57:35.587Z"
   },
   {
    "duration": 22,
    "start_time": "2021-10-10T08:57:36.279Z"
   },
   {
    "duration": 27,
    "start_time": "2021-10-10T08:57:36.304Z"
   },
   {
    "duration": 39,
    "start_time": "2021-10-10T08:57:36.333Z"
   },
   {
    "duration": 38,
    "start_time": "2021-10-10T08:57:36.374Z"
   },
   {
    "duration": 45,
    "start_time": "2021-10-10T08:57:36.414Z"
   },
   {
    "duration": 47,
    "start_time": "2021-10-10T08:57:36.462Z"
   },
   {
    "duration": 10,
    "start_time": "2021-10-10T08:57:36.511Z"
   },
   {
    "duration": 22,
    "start_time": "2021-10-10T08:57:36.523Z"
   },
   {
    "duration": 11,
    "start_time": "2021-10-10T08:57:36.547Z"
   },
   {
    "duration": 50,
    "start_time": "2021-10-10T08:57:36.561Z"
   },
   {
    "duration": 18,
    "start_time": "2021-10-10T08:57:36.613Z"
   },
   {
    "duration": 9,
    "start_time": "2021-10-10T08:57:36.634Z"
   },
   {
    "duration": 55,
    "start_time": "2021-10-10T08:57:36.645Z"
   },
   {
    "duration": 115,
    "start_time": "2021-10-10T08:57:36.702Z"
   },
   {
    "duration": 16,
    "start_time": "2021-10-10T08:57:36.820Z"
   },
   {
    "duration": 10,
    "start_time": "2021-10-10T08:57:36.838Z"
   },
   {
    "duration": 90,
    "start_time": "2021-10-10T08:57:36.851Z"
   },
   {
    "duration": 158,
    "start_time": "2021-10-10T08:57:36.944Z"
   },
   {
    "duration": 105,
    "start_time": "2021-10-10T08:57:37.104Z"
   },
   {
    "duration": 117,
    "start_time": "2021-10-10T08:57:37.211Z"
   },
   {
    "duration": 16,
    "start_time": "2021-10-10T08:57:37.330Z"
   },
   {
    "duration": 56,
    "start_time": "2021-10-10T08:57:37.349Z"
   },
   {
    "duration": 33,
    "start_time": "2021-10-10T08:57:37.407Z"
   },
   {
    "duration": 11,
    "start_time": "2021-10-10T08:57:37.445Z"
   },
   {
    "duration": 8,
    "start_time": "2021-10-10T08:57:37.458Z"
   },
   {
    "duration": 37,
    "start_time": "2021-10-10T08:57:37.468Z"
   },
   {
    "duration": 36,
    "start_time": "2021-10-10T08:57:37.507Z"
   },
   {
    "duration": 6,
    "start_time": "2021-10-10T08:57:37.545Z"
   },
   {
    "duration": 7706,
    "start_time": "2021-10-10T08:57:37.553Z"
   },
   {
    "duration": 8,
    "start_time": "2021-10-10T08:58:26.868Z"
   },
   {
    "duration": 371,
    "start_time": "2021-10-10T08:58:27.736Z"
   },
   {
    "duration": 38,
    "start_time": "2021-10-10T08:59:05.233Z"
   },
   {
    "duration": 33,
    "start_time": "2021-10-10T08:59:32.980Z"
   },
   {
    "duration": 49,
    "start_time": "2021-10-10T08:59:40.832Z"
   },
   {
    "duration": 288,
    "start_time": "2021-10-10T09:02:56.451Z"
   },
   {
    "duration": 281,
    "start_time": "2021-10-10T09:03:14.708Z"
   },
   {
    "duration": 36,
    "start_time": "2021-10-10T09:03:28.985Z"
   },
   {
    "duration": 4,
    "start_time": "2021-10-10T09:05:12.483Z"
   },
   {
    "duration": 13,
    "start_time": "2021-10-10T09:05:12.490Z"
   },
   {
    "duration": 575,
    "start_time": "2021-10-10T09:05:12.506Z"
   },
   {
    "duration": 17,
    "start_time": "2021-10-10T09:05:13.084Z"
   },
   {
    "duration": 37,
    "start_time": "2021-10-10T09:05:13.104Z"
   },
   {
    "duration": 37,
    "start_time": "2021-10-10T09:05:13.145Z"
   },
   {
    "duration": 25,
    "start_time": "2021-10-10T09:05:13.185Z"
   },
   {
    "duration": 35,
    "start_time": "2021-10-10T09:05:13.212Z"
   },
   {
    "duration": 53,
    "start_time": "2021-10-10T09:05:13.250Z"
   },
   {
    "duration": 10,
    "start_time": "2021-10-10T09:05:13.305Z"
   },
   {
    "duration": 32,
    "start_time": "2021-10-10T09:05:13.317Z"
   },
   {
    "duration": 16,
    "start_time": "2021-10-10T09:05:13.351Z"
   },
   {
    "duration": 31,
    "start_time": "2021-10-10T09:05:13.369Z"
   },
   {
    "duration": 15,
    "start_time": "2021-10-10T09:05:13.404Z"
   },
   {
    "duration": 17,
    "start_time": "2021-10-10T09:05:13.421Z"
   },
   {
    "duration": 31,
    "start_time": "2021-10-10T09:05:13.440Z"
   },
   {
    "duration": 108,
    "start_time": "2021-10-10T09:05:13.474Z"
   },
   {
    "duration": 24,
    "start_time": "2021-10-10T09:05:13.585Z"
   },
   {
    "duration": 20,
    "start_time": "2021-10-10T09:05:13.611Z"
   },
   {
    "duration": 68,
    "start_time": "2021-10-10T09:05:13.633Z"
   },
   {
    "duration": 148,
    "start_time": "2021-10-10T09:05:13.704Z"
   },
   {
    "duration": 99,
    "start_time": "2021-10-10T09:05:13.854Z"
   },
   {
    "duration": 117,
    "start_time": "2021-10-10T09:05:13.955Z"
   },
   {
    "duration": 28,
    "start_time": "2021-10-10T09:05:14.074Z"
   },
   {
    "duration": 31,
    "start_time": "2021-10-10T09:05:14.105Z"
   },
   {
    "duration": 31,
    "start_time": "2021-10-10T09:05:14.138Z"
   },
   {
    "duration": 35,
    "start_time": "2021-10-10T09:05:14.171Z"
   },
   {
    "duration": 9,
    "start_time": "2021-10-10T09:05:14.209Z"
   },
   {
    "duration": 22,
    "start_time": "2021-10-10T09:05:14.220Z"
   },
   {
    "duration": 59,
    "start_time": "2021-10-10T09:05:14.244Z"
   },
   {
    "duration": 6,
    "start_time": "2021-10-10T09:05:14.305Z"
   },
   {
    "duration": 397,
    "start_time": "2021-10-10T09:05:14.313Z"
   },
   {
    "duration": 3,
    "start_time": "2021-10-10T09:05:14.712Z"
   },
   {
    "duration": 161,
    "start_time": "2021-10-10T09:13:00.790Z"
   },
   {
    "duration": 691,
    "start_time": "2021-10-10T09:13:36.694Z"
   },
   {
    "duration": 1173,
    "start_time": "2021-10-10T09:14:00.076Z"
   },
   {
    "duration": 669,
    "start_time": "2021-10-10T09:15:15.502Z"
   },
   {
    "duration": 1795,
    "start_time": "2021-10-10T09:15:41.883Z"
   },
   {
    "duration": 660,
    "start_time": "2021-10-10T09:16:26.497Z"
   },
   {
    "duration": 153,
    "start_time": "2021-10-10T09:16:44.788Z"
   },
   {
    "duration": 2489,
    "start_time": "2021-10-10T09:17:48.640Z"
   },
   {
    "duration": 659,
    "start_time": "2021-10-10T09:18:17.016Z"
   },
   {
    "duration": 150,
    "start_time": "2021-10-10T09:18:39.970Z"
   },
   {
    "duration": 144,
    "start_time": "2021-10-10T09:19:28.966Z"
   },
   {
    "duration": 150,
    "start_time": "2021-10-10T09:19:34.650Z"
   },
   {
    "duration": 707,
    "start_time": "2021-10-10T09:21:01.810Z"
   },
   {
    "duration": 1330,
    "start_time": "2021-10-10T16:10:48.194Z"
   },
   {
    "duration": 3,
    "start_time": "2021-10-10T16:10:49.527Z"
   },
   {
    "duration": 520,
    "start_time": "2021-10-10T16:10:49.534Z"
   },
   {
    "duration": 23,
    "start_time": "2021-10-10T16:10:50.056Z"
   },
   {
    "duration": 26,
    "start_time": "2021-10-10T16:10:50.081Z"
   },
   {
    "duration": 67,
    "start_time": "2021-10-10T16:10:50.109Z"
   },
   {
    "duration": 12,
    "start_time": "2021-10-10T16:10:50.178Z"
   },
   {
    "duration": 24,
    "start_time": "2021-10-10T16:10:50.193Z"
   },
   {
    "duration": 66,
    "start_time": "2021-10-10T16:10:50.219Z"
   },
   {
    "duration": 9,
    "start_time": "2021-10-10T16:10:50.287Z"
   },
   {
    "duration": 28,
    "start_time": "2021-10-10T16:10:50.298Z"
   },
   {
    "duration": 37,
    "start_time": "2021-10-10T16:10:50.329Z"
   },
   {
    "duration": 11,
    "start_time": "2021-10-10T16:10:50.369Z"
   },
   {
    "duration": 16,
    "start_time": "2021-10-10T16:10:50.383Z"
   },
   {
    "duration": 26,
    "start_time": "2021-10-10T16:10:50.402Z"
   },
   {
    "duration": 46,
    "start_time": "2021-10-10T16:10:50.431Z"
   },
   {
    "duration": 111,
    "start_time": "2021-10-10T16:10:50.479Z"
   },
   {
    "duration": 12,
    "start_time": "2021-10-10T16:10:50.593Z"
   },
   {
    "duration": 11,
    "start_time": "2021-10-10T16:10:50.607Z"
   },
   {
    "duration": 74,
    "start_time": "2021-10-10T16:10:50.620Z"
   },
   {
    "duration": 141,
    "start_time": "2021-10-10T16:10:50.696Z"
   },
   {
    "duration": 104,
    "start_time": "2021-10-10T16:10:50.840Z"
   },
   {
    "duration": 114,
    "start_time": "2021-10-10T16:10:50.949Z"
   },
   {
    "duration": 17,
    "start_time": "2021-10-10T16:10:51.065Z"
   },
   {
    "duration": 32,
    "start_time": "2021-10-10T16:10:51.084Z"
   },
   {
    "duration": 61,
    "start_time": "2021-10-10T16:10:51.118Z"
   },
   {
    "duration": 11,
    "start_time": "2021-10-10T16:10:51.181Z"
   },
   {
    "duration": 8,
    "start_time": "2021-10-10T16:10:51.194Z"
   },
   {
    "duration": 9,
    "start_time": "2021-10-10T16:10:51.204Z"
   },
   {
    "duration": 74,
    "start_time": "2021-10-10T16:10:51.216Z"
   },
   {
    "duration": 5,
    "start_time": "2021-10-10T16:10:51.293Z"
   },
   {
    "duration": 383,
    "start_time": "2021-10-10T16:10:51.300Z"
   },
   {
    "duration": 3,
    "start_time": "2021-10-10T16:10:51.685Z"
   },
   {
    "duration": 869,
    "start_time": "2021-10-10T16:10:51.690Z"
   },
   {
    "duration": 152,
    "start_time": "2021-10-10T16:11:05.069Z"
   },
   {
    "duration": 764,
    "start_time": "2021-10-10T16:12:15.695Z"
   },
   {
    "duration": 149,
    "start_time": "2021-10-10T16:12:34.914Z"
   },
   {
    "duration": 1068,
    "start_time": "2021-10-10T16:13:26.535Z"
   },
   {
    "duration": 795,
    "start_time": "2021-10-10T16:14:46.178Z"
   },
   {
    "duration": 793,
    "start_time": "2021-10-10T16:16:01.513Z"
   },
   {
    "duration": 31,
    "start_time": "2021-10-10T16:18:47.007Z"
   },
   {
    "duration": 30,
    "start_time": "2021-10-10T16:19:02.278Z"
   },
   {
    "duration": 32,
    "start_time": "2021-10-10T16:19:12.862Z"
   },
   {
    "duration": 290,
    "start_time": "2021-10-10T16:20:48.726Z"
   },
   {
    "duration": 32,
    "start_time": "2021-10-10T16:21:30.684Z"
   },
   {
    "duration": 391,
    "start_time": "2021-10-10T16:24:07.972Z"
   },
   {
    "duration": 304,
    "start_time": "2021-10-10T16:24:18.207Z"
   },
   {
    "duration": 8,
    "start_time": "2021-10-10T16:29:29.874Z"
   },
   {
    "duration": 31,
    "start_time": "2021-10-10T16:30:04.179Z"
   },
   {
    "duration": 317,
    "start_time": "2021-10-10T16:31:04.794Z"
   },
   {
    "duration": 312,
    "start_time": "2021-10-10T16:31:48.695Z"
   },
   {
    "duration": 328,
    "start_time": "2021-10-10T16:33:46.787Z"
   },
   {
    "duration": 347,
    "start_time": "2021-10-10T16:34:00.526Z"
   },
   {
    "duration": 365,
    "start_time": "2021-10-10T16:34:12.417Z"
   },
   {
    "duration": 773,
    "start_time": "2021-10-10T16:34:56.195Z"
   },
   {
    "duration": 313,
    "start_time": "2021-10-10T16:36:14.948Z"
   },
   {
    "duration": 295,
    "start_time": "2021-10-10T16:36:43.827Z"
   },
   {
    "duration": 335,
    "start_time": "2021-10-10T16:37:30.595Z"
   },
   {
    "duration": 303,
    "start_time": "2021-10-10T16:37:50.725Z"
   },
   {
    "duration": 354,
    "start_time": "2021-10-10T16:38:04.108Z"
   },
   {
    "duration": 348,
    "start_time": "2021-10-10T16:38:21.809Z"
   },
   {
    "duration": 316,
    "start_time": "2021-10-10T16:40:31.496Z"
   },
   {
    "duration": 728,
    "start_time": "2021-10-10T16:40:59.193Z"
   },
   {
    "duration": 440,
    "start_time": "2021-10-10T16:42:30.873Z"
   },
   {
    "duration": 351,
    "start_time": "2021-10-10T16:43:58.721Z"
   },
   {
    "duration": 386,
    "start_time": "2021-10-10T16:44:41.481Z"
   },
   {
    "duration": 327,
    "start_time": "2021-10-10T16:45:08.545Z"
   },
   {
    "duration": 304,
    "start_time": "2021-10-10T16:46:35.180Z"
   },
   {
    "duration": 346,
    "start_time": "2021-10-10T16:46:55.511Z"
   },
   {
    "duration": 289,
    "start_time": "2021-10-10T16:47:39.567Z"
   },
   {
    "duration": 35,
    "start_time": "2021-10-10T16:57:10.184Z"
   },
   {
    "duration": 32,
    "start_time": "2021-10-10T16:57:36.615Z"
   },
   {
    "duration": 32,
    "start_time": "2021-10-10T16:57:46.019Z"
   },
   {
    "duration": 1023,
    "start_time": "2021-10-11T09:19:41.287Z"
   },
   {
    "duration": 2,
    "start_time": "2021-10-11T09:19:42.312Z"
   },
   {
    "duration": 366,
    "start_time": "2021-10-11T09:19:42.316Z"
   },
   {
    "duration": 15,
    "start_time": "2021-10-11T09:19:42.684Z"
   },
   {
    "duration": 19,
    "start_time": "2021-10-11T09:19:42.701Z"
   },
   {
    "duration": 27,
    "start_time": "2021-10-11T09:19:42.722Z"
   },
   {
    "duration": 8,
    "start_time": "2021-10-11T09:19:42.751Z"
   },
   {
    "duration": 17,
    "start_time": "2021-10-11T09:19:42.762Z"
   },
   {
    "duration": 26,
    "start_time": "2021-10-11T09:19:42.782Z"
   },
   {
    "duration": 34,
    "start_time": "2021-10-11T09:19:42.810Z"
   },
   {
    "duration": 16,
    "start_time": "2021-10-11T09:19:42.846Z"
   },
   {
    "duration": 7,
    "start_time": "2021-10-11T09:19:42.864Z"
   },
   {
    "duration": 8,
    "start_time": "2021-10-11T09:19:42.874Z"
   },
   {
    "duration": 11,
    "start_time": "2021-10-11T09:19:42.883Z"
   },
   {
    "duration": 7,
    "start_time": "2021-10-11T09:19:42.896Z"
   },
   {
    "duration": 14,
    "start_time": "2021-10-11T09:19:42.944Z"
   },
   {
    "duration": 62,
    "start_time": "2021-10-11T09:19:42.960Z"
   },
   {
    "duration": 27,
    "start_time": "2021-10-11T09:19:43.024Z"
   },
   {
    "duration": 6,
    "start_time": "2021-10-11T09:19:43.052Z"
   },
   {
    "duration": 41,
    "start_time": "2021-10-11T09:19:43.060Z"
   },
   {
    "duration": 107,
    "start_time": "2021-10-11T09:19:43.103Z"
   },
   {
    "duration": 78,
    "start_time": "2021-10-11T09:19:43.211Z"
   },
   {
    "duration": 93,
    "start_time": "2021-10-11T09:19:43.292Z"
   },
   {
    "duration": 10,
    "start_time": "2021-10-11T09:19:43.387Z"
   },
   {
    "duration": 18,
    "start_time": "2021-10-11T09:19:43.399Z"
   },
   {
    "duration": 26,
    "start_time": "2021-10-11T09:19:43.419Z"
   },
   {
    "duration": 7,
    "start_time": "2021-10-11T09:19:43.446Z"
   },
   {
    "duration": 6,
    "start_time": "2021-10-11T09:19:43.455Z"
   },
   {
    "duration": 6,
    "start_time": "2021-10-11T09:19:43.462Z"
   },
   {
    "duration": 27,
    "start_time": "2021-10-11T09:19:43.470Z"
   },
   {
    "duration": 4,
    "start_time": "2021-10-11T09:19:43.498Z"
   },
   {
    "duration": 237,
    "start_time": "2021-10-11T09:19:43.503Z"
   },
   {
    "duration": 3,
    "start_time": "2021-10-11T09:19:43.744Z"
   },
   {
    "duration": 95,
    "start_time": "2021-10-11T09:19:43.748Z"
   },
   {
    "duration": 76,
    "start_time": "2021-10-11T09:20:15.993Z"
   },
   {
    "duration": 23,
    "start_time": "2021-10-11T09:20:31.951Z"
   },
   {
    "duration": 298,
    "start_time": "2021-10-11T09:21:07.601Z"
   },
   {
    "duration": 239,
    "start_time": "2021-10-11T09:21:54.572Z"
   },
   {
    "duration": 24,
    "start_time": "2021-10-11T09:22:09.662Z"
   },
   {
    "duration": 989,
    "start_time": "2021-10-11T12:08:03.374Z"
   },
   {
    "duration": 3,
    "start_time": "2021-10-11T12:08:04.365Z"
   },
   {
    "duration": 374,
    "start_time": "2021-10-11T12:08:04.369Z"
   },
   {
    "duration": 15,
    "start_time": "2021-10-11T12:08:04.745Z"
   },
   {
    "duration": 20,
    "start_time": "2021-10-11T12:08:04.761Z"
   },
   {
    "duration": 27,
    "start_time": "2021-10-11T12:08:04.783Z"
   },
   {
    "duration": 7,
    "start_time": "2021-10-11T12:08:04.811Z"
   },
   {
    "duration": 18,
    "start_time": "2021-10-11T12:08:04.819Z"
   },
   {
    "duration": 27,
    "start_time": "2021-10-11T12:08:04.839Z"
   },
   {
    "duration": 6,
    "start_time": "2021-10-11T12:08:04.868Z"
   },
   {
    "duration": 35,
    "start_time": "2021-10-11T12:08:04.875Z"
   },
   {
    "duration": 6,
    "start_time": "2021-10-11T12:08:04.912Z"
   },
   {
    "duration": 9,
    "start_time": "2021-10-11T12:08:04.922Z"
   },
   {
    "duration": 11,
    "start_time": "2021-10-11T12:08:04.932Z"
   },
   {
    "duration": 8,
    "start_time": "2021-10-11T12:08:04.944Z"
   },
   {
    "duration": 14,
    "start_time": "2021-10-11T12:08:04.954Z"
   },
   {
    "duration": 90,
    "start_time": "2021-10-11T12:08:04.970Z"
   },
   {
    "duration": 9,
    "start_time": "2021-10-11T12:08:05.062Z"
   },
   {
    "duration": 13,
    "start_time": "2021-10-11T12:08:05.073Z"
   },
   {
    "duration": 52,
    "start_time": "2021-10-11T12:08:05.088Z"
   },
   {
    "duration": 105,
    "start_time": "2021-10-11T12:08:05.142Z"
   },
   {
    "duration": 77,
    "start_time": "2021-10-11T12:08:05.249Z"
   },
   {
    "duration": 73,
    "start_time": "2021-10-11T12:08:05.328Z"
   },
   {
    "duration": 11,
    "start_time": "2021-10-11T12:08:05.402Z"
   },
   {
    "duration": 21,
    "start_time": "2021-10-11T12:08:05.414Z"
   },
   {
    "duration": 19,
    "start_time": "2021-10-11T12:08:05.436Z"
   },
   {
    "duration": 7,
    "start_time": "2021-10-11T12:08:05.458Z"
   },
   {
    "duration": 37,
    "start_time": "2021-10-11T12:08:05.467Z"
   },
   {
    "duration": 6,
    "start_time": "2021-10-11T12:08:05.506Z"
   },
   {
    "duration": 24,
    "start_time": "2021-10-11T12:08:05.513Z"
   },
   {
    "duration": 4,
    "start_time": "2021-10-11T12:08:05.538Z"
   },
   {
    "duration": 229,
    "start_time": "2021-10-11T12:08:05.543Z"
   },
   {
    "duration": 33,
    "start_time": "2021-10-11T12:08:05.774Z"
   },
   {
    "duration": 278,
    "start_time": "2021-10-11T12:08:05.809Z"
   },
   {
    "duration": 165,
    "start_time": "2021-10-11T20:06:24.443Z"
   },
   {
    "duration": 1017,
    "start_time": "2021-10-11T20:06:29.569Z"
   },
   {
    "duration": 3,
    "start_time": "2021-10-11T20:06:30.588Z"
   },
   {
    "duration": 400,
    "start_time": "2021-10-11T20:06:30.593Z"
   },
   {
    "duration": 16,
    "start_time": "2021-10-11T20:06:30.995Z"
   },
   {
    "duration": 19,
    "start_time": "2021-10-11T20:06:31.013Z"
   },
   {
    "duration": 29,
    "start_time": "2021-10-11T20:06:31.033Z"
   },
   {
    "duration": 8,
    "start_time": "2021-10-11T20:06:31.063Z"
   },
   {
    "duration": 38,
    "start_time": "2021-10-11T20:06:31.072Z"
   },
   {
    "duration": 28,
    "start_time": "2021-10-11T20:06:31.113Z"
   },
   {
    "duration": 7,
    "start_time": "2021-10-11T20:06:31.143Z"
   },
   {
    "duration": 17,
    "start_time": "2021-10-11T20:06:31.151Z"
   },
   {
    "duration": 7,
    "start_time": "2021-10-11T20:06:31.170Z"
   },
   {
    "duration": 27,
    "start_time": "2021-10-11T20:06:31.178Z"
   },
   {
    "duration": 13,
    "start_time": "2021-10-11T20:06:31.206Z"
   },
   {
    "duration": 5,
    "start_time": "2021-10-11T20:06:31.220Z"
   },
   {
    "duration": 17,
    "start_time": "2021-10-11T20:06:31.227Z"
   },
   {
    "duration": 93,
    "start_time": "2021-10-11T20:06:31.246Z"
   },
   {
    "duration": 10,
    "start_time": "2021-10-11T20:06:31.340Z"
   },
   {
    "duration": 9,
    "start_time": "2021-10-11T20:06:31.352Z"
   },
   {
    "duration": 51,
    "start_time": "2021-10-11T20:06:31.362Z"
   },
   {
    "duration": 108,
    "start_time": "2021-10-11T20:06:31.414Z"
   },
   {
    "duration": 77,
    "start_time": "2021-10-11T20:06:31.524Z"
   },
   {
    "duration": 75,
    "start_time": "2021-10-11T20:06:31.602Z"
   },
   {
    "duration": 28,
    "start_time": "2021-10-11T20:06:31.678Z"
   },
   {
    "duration": 21,
    "start_time": "2021-10-11T20:06:31.707Z"
   },
   {
    "duration": 18,
    "start_time": "2021-10-11T20:06:31.730Z"
   },
   {
    "duration": 7,
    "start_time": "2021-10-11T20:06:31.751Z"
   },
   {
    "duration": 5,
    "start_time": "2021-10-11T20:06:31.760Z"
   },
   {
    "duration": 36,
    "start_time": "2021-10-11T20:06:31.767Z"
   },
   {
    "duration": 26,
    "start_time": "2021-10-11T20:06:31.804Z"
   },
   {
    "duration": 4,
    "start_time": "2021-10-11T20:06:31.831Z"
   },
   {
    "duration": 222,
    "start_time": "2021-10-11T20:06:31.837Z"
   },
   {
    "duration": 24,
    "start_time": "2021-10-11T20:06:32.061Z"
   },
   {
    "duration": 19,
    "start_time": "2021-10-11T20:06:32.086Z"
   },
   {
    "duration": 9,
    "start_time": "2021-10-11T20:11:20.802Z"
   },
   {
    "duration": 9,
    "start_time": "2021-10-11T20:11:28.481Z"
   },
   {
    "duration": 10,
    "start_time": "2021-10-11T20:11:34.543Z"
   },
   {
    "duration": 8,
    "start_time": "2021-10-11T20:19:12.545Z"
   },
   {
    "duration": 8,
    "start_time": "2021-10-11T20:19:22.087Z"
   },
   {
    "duration": 179,
    "start_time": "2021-10-11T20:19:42.777Z"
   },
   {
    "duration": 137,
    "start_time": "2021-10-11T20:20:04.597Z"
   },
   {
    "duration": 8,
    "start_time": "2021-10-11T20:20:15.599Z"
   },
   {
    "duration": 8,
    "start_time": "2021-10-11T20:23:53.414Z"
   },
   {
    "duration": 8,
    "start_time": "2021-10-11T20:24:02.489Z"
   },
   {
    "duration": 9,
    "start_time": "2021-10-11T20:24:23.935Z"
   },
   {
    "duration": 126,
    "start_time": "2021-10-11T20:24:33.197Z"
   },
   {
    "duration": 8,
    "start_time": "2021-10-11T20:24:55.038Z"
   },
   {
    "duration": 8,
    "start_time": "2021-10-11T20:25:56.034Z"
   },
   {
    "duration": 13,
    "start_time": "2021-10-11T20:27:43.644Z"
   },
   {
    "duration": 14,
    "start_time": "2021-10-11T20:27:52.434Z"
   },
   {
    "duration": 14,
    "start_time": "2021-10-11T20:27:59.814Z"
   },
   {
    "duration": 13,
    "start_time": "2021-10-11T20:28:10.639Z"
   },
   {
    "duration": 13,
    "start_time": "2021-10-11T20:28:16.678Z"
   },
   {
    "duration": 13,
    "start_time": "2021-10-11T20:28:21.315Z"
   },
   {
    "duration": 16,
    "start_time": "2021-10-11T20:28:28.089Z"
   },
   {
    "duration": 14,
    "start_time": "2021-10-11T20:28:33.135Z"
   },
   {
    "duration": 3,
    "start_time": "2021-10-11T20:29:47.795Z"
   },
   {
    "duration": 13,
    "start_time": "2021-10-11T20:33:15.895Z"
   },
   {
    "duration": 165,
    "start_time": "2021-10-11T20:50:03.118Z"
   },
   {
    "duration": 12,
    "start_time": "2021-10-11T20:50:11.905Z"
   },
   {
    "duration": 3,
    "start_time": "2021-10-11T20:50:22.788Z"
   },
   {
    "duration": 138,
    "start_time": "2021-10-11T20:50:23.237Z"
   },
   {
    "duration": 3,
    "start_time": "2021-10-11T20:50:53.556Z"
   },
   {
    "duration": 128,
    "start_time": "2021-10-11T20:50:54.013Z"
   },
   {
    "duration": 213,
    "start_time": "2021-10-11T20:51:14.397Z"
   },
   {
    "duration": 227,
    "start_time": "2021-10-11T20:53:14.959Z"
   },
   {
    "duration": 127,
    "start_time": "2021-10-11T20:55:19.276Z"
   },
   {
    "duration": 3,
    "start_time": "2021-10-11T20:56:31.151Z"
   },
   {
    "duration": 482,
    "start_time": "2021-10-11T20:56:32.489Z"
   },
   {
    "duration": 4,
    "start_time": "2021-10-11T20:58:11.084Z"
   },
   {
    "duration": 443,
    "start_time": "2021-10-11T20:58:12.168Z"
   },
   {
    "duration": 4,
    "start_time": "2021-10-11T20:58:19.647Z"
   },
   {
    "duration": 218,
    "start_time": "2021-10-11T20:58:20.053Z"
   },
   {
    "duration": 3,
    "start_time": "2021-10-11T20:59:21.314Z"
   },
   {
    "duration": 222,
    "start_time": "2021-10-11T20:59:21.817Z"
   },
   {
    "duration": 3,
    "start_time": "2021-10-11T20:59:41.858Z"
   },
   {
    "duration": 217,
    "start_time": "2021-10-11T20:59:42.197Z"
   },
   {
    "duration": 213,
    "start_time": "2021-10-11T21:00:36.117Z"
   },
   {
    "duration": 283,
    "start_time": "2021-10-11T21:02:14.133Z"
   },
   {
    "duration": 3,
    "start_time": "2021-10-11T21:02:49.564Z"
   },
   {
    "duration": 210,
    "start_time": "2021-10-11T21:02:51.038Z"
   },
   {
    "duration": 3,
    "start_time": "2021-10-11T21:04:43.196Z"
   },
   {
    "duration": 215,
    "start_time": "2021-10-11T21:04:43.433Z"
   },
   {
    "duration": 4,
    "start_time": "2021-10-11T21:05:00.234Z"
   },
   {
    "duration": 238,
    "start_time": "2021-10-11T21:05:01.891Z"
   },
   {
    "duration": 9,
    "start_time": "2021-10-11T21:09:36.271Z"
   },
   {
    "duration": 222,
    "start_time": "2021-10-11T21:10:34.307Z"
   },
   {
    "duration": 4,
    "start_time": "2021-10-11T21:11:01.663Z"
   },
   {
    "duration": 544,
    "start_time": "2021-10-11T21:11:02.055Z"
   },
   {
    "duration": 4,
    "start_time": "2021-10-11T21:11:08.957Z"
   },
   {
    "duration": 230,
    "start_time": "2021-10-11T21:11:09.375Z"
   },
   {
    "duration": 10,
    "start_time": "2021-10-11T21:11:10.666Z"
   },
   {
    "duration": 220,
    "start_time": "2021-10-11T21:11:11.327Z"
   },
   {
    "duration": 10,
    "start_time": "2021-10-11T21:14:24.174Z"
   },
   {
    "duration": 224,
    "start_time": "2021-10-11T21:14:58.639Z"
   },
   {
    "duration": 229,
    "start_time": "2021-10-11T21:15:48.619Z"
   },
   {
    "duration": 221,
    "start_time": "2021-10-11T21:32:53.120Z"
   },
   {
    "duration": 314,
    "start_time": "2021-10-11T21:37:03.741Z"
   },
   {
    "duration": 239,
    "start_time": "2021-10-11T21:37:30.298Z"
   },
   {
    "duration": 5,
    "start_time": "2021-10-11T21:43:26.482Z"
   },
   {
    "duration": 5,
    "start_time": "2021-10-11T21:44:53.336Z"
   },
   {
    "duration": 8,
    "start_time": "2021-10-11T21:50:27.877Z"
   },
   {
    "duration": 1002,
    "start_time": "2021-10-11T22:17:34.477Z"
   },
   {
    "duration": 3,
    "start_time": "2021-10-11T22:17:35.481Z"
   },
   {
    "duration": 397,
    "start_time": "2021-10-11T22:17:35.485Z"
   },
   {
    "duration": 18,
    "start_time": "2021-10-11T22:17:35.884Z"
   },
   {
    "duration": 20,
    "start_time": "2021-10-11T22:17:35.904Z"
   },
   {
    "duration": 29,
    "start_time": "2021-10-11T22:17:35.925Z"
   },
   {
    "duration": 7,
    "start_time": "2021-10-11T22:17:35.956Z"
   },
   {
    "duration": 39,
    "start_time": "2021-10-11T22:17:35.965Z"
   },
   {
    "duration": 27,
    "start_time": "2021-10-11T22:17:36.006Z"
   },
   {
    "duration": 6,
    "start_time": "2021-10-11T22:17:36.035Z"
   },
   {
    "duration": 14,
    "start_time": "2021-10-11T22:17:36.043Z"
   },
   {
    "duration": 6,
    "start_time": "2021-10-11T22:17:36.059Z"
   },
   {
    "duration": 33,
    "start_time": "2021-10-11T22:17:36.067Z"
   },
   {
    "duration": 13,
    "start_time": "2021-10-11T22:17:36.102Z"
   },
   {
    "duration": 7,
    "start_time": "2021-10-11T22:17:36.116Z"
   },
   {
    "duration": 14,
    "start_time": "2021-10-11T22:17:36.125Z"
   },
   {
    "duration": 81,
    "start_time": "2021-10-11T22:17:36.140Z"
   },
   {
    "duration": 10,
    "start_time": "2021-10-11T22:17:36.222Z"
   },
   {
    "duration": 8,
    "start_time": "2021-10-11T22:17:36.233Z"
   },
   {
    "duration": 58,
    "start_time": "2021-10-11T22:17:36.242Z"
   },
   {
    "duration": 101,
    "start_time": "2021-10-11T22:17:36.301Z"
   },
   {
    "duration": 64,
    "start_time": "2021-10-11T22:17:36.404Z"
   },
   {
    "duration": 79,
    "start_time": "2021-10-11T22:17:36.470Z"
   },
   {
    "duration": 11,
    "start_time": "2021-10-11T22:17:36.550Z"
   },
   {
    "duration": 41,
    "start_time": "2021-10-11T22:17:36.562Z"
   },
   {
    "duration": 20,
    "start_time": "2021-10-11T22:17:36.604Z"
   },
   {
    "duration": 7,
    "start_time": "2021-10-11T22:17:36.627Z"
   },
   {
    "duration": 7,
    "start_time": "2021-10-11T22:17:36.636Z"
   },
   {
    "duration": 5,
    "start_time": "2021-10-11T22:17:36.645Z"
   },
   {
    "duration": 50,
    "start_time": "2021-10-11T22:17:36.652Z"
   },
   {
    "duration": 4,
    "start_time": "2021-10-11T22:17:36.703Z"
   },
   {
    "duration": 213,
    "start_time": "2021-10-11T22:17:36.708Z"
   },
   {
    "duration": 25,
    "start_time": "2021-10-11T22:17:36.922Z"
   },
   {
    "duration": 11,
    "start_time": "2021-10-11T22:17:36.948Z"
   },
   {
    "duration": 3,
    "start_time": "2021-10-11T22:17:36.960Z"
   },
   {
    "duration": 261,
    "start_time": "2021-10-11T22:17:36.965Z"
   },
   {
    "duration": 8,
    "start_time": "2021-10-11T22:17:37.228Z"
   },
   {
    "duration": 241,
    "start_time": "2021-10-11T22:17:37.237Z"
   },
   {
    "duration": 8,
    "start_time": "2021-10-11T22:17:37.480Z"
   },
   {
    "duration": 230,
    "start_time": "2021-10-11T22:17:37.500Z"
   },
   {
    "duration": 226,
    "start_time": "2021-10-11T22:17:37.732Z"
   },
   {
    "duration": 239,
    "start_time": "2021-10-11T22:17:37.960Z"
   },
   {
    "duration": 4,
    "start_time": "2021-10-11T22:17:38.201Z"
   },
   {
    "duration": 10,
    "start_time": "2021-10-11T22:17:38.207Z"
   },
   {
    "duration": 1322,
    "start_time": "2021-10-11T23:32:58.603Z"
   },
   {
    "duration": 4,
    "start_time": "2021-10-11T23:32:59.928Z"
   },
   {
    "duration": 597,
    "start_time": "2021-10-11T23:32:59.935Z"
   },
   {
    "duration": 28,
    "start_time": "2021-10-11T23:33:00.535Z"
   },
   {
    "duration": 30,
    "start_time": "2021-10-11T23:33:00.567Z"
   },
   {
    "duration": 63,
    "start_time": "2021-10-11T23:33:00.600Z"
   },
   {
    "duration": 16,
    "start_time": "2021-10-11T23:33:00.666Z"
   },
   {
    "duration": 23,
    "start_time": "2021-10-11T23:33:00.686Z"
   },
   {
    "duration": 75,
    "start_time": "2021-10-11T23:33:00.713Z"
   },
   {
    "duration": 10,
    "start_time": "2021-10-11T23:33:00.791Z"
   },
   {
    "duration": 30,
    "start_time": "2021-10-11T23:33:00.803Z"
   },
   {
    "duration": 37,
    "start_time": "2021-10-11T23:33:00.835Z"
   },
   {
    "duration": 16,
    "start_time": "2021-10-11T23:33:00.876Z"
   },
   {
    "duration": 20,
    "start_time": "2021-10-11T23:33:00.895Z"
   },
   {
    "duration": 41,
    "start_time": "2021-10-11T23:33:00.917Z"
   },
   {
    "duration": 35,
    "start_time": "2021-10-11T23:33:00.961Z"
   },
   {
    "duration": 117,
    "start_time": "2021-10-11T23:33:00.998Z"
   },
   {
    "duration": 15,
    "start_time": "2021-10-11T23:33:01.118Z"
   },
   {
    "duration": 25,
    "start_time": "2021-10-11T23:33:01.135Z"
   },
   {
    "duration": 78,
    "start_time": "2021-10-11T23:33:01.164Z"
   },
   {
    "duration": 164,
    "start_time": "2021-10-11T23:33:01.245Z"
   },
   {
    "duration": 116,
    "start_time": "2021-10-11T23:33:01.412Z"
   },
   {
    "duration": 147,
    "start_time": "2021-10-11T23:33:01.532Z"
   },
   {
    "duration": 16,
    "start_time": "2021-10-11T23:33:01.683Z"
   },
   {
    "duration": 54,
    "start_time": "2021-10-11T23:33:01.702Z"
   },
   {
    "duration": 34,
    "start_time": "2021-10-11T23:33:01.765Z"
   },
   {
    "duration": 21,
    "start_time": "2021-10-11T23:33:01.801Z"
   },
   {
    "duration": 36,
    "start_time": "2021-10-11T23:33:01.825Z"
   },
   {
    "duration": 14,
    "start_time": "2021-10-11T23:33:01.865Z"
   },
   {
    "duration": 74,
    "start_time": "2021-10-11T23:33:01.881Z"
   },
   {
    "duration": 9,
    "start_time": "2021-10-11T23:33:01.958Z"
   },
   {
    "duration": 400,
    "start_time": "2021-10-11T23:33:01.971Z"
   },
   {
    "duration": 42,
    "start_time": "2021-10-11T23:33:02.374Z"
   },
   {
    "duration": 41,
    "start_time": "2021-10-11T23:33:02.418Z"
   },
   {
    "duration": 6,
    "start_time": "2021-10-11T23:33:02.462Z"
   },
   {
    "duration": 439,
    "start_time": "2021-10-11T23:33:02.472Z"
   },
   {
    "duration": 12,
    "start_time": "2021-10-11T23:33:02.914Z"
   },
   {
    "duration": 421,
    "start_time": "2021-10-11T23:33:02.929Z"
   },
   {
    "duration": 17,
    "start_time": "2021-10-11T23:33:03.362Z"
   },
   {
    "duration": 408,
    "start_time": "2021-10-11T23:33:03.382Z"
   },
   {
    "duration": 387,
    "start_time": "2021-10-11T23:33:03.792Z"
   },
   {
    "duration": 421,
    "start_time": "2021-10-11T23:33:04.182Z"
   },
   {
    "duration": 7,
    "start_time": "2021-10-11T23:33:04.605Z"
   },
   {
    "duration": 13,
    "start_time": "2021-10-11T23:33:04.614Z"
   },
   {
    "duration": 6,
    "start_time": "2021-10-11T23:33:14.898Z"
   },
   {
    "duration": 1580,
    "start_time": "2021-10-11T23:42:11.496Z"
   },
   {
    "duration": 1393,
    "start_time": "2021-10-12T08:13:30.275Z"
   },
   {
    "duration": 3,
    "start_time": "2021-10-12T08:13:31.671Z"
   },
   {
    "duration": 574,
    "start_time": "2021-10-12T08:13:31.677Z"
   },
   {
    "duration": 23,
    "start_time": "2021-10-12T08:13:32.254Z"
   },
   {
    "duration": 29,
    "start_time": "2021-10-12T08:13:32.279Z"
   },
   {
    "duration": 39,
    "start_time": "2021-10-12T08:13:32.310Z"
   },
   {
    "duration": 11,
    "start_time": "2021-10-12T08:13:32.351Z"
   },
   {
    "duration": 49,
    "start_time": "2021-10-12T08:13:32.365Z"
   },
   {
    "duration": 40,
    "start_time": "2021-10-12T08:13:32.418Z"
   },
   {
    "duration": 41,
    "start_time": "2021-10-12T08:13:32.461Z"
   },
   {
    "duration": 22,
    "start_time": "2021-10-12T08:13:32.505Z"
   },
   {
    "duration": 12,
    "start_time": "2021-10-12T08:13:32.530Z"
   },
   {
    "duration": 13,
    "start_time": "2021-10-12T08:13:32.545Z"
   },
   {
    "duration": 54,
    "start_time": "2021-10-12T08:13:32.560Z"
   },
   {
    "duration": 9,
    "start_time": "2021-10-12T08:13:32.616Z"
   },
   {
    "duration": 24,
    "start_time": "2021-10-12T08:13:32.627Z"
   },
   {
    "duration": 130,
    "start_time": "2021-10-12T08:13:32.653Z"
   },
   {
    "duration": 25,
    "start_time": "2021-10-12T08:13:32.786Z"
   },
   {
    "duration": 9,
    "start_time": "2021-10-12T08:13:32.814Z"
   },
   {
    "duration": 79,
    "start_time": "2021-10-12T08:13:32.826Z"
   },
   {
    "duration": 156,
    "start_time": "2021-10-12T08:13:32.907Z"
   },
   {
    "duration": 107,
    "start_time": "2021-10-12T08:13:33.065Z"
   },
   {
    "duration": 112,
    "start_time": "2021-10-12T08:13:33.177Z"
   },
   {
    "duration": 21,
    "start_time": "2021-10-12T08:13:33.292Z"
   },
   {
    "duration": 31,
    "start_time": "2021-10-12T08:13:33.316Z"
   },
   {
    "duration": 67,
    "start_time": "2021-10-12T08:13:33.350Z"
   },
   {
    "duration": 10,
    "start_time": "2021-10-12T08:13:33.420Z"
   },
   {
    "duration": 11,
    "start_time": "2021-10-12T08:13:33.432Z"
   },
   {
    "duration": 9,
    "start_time": "2021-10-12T08:13:33.446Z"
   },
   {
    "duration": 70,
    "start_time": "2021-10-12T08:13:33.458Z"
   },
   {
    "duration": 5,
    "start_time": "2021-10-12T08:13:33.531Z"
   },
   {
    "duration": 411,
    "start_time": "2021-10-12T08:13:33.539Z"
   },
   {
    "duration": 56,
    "start_time": "2021-10-12T08:13:33.952Z"
   },
   {
    "duration": 20,
    "start_time": "2021-10-12T08:13:34.011Z"
   },
   {
    "duration": 5,
    "start_time": "2021-10-12T08:13:34.033Z"
   },
   {
    "duration": 422,
    "start_time": "2021-10-12T08:13:34.041Z"
   },
   {
    "duration": 13,
    "start_time": "2021-10-12T08:13:34.465Z"
   },
   {
    "duration": 562,
    "start_time": "2021-10-12T08:13:34.480Z"
   },
   {
    "duration": 382,
    "start_time": "2021-10-12T08:13:35.045Z"
   },
   {
    "duration": 14,
    "start_time": "2021-10-12T08:13:41.204Z"
   },
   {
    "duration": 1494,
    "start_time": "2021-10-12T08:33:51.779Z"
   },
   {
    "duration": 4,
    "start_time": "2021-10-12T08:33:53.276Z"
   },
   {
    "duration": 562,
    "start_time": "2021-10-12T08:33:53.283Z"
   },
   {
    "duration": 23,
    "start_time": "2021-10-12T08:33:53.848Z"
   },
   {
    "duration": 28,
    "start_time": "2021-10-12T08:33:53.874Z"
   },
   {
    "duration": 39,
    "start_time": "2021-10-12T08:33:53.904Z"
   },
   {
    "duration": 11,
    "start_time": "2021-10-12T08:33:53.946Z"
   },
   {
    "duration": 49,
    "start_time": "2021-10-12T08:33:53.959Z"
   },
   {
    "duration": 41,
    "start_time": "2021-10-12T08:33:54.012Z"
   },
   {
    "duration": 10,
    "start_time": "2021-10-12T08:33:54.056Z"
   },
   {
    "duration": 46,
    "start_time": "2021-10-12T08:33:54.068Z"
   },
   {
    "duration": 11,
    "start_time": "2021-10-12T08:33:54.116Z"
   },
   {
    "duration": 10,
    "start_time": "2021-10-12T08:33:54.130Z"
   },
   {
    "duration": 16,
    "start_time": "2021-10-12T08:33:54.142Z"
   },
   {
    "duration": 45,
    "start_time": "2021-10-12T08:33:54.160Z"
   },
   {
    "duration": 21,
    "start_time": "2021-10-12T08:33:54.208Z"
   },
   {
    "duration": 126,
    "start_time": "2021-10-12T08:33:54.232Z"
   },
   {
    "duration": 12,
    "start_time": "2021-10-12T08:33:54.361Z"
   },
   {
    "duration": 24,
    "start_time": "2021-10-12T08:33:54.376Z"
   },
   {
    "duration": 60,
    "start_time": "2021-10-12T08:33:54.402Z"
   },
   {
    "duration": 154,
    "start_time": "2021-10-12T08:33:54.465Z"
   },
   {
    "duration": 107,
    "start_time": "2021-10-12T08:33:54.621Z"
   },
   {
    "duration": 115,
    "start_time": "2021-10-12T08:33:54.731Z"
   },
   {
    "duration": 15,
    "start_time": "2021-10-12T08:33:54.849Z"
   },
   {
    "duration": 52,
    "start_time": "2021-10-12T08:33:54.867Z"
   },
   {
    "duration": 32,
    "start_time": "2021-10-12T08:33:54.922Z"
   },
   {
    "duration": 10,
    "start_time": "2021-10-12T08:33:54.959Z"
   },
   {
    "duration": 34,
    "start_time": "2021-10-12T08:33:54.972Z"
   },
   {
    "duration": 9,
    "start_time": "2021-10-12T08:33:55.009Z"
   },
   {
    "duration": 41,
    "start_time": "2021-10-12T08:33:55.020Z"
   },
   {
    "duration": 5,
    "start_time": "2021-10-12T08:33:55.064Z"
   },
   {
    "duration": 414,
    "start_time": "2021-10-12T08:33:55.072Z"
   },
   {
    "duration": 50,
    "start_time": "2021-10-12T08:33:55.489Z"
   },
   {
    "duration": 21,
    "start_time": "2021-10-12T08:33:55.542Z"
   },
   {
    "duration": 5,
    "start_time": "2021-10-12T08:33:55.566Z"
   },
   {
    "duration": 409,
    "start_time": "2021-10-12T08:33:55.600Z"
   },
   {
    "duration": 13,
    "start_time": "2021-10-12T08:33:56.011Z"
   },
   {
    "duration": 576,
    "start_time": "2021-10-12T08:33:56.027Z"
   },
   {
    "duration": 406,
    "start_time": "2021-10-12T08:33:56.606Z"
   },
   {
    "duration": 16,
    "start_time": "2021-10-12T08:33:57.015Z"
   },
   {
    "duration": 526,
    "start_time": "2021-10-12T08:33:57.034Z"
   },
   {
    "duration": 389,
    "start_time": "2021-10-12T08:33:57.562Z"
   },
   {
    "duration": 410,
    "start_time": "2021-10-12T08:33:57.953Z"
   },
   {
    "duration": 8,
    "start_time": "2021-10-12T08:33:58.365Z"
   },
   {
    "duration": 36,
    "start_time": "2021-10-12T08:33:58.376Z"
   }
  ],
  "kernelspec": {
   "display_name": "Python 3 (ipykernel)",
   "language": "python",
   "name": "python3"
  },
  "language_info": {
   "codemirror_mode": {
    "name": "ipython",
    "version": 3
   },
   "file_extension": ".py",
   "mimetype": "text/x-python",
   "name": "python",
   "nbconvert_exporter": "python",
   "pygments_lexer": "ipython3",
   "version": "3.9.7"
  },
  "toc": {
   "base_numbering": 1,
   "nav_menu": {},
   "number_sections": true,
   "sideBar": true,
   "skip_h1_title": true,
   "title_cell": "Содержание",
   "title_sidebar": "Contents",
   "toc_cell": true,
   "toc_position": {},
   "toc_section_display": true,
   "toc_window_display": false
  },
  "varInspector": {
   "cols": {
    "lenName": 16,
    "lenType": 16,
    "lenVar": 40
   },
   "kernels_config": {
    "python": {
     "delete_cmd_postfix": "",
     "delete_cmd_prefix": "del ",
     "library": "var_list.py",
     "varRefreshCmd": "print(var_dic_list())"
    },
    "r": {
     "delete_cmd_postfix": ") ",
     "delete_cmd_prefix": "rm(",
     "library": "var_list.r",
     "varRefreshCmd": "cat(var_dic_list()) "
    }
   },
   "types_to_exclude": [
    "module",
    "function",
    "builtin_function_or_method",
    "instance",
    "_Feature"
   ],
   "window_display": false
  }
 },
 "nbformat": 4,
 "nbformat_minor": 2
}
