{
 "cells": [
  {
   "cell_type": "markdown",
   "metadata": {},
   "source": [
    "# Описание проекта\n",
    "\n",
    "Вы аналитик компании «F9» — это российская авиакомпания, выполняющая внутренние пассажирские авиаперевозки. Сотни перелётов каждый день. Важно понять предпочтения пользователей, покупающих билеты на те или иные направления.\n",
    "\n",
    "Вам предстоит изучить базу данных и проанализировать спрос пассажиров на рейсы в города, где проходят крупнейшие фестивали."
   ]
  },
  {
   "cell_type": "markdown",
   "metadata": {
    "toc": true
   },
   "source": [
    "<h1>Содержание<span class=\"tocSkip\"></span></h1>\n",
    "<div class=\"toc\"><ul class=\"toc-item\"><li><span><a href=\"#Общая-информация-о-данных\" data-toc-modified-id=\"Общая-информация-о-данных-1\"><span class=\"toc-item-num\">1&nbsp;&nbsp;</span>Общая информация о данных</a></span></li><li><span><a href=\"#Исследовательский-анализ-данных\" data-toc-modified-id=\"Исследовательский-анализ-данных-2\"><span class=\"toc-item-num\">2&nbsp;&nbsp;</span>Исследовательский анализ данных</a></span><ul class=\"toc-item\"><li><span><a href=\"#Топ-10-городов-по-количеству-рейсов\" data-toc-modified-id=\"Топ-10-городов-по-количеству-рейсов-2.1\"><span class=\"toc-item-num\">2.1&nbsp;&nbsp;</span>Топ-10 городов по количеству рейсов</a></span></li><li><span><a href=\"#Графики\" data-toc-modified-id=\"Графики-2.2\"><span class=\"toc-item-num\">2.2&nbsp;&nbsp;</span>Графики</a></span><ul class=\"toc-item\"><li><span><a href=\"#Модели-самолетов-и-количество-рейсов\" data-toc-modified-id=\"Модели-самолетов-и-количество-рейсов-2.2.1\"><span class=\"toc-item-num\">2.2.1&nbsp;&nbsp;</span>Модели самолетов и количество рейсов</a></span></li><li><span><a href=\"#Города-и-количество-рейсов\" data-toc-modified-id=\"Города-и-количество-рейсов-2.2.2\"><span class=\"toc-item-num\">2.2.2&nbsp;&nbsp;</span>Города и количество рейсов</a></span></li><li><span><a href=\"#Топ-10-городов-и-количество-рейсов\" data-toc-modified-id=\"Топ-10-городов-и-количество-рейсов-2.2.3\"><span class=\"toc-item-num\">2.2.3&nbsp;&nbsp;</span>Топ-10 городов и количество рейсов</a></span></li></ul></li></ul></li><li><span><a href=\"#Вывод\" data-toc-modified-id=\"Вывод-3\"><span class=\"toc-item-num\">3&nbsp;&nbsp;</span>Вывод</a></span></li></ul></div>"
   ]
  },
  {
   "cell_type": "markdown",
   "metadata": {},
   "source": [
    "## Общая информация о данных"
   ]
  },
  {
   "cell_type": "code",
   "execution_count": 17,
   "metadata": {},
   "outputs": [],
   "source": [
    "import pandas as pd\n",
    "import matplotlib.pyplot as plt\n",
    "import seaborn as sns"
   ]
  },
  {
   "cell_type": "code",
   "execution_count": 18,
   "metadata": {},
   "outputs": [
    {
     "data": {
      "text/html": [
       "<div>\n",
       "<style scoped>\n",
       "    .dataframe tbody tr th:only-of-type {\n",
       "        vertical-align: middle;\n",
       "    }\n",
       "\n",
       "    .dataframe tbody tr th {\n",
       "        vertical-align: top;\n",
       "    }\n",
       "\n",
       "    .dataframe thead th {\n",
       "        text-align: right;\n",
       "    }\n",
       "</style>\n",
       "<table border=\"1\" class=\"dataframe\">\n",
       "  <thead>\n",
       "    <tr style=\"text-align: right;\">\n",
       "      <th></th>\n",
       "      <th>model</th>\n",
       "      <th>flights_amount</th>\n",
       "    </tr>\n",
       "  </thead>\n",
       "  <tbody>\n",
       "    <tr>\n",
       "      <td>0</td>\n",
       "      <td>Airbus A319-100</td>\n",
       "      <td>607</td>\n",
       "    </tr>\n",
       "    <tr>\n",
       "      <td>1</td>\n",
       "      <td>Airbus A321-200</td>\n",
       "      <td>960</td>\n",
       "    </tr>\n",
       "    <tr>\n",
       "      <td>2</td>\n",
       "      <td>Boeing 737-300</td>\n",
       "      <td>630</td>\n",
       "    </tr>\n",
       "    <tr>\n",
       "      <td>3</td>\n",
       "      <td>Boeing 767-300</td>\n",
       "      <td>600</td>\n",
       "    </tr>\n",
       "    <tr>\n",
       "      <td>4</td>\n",
       "      <td>Boeing 777-300</td>\n",
       "      <td>300</td>\n",
       "    </tr>\n",
       "    <tr>\n",
       "      <td>5</td>\n",
       "      <td>Bombardier CRJ-200</td>\n",
       "      <td>4446</td>\n",
       "    </tr>\n",
       "    <tr>\n",
       "      <td>6</td>\n",
       "      <td>Cessna 208 Caravan</td>\n",
       "      <td>4557</td>\n",
       "    </tr>\n",
       "    <tr>\n",
       "      <td>7</td>\n",
       "      <td>Sukhoi SuperJet-100</td>\n",
       "      <td>4185</td>\n",
       "    </tr>\n",
       "  </tbody>\n",
       "</table>\n",
       "</div>"
      ],
      "text/plain": [
       "                 model  flights_amount\n",
       "0      Airbus A319-100             607\n",
       "1      Airbus A321-200             960\n",
       "2       Boeing 737-300             630\n",
       "3       Boeing 767-300             600\n",
       "4       Boeing 777-300             300\n",
       "5   Bombardier CRJ-200            4446\n",
       "6   Cessna 208 Caravan            4557\n",
       "7  Sukhoi SuperJet-100            4185"
      ]
     },
     "execution_count": 18,
     "metadata": {},
     "output_type": "execute_result"
    }
   ],
   "source": [
    "df_model = pd.read_csv('/datasets/query_1.csv')\n",
    "df_model"
   ]
  },
  {
   "cell_type": "markdown",
   "metadata": {},
   "source": [
    "- **model** — модели самолета\n",
    "- **flights_amount** — количество рейсов для каждой модели самолетов model в сентябре 2018 года"
   ]
  },
  {
   "cell_type": "code",
   "execution_count": 19,
   "metadata": {},
   "outputs": [
    {
     "name": "stdout",
     "output_type": "stream",
     "text": [
      "<class 'pandas.core.frame.DataFrame'>\n",
      "RangeIndex: 8 entries, 0 to 7\n",
      "Data columns (total 2 columns):\n",
      "model             8 non-null object\n",
      "flights_amount    8 non-null int64\n",
      "dtypes: int64(1), object(1)\n",
      "memory usage: 256.0+ bytes\n"
     ]
    }
   ],
   "source": [
    "df_model.info()"
   ]
  },
  {
   "cell_type": "code",
   "execution_count": 20,
   "metadata": {},
   "outputs": [
    {
     "data": {
      "text/html": [
       "<div>\n",
       "<style scoped>\n",
       "    .dataframe tbody tr th:only-of-type {\n",
       "        vertical-align: middle;\n",
       "    }\n",
       "\n",
       "    .dataframe tbody tr th {\n",
       "        vertical-align: top;\n",
       "    }\n",
       "\n",
       "    .dataframe thead th {\n",
       "        text-align: right;\n",
       "    }\n",
       "</style>\n",
       "<table border=\"1\" class=\"dataframe\">\n",
       "  <thead>\n",
       "    <tr style=\"text-align: right;\">\n",
       "      <th></th>\n",
       "      <th>city</th>\n",
       "      <th>average_flights</th>\n",
       "    </tr>\n",
       "  </thead>\n",
       "  <tbody>\n",
       "    <tr>\n",
       "      <td>0</td>\n",
       "      <td>Абакан</td>\n",
       "      <td>3.870968</td>\n",
       "    </tr>\n",
       "    <tr>\n",
       "      <td>1</td>\n",
       "      <td>Анадырь</td>\n",
       "      <td>1.000000</td>\n",
       "    </tr>\n",
       "    <tr>\n",
       "      <td>2</td>\n",
       "      <td>Анапа</td>\n",
       "      <td>2.161290</td>\n",
       "    </tr>\n",
       "    <tr>\n",
       "      <td>3</td>\n",
       "      <td>Архангельск</td>\n",
       "      <td>5.354839</td>\n",
       "    </tr>\n",
       "    <tr>\n",
       "      <td>4</td>\n",
       "      <td>Астрахань</td>\n",
       "      <td>2.451613</td>\n",
       "    </tr>\n",
       "    <tr>\n",
       "      <td>5</td>\n",
       "      <td>Барнаул</td>\n",
       "      <td>2.612903</td>\n",
       "    </tr>\n",
       "    <tr>\n",
       "      <td>6</td>\n",
       "      <td>Белгород</td>\n",
       "      <td>6.000000</td>\n",
       "    </tr>\n",
       "    <tr>\n",
       "      <td>7</td>\n",
       "      <td>Белоярский</td>\n",
       "      <td>2.000000</td>\n",
       "    </tr>\n",
       "    <tr>\n",
       "      <td>8</td>\n",
       "      <td>Благовещенск</td>\n",
       "      <td>1.000000</td>\n",
       "    </tr>\n",
       "    <tr>\n",
       "      <td>9</td>\n",
       "      <td>Братск</td>\n",
       "      <td>1.000000</td>\n",
       "    </tr>\n",
       "  </tbody>\n",
       "</table>\n",
       "</div>"
      ],
      "text/plain": [
       "           city  average_flights\n",
       "0        Абакан         3.870968\n",
       "1       Анадырь         1.000000\n",
       "2         Анапа         2.161290\n",
       "3   Архангельск         5.354839\n",
       "4     Астрахань         2.451613\n",
       "5       Барнаул         2.612903\n",
       "6      Белгород         6.000000\n",
       "7    Белоярский         2.000000\n",
       "8  Благовещенск         1.000000\n",
       "9        Братск         1.000000"
      ]
     },
     "execution_count": 20,
     "metadata": {},
     "output_type": "execute_result"
    }
   ],
   "source": [
    "df_city = pd.read_csv('/datasets/query_3.csv')\n",
    "df_city.head(10)"
   ]
  },
  {
   "cell_type": "markdown",
   "metadata": {},
   "source": [
    "- **city** — города\n",
    "- **average_flights** — среднее количество рейсов, прибывающих в город city за день в августе 2018 года"
   ]
  },
  {
   "cell_type": "code",
   "execution_count": 21,
   "metadata": {},
   "outputs": [
    {
     "name": "stdout",
     "output_type": "stream",
     "text": [
      "<class 'pandas.core.frame.DataFrame'>\n",
      "RangeIndex: 101 entries, 0 to 100\n",
      "Data columns (total 2 columns):\n",
      "city               101 non-null object\n",
      "average_flights    101 non-null float64\n",
      "dtypes: float64(1), object(1)\n",
      "memory usage: 1.7+ KB\n"
     ]
    }
   ],
   "source": [
    "df_city.info()"
   ]
  },
  {
   "cell_type": "markdown",
   "metadata": {},
   "source": [
    "**Вывод**\n",
    "\n",
    "1. Пропуски в данных отсутсвтуют\n",
    "2. Типы данных менять не нужно\n",
    "Данные в полном порядке."
   ]
  },
  {
   "cell_type": "markdown",
   "metadata": {},
   "source": [
    "## Исследовательский анализ данных"
   ]
  },
  {
   "cell_type": "markdown",
   "metadata": {},
   "source": [
    "### Топ-10 городов по количеству рейсов"
   ]
  },
  {
   "cell_type": "code",
   "execution_count": 22,
   "metadata": {},
   "outputs": [
    {
     "data": {
      "text/html": [
       "<div>\n",
       "<style scoped>\n",
       "    .dataframe tbody tr th:only-of-type {\n",
       "        vertical-align: middle;\n",
       "    }\n",
       "\n",
       "    .dataframe tbody tr th {\n",
       "        vertical-align: top;\n",
       "    }\n",
       "\n",
       "    .dataframe thead th {\n",
       "        text-align: right;\n",
       "    }\n",
       "</style>\n",
       "<table border=\"1\" class=\"dataframe\">\n",
       "  <thead>\n",
       "    <tr style=\"text-align: right;\">\n",
       "      <th></th>\n",
       "      <th>city</th>\n",
       "      <th>average_flights</th>\n",
       "    </tr>\n",
       "  </thead>\n",
       "  <tbody>\n",
       "    <tr>\n",
       "      <td>43</td>\n",
       "      <td>Москва</td>\n",
       "      <td>129.774194</td>\n",
       "    </tr>\n",
       "    <tr>\n",
       "      <td>70</td>\n",
       "      <td>Санкт-Петербург</td>\n",
       "      <td>31.161290</td>\n",
       "    </tr>\n",
       "    <tr>\n",
       "      <td>54</td>\n",
       "      <td>Новосибирск</td>\n",
       "      <td>17.322581</td>\n",
       "    </tr>\n",
       "    <tr>\n",
       "      <td>33</td>\n",
       "      <td>Красноярск</td>\n",
       "      <td>11.580645</td>\n",
       "    </tr>\n",
       "    <tr>\n",
       "      <td>20</td>\n",
       "      <td>Екатеринбург</td>\n",
       "      <td>11.322581</td>\n",
       "    </tr>\n",
       "    <tr>\n",
       "      <td>67</td>\n",
       "      <td>Ростов-на-Дону</td>\n",
       "      <td>10.193548</td>\n",
       "    </tr>\n",
       "    <tr>\n",
       "      <td>63</td>\n",
       "      <td>Пермь</td>\n",
       "      <td>10.129032</td>\n",
       "    </tr>\n",
       "    <tr>\n",
       "      <td>10</td>\n",
       "      <td>Брянск</td>\n",
       "      <td>10.000000</td>\n",
       "    </tr>\n",
       "    <tr>\n",
       "      <td>74</td>\n",
       "      <td>Сочи</td>\n",
       "      <td>9.612903</td>\n",
       "    </tr>\n",
       "    <tr>\n",
       "      <td>84</td>\n",
       "      <td>Ульяновск</td>\n",
       "      <td>9.580645</td>\n",
       "    </tr>\n",
       "  </tbody>\n",
       "</table>\n",
       "</div>"
      ],
      "text/plain": [
       "               city  average_flights\n",
       "43           Москва       129.774194\n",
       "70  Санкт-Петербург        31.161290\n",
       "54      Новосибирск        17.322581\n",
       "33       Красноярск        11.580645\n",
       "20     Екатеринбург        11.322581\n",
       "67   Ростов-на-Дону        10.193548\n",
       "63            Пермь        10.129032\n",
       "10           Брянск        10.000000\n",
       "74             Сочи         9.612903\n",
       "84        Ульяновск         9.580645"
      ]
     },
     "execution_count": 22,
     "metadata": {},
     "output_type": "execute_result"
    }
   ],
   "source": [
    "top10_city = df_city.sort_values(by='average_flights', ascending=False).head(10)\n",
    "top10_city"
   ]
  },
  {
   "cell_type": "markdown",
   "metadata": {},
   "source": [
    "### Графики"
   ]
  },
  {
   "cell_type": "markdown",
   "metadata": {},
   "source": [
    "#### Модели самолетов и количество рейсов"
   ]
  },
  {
   "cell_type": "code",
   "execution_count": 23,
   "metadata": {},
   "outputs": [
    {
     "data": {
      "image/png": "[encoded data removed]",
      "text/plain": [
       "<Figure size 1152x576 with 1 Axes>"
      ]
     },
     "metadata": {
      "needs_background": "light"
     },
     "output_type": "display_data"
    }
   ],
   "source": [
    "df_model.sort_values(by = 'flights_amount', inplace = True, ascending = False)\n",
    "plt.figure(figsize=(16,8))\n",
    "ax = sns.barplot(x = 'model', y = 'flights_amount', data = df_model, palette=\"Blues_d\")\n",
    "plt.title('Столбчатая диаграмма модели самолетов и количества рейсов')\n",
    "plt.ylabel('Модели самолетов')\n",
    "plt.xlabel('Количество рейсов')\n",
    "for i, fl in enumerate(df_model['flights_amount']):\n",
    "    ax.text(i, fl, str(fl), color='black', \n",
    "            ha='center', fontweight='bold')\n",
    "plt.show()"
   ]
  },
  {
   "cell_type": "code",
   "execution_count": null,
   "metadata": {},
   "outputs": [],
   "source": []
  },
  {
   "cell_type": "markdown",
   "metadata": {},
   "source": [
    "Тройка самых летаемых самолетов это: \n",
    "1. Cessna 208 Caravan\n",
    "2. Bombardier CRJ-200\n",
    "3. Sukhoi SuperJet-100\n",
    "\n",
    "На данный момент суперджеты Сухого вряд ли будут в тройке после пожаров данных самолетов и постоянных неполадок самолетов."
   ]
  },
  {
   "cell_type": "markdown",
   "metadata": {},
   "source": [
    "####  Города и количество рейсов"
   ]
  },
  {
   "cell_type": "code",
   "execution_count": 24,
   "metadata": {},
   "outputs": [],
   "source": [
    "df_city.sort_values(by = 'average_flights', ascending = False, inplace = True)\n",
    "\n",
    "def citybar(df, a, b):\n",
    "    plt.figure(figsize=(a,b))\n",
    "    ax = sns.barplot(y = 'city', x = 'average_flights', data = df, palette = 'vlag')\n",
    "    plt.xlabel('Среднее количество рейсов')\n",
    "    plt.ylabel('')\n",
    "    plt.title('Количество рейсов по городам')\n",
    "    for i, fl in enumerate(df['average_flights']):\n",
    "         ax.text(fl, i, int(fl), color='black', \n",
    "                 ha='center', va = 'center', fontweight='heavy')\n",
    "    plt.show()"
   ]
  },
  {
   "cell_type": "code",
   "execution_count": 25,
   "metadata": {},
   "outputs": [
    {
     "data": {
      "image/png": "[encoded data removed]",
      "text/plain": [
       "<Figure size 864x2160 with 1 Axes>"
      ]
     },
     "metadata": {
      "needs_background": "light"
     },
     "output_type": "display_data"
    }
   ],
   "source": [
    "citybar(df_city, 12, 30)"
   ]
  },
  {
   "cell_type": "markdown",
   "metadata": {},
   "source": [
    "Первые три места занимают три столицы: столица России, культурная столица и столица Сибири.(Москва, Питер, Новосиб)"
   ]
  },
  {
   "cell_type": "markdown",
   "metadata": {},
   "source": [
    "#### Топ-10 городов и количество рейсов"
   ]
  },
  {
   "cell_type": "code",
   "execution_count": 26,
   "metadata": {},
   "outputs": [
    {
     "data": {
      "image/png": "[encoded data removed]",
      "text/plain": [
       "<Figure size 864x360 with 1 Axes>"
      ]
     },
     "metadata": {
      "needs_background": "light"
     },
     "output_type": "display_data"
    }
   ],
   "source": [
    "citybar(top10_city, 12, 5)"
   ]
  },
  {
   "cell_type": "markdown",
   "metadata": {},
   "source": [
    "Удивительным образом в топ 10 попали Брянск и Ульяновск, ожидалось, что будут города миллионники.(Сочи исключение - большой пассажиропоток). Возможно билеты через эти города были дешевыми. "
   ]
  },
  {
   "cell_type": "markdown",
   "metadata": {},
   "source": [
    "## Вывод"
   ]
  },
  {
   "cell_type": "markdown",
   "metadata": {},
   "source": [
    "В ходе выполнения проекта были изучены данные с моделями самолетов и количеством полетов на них, среднее количество рейсов по городам, для них построены соответствующие столбчатые диаграммы. Были выделены топ 10 городов, по которым также построена столбчатая диаграмма.\n",
    "\n",
    "- Самолеты Cessna 208 Caravan, Bombardier CRJ-200, Sukhoi SuperJet-100 чаще всего летали в сентябре 2018 года\n",
    "- Чаще всего прилетали в Москву, Санкт-Петербург и Новосибирск\n"
   ]
  }
 ],
 "metadata": {
  "ExecuteTimeLog": [
   {
    "duration": 686,
    "start_time": "2021-11-06T09:30:37.031Z"
   },
   {
    "duration": 28,
    "start_time": "2021-11-06T09:33:15.927Z"
   },
   {
    "duration": 20,
    "start_time": "2021-11-06T09:33:20.796Z"
   },
   {
    "duration": 7,
    "start_time": "2021-11-06T09:33:34.004Z"
   },
   {
    "duration": 20,
    "start_time": "2021-11-06T09:33:43.952Z"
   },
   {
    "duration": 7,
    "start_time": "2021-11-06T09:33:49.738Z"
   },
   {
    "duration": 31,
    "start_time": "2021-11-06T09:36:37.942Z"
   },
   {
    "duration": 22,
    "start_time": "2021-11-06T09:36:53.846Z"
   },
   {
    "duration": 7,
    "start_time": "2021-11-06T09:37:19.147Z"
   },
   {
    "duration": 21,
    "start_time": "2021-11-06T09:41:28.858Z"
   },
   {
    "duration": 10,
    "start_time": "2021-11-06T09:56:26.601Z"
   },
   {
    "duration": 9,
    "start_time": "2021-11-06T09:56:39.048Z"
   },
   {
    "duration": 5,
    "start_time": "2021-11-06T09:57:24.043Z"
   },
   {
    "duration": 9,
    "start_time": "2021-11-06T09:57:32.875Z"
   },
   {
    "duration": 414,
    "start_time": "2021-11-06T10:04:11.796Z"
   },
   {
    "duration": 535,
    "start_time": "2021-11-06T10:04:18.145Z"
   },
   {
    "duration": 203,
    "start_time": "2021-11-06T10:04:21.642Z"
   },
   {
    "duration": 574,
    "start_time": "2021-11-06T10:04:52.320Z"
   },
   {
    "duration": 192,
    "start_time": "2021-11-06T10:04:58.328Z"
   },
   {
    "duration": 209,
    "start_time": "2021-11-06T10:05:23.086Z"
   },
   {
    "duration": 649,
    "start_time": "2021-11-06T10:06:05.127Z"
   },
   {
    "duration": 124,
    "start_time": "2021-11-06T10:06:26.542Z"
   },
   {
    "duration": 489,
    "start_time": "2021-11-06T10:06:31.782Z"
   },
   {
    "duration": 524,
    "start_time": "2021-11-06T10:07:04.563Z"
   },
   {
    "duration": 386,
    "start_time": "2021-11-06T10:09:46.234Z"
   },
   {
    "duration": 288,
    "start_time": "2021-11-06T10:10:03.164Z"
   },
   {
    "duration": 286,
    "start_time": "2021-11-06T10:11:50.796Z"
   },
   {
    "duration": 314,
    "start_time": "2021-11-06T10:12:10.117Z"
   },
   {
    "duration": 315,
    "start_time": "2021-11-06T10:12:31.101Z"
   },
   {
    "duration": 350,
    "start_time": "2021-11-06T10:12:49.959Z"
   },
   {
    "duration": 331,
    "start_time": "2021-11-06T10:13:00.668Z"
   },
   {
    "duration": 1175,
    "start_time": "2021-11-11T09:19:01.923Z"
   },
   {
    "duration": 23,
    "start_time": "2021-11-11T09:19:03.100Z"
   },
   {
    "duration": 18,
    "start_time": "2021-11-11T09:19:03.125Z"
   },
   {
    "duration": 35,
    "start_time": "2021-11-11T09:19:03.144Z"
   },
   {
    "duration": 11,
    "start_time": "2021-11-11T09:19:03.181Z"
   },
   {
    "duration": 16,
    "start_time": "2021-11-11T09:19:03.194Z"
   },
   {
    "duration": 293,
    "start_time": "2021-11-11T09:20:18.574Z"
   },
   {
    "duration": 279,
    "start_time": "2021-11-11T09:21:19.564Z"
   },
   {
    "duration": 266,
    "start_time": "2021-11-11T09:21:35.015Z"
   },
   {
    "duration": 313,
    "start_time": "2021-11-11T09:36:16.222Z"
   },
   {
    "duration": 684,
    "start_time": "2021-11-11T09:41:50.346Z"
   },
   {
    "duration": 576,
    "start_time": "2021-11-11T09:44:50.296Z"
   },
   {
    "duration": 321,
    "start_time": "2021-11-11T09:45:24.740Z"
   },
   {
    "duration": 395,
    "start_time": "2021-11-11T09:45:39.376Z"
   },
   {
    "duration": 567,
    "start_time": "2021-11-11T09:46:19.066Z"
   },
   {
    "duration": 297,
    "start_time": "2021-11-11T09:46:25.605Z"
   },
   {
    "duration": 304,
    "start_time": "2021-11-11T09:46:39.951Z"
   },
   {
    "duration": 314,
    "start_time": "2021-11-11T09:47:10.835Z"
   },
   {
    "duration": 304,
    "start_time": "2021-11-11T09:47:17.243Z"
   },
   {
    "duration": 313,
    "start_time": "2021-11-11T09:49:44.424Z"
   },
   {
    "duration": 302,
    "start_time": "2021-11-11T09:49:53.675Z"
   },
   {
    "duration": 311,
    "start_time": "2021-11-11T09:50:40.397Z"
   },
   {
    "duration": 1539,
    "start_time": "2021-11-11T09:53:37.018Z"
   },
   {
    "duration": 1532,
    "start_time": "2021-11-11T09:54:03.478Z"
   },
   {
    "duration": 1677,
    "start_time": "2021-11-11T09:55:02.628Z"
   },
   {
    "duration": 1821,
    "start_time": "2021-11-11T09:55:19.638Z"
   },
   {
    "duration": 1760,
    "start_time": "2021-11-11T09:56:06.248Z"
   },
   {
    "duration": 1398,
    "start_time": "2021-11-11T09:56:36.018Z"
   },
   {
    "duration": 4798,
    "start_time": "2021-11-11T09:57:12.941Z"
   },
   {
    "duration": 4632,
    "start_time": "2021-11-11T09:58:49.018Z"
   },
   {
    "duration": 1901,
    "start_time": "2021-11-11T09:59:06.328Z"
   },
   {
    "duration": 1889,
    "start_time": "2021-11-11T09:59:25.061Z"
   },
   {
    "duration": 1760,
    "start_time": "2021-11-11T09:59:41.430Z"
   },
   {
    "duration": 1970,
    "start_time": "2021-11-11T09:59:53.447Z"
   },
   {
    "duration": 2030,
    "start_time": "2021-11-11T10:01:39.524Z"
   },
   {
    "duration": 1895,
    "start_time": "2021-11-11T10:01:51.013Z"
   },
   {
    "duration": 2491,
    "start_time": "2021-11-11T10:04:32.435Z"
   },
   {
    "duration": 2270,
    "start_time": "2021-11-11T10:06:05.704Z"
   },
   {
    "duration": 858,
    "start_time": "2021-11-11T10:06:31.364Z"
   },
   {
    "duration": 2258,
    "start_time": "2021-11-11T10:06:41.575Z"
   },
   {
    "duration": 2743,
    "start_time": "2021-11-11T10:07:03.328Z"
   },
   {
    "duration": 343,
    "start_time": "2021-11-11T10:36:20.906Z"
   },
   {
    "duration": 333,
    "start_time": "2021-11-11T10:36:41.909Z"
   },
   {
    "duration": 2208,
    "start_time": "2021-11-11T10:40:09.761Z"
   },
   {
    "duration": 3746,
    "start_time": "2021-11-11T10:40:42.030Z"
   },
   {
    "duration": 2149,
    "start_time": "2021-11-11T10:43:51.875Z"
   },
   {
    "duration": 2165,
    "start_time": "2021-11-11T10:45:00.000Z"
   },
   {
    "duration": 2243,
    "start_time": "2021-11-11T10:45:54.359Z"
   },
   {
    "duration": 2032,
    "start_time": "2021-11-11T10:46:39.480Z"
   },
   {
    "duration": 2073,
    "start_time": "2021-11-11T10:46:50.940Z"
   },
   {
    "duration": 2327,
    "start_time": "2021-11-11T10:47:04.213Z"
   },
   {
    "duration": 2150,
    "start_time": "2021-11-11T10:47:55.994Z"
   },
   {
    "duration": 6,
    "start_time": "2021-11-11T10:51:39.341Z"
   },
   {
    "duration": 2437,
    "start_time": "2021-11-11T10:51:40.830Z"
   },
   {
    "duration": 2238,
    "start_time": "2021-11-11T10:52:04.651Z"
   },
   {
    "duration": 2088,
    "start_time": "2021-11-11T10:53:07.473Z"
   },
   {
    "duration": 510,
    "start_time": "2021-11-11T10:53:41.181Z"
   },
   {
    "duration": 215,
    "start_time": "2021-11-11T10:54:03.432Z"
   },
   {
    "duration": 151,
    "start_time": "2021-11-11T10:55:10.762Z"
   },
   {
    "duration": 6,
    "start_time": "2021-11-11T10:55:23.532Z"
   },
   {
    "duration": 2355,
    "start_time": "2021-11-11T10:55:42.671Z"
   },
   {
    "duration": 566,
    "start_time": "2021-11-11T10:56:01.902Z"
   },
   {
    "duration": 5,
    "start_time": "2021-11-11T10:56:15.959Z"
   },
   {
    "duration": 1705,
    "start_time": "2021-11-11T10:56:17.572Z"
   },
   {
    "duration": 6,
    "start_time": "2021-11-11T10:56:56.451Z"
   },
   {
    "duration": 2009,
    "start_time": "2021-11-11T10:56:57.181Z"
   },
   {
    "duration": 288,
    "start_time": "2021-11-11T10:57:24.919Z"
   },
   {
    "duration": 262,
    "start_time": "2021-11-11T10:57:33.621Z"
   },
   {
    "duration": 246,
    "start_time": "2021-11-11T10:57:43.154Z"
   },
   {
    "duration": 1426,
    "start_time": "2021-11-11T11:31:46.472Z"
   },
   {
    "duration": 27,
    "start_time": "2021-11-11T11:31:47.900Z"
   },
   {
    "duration": 13,
    "start_time": "2021-11-11T11:31:47.930Z"
   },
   {
    "duration": 30,
    "start_time": "2021-11-11T11:31:47.945Z"
   },
   {
    "duration": 13,
    "start_time": "2021-11-11T11:31:47.977Z"
   },
   {
    "duration": 19,
    "start_time": "2021-11-11T11:31:47.991Z"
   },
   {
    "duration": 353,
    "start_time": "2021-11-11T11:31:48.012Z"
   },
   {
    "duration": 5,
    "start_time": "2021-11-11T11:31:48.367Z"
   },
   {
    "duration": 2220,
    "start_time": "2021-11-11T11:31:48.374Z"
   },
   {
    "duration": 389,
    "start_time": "2021-11-11T11:31:50.597Z"
   },
   {
    "duration": 1419,
    "start_time": "2021-11-11T14:52:47.779Z"
   },
   {
    "duration": 26,
    "start_time": "2021-11-11T14:52:49.200Z"
   },
   {
    "duration": 8,
    "start_time": "2021-11-11T14:52:49.230Z"
   },
   {
    "duration": 28,
    "start_time": "2021-11-11T14:52:49.240Z"
   },
   {
    "duration": 7,
    "start_time": "2021-11-11T14:52:49.270Z"
   },
   {
    "duration": 15,
    "start_time": "2021-11-11T14:52:49.280Z"
   },
   {
    "duration": 541,
    "start_time": "2021-11-11T14:52:49.297Z"
   },
   {
    "duration": 8,
    "start_time": "2021-11-11T14:52:49.841Z"
   },
   {
    "duration": 3348,
    "start_time": "2021-11-11T14:52:49.851Z"
   },
   {
    "duration": 469,
    "start_time": "2021-11-11T14:52:53.201Z"
   },
   {
    "duration": 1103,
    "start_time": "2021-11-12T20:40:29.241Z"
   },
   {
    "duration": 23,
    "start_time": "2021-11-12T20:40:30.346Z"
   },
   {
    "duration": 32,
    "start_time": "2021-11-12T20:40:30.371Z"
   },
   {
    "duration": 51,
    "start_time": "2021-11-12T20:40:30.405Z"
   },
   {
    "duration": 6,
    "start_time": "2021-11-12T20:40:30.458Z"
   },
   {
    "duration": 20,
    "start_time": "2021-11-12T20:40:30.466Z"
   },
   {
    "duration": 310,
    "start_time": "2021-11-12T20:40:47.819Z"
   },
   {
    "duration": 356,
    "start_time": "2021-11-12T20:41:02.993Z"
   },
   {
    "duration": 278,
    "start_time": "2021-11-12T20:41:11.537Z"
   },
   {
    "duration": 273,
    "start_time": "2021-11-12T20:41:19.555Z"
   },
   {
    "duration": 275,
    "start_time": "2021-11-12T20:41:25.138Z"
   },
   {
    "duration": 300,
    "start_time": "2021-11-12T20:41:35.392Z"
   },
   {
    "duration": 398,
    "start_time": "2021-11-12T20:41:45.216Z"
   },
   {
    "duration": 380,
    "start_time": "2021-11-12T20:42:01.864Z"
   },
   {
    "duration": 331,
    "start_time": "2021-11-12T20:42:13.726Z"
   },
   {
    "duration": 276,
    "start_time": "2021-11-12T20:42:21.578Z"
   },
   {
    "duration": 2,
    "start_time": "2021-11-12T20:42:32.767Z"
   },
   {
    "duration": 21,
    "start_time": "2021-11-12T20:42:32.771Z"
   },
   {
    "duration": 13,
    "start_time": "2021-11-12T20:42:32.794Z"
   },
   {
    "duration": 26,
    "start_time": "2021-11-12T20:42:32.808Z"
   },
   {
    "duration": 6,
    "start_time": "2021-11-12T20:42:32.835Z"
   },
   {
    "duration": 8,
    "start_time": "2021-11-12T20:42:32.843Z"
   },
   {
    "duration": 279,
    "start_time": "2021-11-12T20:42:32.853Z"
   },
   {
    "duration": 5,
    "start_time": "2021-11-12T20:42:33.133Z"
   },
   {
    "duration": 1870,
    "start_time": "2021-11-12T20:42:33.140Z"
   },
   {
    "duration": 234,
    "start_time": "2021-11-12T20:42:35.012Z"
   }
  ],
  "kernelspec": {
   "display_name": "Python 3 (ipykernel)",
   "language": "python",
   "name": "python3"
  },
  "language_info": {
   "codemirror_mode": {
    "name": "ipython",
    "version": 3
   },
   "file_extension": ".py",
   "mimetype": "text/x-python",
   "name": "python",
   "nbconvert_exporter": "python",
   "pygments_lexer": "ipython3",
   "version": "3.9.7"
  },
  "toc": {
   "base_numbering": 1,
   "nav_menu": {},
   "number_sections": true,
   "sideBar": true,
   "skip_h1_title": true,
   "title_cell": "Содержание",
   "title_sidebar": "Contents",
   "toc_cell": true,
   "toc_position": {},
   "toc_section_display": true,
   "toc_window_display": false
  },
  "varInspector": {
   "cols": {
    "lenName": 16,
    "lenType": 16,
    "lenVar": 40
   },
   "kernels_config": {
    "python": {
     "delete_cmd_postfix": "",
     "delete_cmd_prefix": "del ",
     "library": "var_list.py",
     "varRefreshCmd": "print(var_dic_list())"
    },
    "r": {
     "delete_cmd_postfix": ") ",
     "delete_cmd_prefix": "rm(",
     "library": "var_list.r",
     "varRefreshCmd": "cat(var_dic_list()) "
    }
   },
   "types_to_exclude": [
    "module",
    "function",
    "builtin_function_or_method",
    "instance",
    "_Feature"
   ],
   "window_display": false
  }
 },
 "nbformat": 4,
 "nbformat_minor": 2
}
